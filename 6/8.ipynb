{
  "cells": [
    {
      "cell_type": "markdown",
      "source": [
        "# Suora johdin ja käämi magneettikentässä"
      ],
      "metadata": {
        "nteract": {
          "transient": {
            "deleting": false
          }
        }
      }
    },
    {
      "cell_type": "code",
      "source": [
        "using Printf\n",
        "using Dates\n",
        "@printf \"%s\\n\" Dates.now();\n",
        "versioninfo(verbose=false);"
      ],
      "outputs": [
        {
          "output_type": "stream",
          "name": "stdout",
          "text": [
            "2021-10-12T18:24:15.774\n",
            "Julia Version 1.5.4\n",
            "Commit 69fcb5745b (2021-03-11 19:13 UTC)\n",
            "Platform Info:\n",
            "  OS: Windows (x86_64-w64-mingw32)\n",
            "  CPU: Intel(R) Core(TM) i7-8650U CPU @ 1.90GHz\n",
            "  WORD_SIZE: 64\n",
            "  LIBM: libopenlibm\n",
            "  LLVM: libLLVM-9.0.1 (ORCJIT, skylake)\n",
            "Environment:\n",
            "  JULIA_DEPOT_PATH = C:\\Users\\snikula\\.julia;C:\\Users\\snikula\\AppData\\Local\\JuliaPro-1.5.4-1\\Julia-1.5.4\\local\\share\\julia;C:\\Users\\snikula\\AppData\\Local\\JuliaPro-1.5.4-1\\Julia-1.5.4\\share\\julia\n",
            "  JULIA_LOAD_PATH = C:\\Users\\snikula\\.julia\\environments\\JuliaPro_v1.5.4-1;@;@v#.#;@stdlib\n",
            "  JULIA_PKG_SERVER = pkg.juliahub.com\n"
          ]
        }
      ],
      "execution_count": 1,
      "metadata": {
        "collapsed": true,
        "jupyter": {
          "source_hidden": false,
          "outputs_hidden": false
        },
        "nteract": {
          "transient": {
            "deleting": false
          }
        },
        "execution": {
          "iopub.status.busy": "2021-10-12T15:24:14.764Z",
          "iopub.execute_input": "2021-10-12T15:24:15.686Z",
          "iopub.status.idle": "2021-10-12T15:24:18.070Z"
        }
      }
    },
    {
      "cell_type": "markdown",
      "source": [
        "8-4 Salaman virta on noin 10 kA. Laske magneettivuon tiheys etäisyydellä 10 m, 100 m ja 1 km.\n",
        "\n",
        "Kirjan vastaus: a) 200 μT b) 20 μT c) 2 μT d) 2.6 A"
      ],
      "metadata": {
        "nteract": {
          "transient": {
            "deleting": false
          }
        }
      }
    },
    {
      "cell_type": "code",
      "source": [
        "#=\n",
        "Magneettivuo mikrotesloina\n",
        "=#\n",
        "Bu(I,r)=@sprintf(\"%.0f μT\",0.2*I/r)\n",
        "@printf(\"10m: %s, 100m: %s, 1km: %s\\n\",\n",
        "  Bu(10e3,10),Bu(10e3,100),Bu(10e3,1e3))"
      ],
      "outputs": [
        {
          "output_type": "stream",
          "name": "stdout",
          "text": [
            "10m: 200 μT, 100m: 20 μT, 1km: 2 μT\n"
          ]
        }
      ],
      "execution_count": 8,
      "metadata": {
        "collapsed": true,
        "jupyter": {
          "source_hidden": false,
          "outputs_hidden": false
        },
        "nteract": {
          "transient": {
            "deleting": false
          }
        },
        "execution": {
          "iopub.status.busy": "2021-10-12T18:06:28.655Z",
          "iopub.execute_input": "2021-10-12T18:06:28.669Z",
          "iopub.status.idle": "2021-10-12T18:06:28.695Z"
        }
      }
    },
    {
      "cell_type": "markdown",
      "source": [
        "8-5 \n",
        "\n",
        "Kirjan vastaus: a) 0.13 mN ylös b) 15 mT"
      ],
      "metadata": {
        "nteract": {
          "transient": {
            "deleting": false
          }
        }
      }
    },
    {
      "cell_type": "code",
      "source": [
        "#=\n",
        "Magneettinen voima\n",
        "=#\n",
        "Fm(B,I,l)=B*I*l\n",
        "@printf(\"Voima on %.2e N ylös.\\n\",Fm(1.8e-3,0.75,9.5e-2))\n",
        "@printf(\"Magneettivuon (minimi)tiheys on %.2e T.\\n\",\n",
        "  2.7e-3/(0.12*1.5));"
      ],
      "outputs": [
        {
          "output_type": "stream",
          "name": "stdout",
          "text": [
            "Voima on 1.28e-04 N ylös\n",
            "Magneettivuon (minimi)tiheys on 1.50e-02 T\n"
          ]
        }
      ],
      "execution_count": 11,
      "metadata": {
        "collapsed": true,
        "jupyter": {
          "source_hidden": false,
          "outputs_hidden": false
        },
        "nteract": {
          "transient": {
            "deleting": false
          }
        },
        "execution": {
          "iopub.status.busy": "2021-10-12T18:18:03.562Z",
          "iopub.execute_input": "2021-10-12T18:18:03.575Z",
          "iopub.status.idle": "2021-10-12T18:18:03.596Z"
        }
      }
    },
    {
      "cell_type": "markdown",
      "source": [
        "8-6 \n",
        "\n",
        "Kirjan vastaus: 1.5 T"
      ],
      "metadata": {
        "nteract": {
          "transient": {
            "deleting": false
          }
        }
      }
    },
    {
      "cell_type": "code",
      "source": [
        "@printf(\"Magneettivuon tiheys on %.1f T.\\n\",\n",
        "  0.12/(0.025*12.5*sin(15*pi/180)));"
      ],
      "outputs": [
        {
          "output_type": "stream",
          "name": "stdout",
          "text": [
            "Magneettivuon tiheys on 1.5 T.\n"
          ]
        }
      ],
      "execution_count": 14,
      "metadata": {
        "collapsed": true,
        "jupyter": {
          "source_hidden": false,
          "outputs_hidden": false
        },
        "nteract": {
          "transient": {
            "deleting": false
          }
        },
        "execution": {
          "iopub.status.busy": "2021-10-12T18:21:01.293Z",
          "iopub.execute_input": "2021-10-12T18:21:01.307Z",
          "iopub.status.idle": "2021-10-12T18:21:01.330Z"
        }
      }
    },
    {
      "cell_type": "markdown",
      "source": [
        "8-7\n",
        "\n",
        "Kirjan vastaus: 6.7 mN vasemmalle"
      ],
      "metadata": {
        "nteract": {
          "transient": {
            "deleting": false
          }
        }
      }
    },
    {
      "cell_type": "code",
      "source": [
        "@printf(\"Voima on %.1e N vasemmalle.\\n\",\n",
        "  Fm(25e-3,3.1,sin((90-15)*pi/180)*0.09))"
      ],
      "outputs": [
        {
          "output_type": "stream",
          "name": "stdout",
          "text": [
            "Voima on 6.7e-03 N vasemmalle.\n"
          ]
        }
      ],
      "execution_count": 18,
      "metadata": {
        "collapsed": true,
        "jupyter": {
          "source_hidden": false,
          "outputs_hidden": false
        },
        "nteract": {
          "transient": {
            "deleting": false
          }
        },
        "execution": {
          "iopub.status.busy": "2021-10-12T18:26:39.128Z",
          "iopub.execute_input": "2021-10-12T18:26:39.145Z",
          "iopub.status.idle": "2021-10-12T18:26:39.167Z"
        }
      }
    },
    {
      "cell_type": "markdown",
      "source": [
        "8-8\n",
        "\n",
        "Kirjan vastaus: b) 33 mA oikealle"
      ],
      "metadata": {
        "nteract": {
          "transient": {
            "deleting": false
          }
        }
      }
    },
    {
      "cell_type": "code",
      "source": [
        "# mg=Fm\n",
        "# tarkastellaan 1 m pituista\n",
        "l=1\n",
        "Bc=0.75\n",
        "g=9.8\n",
        "m=0.0025\n",
        "I=m*g/(Bc*l)\n",
        "@printf(\"Virta on %.1e A oikealle.\\n\",I)\n"
      ],
      "outputs": [
        {
          "output_type": "stream",
          "name": "stdout",
          "text": [
            "Virta on 3.3e-02 A oikealle.\n"
          ]
        }
      ],
      "execution_count": 28,
      "metadata": {
        "collapsed": true,
        "jupyter": {
          "source_hidden": false,
          "outputs_hidden": false
        },
        "nteract": {
          "transient": {
            "deleting": false
          }
        },
        "execution": {
          "iopub.status.busy": "2021-10-12T19:06:50.705Z",
          "iopub.execute_input": "2021-10-12T19:06:50.720Z",
          "iopub.status.idle": "2021-10-12T19:06:50.747Z"
        }
      }
    },
    {
      "cell_type": "markdown",
      "source": [
        "8-9 Määritä virta, joka aiheuttaa 0.56 T suuruisen magneettikentän etäisyydellä 0.5 mm\n",
        "\n",
        "Kirjan vastaus: b) 37 mA"
      ],
      "metadata": {
        "nteract": {
          "transient": {
            "deleting": false
          }
        }
      }
    },
    {
      "cell_type": "code",
      "source": [
        "Bc=0.56\n",
        "r=0.0005\n",
        "m=2.7e3*pi*r^2\n",
        "I=m*g/(Bc*l)\n",
        "@printf(\"Virta on %.1e A\\n\",I)"
      ],
      "outputs": [
        {
          "output_type": "stream",
          "name": "stdout",
          "text": [
            "Virta on 3.7e-02 A\n"
          ]
        }
      ],
      "execution_count": 29,
      "metadata": {
        "collapsed": true,
        "jupyter": {
          "source_hidden": false,
          "outputs_hidden": false
        },
        "nteract": {
          "transient": {
            "deleting": false
          }
        },
        "execution": {
          "iopub.status.busy": "2021-10-12T19:12:16.962Z",
          "iopub.execute_input": "2021-10-12T19:12:16.991Z",
          "iopub.status.idle": "2021-10-12T19:12:17.045Z"
        }
      }
    },
    {
      "cell_type": "markdown",
      "source": [
        "8-10\n",
        "\n",
        "Kirjan vastaus: b) 9.2e-6 N vetovoima"
      ],
      "metadata": {
        "nteract": {
          "transient": {
            "deleting": false
          }
        }
      }
    },
    {
      "cell_type": "code",
      "source": [
        "my0=pi*4e-7\n",
        "F=my0*2.5*2.5*1.4/(2*pi*0.19)\n",
        "@printf(\"Vetovoima on %.1e N\\n\",F)"
      ],
      "outputs": [
        {
          "output_type": "stream",
          "name": "stdout",
          "text": [
            "Voima on 9.2e-06 N\n"
          ]
        }
      ],
      "execution_count": 30,
      "metadata": {
        "collapsed": true,
        "jupyter": {
          "source_hidden": false,
          "outputs_hidden": false
        },
        "nteract": {
          "transient": {
            "deleting": false
          }
        },
        "execution": {
          "iopub.status.busy": "2021-10-12T19:17:04.247Z",
          "iopub.execute_input": "2021-10-12T19:17:04.262Z",
          "iopub.status.idle": "2021-10-12T19:17:04.296Z"
        }
      }
    },
    {
      "cell_type": "markdown",
      "source": [
        "8-11\n",
        "\n",
        "Kirjan vastaus: 3.9 Nm"
      ],
      "metadata": {
        "nteract": {
          "transient": {
            "deleting": false
          }
        }
      }
    },
    {
      "cell_type": "code",
      "source": [
        "N=660\n",
        "I=1.5\n",
        "d=0.068\n",
        "r=d/2\n",
        "A=pi*r^2\n",
        "Bc=1.2\n",
        "a=(90-25)*pi/180\n",
        "M=N*I*A*Bc*sin(a)\n",
        "@printf(\"Momentti on %.1f Nm\\n\",M)"
      ],
      "outputs": [
        {
          "output_type": "stream",
          "name": "stdout",
          "text": [
            "Momentti on 3.9 Nm\n"
          ]
        }
      ],
      "execution_count": 38,
      "metadata": {
        "collapsed": true,
        "jupyter": {
          "source_hidden": false,
          "outputs_hidden": false
        },
        "nteract": {
          "transient": {
            "deleting": false
          }
        },
        "execution": {
          "iopub.status.busy": "2021-10-12T19:29:42.390Z",
          "iopub.execute_input": "2021-10-12T19:29:42.403Z",
          "iopub.status.idle": "2021-10-12T19:29:42.429Z"
        }
      }
    }
  ],
  "metadata": {
    "kernel_info": {
      "name": "julia-nteract-1.5"
    },
    "language_info": {
      "file_extension": ".jl",
      "name": "julia",
      "mimetype": "application/julia",
      "version": "1.5.4"
    },
    "kernelspec": {
      "argv": [
        "C:\\Users\\snikula\\AppData\\Local\\JuliaPro-1.5.4-1\\Julia-1.5.4\\bin\\julia.exe",
        "-i",
        "--color=yes",
        "C:\\Users\\snikula\\.julia\\packages\\IJulia\\e8kqU\\src\\kernel.jl",
        "{connection_file}"
      ],
      "display_name": "Julia nteract 1.5.4",
      "env": {},
      "interrupt_mode": "message",
      "language": "julia",
      "name": "julia-nteract-1.5"
    },
    "nteract": {
      "version": "0.28.0"
    }
  },
  "nbformat": 4,
  "nbformat_minor": 0
}