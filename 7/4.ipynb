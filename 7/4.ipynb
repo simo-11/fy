{
  "cells": [
    {
      "cell_type": "markdown",
      "source": [
        "# Elektronin aalto-ominaisuudet"
      ],
      "metadata": {
        "nteract": {
          "transient": {
            "deleting": false
          }
        }
      }
    },
    {
      "cell_type": "code",
      "source": [
        "using Printf\n",
        "using Dates\n",
        "b=2.897768e-3 # Wienin siirtymälain vakio\n",
        "c=2.99792e8 # Valon nopeus\n",
        "h=6.6260693e-34 # Plancin vakio\n",
        "me=9.10938e-31 # Elektronin massa\n",
        "eV=1.6021766e-19 # Elektorinivoltti\n",
        "sigma=5.670374419e-8 # Stefan-Boltzman\n",
        "@printf \"%s\\n\" Dates.now();\n",
        "versioninfo(verbose=false);"
      ],
      "outputs": [
        {
          "output_type": "stream",
          "name": "stdout",
          "text": [
            "2021-11-23T20:40:33.577\n",
            "Julia Version 1.5.4\n",
            "Commit 69fcb5745b (2021-03-11 19:13 UTC)\n",
            "Platform Info:\n",
            "  OS: Windows (x86_64-w64-mingw32)\n",
            "  CPU: Intel(R) Core(TM) i7-8650U CPU @ 1.90GHz\n",
            "  WORD_SIZE: 64\n",
            "  LIBM: libopenlibm\n",
            "  LLVM: libLLVM-9.0.1 (ORCJIT, skylake)\n",
            "Environment:\n",
            "  JULIA_DEPOT_PATH = C:\\Users\\snikula\\.julia;C:\\Users\\snikula\\AppData\\Local\\JuliaPro-1.5.4-1\\Julia-1.5.4\\local\\share\\julia;C:\\Users\\snikula\\AppData\\Local\\JuliaPro-1.5.4-1\\Julia-1.5.4\\share\\julia\n",
            "  JULIA_LOAD_PATH = C:\\Users\\snikula\\.julia\\environments\\JuliaPro_v1.5.4-1;@;@v#.#;@stdlib\n",
            "  JULIA_PKG_SERVER = pkg.juliahub.com\n"
          ]
        }
      ],
      "execution_count": 2,
      "metadata": {
        "collapsed": true,
        "jupyter": {
          "source_hidden": false,
          "outputs_hidden": false
        },
        "nteract": {
          "transient": {
            "deleting": false
          }
        },
        "execution": {
          "iopub.status.busy": "2021-11-23T18:40:33.507Z",
          "iopub.execute_input": "2021-11-23T18:40:33.519Z",
          "iopub.status.idle": "2021-11-23T18:40:35.428Z"
        }
      }
    },
    {
      "cell_type": "markdown",
      "source": [
        "4-4 \n",
        "\n",
        "Kirjan vastaus: 16 astetta"
      ],
      "metadata": {
        "nteract": {
          "transient": {
            "deleting": false
          }
        }
      }
    },
    {
      "cell_type": "code",
      "source": [
        "# d sin theta = k lambda\n",
        "# lambda = h /(m*v)\n",
        "E=7.7e-18\n",
        "d=0.66e-9\n",
        "v=sqrt(2*E/me)\n",
        "lambda=h/(me*v)\n",
        "theta=asin(lambda/d)\n",
        "@printf(\"Kulma on %.0f astetta.\\n\",theta*180/pi)"
      ],
      "outputs": [
        {
          "output_type": "stream",
          "name": "stdout",
          "text": [
            "Kulma on 16 astetta.\n"
          ]
        }
      ],
      "execution_count": 4,
      "metadata": {
        "collapsed": true,
        "jupyter": {
          "source_hidden": false,
          "outputs_hidden": false
        },
        "nteract": {
          "transient": {
            "deleting": false
          }
        },
        "execution": {
          "iopub.status.busy": "2021-11-23T18:40:46.866Z",
          "iopub.execute_input": "2021-11-23T18:40:46.875Z",
          "iopub.status.idle": "2021-11-23T18:40:46.892Z"
        }
      }
    },
    {
      "cell_type": "markdown",
      "source": [
        "4-5 \n",
        "\n",
        "Kirjan vastaus: vähintään 67 V"
      ],
      "metadata": {
        "nteract": {
          "transient": {
            "deleting": false
          }
        }
      }
    },
    {
      "cell_type": "code",
      "source": [
        "lambda=0.15e-9\n",
        "v=h/(me*lambda)\n",
        "U=0.5*me*v^2/eV\n",
        "@printf(\"Kiihdytysjännitteen on oltava vähintään %.0f V.\\n\",U)"
      ],
      "outputs": [
        {
          "output_type": "stream",
          "name": "stdout",
          "text": [
            "Kiihdytysjännitteen on oltava vähintään 67 V.\n"
          ]
        }
      ],
      "execution_count": 6,
      "metadata": {
        "collapsed": true,
        "jupyter": {
          "source_hidden": false,
          "outputs_hidden": false
        },
        "nteract": {
          "transient": {
            "deleting": false
          }
        },
        "execution": {
          "iopub.status.busy": "2021-11-23T18:45:28.881Z",
          "iopub.execute_input": "2021-11-23T18:45:28.890Z",
          "iopub.status.idle": "2021-11-23T18:45:28.934Z"
        }
      }
    },
    {
      "cell_type": "markdown",
      "source": [
        "4-6 \n",
        "\n",
        "Kirjan vastaus: 120 V"
      ],
      "metadata": {
        "nteract": {
          "transient": {
            "deleting": false
          }
        }
      }
    },
    {
      "cell_type": "code",
      "source": [
        "lambda=110e-12\n",
        "v=h/(me*lambda)\n",
        "U=0.5*me*v^2/eV\n",
        "@printf(\"Kiihdytysjännitteen on oltava vähintään %.0f V.\\n\",U)"
      ],
      "outputs": [
        {
          "output_type": "stream",
          "name": "stdout",
          "text": [
            "Kiihdytysjännitteen on oltava vähintään 124 V.\n"
          ]
        }
      ],
      "execution_count": 7,
      "metadata": {
        "collapsed": true,
        "jupyter": {
          "source_hidden": false,
          "outputs_hidden": false
        },
        "nteract": {
          "transient": {
            "deleting": false
          }
        },
        "execution": {
          "iopub.status.busy": "2021-11-23T18:46:27.912Z",
          "iopub.execute_input": "2021-11-23T18:46:27.923Z",
          "iopub.status.idle": "2021-11-23T18:46:27.949Z"
        }
      }
    }
  ],
  "metadata": {
    "kernel_info": {
      "name": "julia-nteract-1.5"
    },
    "language_info": {
      "file_extension": ".jl",
      "name": "julia",
      "mimetype": "application/julia",
      "version": "1.5.4"
    },
    "kernelspec": {
      "argv": [
        "C:\\Users\\snikula\\AppData\\Local\\JuliaPro-1.5.4-1\\Julia-1.5.4\\bin\\julia.exe",
        "-i",
        "--color=yes",
        "C:\\Users\\snikula\\.julia\\packages\\IJulia\\e8kqU\\src\\kernel.jl",
        "{connection_file}"
      ],
      "display_name": "Julia nteract 1.5.4",
      "env": {},
      "interrupt_mode": "message",
      "language": "julia",
      "name": "julia-nteract-1.5"
    },
    "nteract": {
      "version": "0.28.0"
    }
  },
  "nbformat": 4,
  "nbformat_minor": 0
}