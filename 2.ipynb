{
  "cells": [
    {
      "cell_type": "markdown",
      "source": [
        "2-1<br/> \n",
        "  a) Valon nopeus jäässä on 2.29e8 m/s. Laske jään taitekerroin valolle.<br/>\n",
        "  b) Lasin taitekerroin on 1.51. Laske valon nopeus lasissa.<br/>\n",
        "$n=\\frac{c}{c_{aine}}$"
      ],
      "metadata": {
        "nteract": {
          "transient": {
            "deleting": false
          }
        }
      }
    },
    {
      "cell_type": "code",
      "source": [
        "c=2.99792e8\n",
        "nJaa=c/2.29e8\n",
        "print(f'Jään taitekerroin on {nJaa:.2f}')\n",
        "cLasi=c/1.51\n",
        "print(f'Valon nopeus lasissa on {cLasi:.2e}')\n"
      ],
      "outputs": [
        {
          "output_type": "stream",
          "name": "stdout",
          "text": [
            "Jään taitekerroin on 1.31\n",
            "Valon nopeus lasissa on 1.99e+08\n"
          ]
        }
      ],
      "execution_count": 2,
      "metadata": {
        "collapsed": true,
        "jupyter": {
          "source_hidden": false,
          "outputs_hidden": false
        },
        "nteract": {
          "transient": {
            "deleting": false
          }
        },
        "execution": {
          "iopub.status.busy": "2021-09-25T16:33:21.926Z",
          "iopub.execute_input": "2021-09-25T16:33:21.936Z",
          "iopub.status.idle": "2021-09-25T16:33:21.968Z",
          "shell.execute_reply": "2021-09-25T16:33:21.980Z"
        }
      }
    },
    {
      "cell_type": "markdown",
      "source": [
        "2-2 Valo kulkeen aineesta 1 aineeseen 2 niin, että valo taittuu suurempaan kulmaan<br/>\n",
        "Tällöin aine 1 on tiheämpi ja valon nopeus on suurempi aineessa 2 <br>\n",
        "a) väärin b) oikein c) väärin d) oikein"
      ],
      "metadata": {
        "nteract": {
          "transient": {
            "deleting": false
          }
        }
      }
    },
    {
      "cell_type": "markdown",
      "source": [
        "2-3 Valo tule a) ilmasta veteen b) lasista veteen. Laske molemmissa tapauksissa taitekulma, kun tulokulma on 40 astetta. Veden taitekerroin on 1.33 ja lasin 1.5<br>\n",
        "$\\frac{sin \\alpha_1}{sin \\alpha_2}=n_{12}$\n",
        "Ilmalle käytetään tässä arvoa 1."
      ],
      "metadata": {
        "nteract": {
          "transient": {
            "deleting": false
          }
        }
      }
    },
    {
      "cell_type": "code",
      "source": [
        "import math\n",
        "sinA2=1/1.33*math.sin(40*math.pi/180)\n",
        "A2=math.asin(sinA2)*180/math.pi\n",
        "print(f'Ilmasta veteen taitekulma on {A2:.1f} astetta')\n",
        "sinA2=1.5/1.33*math.sin(40*math.pi/180)\n",
        "A2=math.asin(sinA2)*180/math.pi\n",
        "print(f'Lasista veteen taitekulma on {A2:.1f} astetta')\n"
      ],
      "outputs": [
        {
          "output_type": "stream",
          "name": "stdout",
          "text": [
            "Ilmasta veteen taitekulma on 28.9 astetta\n",
            "Lasista veteen taitekulma on 46.5 astetta\n"
          ]
        }
      ],
      "execution_count": 7,
      "metadata": {
        "collapsed": true,
        "jupyter": {
          "source_hidden": false,
          "outputs_hidden": false
        },
        "nteract": {
          "transient": {
            "deleting": false
          }
        },
        "execution": {
          "iopub.status.busy": "2021-09-25T16:54:57.350Z",
          "iopub.execute_input": "2021-09-25T16:54:57.363Z",
          "iopub.status.idle": "2021-09-25T16:54:57.385Z",
          "shell.execute_reply": "2021-09-25T16:54:57.395Z"
        }
      }
    },
    {
      "cell_type": "markdown",
      "source": [
        "2-4 Valonsäde, jonka aallonpituus ilmassa on 450 nm tulee ilmasta lasikappaleeseen 30 asteen tulokulmassa. Laske valonsäteen suunnamuutos. Lasin taitekerroin on 1.5. Laske myös lasiin taittuneen valon nopeus, taajuus ja aallonpituus.\n",
        "\n",
        "$n_{12}=\\frac{sin \\alpha_1}{sin \\alpha_2}=\\frac{c_1}{c_2}=\\frac{\\lambda_1}{\\lambda_2}=\\frac{n_2}{n_1}$\n",
        "\n",
        "Taajuuden määrää valonlähde ei väliaine. $c=f \\lambda$\n",
        "\n"
      ],
      "metadata": {
        "nteract": {
          "transient": {
            "deleting": false
          }
        }
      }
    },
    {
      "cell_type": "code",
      "source": [
        "import math\n",
        "n1=1\n",
        "l1=450e-9\n",
        "n2=1.5\n",
        "A1=30\n",
        "sinA2=n1*math.sin(A1*math.pi/180)/n2\n",
        "A2=math.asin(sinA2)*180/math.pi\n",
        "print(f'Ilmasta lasiin suunnanmuutos on {abs(A2-A1):.1f} astetta')\n",
        "c2=n1*c/n2\n",
        "print(f'Valon nopeus lasissa on {c2:.1e} m/s')\n",
        "f=c/l1\n",
        "print(f'Valon taajuus on {f:.1e} Hz')\n",
        "l2=l1*c2/c\n",
        "print(f'Valon aallonpituus lasissa on {l2:.1e} m')\n"
      ],
      "outputs": [
        {
          "output_type": "stream",
          "name": "stdout",
          "text": [
            "Ilmasta lasiin suunnanmuutos on 10.5 astetta\n",
            "Valon nopeus lasissa on 2.0e+08 m/s\n",
            "Valon taajuus on 6.7e+14 Hz\n",
            "Valon aallonpituus lasissa on 3.0e-07 m\n"
          ]
        }
      ],
      "execution_count": 13,
      "metadata": {
        "collapsed": true,
        "jupyter": {
          "source_hidden": false,
          "outputs_hidden": false
        },
        "nteract": {
          "transient": {
            "deleting": false
          }
        },
        "execution": {
          "iopub.status.busy": "2021-09-25T20:02:47.300Z",
          "iopub.execute_input": "2021-09-25T20:02:47.310Z",
          "iopub.status.idle": "2021-09-25T20:02:47.327Z",
          "shell.execute_reply": "2021-09-25T20:02:47.440Z"
        }
      }
    }
  ],
  "metadata": {
    "kernel_info": {
      "name": "python3"
    },
    "language_info": {
      "name": "python",
      "version": "3.9.6",
      "mimetype": "text/x-python",
      "codemirror_mode": {
        "name": "ipython",
        "version": 3
      },
      "pygments_lexer": "ipython3",
      "nbconvert_exporter": "python",
      "file_extension": ".py"
    },
    "kernelspec": {
      "argv": [
        "python",
        "-m",
        "ipykernel_launcher",
        "-f",
        "{connection_file}"
      ],
      "display_name": "Python 3 (ipykernel)",
      "language": "python",
      "metadata": {
        "debugger": true
      },
      "name": "python3"
    },
    "nteract": {
      "version": "0.28.0"
    }
  },
  "nbformat": 4,
  "nbformat_minor": 0
}