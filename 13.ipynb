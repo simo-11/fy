{
  "cells": [
    {
      "cell_type": "markdown",
      "source": [
        "# Generaattori"
      ],
      "metadata": {
        "nteract": {
          "transient": {
            "deleting": false
          }
        }
      }
    },
    {
      "cell_type": "code",
      "source": [
        "using Printf\n",
        "using Dates\n",
        "@printf \"%s\\n\" Dates.now();\n",
        "versioninfo(verbose=false);"
      ],
      "outputs": [
        {
          "output_type": "stream",
          "name": "stdout",
          "text": [
            "2021-10-24T12:32:49.099\n",
            "Julia Version 1.5.4\n",
            "Commit 69fcb5745b (2021-03-11 19:13 UTC)\n",
            "Platform Info:\n",
            "  OS: Windows (x86_64-w64-mingw32)\n",
            "  CPU: Intel(R) Core(TM) i7-8650U CPU @ 1.90GHz\n",
            "  WORD_SIZE: 64\n",
            "  LIBM: libopenlibm\n",
            "  LLVM: libLLVM-9.0.1 (ORCJIT, skylake)\n",
            "Environment:\n",
            "  JULIA_DEPOT_PATH = C:\\Users\\snikula\\.julia;C:\\Users\\snikula\\AppData\\Local\\JuliaPro-1.5.4-1\\Julia-1.5.4\\local\\share\\julia;C:\\Users\\snikula\\AppData\\Local\\JuliaPro-1.5.4-1\\Julia-1.5.4\\share\\julia\n",
            "  JULIA_LOAD_PATH = C:\\Users\\snikula\\.julia\\environments\\JuliaPro_v1.5.4-1;@;@v#.#;@stdlib\n",
            "  JULIA_PKG_SERVER = pkg.juliahub.com\n"
          ]
        }
      ],
      "execution_count": 46,
      "metadata": {
        "collapsed": true,
        "jupyter": {
          "source_hidden": false,
          "outputs_hidden": false
        },
        "nteract": {
          "transient": {
            "deleting": false
          }
        },
        "execution": {
          "iopub.status.busy": "2021-10-24T09:32:48.895Z",
          "iopub.execute_input": "2021-10-24T09:32:48.918Z",
          "iopub.status.idle": "2021-10-24T09:32:50.623Z"
        }
      }
    },
    {
      "cell_type": "markdown",
      "source": [
        "13-5 $e = N A B \\omega sin \\omega t$\n",
        "\n",
        "Kirjan vastaus:  b) 50 r/s c) 3.2 V d) 0.81 T e) 3.1 V"
      ],
      "metadata": {
        "nteract": {
          "transient": {
            "deleting": false
          }
        }
      }
    },
    {
      "cell_type": "code",
      "source": [
        "T=0.02\n",
        "rps=1/T\n",
        "A=125e-4\n",
        "e0=3.2\n",
        "@printf(\"Pyörimisnopeus on %.1f kierrosta/s.\\n\", rps)\n",
        "omega=2*pi*rps\n",
        "B=e0/(A*omega)\n",
        "@printf(\"Magneettivuon tiheys on %.2f T.\\n\", B)\n",
        "@printf(\"Jännite hetkellä, jolloin kulma on 15 astetta %.1f V.\\n\", cos(15*pi/180)*e0)\n",
        "\n"
      ],
      "outputs": [
        {
          "output_type": "stream",
          "name": "stdout",
          "text": [
            "Pyörimisnopeus on 50.0 kierrosta/s.\n",
            "Magneettivuon tiheys on 0.81 T.\n",
            "Jännite hetkellä, jolloin kulma on 15 astetta 3.1 V.\n"
          ]
        }
      ],
      "execution_count": 53,
      "metadata": {
        "collapsed": true,
        "jupyter": {
          "source_hidden": false,
          "outputs_hidden": false
        },
        "nteract": {
          "transient": {
            "deleting": false
          }
        },
        "execution": {
          "iopub.status.busy": "2021-10-24T09:51:07.044Z",
          "iopub.execute_input": "2021-10-24T09:51:07.051Z",
          "iopub.status.idle": "2021-10-24T09:51:07.067Z"
        }
      }
    },
    {
      "cell_type": "markdown",
      "source": [
        "13-6\n",
        "\n",
        "Kirjan vastaus: a) 0.20 V b) 0 V"
      ],
      "metadata": {
        "nteract": {
          "transient": {
            "deleting": false
          }
        }
      }
    },
    {
      "cell_type": "code",
      "source": [
        "rps=6600/60\n",
        "A=0.15^2\n",
        "omega=2*pi*rps\n",
        "B=13e-3\n",
        "e0=A*B*omega\n",
        "@printf(\"Maksimijännite %.1f V.\\n\", e0)\n"
      ],
      "outputs": [
        {
          "output_type": "stream",
          "name": "stdout",
          "text": [
            "Maksimijännite 0.2 V.\n"
          ]
        }
      ],
      "execution_count": 54,
      "metadata": {
        "collapsed": true,
        "jupyter": {
          "source_hidden": false,
          "outputs_hidden": false
        },
        "nteract": {
          "transient": {
            "deleting": false
          }
        },
        "execution": {
          "iopub.status.busy": "2021-10-24T10:02:07.717Z",
          "iopub.execute_input": "2021-10-24T10:02:07.728Z",
          "iopub.status.idle": "2021-10-24T10:02:07.748Z"
        }
      }
    },
    {
      "cell_type": "markdown",
      "source": [
        "13-9\n",
        "\n",
        "\n",
        "Kirjan vastaus: b) 1.1 mT c) i) C ii) A"
      ],
      "metadata": {
        "nteract": {
          "transient": {
            "deleting": false
          }
        }
      }
    },
    {
      "cell_type": "code",
      "source": [
        "N=300\n",
        "T=0.22\n",
        "rps=1/T\n",
        "A=0.042^2\n",
        "e0=17e-3\n",
        "omega=2*pi*rps\n",
        "B=e0/(N*A*omega)\n",
        "@printf(\"Magneettivuon tiheys on %.2e T.\\n\", B)\n"
      ],
      "outputs": [
        {
          "output_type": "stream",
          "name": "stdout",
          "text": [
            "Magneettivuon tiheys on 1.12e-03 T.\n"
          ]
        }
      ],
      "execution_count": 59,
      "metadata": {
        "collapsed": true,
        "jupyter": {
          "source_hidden": false,
          "outputs_hidden": false
        },
        "nteract": {
          "transient": {
            "deleting": false
          }
        },
        "execution": {
          "iopub.status.busy": "2021-10-24T10:20:25.325Z",
          "iopub.execute_input": "2021-10-24T10:20:25.332Z",
          "iopub.status.idle": "2021-10-24T10:20:25.351Z"
        }
      }
    }
  ],
  "metadata": {
    "kernel_info": {
      "name": "julia-nteract-1.5"
    },
    "language_info": {
      "file_extension": ".jl",
      "name": "julia",
      "mimetype": "application/julia",
      "version": "1.5.4"
    },
    "kernelspec": {
      "argv": [
        "C:\\Users\\snikula\\AppData\\Local\\JuliaPro-1.5.4-1\\Julia-1.5.4\\bin\\julia.exe",
        "-i",
        "--color=yes",
        "C:\\Users\\snikula\\.julia\\packages\\IJulia\\e8kqU\\src\\kernel.jl",
        "{connection_file}"
      ],
      "display_name": "Julia nteract 1.5.4",
      "env": {},
      "interrupt_mode": "message",
      "language": "julia",
      "name": "julia-nteract-1.5"
    },
    "nteract": {
      "version": "0.28.0"
    }
  },
  "nbformat": 4,
  "nbformat_minor": 0
}