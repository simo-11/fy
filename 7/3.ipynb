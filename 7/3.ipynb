{
  "cells": [
    {
      "cell_type": "markdown",
      "source": [
        "# Dualismi"
      ],
      "metadata": {
        "nteract": {
          "transient": {
            "deleting": false
          }
        }
      }
    },
    {
      "cell_type": "code",
      "source": [
        "using Printf\n",
        "using Dates\n",
        "b=2.897768e-3 # Wienin siirtymälain vakio\n",
        "c=2.99792e8 # Valon nopeus\n",
        "h=6.6260693e-34 # Plancin vakio\n",
        "me=9.10938e-31 # Elektronin massa\n",
        "mp=1.67262164e-27 # Protonin massa\n",
        "eV=1.6021766e-19 # Elektorinivoltti\n",
        "sigma=5.670374419e-8 # Stefan-Boltzman\n",
        "@printf \"%s\\n\" Dates.now();\n",
        "versioninfo(verbose=false);"
      ],
      "outputs": [
        {
          "output_type": "stream",
          "name": "stdout",
          "text": [
            "2021-11-22T19:26:33.881\n",
            "Julia Version 1.5.4\n",
            "Commit 69fcb5745b (2021-03-11 19:13 UTC)\n",
            "Platform Info:\n",
            "  OS: Windows (x86_64-w64-mingw32)\n",
            "  CPU: Intel(R) Core(TM) i7-8650U CPU @ 1.90GHz\n",
            "  WORD_SIZE: 64\n",
            "  LIBM: libopenlibm\n",
            "  LLVM: libLLVM-9.0.1 (ORCJIT, skylake)\n",
            "Environment:\n",
            "  JULIA_DEPOT_PATH = C:\\Users\\snikula\\.julia;C:\\Users\\snikula\\AppData\\Local\\JuliaPro-1.5.4-1\\Julia-1.5.4\\local\\share\\julia;C:\\Users\\snikula\\AppData\\Local\\JuliaPro-1.5.4-1\\Julia-1.5.4\\share\\julia\n",
            "  JULIA_LOAD_PATH = C:\\Users\\snikula\\.julia\\environments\\JuliaPro_v1.5.4-1;@;@v#.#;@stdlib\n",
            "  JULIA_PKG_SERVER = pkg.juliahub.com\n"
          ]
        }
      ],
      "execution_count": 4,
      "metadata": {
        "collapsed": true,
        "jupyter": {
          "source_hidden": false,
          "outputs_hidden": false
        },
        "nteract": {
          "transient": {
            "deleting": false
          }
        },
        "execution": {
          "iopub.status.busy": "2021-11-22T17:26:33.898Z",
          "iopub.execute_input": "2021-11-22T17:26:33.907Z",
          "iopub.status.idle": "2021-11-22T17:26:33.926Z"
        }
      }
    },
    {
      "cell_type": "markdown",
      "source": [
        "3-8 \n",
        "\n",
        "Kirjan vastaus: 0.40 pm"
      ],
      "metadata": {
        "nteract": {
          "transient": {
            "deleting": false
          }
        }
      }
    },
    {
      "cell_type": "code",
      "source": [
        "v=1e6\n",
        "p=mp*v\n",
        "lambda=h/p\n",
        "@printf(\"Aallonpituus on %.2f pm.\\n\",lambda/1e-12)"
      ],
      "outputs": [
        {
          "output_type": "stream",
          "name": "stdout",
          "text": [
            "Aallonpituus on 0.40 pm.\n"
          ]
        }
      ],
      "execution_count": 6,
      "metadata": {
        "collapsed": true,
        "jupyter": {
          "source_hidden": false,
          "outputs_hidden": false
        },
        "nteract": {
          "transient": {
            "deleting": false
          }
        },
        "execution": {
          "iopub.status.busy": "2021-11-22T17:28:38.563Z",
          "iopub.execute_input": "2021-11-22T17:28:38.580Z",
          "iopub.status.idle": "2021-11-22T17:28:38.641Z"
        }
      }
    },
    {
      "cell_type": "markdown",
      "source": [
        "3-9 \n",
        "\n",
        "Kirjan vastaus: a) 0.10 nm b) 8.3 nm"
      ],
      "metadata": {
        "nteract": {
          "transient": {
            "deleting": false
          }
        }
      }
    },
    {
      "cell_type": "code",
      "source": [
        "# E=0.5*m*v^2 (massallinen)\n",
        "E=150*eV\n",
        "v=sqrt(2*E/me)\n",
        "p=me*v\n",
        "lambda=h/p\n",
        "@printf(\"Elektronin aallonpituus on %.2f nm.\\n\",lambda/1e-9)\n",
        "# E=h*c/lambda massaton\n",
        "lambda=h*c/E\n",
        "@printf(\"Fotonin aallonpituus on %.1f nm.\\n\",lambda/1e-9)"
      ],
      "outputs": [
        {
          "output_type": "stream",
          "name": "stdout",
          "text": [
            "Elektronin aallonpituus on 0.10 nm.\n",
            "Fotonin aallonpituus on 8.3 nm.\n"
          ]
        }
      ],
      "execution_count": 10,
      "metadata": {
        "collapsed": true,
        "jupyter": {
          "source_hidden": false,
          "outputs_hidden": false
        },
        "nteract": {
          "transient": {
            "deleting": false
          }
        },
        "execution": {
          "iopub.status.busy": "2021-11-22T17:37:09.295Z",
          "iopub.execute_input": "2021-11-22T17:37:09.304Z",
          "iopub.status.idle": "2021-11-22T17:37:09.322Z"
        }
      }
    },
    {
      "cell_type": "markdown",
      "source": [
        "3-10\n",
        "\n",
        "Kirjan vastaus: a) 3.5e-35 m "
      ],
      "metadata": {
        "nteract": {
          "transient": {
            "deleting": false
          }
        }
      }
    },
    {
      "cell_type": "code",
      "source": [
        "# E=0.5*m*v^2 (massallinen)\n",
        "v=990\n",
        "m=0.019\n",
        "p=m*v\n",
        "lambda=h/p\n",
        "@printf(\"Luodin aallonpituus on %.1e m.\\n\",lambda)\n",
        "v=6.5\n",
        "m=72\n",
        "p=m*v\n",
        "lambda=h/p\n",
        "@printf(\"Simon aallonpituus on %.1e m.\\n\",lambda)"
      ],
      "outputs": [
        {
          "output_type": "stream",
          "name": "stdout",
          "text": [
            "Luodin aallonpituus on 3.5e-35 m.\n",
            "Simon aallonpituus on 1.4e-36 m.\n"
          ]
        }
      ],
      "execution_count": 15,
      "metadata": {
        "collapsed": true,
        "jupyter": {
          "source_hidden": false,
          "outputs_hidden": false
        },
        "nteract": {
          "transient": {
            "deleting": false
          }
        },
        "execution": {
          "iopub.status.busy": "2021-11-22T17:40:47.460Z",
          "iopub.execute_input": "2021-11-22T17:40:47.470Z",
          "iopub.status.idle": "2021-11-22T17:40:47.490Z"
        }
      }
    },
    {
      "cell_type": "markdown",
      "source": [
        "3-11\n",
        "\n",
        "Kirjan vastaus: vähintään 2.2 nm"
      ],
      "metadata": {
        "nteract": {
          "transient": {
            "deleting": false
          }
        }
      }
    },
    {
      "cell_type": "code",
      "source": [
        "U1=0.31\n",
        "q=eV\n",
        "E=q*U1\n",
        "v=sqrt(2*E/me)\n",
        "@printf(\"Elektronien nopeus on enintään %.2e m/s.\\n\",v)\n",
        "p=me*v\n",
        "lambda=h/p\n",
        "@printf(\"Elektronien aallonpituus on vähintään %.1f nm.\\n\",\n",
        "  lambda/1e-9)"
      ],
      "outputs": [
        {
          "output_type": "stream",
          "name": "stdout",
          "text": [
            "Elektronien nopeus on enintään 3.30e+05 m/s.\n",
            "Elektronien aallonpituus on vähintään 2.2 nm.\n"
          ]
        }
      ],
      "execution_count": 28,
      "metadata": {
        "collapsed": true,
        "jupyter": {
          "source_hidden": false,
          "outputs_hidden": false
        },
        "nteract": {
          "transient": {
            "deleting": false
          }
        },
        "execution": {
          "iopub.status.busy": "2021-11-22T18:02:53.173Z",
          "iopub.execute_input": "2021-11-22T18:02:53.183Z",
          "iopub.status.idle": "2021-11-22T18:02:53.209Z"
        }
      }
    },
    {
      "cell_type": "code",
      "source": [],
      "outputs": [],
      "execution_count": null,
      "metadata": {
        "collapsed": true,
        "jupyter": {
          "source_hidden": false,
          "outputs_hidden": false
        },
        "nteract": {
          "transient": {
            "deleting": false
          }
        }
      }
    }
  ],
  "metadata": {
    "kernel_info": {
      "name": "julia-nteract-1.5"
    },
    "language_info": {
      "file_extension": ".jl",
      "name": "julia",
      "mimetype": "application/julia",
      "version": "1.5.4"
    },
    "kernelspec": {
      "argv": [
        "C:\\Users\\snikula\\AppData\\Local\\JuliaPro-1.5.4-1\\Julia-1.5.4\\bin\\julia.exe",
        "-i",
        "--color=yes",
        "C:\\Users\\snikula\\.julia\\packages\\IJulia\\e8kqU\\src\\kernel.jl",
        "{connection_file}"
      ],
      "display_name": "Julia nteract 1.5.4",
      "env": {},
      "interrupt_mode": "message",
      "language": "julia",
      "name": "julia-nteract-1.5"
    },
    "nteract": {
      "version": "0.28.0"
    }
  },
  "nbformat": 4,
  "nbformat_minor": 0
}