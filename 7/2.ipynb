{
  "cells": [
    {
      "cell_type": "markdown",
      "source": [
        "# Valosähköilmiö"
      ],
      "metadata": {
        "nteract": {
          "transient": {
            "deleting": false
          }
        }
      }
    },
    {
      "cell_type": "code",
      "source": [
        "using Printf\n",
        "using Dates\n",
        "b=2.897768e-3 # Wienin siirtymälain vakio\n",
        "c=2.99792e8 # Valon nopeus\n",
        "h=6.62607015e-34 # Plancin vakio\n",
        "me=9.10938e-31 # Elektronin massa\n",
        "eV=1.6021766e-19 # Elektorinivoltti\n",
        "sigma=5.670374419e-8 # Stefan-Boltzman\n",
        "@printf \"%s\\n\" Dates.now();\n",
        "versioninfo(verbose=false);"
      ],
      "outputs": [
        {
          "output_type": "stream",
          "name": "stdout",
          "text": [
            "2021-11-20T20:29:12.336\n",
            "Julia Version 1.5.4\n",
            "Commit 69fcb5745b (2021-03-11 19:13 UTC)\n",
            "Platform Info:\n",
            "  OS: Windows (x86_64-w64-mingw32)\n",
            "  CPU: Intel(R) Core(TM) i7-8650U CPU @ 1.90GHz\n",
            "  WORD_SIZE: 64\n",
            "  LIBM: libopenlibm\n",
            "  LLVM: libLLVM-9.0.1 (ORCJIT, skylake)\n",
            "Environment:\n",
            "  JULIA_DEPOT_PATH = C:\\Users\\snikula\\.julia;C:\\Users\\snikula\\AppData\\Local\\JuliaPro-1.5.4-1\\Julia-1.5.4\\local\\share\\julia;C:\\Users\\snikula\\AppData\\Local\\JuliaPro-1.5.4-1\\Julia-1.5.4\\share\\julia\n",
            "  JULIA_LOAD_PATH = C:\\Users\\snikula\\.julia\\environments\\JuliaPro_v1.5.4-1;@;@v#.#;@stdlib\n",
            "  JULIA_PKG_SERVER = pkg.juliahub.com\n"
          ]
        }
      ],
      "execution_count": 39,
      "metadata": {
        "collapsed": true,
        "jupyter": {
          "source_hidden": false,
          "outputs_hidden": false
        },
        "nteract": {
          "transient": {
            "deleting": false
          }
        },
        "execution": {
          "iopub.status.busy": "2021-11-20T18:29:12.405Z",
          "iopub.execute_input": "2021-11-20T18:29:12.430Z",
          "iopub.status.idle": "2021-11-20T18:29:12.458Z"
        }
      }
    },
    {
      "cell_type": "markdown",
      "source": [
        "2-5\n",
        "\n",
        "Kirjan vastaus:  5.09 eV (Nikkeli)"
      ],
      "metadata": {
        "nteract": {
          "transient": {
            "deleting": false
          }
        }
      }
    },
    {
      "cell_type": "code",
      "source": [
        "f=1.23e15\n",
        "E=h*f\n",
        "@printf(\"Fotonin energia on %.2f eV.\\n\",E/eV)"
      ],
      "outputs": [
        {
          "output_type": "stream",
          "name": "stdout",
          "text": [
            "Fotonin energia on 5.03 eV.\n"
          ]
        }
      ],
      "execution_count": 3,
      "metadata": {
        "collapsed": true,
        "jupyter": {
          "source_hidden": false,
          "outputs_hidden": false
        },
        "nteract": {
          "transient": {
            "deleting": false
          }
        },
        "execution": {
          "iopub.status.busy": "2021-11-20T14:57:27.345Z",
          "iopub.execute_input": "2021-11-20T14:57:27.364Z",
          "iopub.status.idle": "2021-11-20T14:57:27.398Z"
        }
      }
    },
    {
      "cell_type": "markdown",
      "source": [
        "2-6 \n",
        "\n",
        "Kirjan vastaus: a) Kalium kyllä, alumiini ei<br>\n",
        "b) 1.7 ev"
      ],
      "metadata": {
        "nteract": {
          "transient": {
            "deleting": false
          }
        }
      }
    },
    {
      "cell_type": "code",
      "source": [
        "lmk=h*c/2.24eV\n",
        "lma=h*c/4.2eV\n",
        "lmin=400e-9\n",
        "lmax=700e-9\n",
        "@printf(\n",
        " \"maksimi aallonpituus kaliumille on %.2e ja alumiinille %.2e.\\n\",\n",
        "  lmk,lma)\n",
        "lambda=210e-9\n",
        "le=h*c/lambda/eV-4.2\n",
        "@printf(\"Irronneiden elektronien liike-energia on %.1f eV.\\n\",le)\n"
      ],
      "outputs": [
        {
          "output_type": "stream",
          "name": "stdout",
          "text": [
            "maksimi aallonpituus kaliumille on 5.54e-07 ja alumiinille 2.95e-07.\n",
            "Irronneiden elektronien liike-energia on 1.7 eV.\n"
          ]
        }
      ],
      "execution_count": 26,
      "metadata": {
        "collapsed": true,
        "jupyter": {
          "source_hidden": false,
          "outputs_hidden": false
        },
        "nteract": {
          "transient": {
            "deleting": false
          }
        },
        "execution": {
          "iopub.status.busy": "2021-11-20T15:59:47.793Z",
          "iopub.execute_input": "2021-11-20T15:59:47.821Z",
          "iopub.status.idle": "2021-11-20T15:59:47.849Z"
        }
      }
    },
    {
      "cell_type": "markdown",
      "source": [
        "2-8 \n",
        "\n",
        "Kirjan vastaus: a) $E_k \\le 1.5 eV$ <br>\n",
        "b) 1: ei tapahdu valosähköilmiötä, 2: liike-energia ei muutu"
      ],
      "metadata": {
        "nteract": {
          "transient": {
            "deleting": false
          }
        }
      }
    },
    {
      "cell_type": "code",
      "source": [
        "lambda=365e-9\n",
        "E=h*c/lambda/eV\n",
        "@printf(\"Fotonien energia on %.1f eV.\\n\",E)\n",
        "W=1.9\n",
        "ke=E-W\n",
        "@printf(\"Kineettinen energia on korkeintaan %.1f eV.\\n\",ke)"
      ],
      "outputs": [
        {
          "output_type": "stream",
          "name": "stdout",
          "text": [
            "Fotonien energia on 3.4 eV.\n",
            "Kineettinen energia on korkeintaan 1.5 eV.\n"
          ]
        }
      ],
      "execution_count": 17,
      "metadata": {
        "collapsed": true,
        "jupyter": {
          "source_hidden": false,
          "outputs_hidden": false
        },
        "nteract": {
          "transient": {
            "deleting": false
          }
        },
        "execution": {
          "iopub.status.busy": "2021-11-20T15:40:24.352Z",
          "iopub.execute_input": "2021-11-20T15:40:24.364Z",
          "iopub.status.idle": "2021-11-20T15:40:24.389Z"
        }
      }
    },
    {
      "cell_type": "markdown",
      "source": [
        "2-9 \n",
        "\n",
        "Kirjan vastaus:a) 554 nm (tehtävän 2-6 mukaan) b) 4.61e5 m/s"
      ],
      "metadata": {
        "nteract": {
          "transient": {
            "deleting": false
          }
        }
      }
    },
    {
      "cell_type": "code",
      "source": [
        "lambda=436e-9\n",
        "E=h*c/lambda\n",
        "W=2.24eV\n",
        "ek=E-W\n",
        "v=sqrt(2*ek/me)\n",
        "@printf(\"Maksiminopeus on %.2e m/s.\\n\",v)\n"
      ],
      "outputs": [
        {
          "output_type": "stream",
          "name": "stdout",
          "text": [
            "Maksiminopeus on 4.61e+05 m/s.\n"
          ]
        }
      ],
      "execution_count": 29,
      "metadata": {
        "collapsed": true,
        "jupyter": {
          "source_hidden": false,
          "outputs_hidden": false
        },
        "nteract": {
          "transient": {
            "deleting": false
          }
        },
        "execution": {
          "iopub.status.busy": "2021-11-20T16:01:05.371Z",
          "iopub.execute_input": "2021-11-20T16:01:05.387Z",
          "iopub.status.idle": "2021-11-20T16:01:05.422Z"
        }
      }
    },
    {
      "cell_type": "markdown",
      "source": [
        "2-10 \n",
        "\n",
        "Kirjan vastaus: b) 4.11e-15 eVs, 540 THz, 468 THz, 2.23 eV c) irroitustyö"
      ],
      "metadata": {
        "nteract": {
          "transient": {
            "deleting": false
          }
        }
      }
    },
    {
      "cell_type": "markdown",
      "source": [
        "2-11 \n",
        "\n",
        "Kirjan vastaus: 0.82 V"
      ],
      "metadata": {
        "nteract": {
          "transient": {
            "deleting": false
          }
        }
      }
    },
    {
      "cell_type": "code",
      "source": [
        "l1=611e-9\n",
        "q=eV\n",
        "U1=0.31\n",
        "W0=h*c/l1-q*U1\n",
        "l2=489e-9\n",
        "U2=(h*c/l2-W0)/q\n",
        "@printf(\"Tarvittava pysäytysjännite on %.2f V.\\n\",U2)"
      ],
      "outputs": [
        {
          "output_type": "stream",
          "name": "stdout",
          "text": [
            "Tarvittava pysäytysjännite on 0.82 V.\n"
          ]
        }
      ],
      "execution_count": 30,
      "metadata": {
        "collapsed": true,
        "jupyter": {
          "source_hidden": false,
          "outputs_hidden": false
        },
        "nteract": {
          "transient": {
            "deleting": false
          }
        },
        "execution": {
          "iopub.status.busy": "2021-11-20T17:25:23.827Z",
          "iopub.execute_input": "2021-11-20T17:25:23.845Z",
          "iopub.status.idle": "2021-11-20T17:25:23.883Z"
        }
      }
    },
    {
      "cell_type": "markdown",
      "source": [
        "2-12 \n",
        "\n",
        "Kirjan vastaus: a) Comtonin ilmiö b) 29 MeV c) 19 MeV"
      ],
      "metadata": {
        "nteract": {
          "transient": {
            "deleting": false
          }
        }
      }
    },
    {
      "cell_type": "code",
      "source": [
        "f0=6.9e21\n",
        "Ef=h*f0\n",
        "@printf(\"Fotonin energia on %.1e eV.\\n\",Ef/eV)\n",
        "f=2.2e21\n",
        "Ek=Ef-h*f\n",
        "@printf(\"Elektronin liikenergia on %.1e eV.\\n\",Ek/eV)\n"
      ],
      "outputs": [
        {
          "output_type": "stream",
          "name": "stdout",
          "text": [
            "Fotonin energia on 2.9e+07 eV.\n",
            "Elektronin liikenergia on 1.9e+07 eV.\n"
          ]
        }
      ],
      "execution_count": 33,
      "metadata": {
        "collapsed": true,
        "jupyter": {
          "source_hidden": false,
          "outputs_hidden": false
        },
        "nteract": {
          "transient": {
            "deleting": false
          }
        },
        "execution": {
          "iopub.status.busy": "2021-11-20T17:31:41.502Z",
          "iopub.execute_input": "2021-11-20T17:31:41.511Z",
          "iopub.status.idle": "2021-11-20T17:31:41.536Z"
        }
      }
    },
    {
      "cell_type": "markdown",
      "source": [
        "2-13 \n",
        "\n",
        "Kirjan vastaus: 22.8 keV ja 2.23 keV"
      ],
      "metadata": {
        "nteract": {
          "transient": {
            "deleting": false
          }
        }
      }
    },
    {
      "cell_type": "code",
      "source": [
        "E=25e3*eV\n",
        "l0=h*c/E\n",
        "p=h/l0 # Liikemäärä ennen törmäystä\n",
        "@printf(\"p=%.2e l0=%.2e.\\n\",p,l0)\n",
        "# Liikemäärä törmäyksen jälkeen h/l1+me*ve\n",
        "# p=h/l1+me*ve\n",
        "# ve=(p-h/l1)/me\n",
        "# l1*p=h+l1*me*ve\n",
        "# (p-me*ve)*l1=h\n",
        "# l1=h/(p-me*ve)\n",
        "# Energia säilyy ef+ee=E\n",
        "# ef=h*c/l1\n",
        "# ee=0.5*me*ve^2\n",
        "# h*c/(h/(p-me*ve))+0.5*me*ve^2=E\n",
        "# c*(p-me*ve)+0.5*me*ve^2=E\n",
        "# (0.5*me)*ve^2-c*me*ve+c*p-E=0\n",
        "ka=0.5*me\n",
        "kb=-c*me\n",
        "kc=c*p-E\n",
        "ve=(-kb+sqrt(kb^2-4*ka*kc))/2*ka\n",
        "@printf(\"p=%.2e ve=%.2e m/s.\\n\",p,ve)\n",
        "ee=0.5*me*ve^2/eV\n",
        "l1=h/(p-me*ve)\n",
        "ef=h*c/l1\n",
        "@printf(\"Fotonin energia on %.2e eV ja elektronin %.2e eV.\\n\",ef,ee)"
      ],
      "outputs": [
        {
          "output_type": "stream",
          "name": "stdout",
          "text": [
            "p=1.34e-23 l0=4.96e-11.\n",
            "p=1.34e-23 ve=1.24e-52 m/s.\n",
            "Fotonin energia on 4.01e-15 eV ja elektronin 4.40e-116 eV.\n"
          ]
        }
      ],
      "execution_count": 41,
      "metadata": {
        "collapsed": true,
        "jupyter": {
          "source_hidden": false,
          "outputs_hidden": false
        },
        "nteract": {
          "transient": {
            "deleting": false
          }
        },
        "execution": {
          "iopub.status.busy": "2021-11-20T18:31:07.995Z",
          "iopub.execute_input": "2021-11-20T18:31:08.007Z",
          "iopub.status.idle": "2021-11-20T18:31:08.033Z"
        }
      }
    },
    {
      "cell_type": "code",
      "source": [],
      "outputs": [],
      "execution_count": null,
      "metadata": {
        "collapsed": true,
        "jupyter": {
          "source_hidden": false,
          "outputs_hidden": false
        },
        "nteract": {
          "transient": {
            "deleting": false
          }
        }
      }
    }
  ],
  "metadata": {
    "kernel_info": {
      "name": "julia-nteract-1.5"
    },
    "language_info": {
      "file_extension": ".jl",
      "name": "julia",
      "mimetype": "application/julia",
      "version": "1.5.4"
    },
    "kernelspec": {
      "argv": [
        "C:\\Users\\snikula\\AppData\\Local\\JuliaPro-1.5.4-1\\Julia-1.5.4\\bin\\julia.exe",
        "-i",
        "--color=yes",
        "C:\\Users\\snikula\\.julia\\packages\\IJulia\\e8kqU\\src\\kernel.jl",
        "{connection_file}"
      ],
      "display_name": "Julia nteract 1.5.4",
      "env": {},
      "interrupt_mode": "message",
      "language": "julia",
      "name": "julia-nteract-1.5"
    },
    "nteract": {
      "version": "0.28.0"
    }
  },
  "nbformat": 4,
  "nbformat_minor": 0
}