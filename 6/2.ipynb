{
  "cells": [
    {
      "cell_type": "markdown",
      "source": [
        "2-1<br/> \n",
        "  a) Valon nopeus jäässä on 2.29e8 m/s. Laske jään taitekerroin valolle.<br/>\n",
        "  b) Lasin taitekerroin on 1.51. Laske valon nopeus lasissa.<br/>\n",
        "$n=\\frac{c}{c_{aine}}$"
      ],
      "metadata": {
        "nteract": {
          "transient": {
            "deleting": false
          }
        }
      }
    },
    {
      "cell_type": "code",
      "source": [
        "c=2.99792e8\n",
        "nJaa=c/2.29e8\n",
        "print(f'Jään taitekerroin on {nJaa:.2f}')\n",
        "cLasi=c/1.51\n",
        "print(f'Valon nopeus lasissa on {cLasi:.2e}')\n"
      ],
      "outputs": [
        {
          "output_type": "stream",
          "name": "stdout",
          "text": [
            "Jään taitekerroin on 1.31\n",
            "Valon nopeus lasissa on 1.99e+08\n"
          ]
        }
      ],
      "execution_count": 2,
      "metadata": {
        "collapsed": true,
        "jupyter": {
          "source_hidden": false,
          "outputs_hidden": false
        },
        "nteract": {
          "transient": {
            "deleting": false
          }
        },
        "execution": {
          "iopub.status.busy": "2021-09-25T16:33:21.926Z",
          "iopub.execute_input": "2021-09-25T16:33:21.936Z",
          "iopub.status.idle": "2021-09-25T16:33:21.968Z",
          "shell.execute_reply": "2021-09-25T16:33:21.980Z"
        }
      }
    },
    {
      "cell_type": "markdown",
      "source": [
        "2-2 Valo kulkeen aineesta 1 aineeseen 2 niin, että valo taittuu suurempaan kulmaan<br/>\n",
        "Tällöin aine 1 on tiheämpi ja valon nopeus on suurempi aineessa 2 <br>\n",
        "a) väärin b) oikein c) väärin d) oikein"
      ],
      "metadata": {
        "nteract": {
          "transient": {
            "deleting": false
          }
        }
      }
    },
    {
      "cell_type": "markdown",
      "source": [
        "2-3 Valo tule a) ilmasta veteen b) lasista veteen. Laske molemmissa tapauksissa taitekulma, kun tulokulma on 40 astetta. Veden taitekerroin on 1.33 ja lasin 1.5<br>\n",
        "$\\frac{sin \\alpha_1}{sin \\alpha_2}=n_{12}$\n",
        "Ilmalle käytetään tässä arvoa 1."
      ],
      "metadata": {
        "nteract": {
          "transient": {
            "deleting": false
          }
        }
      }
    },
    {
      "cell_type": "code",
      "source": [
        "import math\n",
        "sinA2=1/1.33*math.sin(40*math.pi/180)\n",
        "A2=math.asin(sinA2)*180/math.pi\n",
        "print(f'Ilmasta veteen taitekulma on {A2:.1f} astetta')\n",
        "sinA2=1.5/1.33*math.sin(40*math.pi/180)\n",
        "A2=math.asin(sinA2)*180/math.pi\n",
        "print(f'Lasista veteen taitekulma on {A2:.1f} astetta')\n"
      ],
      "outputs": [
        {
          "output_type": "stream",
          "name": "stdout",
          "text": [
            "Ilmasta veteen taitekulma on 28.9 astetta\n",
            "Lasista veteen taitekulma on 46.5 astetta\n"
          ]
        }
      ],
      "execution_count": 7,
      "metadata": {
        "collapsed": true,
        "jupyter": {
          "source_hidden": false,
          "outputs_hidden": false
        },
        "nteract": {
          "transient": {
            "deleting": false
          }
        },
        "execution": {
          "iopub.status.busy": "2021-09-25T16:54:57.350Z",
          "iopub.execute_input": "2021-09-25T16:54:57.363Z",
          "iopub.status.idle": "2021-09-25T16:54:57.385Z",
          "shell.execute_reply": "2021-09-25T16:54:57.395Z"
        }
      }
    },
    {
      "cell_type": "markdown",
      "source": [
        "2-4 Valonsäde, jonka aallonpituus ilmassa on 450 nm tulee ilmasta lasikappaleeseen 30 asteen tulokulmassa. Laske valonsäteen suunnamuutos. Lasin taitekerroin on 1.5. Laske myös lasiin taittuneen valon nopeus, taajuus ja aallonpituus.\n",
        "\n",
        "$n_{12}=\\frac{sin \\alpha_1}{sin \\alpha_2}=\\frac{c_1}{c_2}=\\frac{\\lambda_1}{\\lambda_2}=\\frac{n_2}{n_1}$\n",
        "\n",
        "Taajuuden määrää valonlähde ei väliaine. $c=f \\lambda$\n",
        "\n"
      ],
      "metadata": {
        "nteract": {
          "transient": {
            "deleting": false
          }
        }
      }
    },
    {
      "cell_type": "code",
      "source": [
        "import math\n",
        "n1=1\n",
        "c1=2.99792e8\n",
        "l1=450e-9\n",
        "n2=1.5\n",
        "A1=30\n",
        "sinA2=n1*math.sin(A1*math.pi/180)/n2\n",
        "A2=math.asin(sinA2)*180/math.pi\n",
        "print(f'Ilmasta lasiin suunnanmuutos on {abs(A2-A1):.1f} astetta')\n",
        "c2=n1*c1/n2\n",
        "print(f'Valon nopeus lasissa on {c2:.1e} m/s')\n",
        "f=c1/l1\n",
        "print(f'Valon taajuus on {f:.1e} Hz')\n",
        "l2=l1*c2/c1\n",
        "print(f'Valon aallonpituus lasissa on {l2:.1e} m')\n"
      ],
      "outputs": [
        {
          "output_type": "stream",
          "name": "stdout",
          "text": [
            "Ilmasta lasiin suunnanmuutos on 10.5 astetta\n",
            "Valon nopeus lasissa on 2.0e+08 m/s\n",
            "Valon taajuus on 6.7e+14 Hz\n",
            "Valon aallonpituus lasissa on 3.0e-07 m\n"
          ]
        }
      ],
      "execution_count": 4,
      "metadata": {
        "collapsed": true,
        "jupyter": {
          "source_hidden": false,
          "outputs_hidden": false
        },
        "nteract": {
          "transient": {
            "deleting": false
          }
        },
        "execution": {
          "iopub.status.busy": "2021-09-26T17:33:33.776Z",
          "iopub.execute_input": "2021-09-26T17:33:33.786Z",
          "iopub.status.idle": "2021-09-26T17:33:33.806Z",
          "shell.execute_reply": "2021-09-26T17:33:33.823Z"
        }
      }
    },
    {
      "cell_type": "markdown",
      "source": [
        "2-7 https://cheat.abitti.fi/build/index.html?fi#aineiden-taitekertoimia perusteella etanoli"
      ],
      "metadata": {
        "nteract": {
          "transient": {
            "deleting": false
          }
        }
      }
    },
    {
      "cell_type": "code",
      "source": [
        "import math\n",
        "n1=1\n",
        "A1=49.5\n",
        "A2r=math.atan(7.1/10.5)\n",
        "n2=math.sin(math.radians(A1))/math.sin(A2r)\n",
        "print(f'Nesteen taitekerroin on {n2:.3f}')\n"
      ],
      "outputs": [
        {
          "output_type": "stream",
          "name": "stdout",
          "text": [
            "Nesteen taitekerroin on 1.358\n"
          ]
        }
      ],
      "execution_count": 10,
      "metadata": {
        "collapsed": true,
        "jupyter": {
          "source_hidden": false,
          "outputs_hidden": false
        },
        "nteract": {
          "transient": {
            "deleting": false
          }
        },
        "execution": {
          "iopub.status.busy": "2021-09-26T18:02:53.527Z",
          "iopub.execute_input": "2021-09-26T18:02:53.537Z",
          "iopub.status.idle": "2021-09-26T18:02:53.560Z",
          "shell.execute_reply": "2021-09-26T18:02:53.570Z"
        }
      }
    },
    {
      "cell_type": "markdown",
      "source": [
        "2-8 Valonsäde kulkee 2.5 mm paksun ilmassa olevan lasilevyn läpi. Lasin taitekerroin on 1.51 ja valonsäteen tulokulma 55 astetta. Laske yhdensuuntaissiirtymä.\n"
      ],
      "metadata": {
        "nteract": {
          "transient": {
            "deleting": false
          }
        }
      }
    },
    {
      "cell_type": "code",
      "source": [
        "import math\n",
        "n1=1\n",
        "n2=1.51\n",
        "A1=55\n",
        "A1r=math.radians(55)\n",
        "sinA2=n1*math.sin(A1*math.pi/180)/n2\n",
        "A2r=math.asin(sinA2)\n",
        "dAr=abs(A1r-A2r)\n",
        "# valonsäteen kulkema matka lasissa (hypotenuusa)\n",
        "dsl=2.5/math.cos(A2r)\n",
        "yss=math.sin(dAr)*dsl\n",
        "print(f'Yhdensuuntaissiirtymä on {yss:.3f} mm')\n"
      ],
      "outputs": [
        {
          "output_type": "stream",
          "name": "stdout",
          "text": [
            "Yhdensuuntaissiirtymä on 1.122 mm\n"
          ]
        }
      ],
      "execution_count": 13,
      "metadata": {
        "collapsed": true,
        "jupyter": {
          "source_hidden": false,
          "outputs_hidden": false
        },
        "nteract": {
          "transient": {
            "deleting": false
          }
        },
        "execution": {
          "iopub.status.busy": "2021-09-26T18:13:44.331Z",
          "iopub.execute_input": "2021-09-26T18:13:44.339Z",
          "iopub.status.idle": "2021-09-26T18:13:44.463Z",
          "shell.execute_reply": "2021-09-26T18:13:44.470Z"
        }
      }
    },
    {
      "cell_type": "markdown",
      "source": [
        "2-9 Rajakulma kokonaisheijastumiselle lasi-ilma rajapinnassa on noin 42 astetta.\n",
        "\n",
        "Lasin läpi vinottain kuljettaessa tulee sivuttaissiirtymä.\n",
        "\n",
        "Prismassa tapahtuu kokonaisheijastuminen.\n"
      ],
      "metadata": {
        "nteract": {
          "transient": {
            "deleting": false
          }
        }
      }
    },
    {
      "cell_type": "code",
      "source": [
        "import math\n",
        "n=1.5\n",
        "a=math.degrees(math.asin(1/n))\n",
        "print(f'Rajakulma on {a:.1f} astetta')"
      ],
      "outputs": [
        {
          "output_type": "stream",
          "name": "stdout",
          "text": [
            "Rajakulma on 41.8 astetta\n"
          ]
        }
      ],
      "execution_count": 15,
      "metadata": {
        "collapsed": true,
        "jupyter": {
          "source_hidden": false,
          "outputs_hidden": false
        },
        "nteract": {
          "transient": {
            "deleting": false
          }
        },
        "execution": {
          "iopub.status.busy": "2021-09-27T14:34:10.803Z",
          "iopub.execute_input": "2021-09-27T14:34:10.821Z",
          "iopub.status.idle": "2021-09-27T14:34:10.972Z",
          "shell.execute_reply": "2021-09-27T14:34:10.988Z"
        }
      }
    },
    {
      "cell_type": "markdown",
      "source": [
        "2-11 lasin n=1.5, veden 1.33, ilman 1.0\n"
      ],
      "metadata": {
        "nteract": {
          "transient": {
            "deleting": false
          }
        }
      }
    },
    {
      "cell_type": "code",
      "source": [
        "import math\n",
        "nl=1.5\n",
        "nv=1.33\n",
        "ni=1.0\n",
        "a=math.degrees(math.asin(1/nl))\n",
        "print(f'Rajakulma lasista ilmaan on {a:.1f} astetta')\n",
        "a=math.degrees(math.asin(1/nv))\n",
        "print(f'Rajakulma vedestä ilmaan on {a:.1f} astetta')\n",
        "a=math.degrees(math.asin(nv/nl))\n",
        "print(f'Rajakulma lasista veteen on {a:.1f} astetta')"
      ],
      "outputs": [
        {
          "output_type": "stream",
          "name": "stdout",
          "text": [
            "Rajakulma lasista ilmaan on 41.8 astetta\n",
            "Rajakulma vedestä ilmaan on 48.8 astetta\n",
            "Rajakulma lasista veteen on 62.5 astetta\n"
          ]
        }
      ],
      "execution_count": 16,
      "metadata": {
        "collapsed": true,
        "jupyter": {
          "source_hidden": false,
          "outputs_hidden": false
        },
        "nteract": {
          "transient": {
            "deleting": false
          }
        },
        "execution": {
          "iopub.status.busy": "2021-09-27T18:19:28.155Z",
          "iopub.execute_input": "2021-09-27T18:19:28.167Z",
          "iopub.status.idle": "2021-09-27T18:19:28.193Z",
          "shell.execute_reply": "2021-09-27T18:19:28.203Z"
        }
      }
    },
    {
      "cell_type": "markdown",
      "source": [
        "2-13\n",
        "$sin(\\alpha_r)=\\frac{n_2}{n_1}$\n",
        "$n_1=\\frac{n_2}{sin(\\alpha_r)}$"
      ],
      "metadata": {
        "nteract": {
          "transient": {
            "deleting": false
          }
        }
      }
    },
    {
      "cell_type": "code",
      "source": [
        "import math\n",
        "nv=1.33\n",
        "no=nv/math.sin(math.radians(69.5))\n",
        "print(f'Öljyn taitekerroin on {no:.2f}')\n",
        "lo=628/no\n",
        "print(f'Aallonpituus öljyssä on {lo:.0f} nm')\n"
      ],
      "outputs": [
        {
          "output_type": "stream",
          "name": "stdout",
          "text": [
            "Öljyn taitekerroin on 1.42\n",
            "Aallonpituus öljyssä on 442 nm\n"
          ]
        }
      ],
      "execution_count": 20,
      "metadata": {
        "collapsed": true,
        "jupyter": {
          "source_hidden": false,
          "outputs_hidden": false
        },
        "nteract": {
          "transient": {
            "deleting": false
          }
        },
        "execution": {
          "iopub.status.busy": "2021-09-27T18:40:07.599Z",
          "iopub.execute_input": "2021-09-27T18:40:07.610Z",
          "iopub.status.idle": "2021-09-27T18:40:07.640Z",
          "shell.execute_reply": "2021-09-27T18:40:07.652Z"
        }
      }
    },
    {
      "cell_type": "markdown",
      "source": [
        "2-14 Ytimen taitekerroin on 1.47, kuoren 1.45.\n",
        "\n",
        "Kirjan vastaus on korkeintaan 14 astetta. Alla korkeintaan 9.5 astetta."
      ],
      "metadata": {
        "nteract": {
          "transient": {
            "deleting": false
          }
        }
      }
    },
    {
      "cell_type": "code",
      "source": [
        "import math\n",
        "ny=1.47\n",
        "nk=1.45\n",
        "a=math.degrees(math.asin(nk/ny))\n",
        "print(f'Rajakulma on {a:.2f} astetta')"
      ],
      "outputs": [
        {
          "output_type": "stream",
          "name": "stdout",
          "text": [
            "Rajakulma on 80.54 astetta\n"
          ]
        }
      ],
      "execution_count": 26,
      "metadata": {
        "collapsed": true,
        "jupyter": {
          "source_hidden": false,
          "outputs_hidden": false
        },
        "nteract": {
          "transient": {
            "deleting": false
          }
        },
        "execution": {
          "iopub.status.busy": "2021-09-27T18:58:10.858Z",
          "iopub.execute_input": "2021-09-27T18:58:10.871Z",
          "iopub.status.idle": "2021-09-27T18:58:10.901Z",
          "shell.execute_reply": "2021-09-27T18:58:10.914Z"
        }
      }
    },
    {
      "cell_type": "markdown",
      "source": [
        "2-15 Kuinka suuren alueen sukeltaja näkee 3m metriä vedenpinnan alla ollessa kokonaisheijastumisen vuoksi.\n"
      ],
      "metadata": {
        "nteract": {
          "transient": {
            "deleting": false
          }
        }
      }
    },
    {
      "cell_type": "code",
      "source": [
        "import math\n",
        "d=3*math.tan(math.asin(1/1.33))\n",
        "print(f'Näkyvän ympyrän halkaisija on {d:.1f} m')"
      ],
      "outputs": [
        {
          "output_type": "stream",
          "name": "stdout",
          "text": [
            "Näkyvän ympyrän halkaisija on 3.4 m\n"
          ]
        }
      ],
      "execution_count": 24,
      "metadata": {
        "collapsed": true,
        "jupyter": {
          "source_hidden": false,
          "outputs_hidden": false
        },
        "nteract": {
          "transient": {
            "deleting": false
          }
        },
        "execution": {
          "iopub.status.busy": "2021-09-27T18:56:30.688Z",
          "iopub.execute_input": "2021-09-27T18:56:30.702Z",
          "iopub.status.idle": "2021-09-27T18:56:30.734Z",
          "shell.execute_reply": "2021-09-27T18:56:30.748Z"
        }
      }
    },
    {
      "cell_type": "markdown",
      "source": [
        "2-16"
      ],
      "metadata": {
        "nteract": {
          "transient": {
            "deleting": false
          }
        }
      }
    },
    {
      "cell_type": "code",
      "source": [
        "import math\n",
        "c=2.99792e8\n",
        "ny=1.47\n",
        "nk=1.43\n",
        "a=math.degrees(math.asin(nk/ny))\n",
        "print(f'Rajakulma on {a:.2f} astetta')\n",
        "print(f'Valon nopeus lasissa on {c/ny:.2e} ja muovissa {c/nk:.2e}')"
      ],
      "outputs": [
        {
          "output_type": "stream",
          "name": "stdout",
          "text": [
            "Rajakulma on 76.60 astetta\n",
            "Valon nopeus lasissa on 2.04e+08 ja muovissa 2.10e+08\n"
          ]
        }
      ],
      "execution_count": 28,
      "metadata": {
        "collapsed": true,
        "jupyter": {
          "source_hidden": false,
          "outputs_hidden": false
        },
        "nteract": {
          "transient": {
            "deleting": false
          }
        },
        "execution": {
          "iopub.status.busy": "2021-09-27T19:01:10.461Z",
          "iopub.execute_input": "2021-09-27T19:01:10.476Z",
          "iopub.status.idle": "2021-09-27T19:01:10.508Z",
          "shell.execute_reply": "2021-09-27T19:01:10.521Z"
        }
      }
    }
  ],
  "metadata": {
    "kernel_info": {
      "name": "python3"
    },
    "language_info": {
      "name": "python",
      "version": "3.9.6",
      "mimetype": "text/x-python",
      "codemirror_mode": {
        "name": "ipython",
        "version": 3
      },
      "pygments_lexer": "ipython3",
      "nbconvert_exporter": "python",
      "file_extension": ".py"
    },
    "kernelspec": {
      "argv": [
        "python",
        "-m",
        "ipykernel_launcher",
        "-f",
        "{connection_file}"
      ],
      "display_name": "Python 3 (ipykernel)",
      "language": "python",
      "metadata": {
        "debugger": true
      },
      "name": "python3"
    },
    "nteract": {
      "version": "0.28.0"
    }
  },
  "nbformat": 4,
  "nbformat_minor": 0
}