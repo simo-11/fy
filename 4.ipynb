{
  "cells": [
    {
      "cell_type": "markdown",
      "source": [
        "# Valon aaltoilmiöt\n",
        "$n_{12}=\\frac{sin \\alpha_1}{sin \\alpha_2}=\\frac{c_1}{c_2}=\\frac{\\lambda_1}{\\lambda_2}=\\frac{n_2}{n_1}$\n",
        "## interferenssi\n",
        "$2d=k\\lambda$ heijastuneet aallot kumoavat toisensa<br>\n",
        "$2d=(k+½)\\lambda$ heijastuneet aallot vahvistavat toisiaan<br>\n",
        "d=kalvon paksuus<br>\n",
        "$\\lambda$=aallonpituus\n",
        "\n",
        "## diffraktio\n",
        "Palloaallot interferoivat keskenään<br>\n",
        "$d sin \\alpha = k \\lambda, k=0, 1, 2, 3..$ vahvistus<br>\n",
        "$d sin \\alpha = (k+½) \\lambda, k=0, 1, 2, 3..$ sammutus<br>\n",
        "$\\alpha$=taipumiskulma<br>\n",
        "d=rakojen väli<br>\n",
        "## hila\n",
        "Sama ilmiö kuin kaksoisraossa, mutta voimakkaampana rakojen pienen välin vuoksi joten valkoinen valo hajoaa "
      ],
      "metadata": {
        "nteract": {
          "transient": {
            "deleting": false
          }
        }
      }
    },
    {
      "cell_type": "code",
      "source": [
        "console.log('Node %s %j',process.version,Date());"
      ],
      "outputs": [
        {
          "output_type": "stream",
          "name": "stdout",
          "text": [
            "Node v12.8.1 \"Sat Oct 02 2021 13:12:51 GMT+0300 (Itä-Euroopan kesäaika)\"\n"
          ]
        }
      ],
      "execution_count": 4,
      "metadata": {
        "collapsed": true,
        "jupyter": {
          "source_hidden": false,
          "outputs_hidden": false
        },
        "nteract": {
          "transient": {
            "deleting": false
          }
        },
        "execution": {
          "iopub.status.busy": "2021-10-02T10:12:51.643Z",
          "iopub.execute_input": "2021-10-02T10:12:51.658Z",
          "iopub.status.idle": "2021-10-02T10:12:51.693Z",
          "shell.execute_reply": "2021-10-02T10:12:51.707Z"
        }
      }
    },
    {
      "cell_type": "markdown",
      "source": [
        "4-4 Kaksoisrako, jossa rakojen väli on 0.6 mm. Ensimmäisten keskustan molemmin puolen olevien valoisten kohtien väli on 7.5 mm. Varjostin on 4 m päässä. Määritä aallonpituus.\n",
        "k=1\n",
        "\n",
        "Kirjan vastaus 560 nm\n"
      ],
      "metadata": {
        "nteract": {
          "transient": {
            "deleting": false
          }
        }
      }
    },
    {
      "cell_type": "code",
      "source": [
        "b=0.0075/2;\n",
        "a=4;\n",
        "alpha=Math.atan(b/a);\n",
        "d=0.0006;\n",
        "l=d*Math.sin(alpha);\n",
        "console.log('Aallonpituus on %s m eli %d nm',\n",
        "            l.toExponential(1),(1e9*l).toFixed(0));"
      ],
      "outputs": [
        {
          "output_type": "stream",
          "name": "stdout",
          "text": [
            "Aallonpituus on 5.6e-7 m eli 562 nm\n"
          ]
        }
      ],
      "execution_count": 24,
      "metadata": {
        "collapsed": true,
        "jupyter": {
          "source_hidden": false,
          "outputs_hidden": false
        },
        "nteract": {
          "transient": {
            "deleting": false
          }
        },
        "execution": {
          "iopub.status.busy": "2021-10-02T10:54:43.923Z",
          "iopub.execute_input": "2021-10-02T10:54:43.938Z",
          "iopub.status.idle": "2021-10-02T10:54:43.970Z",
          "shell.execute_reply": "2021-10-02T10:54:43.984Z"
        }
      }
    },
    {
      "cell_type": "markdown",
      "source": [
        "4-5 Valo, jonka aallonpituus on 600 nm, tulee kohtisuorasti hilaan. Toisen kertaluvun spektriviivan taipumiskulmaksi mitataan 26 astetta. <br>\n",
        "a) Kuinka suuri on hilavakio?<br>\n",
        "b) Kuinka suuri on kolmannnen kertaluvun spektriviivan taipumiskulma.\n",
        "\n",
        "Kirjan vastaus a) 2.74 μm b) 41.1 astetta"
      ],
      "metadata": {
        "nteract": {
          "transient": {
            "deleting": false
          }
        }
      }
    },
    {
      "cell_type": "code",
      "source": [
        "l=600e-9;\n",
        "k=2;\n",
        "a=26*Math.PI/180;\n",
        "d=k*l/Math.sin(a);\n",
        "console.log('a) Hilavakio on %s m eli %d μm',\n",
        "            d.toExponential(3),(1e6*d).toFixed(2));\n",
        "a=Math.atan(0.0075/2/4);\n",
        "k=3;\n",
        "a=180/Math.PI*Math.asin((k*l)/d);\n",
        "console.log('b) Kolmannen kertaluvun taipumiskulma on %d astetta',\n",
        "            a.toFixed(1));"
      ],
      "outputs": [
        {
          "output_type": "stream",
          "name": "stdout",
          "text": [
            "a) Hilavakio on 2.737e-6 m eli 2.74 μm\n",
            "b) Kolmannen kertaluvun taipumiskulma on 41.1\n"
          ]
        }
      ],
      "execution_count": 23,
      "metadata": {
        "collapsed": true,
        "jupyter": {
          "source_hidden": false,
          "outputs_hidden": false
        },
        "nteract": {
          "transient": {
            "deleting": false
          }
        },
        "execution": {
          "iopub.status.busy": "2021-10-02T10:44:29.192Z",
          "iopub.execute_input": "2021-10-02T10:44:29.205Z",
          "iopub.status.idle": "2021-10-02T10:44:29.238Z",
          "shell.execute_reply": "2021-10-02T10:44:29.251Z"
        }
      }
    },
    {
      "cell_type": "markdown",
      "source": [
        "4-7 Keltaisen natriumlampun valo (aallonpituus 589 nm) suunnataan kohtisuorasti hilaan, jossa on 400 rakoa/mm. Interferenssi syntyy hilan suuntaiselle varjostimelle, joka on 2 metrin päässä hilasta. Kuinka etäälle keskustasta syntyy ensimmäisen kertaluvun valoisa viiva.\n",
        "\n",
        "Kirjan vastaus 48.5 cm"
      ],
      "metadata": {
        "nteract": {
          "transient": {
            "deleting": false
          }
        }
      }
    },
    {
      "cell_type": "code",
      "source": [
        "k=1;\n",
        "l=589e-9;\n",
        "a=2;\n",
        "d=0.001/400;\n",
        "alpha=Math.asin(k*l/d)\n",
        "b=Math.tan(alpha)*a;\n",
        "console.log('Ensimmäinen valoisa viiva syntyy etäisyydelle %s cm.',\n",
        "            (b*100).toFixed(1));\n"
      ],
      "outputs": [
        {
          "output_type": "stream",
          "name": "stdout",
          "text": [
            "Ensimmäinen valoisa viiva syntyy etäisyydelle 48.5 cm\n"
          ]
        }
      ],
      "execution_count": 26,
      "metadata": {
        "collapsed": true,
        "jupyter": {
          "source_hidden": false,
          "outputs_hidden": false
        },
        "nteract": {
          "transient": {
            "deleting": false
          }
        },
        "execution": {
          "iopub.status.busy": "2021-10-02T11:12:49.640Z",
          "iopub.execute_input": "2021-10-02T11:12:49.653Z",
          "iopub.status.idle": "2021-10-02T11:12:49.684Z",
          "shell.execute_reply": "2021-10-02T11:12:49.700Z"
        }
      }
    },
    {
      "cell_type": "markdown",
      "source": [
        "4-8 Hilassa on 550 rakoa/mm. Monokromaattinen valo, jonka aallonpituus on 590 nm, osuu hilaan kohtisuorasti. Mikä on ensimmäisen ja toisen kertaluvun intensiteettimaksimien välinen etäisyys seinällä. Seinä on yhdensuntainen hilan kanssa ja sen etäisyys on 5 m.\n",
        "\n",
        "Kirjan vastaus 2.6 m"
      ],
      "metadata": {
        "nteract": {
          "transient": {
            "deleting": false
          }
        }
      }
    },
    {
      "cell_type": "code",
      "source": [
        "k=1;\n",
        "l=590e-9;\n",
        "a=5;\n",
        "d=0.001/550;\n",
        "alpha=Math.asin(k*l/d);\n",
        "b1=Math.tan(alpha)*a;\n",
        "k=2;\n",
        "alpha=Math.asin(k*l/d);\n",
        "b2=Math.tan(alpha)*a;\n",
        "console.log('Etäisyys on %d m.',(b2-b1).toFixed(5));"
      ],
      "outputs": [
        {
          "output_type": "stream",
          "name": "stdout",
          "text": [
            "Etäisyys on 2.54999 m.\n"
          ]
        }
      ],
      "execution_count": 33,
      "metadata": {
        "collapsed": true,
        "jupyter": {
          "source_hidden": false,
          "outputs_hidden": false
        },
        "nteract": {
          "transient": {
            "deleting": false
          }
        },
        "execution": {
          "iopub.status.busy": "2021-10-02T11:40:01.518Z",
          "iopub.execute_input": "2021-10-02T11:40:01.536Z",
          "iopub.status.idle": "2021-10-02T11:40:01.566Z",
          "shell.execute_reply": "2021-10-02T11:40:01.578Z"
        }
      }
    },
    {
      "cell_type": "markdown",
      "source": [
        "4-9 laservalo, jonka aallonpituus on 633 nm, osuu kohtisuorasti hilaan, jossa on 349 rakoa/mm. Kuinka monta intensiteettimaksimia hilan taakse asetetulle varjostimelle sadaan näkyviin.\n",
        "\n",
        "Kirjan vastaus 9"
      ],
      "metadata": {
        "nteract": {
          "transient": {
            "deleting": false
          }
        }
      }
    },
    {
      "cell_type": "code",
      "source": [
        "l=633e-9;\n",
        "d=0.001/349;\n",
        "// sin alpha on korkeintaan 1\n",
        "kmax=Math.floor(d/l); // molemmille puolille, lisäksi 0 keskelle\n",
        "console.log('Näkyville voidaan saada %d intensiteettimaksimia',\n",
        "            2*kmax+1);"
      ],
      "outputs": [
        {
          "output_type": "stream",
          "name": "stdout",
          "text": [
            "Näkyville voidaan saada 9 intensiteettimaksimia\n"
          ]
        }
      ],
      "execution_count": 3,
      "metadata": {
        "collapsed": true,
        "jupyter": {
          "source_hidden": false,
          "outputs_hidden": false
        },
        "nteract": {
          "transient": {
            "deleting": false
          }
        },
        "execution": {
          "iopub.status.busy": "2021-10-03T17:01:12.207Z",
          "iopub.execute_input": "2021-10-03T17:01:12.221Z",
          "iopub.status.idle": "2021-10-03T17:01:12.354Z",
          "shell.execute_reply": "2021-10-03T17:01:12.367Z"
        }
      }
    },
    {
      "cell_type": "markdown",
      "source": [
        "4-12 Pienin taipumiskulma on 38.5 astetta. Allonpituus 405 nm.\n",
        "Määritä, kuinka monta rakoa millimetrillä on hilassa.\n",
        "\n",
        "Kirjan vastaus 1540"
      ],
      "metadata": {
        "nteract": {
          "transient": {
            "deleting": false
          }
        }
      }
    },
    {
      "cell_type": "code",
      "source": [
        "l=405e-9;\n",
        "k=1;\n",
        "alpha=38.5*Math.PI/180;\n",
        "d=l/Math.sin(alpha);\n",
        "console.log('Hilassa on %d rakoa/mm',(1/d/1000).toFixed(0));"
      ],
      "outputs": [
        {
          "output_type": "stream",
          "name": "stdout",
          "text": [
            "Hilassa on 1537 rakoa/mm\n"
          ]
        }
      ],
      "execution_count": 5,
      "metadata": {
        "collapsed": true,
        "jupyter": {
          "source_hidden": false,
          "outputs_hidden": false
        },
        "nteract": {
          "transient": {
            "deleting": false
          }
        },
        "execution": {
          "iopub.status.busy": "2021-10-03T17:08:03.565Z",
          "iopub.execute_input": "2021-10-03T17:08:03.579Z",
          "iopub.status.idle": "2021-10-03T17:08:03.606Z",
          "shell.execute_reply": "2021-10-03T17:08:03.618Z"
        }
      }
    },
    {
      "cell_type": "markdown",
      "source": [
        "4-13 Kaksoisraossa rakojen väli on 0.55 mm ja rako on 1.0 metrin etäisyydellä varjostimesta. Varjostimella nähdään kaksi interferenssikuviota, jotka syntyvät 480 nm ja 600 nm valolla. Kuinka kaukana toisistaan ovat näitä aallonpituuksia vastaavat neljännen kertaluvun valoisat viivat.\n",
        "\n",
        "Kirjan vastaus 0.96 mm"
      ],
      "metadata": {
        "nteract": {
          "transient": {
            "deleting": false
          }
        }
      }
    },
    {
      "cell_type": "code",
      "source": [
        "k=4;\n",
        "l=480e-9;\n",
        "a=1;\n",
        "d=0.0005;\n",
        "alpha=Math.asin(k*l/d);\n",
        "b1=Math.tan(alpha)*a;\n",
        "l=600e-9;\n",
        "alpha=Math.asin(k*l/d);\n",
        "b2=Math.tan(alpha)*a;\n",
        "console.log('Etäisyys on %d m eli %d mm',\n",
        "            (b2-b1).toFixed(5),(1000*(b2-b1)).toFixed(2));"
      ],
      "outputs": [
        {
          "output_type": "stream",
          "name": "stdout",
          "text": [
            "Etäisyys on 0.00096 m eli 0.96 mm\n"
          ]
        }
      ],
      "execution_count": 7,
      "metadata": {
        "collapsed": true,
        "jupyter": {
          "source_hidden": false,
          "outputs_hidden": false
        },
        "nteract": {
          "transient": {
            "deleting": false
          }
        },
        "execution": {
          "iopub.status.busy": "2021-10-03T17:21:33.437Z",
          "iopub.execute_input": "2021-10-03T17:21:33.450Z",
          "iopub.status.idle": "2021-10-03T17:21:33.480Z",
          "shell.execute_reply": "2021-10-03T17:21:33.492Z"
        }
      }
    },
    {
      "cell_type": "markdown",
      "source": [
        "4-14 Lesilevyn pinnalla on ohut asetonikerros. Valo, jonka aallonpituutta voi säätää, osuu kohtisuorasti levyn pintaan. Kalvo ei heijasta valoa, kun aallonpituus on 600 nm ja heijastuneen valon intensiteetillä on maksimi, kun aallonpituus on 700 nm. Laske asetonikerroksen paksuus. Asetonin taitekerroin on 1.25.\n",
        "\n",
        "Kirjan vastaus 840 nm, jossa on minun mielestä virhe. Tehtävä, joka silloin ratkaistaan, on:<br>\n",
        "Ei heijasta valoa, kun aallonpituus on 700 nm ja maksimi on kun aallonpituus on 600 nm."
      ],
      "metadata": {
        "nteract": {
          "transient": {
            "deleting": false
          }
        }
      }
    },
    {
      "cell_type": "code",
      "source": [
        "n2=1.25;\n",
        "l1=600e-9;\n",
        "l2=700e-9;\n",
        "la1=l1/n2;\n",
        "la2=l2/n2;\n",
        "console.log('Aallonpituudet asetonissa ovat %d nm ja %d nm',(1e9*la1).toFixed(0),(1e9*la2).toFixed(0));\n",
        "// sammutus 2d=k1*la1;\n",
        "// vahvistus 2d=(k2+0.5)*la2;\n",
        "best=1;\n",
        "bk1=0;\n",
        "bk2=0;\n",
        "found=false;\n",
        "mainLoop:\n",
        "for(k1=1;k1<10;k1++){\n",
        "    for(k2=0;k2<10;k2++){\n",
        "      d1=k1*la1/2;\n",
        "      d2=(k2+0.5)*la2/2;\n",
        "      diff=Math.abs(d1-d2);\n",
        "      if(best>diff){\n",
        "        best=diff;\n",
        "        bd1=d1;\n",
        "        bd2=d2;\n",
        "        bk1=k1;\n",
        "        bk2=k2;\n",
        "      }\n",
        "    }\n",
        "}\n",
        "console.log('Parhaassa yhdistelmässä ero oli %d'+\n",
        "             ' nm, (%d nm ja %d nm), jolloin k1=%d ja k2=%d',\n",
        "              (best*1e9).toFixed(0),\n",
        "            (bd1*1e9).toFixed(0),\n",
        "            (bd2*1e9).toFixed(0),\n",
        "              bk1,bk2);\n"
      ],
      "outputs": [
        {
          "output_type": "stream",
          "name": "stdout",
          "text": [
            "Aallonpituudet asetonissa ovat 480 nm ja 560 nm\n",
            "Parhaassa yhdistelmässä ero oli 20  nm, (720 nm ja 700 nm), jolloin k1=3 ja k2=2\n"
          ]
        }
      ],
      "execution_count": 34,
      "metadata": {
        "collapsed": true,
        "jupyter": {
          "source_hidden": false,
          "outputs_hidden": false
        },
        "nteract": {
          "transient": {
            "deleting": false
          }
        },
        "execution": {
          "iopub.status.busy": "2021-10-03T18:39:38.844Z",
          "iopub.execute_input": "2021-10-03T18:39:38.859Z",
          "iopub.status.idle": "2021-10-03T18:39:38.894Z",
          "shell.execute_reply": "2021-10-03T18:39:38.911Z"
        }
      }
    },
    {
      "cell_type": "markdown",
      "source": [
        "4-15 Valkoisen valon aallonpituudet ovat 400-750 nm. Minkä kulmien välillä ensimmäisen kertaluvun spektri näkyy, jos valkoinen valo tulee kohtisuorasti hilaan, jossa on 500 viivaa/mm.\n",
        "\n",
        "Kirjan vastaus 12-22 astetta"
      ],
      "metadata": {
        "nteract": {
          "transient": {
            "deleting": false
          }
        }
      }
    },
    {
      "cell_type": "code",
      "source": [
        "function kulma(l){\n",
        "k=1;\n",
        "d=0.001/500;\n",
        "return Math.asin(k*l/d)/Math.PI*180;\n",
        "}\n",
        "console.log('Kulmien %d° ja %d° välillä.',\n",
        "            kulma(400e-9).toFixed(0),kulma(750e-9).toFixed(0));"
      ],
      "outputs": [
        {
          "output_type": "stream",
          "name": "stdout",
          "text": [
            "Kulmien 12° ja 22° välillä\n"
          ]
        }
      ],
      "execution_count": 38,
      "metadata": {
        "collapsed": true,
        "jupyter": {
          "source_hidden": false,
          "outputs_hidden": false
        },
        "nteract": {
          "transient": {
            "deleting": false
          }
        },
        "execution": {
          "iopub.status.busy": "2021-10-03T19:13:19.710Z",
          "iopub.execute_input": "2021-10-03T19:13:19.725Z",
          "iopub.status.idle": "2021-10-03T19:13:19.757Z",
          "shell.execute_reply": "2021-10-03T19:13:19.773Z"
        }
      }
    },
    {
      "cell_type": "markdown",
      "source": [
        "4-16 Yhdensuuntaisaet punainen (632.8 nm) ja keltainen lasersäde osuvat kohtisuorasti hilaan. Hilan etäisyys varjostimesta (a) on 139 cm.\n",
        "Kuudennen kertaluokan maksimien etäisyydet ovat 38.8 cm ja 41 cm.\n",
        "a) määritä hilavakio<br>\n",
        "b) Laske keltaisen valon aallonpituus\n",
        "\n",
        "Kirjan vastaus a) 13 μm b) 600 nm"
      ],
      "metadata": {
        "nteract": {
          "transient": {
            "deleting": false
          }
        }
      }
    },
    {
      "cell_type": "code",
      "source": [
        "k=6\n",
        "l=632.8e-9;\n",
        "alpha=Math.atan(0.41/1.39);\n",
        "d=k*l/Math.sin(alpha);\n",
        "console.log('Hilavakio on %d m eli %d μm.',d,(1e6*d).toFixed(0));\n",
        "alpha=Math.atan(0.388/1.39);\n",
        "l=d*Math.sin(alpha)/k;\n",
        "console.log('Keltaisen valon aallonpituus on %d m eli %d nm.'\n",
        "            ,l,(1e9*l).toFixed(0));\n",
        "\n"
      ],
      "outputs": [
        {
          "output_type": "stream",
          "name": "stdout",
          "text": [
            "Hilavakio on 0.000013420360782553367 m eli 13 μm.\n",
            "Keltaisen valon aallonpituus on 6.013636132766186e-7 m eli 601 nm.\n"
          ]
        }
      ],
      "execution_count": 46,
      "metadata": {
        "collapsed": true,
        "jupyter": {
          "source_hidden": false,
          "outputs_hidden": false
        },
        "nteract": {
          "transient": {
            "deleting": false
          }
        },
        "execution": {
          "iopub.status.busy": "2021-10-03T19:27:00.446Z",
          "iopub.execute_input": "2021-10-03T19:27:00.461Z",
          "iopub.status.idle": "2021-10-03T19:27:00.496Z",
          "shell.execute_reply": "2021-10-03T19:27:00.509Z"
        }
      }
    },
    {
      "cell_type": "markdown",
      "source": [
        "4-17\n",
        "\n",
        "Kirjan vastaus 28 cm - 53 cm, 62 cm - 160 cm"
      ],
      "metadata": {
        "nteract": {
          "transient": {
            "deleting": false
          }
        }
      }
    },
    {
      "cell_type": "code",
      "source": [],
      "outputs": [],
      "execution_count": null,
      "metadata": {
        "collapsed": true,
        "jupyter": {
          "source_hidden": false,
          "outputs_hidden": false
        },
        "nteract": {
          "transient": {
            "deleting": false
          }
        }
      }
    }
  ],
  "metadata": {
    "kernel_info": {
      "name": "node_nteract"
    },
    "language_info": {
      "name": "javascript",
      "version": "12.8.1",
      "mimetype": "application/javascript",
      "file_extension": ".js"
    },
    "kernelspec": {
      "argv": [
        "C:\\Program Files\\nteract\\nteract.exe",
        "C:\\Program Files\\nteract\\resources\\app.asar\\node_modules\\ijavascript\\lib\\kernel.js",
        "{connection_file}",
        "--protocol=5.0",
        "--hide-undefined"
      ],
      "display_name": "Node.js (nteract)",
      "env": {
        "ELECTRON_RUN_AS_NODE": "1",
        "NODE_PATH": "C:\\Program Files\\nteract\\resources\\app.asar\\node_modules"
      },
      "language": "javascript",
      "name": "node_nteract"
    },
    "nteract": {
      "version": "0.28.0"
    }
  },
  "nbformat": 4,
  "nbformat_minor": 0
}