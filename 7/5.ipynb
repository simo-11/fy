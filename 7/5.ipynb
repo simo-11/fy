{
  "cells": [
    {
      "cell_type": "markdown",
      "source": [
        "# Atomin rakenne"
      ],
      "metadata": {
        "nteract": {
          "transient": {
            "deleting": false
          }
        }
      }
    },
    {
      "cell_type": "code",
      "source": [
        "using Printf\n",
        "using Dates\n",
        "b=2.897768e-3 # Wienin siirtymälain vakio\n",
        "c=2.99792e8 # Valon nopeus\n",
        "h=6.6260693e-34 # Plancin vakio\n",
        "me=9.10938e-31 # Elektronin massa\n",
        "eV=1.6021766e-19 # Elektorinivoltti\n",
        "sigma=5.670374419e-8 # Stefan-Boltzman\n",
        "@printf \"%s\\n\" Dates.now();\n",
        "versioninfo(verbose=false);"
      ],
      "outputs": [
        {
          "output_type": "stream",
          "name": "stdout",
          "text": [
            "2021-11-24T20:45:02.16\n",
            "Julia Version 1.5.4\n",
            "Commit 69fcb5745b (2021-03-11 19:13 UTC)\n",
            "Platform Info:\n",
            "  OS: Windows (x86_64-w64-mingw32)\n",
            "  CPU: Intel(R) Core(TM) i7-8650U CPU @ 1.90GHz\n",
            "  WORD_SIZE: 64\n",
            "  LIBM: libopenlibm\n",
            "  LLVM: libLLVM-9.0.1 (ORCJIT, skylake)\n",
            "Environment:\n",
            "  JULIA_DEPOT_PATH = C:\\Users\\snikula\\.julia;C:\\Users\\snikula\\AppData\\Local\\JuliaPro-1.5.4-1\\Julia-1.5.4\\local\\share\\julia;C:\\Users\\snikula\\AppData\\Local\\JuliaPro-1.5.4-1\\Julia-1.5.4\\share\\julia\n",
            "  JULIA_LOAD_PATH = C:\\Users\\snikula\\.julia\\environments\\JuliaPro_v1.5.4-1;@;@v#.#;@stdlib\n",
            "  JULIA_PKG_SERVER = pkg.juliahub.com\n"
          ]
        }
      ],
      "execution_count": 1,
      "metadata": {
        "collapsed": true,
        "jupyter": {
          "source_hidden": false,
          "outputs_hidden": false
        },
        "nteract": {
          "transient": {
            "deleting": false
          }
        },
        "execution": {
          "iopub.status.busy": "2021-11-24T18:45:01.147Z",
          "iopub.execute_input": "2021-11-24T18:45:02.052Z",
          "iopub.status.idle": "2021-11-24T18:45:04.016Z"
        }
      }
    },
    {
      "cell_type": "markdown",
      "source": [
        "5-6 \n",
        "\n",
        "Kirjan vastaus: a) 10.0 GHz b) 2.99 cm"
      ],
      "metadata": {
        "nteract": {
          "transient": {
            "deleting": false
          }
        }
      }
    },
    {
      "cell_type": "code",
      "source": [
        "dE=41.4*eV\n",
        "lambda=h*c/dE\n",
        "f=c/lambda\n",
        "@printf(\"Taajuus on %.1e Hz ja aallonpituus %.2e m.\\n\",\n",
        "  f,lambda)"
      ],
      "outputs": [
        {
          "output_type": "stream",
          "name": "stdout",
          "text": [
            "Taajuus on 1.0e+16 Hz ja aallonpituus 2.99e-08 m.\n"
          ]
        }
      ],
      "execution_count": 8,
      "metadata": {
        "collapsed": true,
        "jupyter": {
          "source_hidden": false,
          "outputs_hidden": false
        },
        "nteract": {
          "transient": {
            "deleting": false
          }
        },
        "execution": {
          "iopub.status.busy": "2021-11-24T19:08:49.730Z",
          "iopub.execute_input": "2021-11-24T19:08:49.741Z",
          "iopub.status.idle": "2021-11-24T19:08:49.767Z"
        }
      }
    },
    {
      "cell_type": "markdown",
      "source": [
        "5-7 \n",
        "\n",
        "Kirjan vastaus: 2.9 PHz"
      ],
      "metadata": {
        "nteract": {
          "transient": {
            "deleting": false
          }
        }
      }
    },
    {
      "cell_type": "code",
      "source": [
        "dE=(-1.5-(-13.6))*eV\n",
        "lambda=h*c/dE\n",
        "f=c/lambda\n",
        "@printf(\"Taajuus on %.1e Hz ja aallonpituus %.2e m.\\n\",\n",
        "  f,lambda)"
      ],
      "outputs": [
        {
          "output_type": "stream",
          "name": "stdout",
          "text": [
            "Taajuus on 2.9e+15 Hz ja aallonpituus 1.02e-07 m.\n"
          ]
        }
      ],
      "execution_count": 10,
      "metadata": {
        "collapsed": true,
        "jupyter": {
          "source_hidden": false,
          "outputs_hidden": false
        },
        "nteract": {
          "transient": {
            "deleting": false
          }
        },
        "execution": {
          "iopub.status.busy": "2021-11-24T19:11:43.102Z",
          "iopub.execute_input": "2021-11-24T19:11:43.110Z",
          "iopub.status.idle": "2021-11-24T19:11:43.129Z"
        }
      }
    },
    {
      "cell_type": "markdown",
      "source": [
        "5-8\n",
        "\n",
        "Kirjan vastaus: a) 5.88 ueV b) radioaalto (1.52 GHz)"
      ],
      "metadata": {
        "nteract": {
          "transient": {
            "deleting": false
          }
        }
      }
    },
    {
      "cell_type": "code",
      "source": [
        "lambda=21.1e-2\n",
        "dE=h*c/lambda\n",
        "f=c/lambda\n",
        "@printf(\"dE on %.2e eV ja taajuus on %.2e Hz.\\n\",dE/eV,f)"
      ],
      "outputs": [
        {
          "output_type": "stream",
          "name": "stdout",
          "text": [
            "dE on 5.88e-06 eV ja taajuus on 1.42e+09 Hz.\n"
          ]
        }
      ],
      "execution_count": 11,
      "metadata": {
        "collapsed": true,
        "jupyter": {
          "source_hidden": false,
          "outputs_hidden": false
        },
        "nteract": {
          "transient": {
            "deleting": false
          }
        },
        "execution": {
          "iopub.status.busy": "2021-11-24T19:15:17.581Z",
          "iopub.execute_input": "2021-11-24T19:15:17.592Z",
          "iopub.status.idle": "2021-11-24T19:15:17.637Z"
        }
      }
    },
    {
      "cell_type": "markdown",
      "source": [
        "5-9\n",
        "\n",
        "Kirjan vastaus: 162 nm"
      ],
      "metadata": {
        "nteract": {
          "transient": {
            "deleting": false
          }
        }
      }
    },
    {
      "cell_type": "code",
      "source": [
        "dE1=h*c/25.6e-9\n",
        "dE2=h*c/30.4e-9\n",
        "dE=dE1-dE2\n",
        "lambda=h*c/dE\n",
        "@printf(\"Aallonpituus on %.2e m.\\n\",\n",
        "  lambda)"
      ],
      "outputs": [
        {
          "output_type": "stream",
          "name": "stdout",
          "text": [
            "Aallonpituus on 1.62e-07 m.\n"
          ]
        }
      ],
      "execution_count": 13,
      "metadata": {
        "collapsed": true,
        "jupyter": {
          "source_hidden": false,
          "outputs_hidden": false
        },
        "nteract": {
          "transient": {
            "deleting": false
          }
        },
        "execution": {
          "iopub.status.busy": "2021-11-24T19:21:37.715Z",
          "iopub.execute_input": "2021-11-24T19:21:37.726Z",
          "iopub.status.idle": "2021-11-24T19:21:37.744Z"
        }
      }
    },
    {
      "cell_type": "markdown",
      "source": [
        "5-10\n",
        "\n",
        "Kirjan vastaus: b) <br>\n",
        "a 3400 nm (ei näkyvä valo) <br>\n",
        "b 650 nm (punainen valo) <br>\n",
        "c 1100 nm (ei näkyvä valo)<br>"
      ],
      "metadata": {
        "nteract": {
          "transient": {
            "deleting": false
          }
        }
      }
    },
    {
      "cell_type": "code",
      "source": [
        "function ap(otsikko,dE)\n",
        "@printf(\"Aallonpituus %s on noin %.0f nm.\\n\",\n",
        "    otsikko,h*c/(dE*eV*1e-9))\n",
        "end\n",
        "ap(\"a\",0.37)\n",
        "ap(\"b\",1.9)\n",
        "ap(\"c\",1.1)\n"
      ],
      "outputs": [
        {
          "output_type": "stream",
          "name": "stdout",
          "text": [
            "Aallonpituus a on noin 3351 nm.\n",
            "Aallonpituus b on noin 653 nm.\n",
            "Aallonpituus c on noin 1127 nm.\n"
          ]
        }
      ],
      "execution_count": 28,
      "metadata": {
        "collapsed": true,
        "jupyter": {
          "source_hidden": false,
          "outputs_hidden": false
        },
        "nteract": {
          "transient": {
            "deleting": false
          }
        },
        "execution": {
          "iopub.status.busy": "2021-11-24T19:32:31.494Z",
          "iopub.execute_input": "2021-11-24T19:32:31.504Z",
          "iopub.status.idle": "2021-11-24T19:32:31.723Z"
        }
      }
    }
  ],
  "metadata": {
    "kernel_info": {
      "name": "julia-nteract-1.5"
    },
    "language_info": {
      "file_extension": ".jl",
      "name": "julia",
      "mimetype": "application/julia",
      "version": "1.5.4"
    },
    "kernelspec": {
      "argv": [
        "C:\\Users\\snikula\\AppData\\Local\\JuliaPro-1.5.4-1\\Julia-1.5.4\\bin\\julia.exe",
        "-i",
        "--color=yes",
        "C:\\Users\\snikula\\.julia\\packages\\IJulia\\e8kqU\\src\\kernel.jl",
        "{connection_file}"
      ],
      "display_name": "Julia nteract 1.5.4",
      "env": {},
      "interrupt_mode": "message",
      "language": "julia",
      "name": "julia-nteract-1.5"
    },
    "nteract": {
      "version": "0.28.0"
    }
  },
  "nbformat": 4,
  "nbformat_minor": 0
}