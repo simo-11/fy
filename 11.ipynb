{
  "cells": [
    {
      "cell_type": "markdown",
      "source": [
        "# Induktiolaki"
      ],
      "metadata": {
        "nteract": {
          "transient": {
            "deleting": false
          }
        }
      }
    },
    {
      "cell_type": "code",
      "source": [
        "using Printf\n",
        "using Dates\n",
        "@printf \"%s\\n\" Dates.now();\n",
        "versioninfo(verbose=false);"
      ],
      "outputs": [
        {
          "output_type": "stream",
          "name": "stdout",
          "text": [
            "2021-10-19T21:32:17.168\n",
            "Julia Version 1.5.4\n",
            "Commit 69fcb5745b (2021-03-11 19:13 UTC)\n",
            "Platform Info:\n",
            "  OS: Windows (x86_64-w64-mingw32)\n",
            "  CPU: Intel(R) Core(TM) i7-8650U CPU @ 1.90GHz\n",
            "  WORD_SIZE: 64\n",
            "  LIBM: libopenlibm\n",
            "  LLVM: libLLVM-9.0.1 (ORCJIT, skylake)\n",
            "Environment:\n",
            "  JULIA_DEPOT_PATH = C:\\Users\\snikula\\.julia;C:\\Users\\snikula\\AppData\\Local\\JuliaPro-1.5.4-1\\Julia-1.5.4\\local\\share\\julia;C:\\Users\\snikula\\AppData\\Local\\JuliaPro-1.5.4-1\\Julia-1.5.4\\share\\julia\n",
            "  JULIA_LOAD_PATH = C:\\Users\\snikula\\.julia\\environments\\JuliaPro_v1.5.4-1;@;@v#.#;@stdlib\n",
            "  JULIA_PKG_SERVER = pkg.juliahub.com\n"
          ]
        }
      ],
      "execution_count": 1,
      "metadata": {
        "collapsed": true,
        "jupyter": {
          "source_hidden": false,
          "outputs_hidden": false
        },
        "nteract": {
          "transient": {
            "deleting": false
          }
        },
        "execution": {
          "iopub.status.busy": "2021-10-19T18:32:16.194Z",
          "iopub.execute_input": "2021-10-19T18:32:17.068Z",
          "iopub.status.idle": "2021-10-19T18:32:18.987Z"
        }
      }
    },
    {
      "cell_type": "markdown",
      "source": [
        "11-4 \n",
        "\n",
        "Kirjan vastaus:  23 V"
      ],
      "metadata": {
        "nteract": {
          "transient": {
            "deleting": false
          }
        }
      }
    },
    {
      "cell_type": "code",
      "source": [
        "N=250\n",
        "dBdt=(36e-3-12e-3)/0.26\n",
        "e=N*dBdt\n",
        "@printf(\"Indusoituva jännite on %.1f V.\\n\", e)"
      ],
      "outputs": [
        {
          "output_type": "stream",
          "name": "stdout",
          "text": [
            "Indusoituva jännite on 23.1 V.\n"
          ]
        }
      ],
      "execution_count": 3,
      "metadata": {
        "collapsed": true,
        "jupyter": {
          "source_hidden": false,
          "outputs_hidden": false
        },
        "nteract": {
          "transient": {
            "deleting": false
          }
        },
        "execution": {
          "iopub.status.busy": "2021-10-19T18:43:42.630Z",
          "iopub.execute_input": "2021-10-19T18:43:42.639Z",
          "iopub.status.idle": "2021-10-19T18:43:42.653Z"
        }
      }
    },
    {
      "cell_type": "markdown",
      "source": [
        "11-5\n",
        "\n",
        "Kirjan vastaus: a) 23 mWb b) 2.1 V"
      ],
      "metadata": {
        "nteract": {
          "transient": {
            "deleting": false
          }
        }
      }
    },
    {
      "cell_type": "code",
      "source": [
        "N=1\n",
        "a=0.18\n",
        "A=a*a\n",
        "B=720e-3\n",
        "Phi=A*B\n",
        "@printf(\"Magneettivuo on %.1e Wb.\\n\", Phi)\n",
        "dt=0.002\n",
        "dPhi=(1-cos(35*pi/180))*Phi\n",
        "e=N*dPhi/dt\n",
        "@printf(\"Indusoituva jännite on %.1f V.\\n\", e)"
      ],
      "outputs": [
        {
          "output_type": "stream",
          "name": "stdout",
          "text": [
            "Magneettivuo on 2.3e-02 Wb.\n",
            "Indusoituva jännite on 2.1 V.\n"
          ]
        }
      ],
      "execution_count": 7,
      "metadata": {
        "collapsed": true,
        "jupyter": {
          "source_hidden": false,
          "outputs_hidden": false
        },
        "nteract": {
          "transient": {
            "deleting": false
          }
        },
        "execution": {
          "iopub.status.busy": "2021-10-19T18:52:59.440Z",
          "iopub.execute_input": "2021-10-19T18:52:59.451Z",
          "iopub.status.idle": "2021-10-19T18:52:59.476Z"
        }
      }
    },
    {
      "cell_type": "markdown",
      "source": [
        "11-6\n",
        "\n",
        "Kirjan vastaus: 0.83 mA"
      ],
      "metadata": {
        "nteract": {
          "transient": {
            "deleting": false
          }
        }
      }
    },
    {
      "cell_type": "code",
      "source": [
        "N=1\n",
        "A=51e-4\n",
        "B=27e-3\n",
        "dt=0.17\n",
        "dA=A\n",
        "R=0.98\n",
        "dPhi=dA*B\n",
        "e=N*dPhi/dt\n",
        "I=e/R\n",
        "@printf(\"Keskimääräinen virta on %.2e A.\\n\", I)"
      ],
      "outputs": [
        {
          "output_type": "stream",
          "name": "stdout",
          "text": [
            "Keskimääräinen virta on 8.27e-04 A.\n"
          ]
        }
      ],
      "execution_count": 10,
      "metadata": {
        "collapsed": true,
        "jupyter": {
          "source_hidden": false,
          "outputs_hidden": false
        },
        "nteract": {
          "transient": {
            "deleting": false
          }
        },
        "execution": {
          "iopub.status.busy": "2021-10-19T19:00:21.681Z",
          "iopub.execute_input": "2021-10-19T19:00:21.692Z",
          "iopub.status.idle": "2021-10-19T19:00:21.714Z"
        }
      }
    },
    {
      "cell_type": "markdown",
      "source": [
        "11-10 Ominaisvastus $\\rho$ on $R \\frac{A}{l}$ eli R=$\\rho l/A$ https://fi.wikipedia.org/wiki/Ominaisvastus\n",
        "\n",
        "Kirjan vastaus: a) 23 V b) 7.7 mA"
      ],
      "metadata": {
        "nteract": {
          "transient": {
            "deleting": false
          }
        }
      }
    },
    {
      "cell_type": "code",
      "source": [
        "N=1\n",
        "A=30e3^2\n",
        "B=52e-6\n",
        "dt=20\n",
        "dPhi=A*B*0.01\n",
        "e=N*dPhi/dt\n",
        "@printf(\"Indusoituva jännite on %.1f V.\\n\", e)\n",
        "r=0.003/2\n",
        "l=4*30e3\n",
        "Aj=pi*r^2\n",
        "R=l/Aj*0.18e-6\n",
        "I=e/R\n",
        "@printf(\"Virta on %.2e A.\\n\", I)"
      ],
      "outputs": [
        {
          "output_type": "stream",
          "name": "stdout",
          "text": [
            "Indusoituva jännite on 23.4 V.\n",
            "Virta on 7.66e-03 A.\n"
          ]
        }
      ],
      "execution_count": 13,
      "metadata": {
        "collapsed": true,
        "jupyter": {
          "source_hidden": false,
          "outputs_hidden": false
        },
        "nteract": {
          "transient": {
            "deleting": false
          }
        },
        "execution": {
          "iopub.status.busy": "2021-10-19T19:11:31.112Z",
          "iopub.execute_input": "2021-10-19T19:11:31.127Z",
          "iopub.status.idle": "2021-10-19T19:11:31.151Z"
        }
      }
    },
    {
      "cell_type": "markdown",
      "source": [
        "11-11\n",
        "\n",
        "Kirjan vastaus: a) 8.0 µV b) 5.3 mA c) 0.27 µN (oikealle)"
      ],
      "metadata": {
        "nteract": {
          "transient": {
            "deleting": false
          }
        }
      }
    },
    {
      "cell_type": "code",
      "source": [
        "N=250\n",
        "dBdt=(36e-3-12e-3)/0.26\n",
        "e=N*dBdt\n",
        "@printf(\"Indusoituva jännite on %.1f V.\\n\", e)"
      ],
      "outputs": [
        {
          "output_type": "stream",
          "name": "stdout",
          "text": [
            "Indusoituva jännite on 23.1 V.\n"
          ]
        }
      ],
      "execution_count": 3,
      "metadata": {
        "collapsed": true,
        "jupyter": {
          "source_hidden": false,
          "outputs_hidden": false
        },
        "nteract": {
          "transient": {
            "deleting": false
          }
        },
        "execution": {
          "iopub.status.busy": "2021-10-19T18:43:42.630Z",
          "iopub.execute_input": "2021-10-19T18:43:42.639Z",
          "iopub.status.idle": "2021-10-19T18:43:42.653Z"
        }
      }
    },
    {
      "cell_type": "markdown",
      "source": [
        "11-12\n",
        "\n",
        "Kirjan vastaus: b)1) 0.11 V2) 0 V 3) -0.11 V 4) 0.066 V"
      ],
      "metadata": {
        "nteract": {
          "transient": {
            "deleting": false
          }
        }
      }
    },
    {
      "cell_type": "code",
      "source": [
        "N=250\n",
        "dBdt=(36e-3-12e-3)/0.26\n",
        "e=N*dBdt\n",
        "@printf(\"Indusoituva jännite on %.1f V.\\n\", e)"
      ],
      "outputs": [
        {
          "output_type": "stream",
          "name": "stdout",
          "text": [
            "Indusoituva jännite on 23.1 V.\n"
          ]
        }
      ],
      "execution_count": 3,
      "metadata": {
        "collapsed": true,
        "jupyter": {
          "source_hidden": false,
          "outputs_hidden": false
        },
        "nteract": {
          "transient": {
            "deleting": false
          }
        },
        "execution": {
          "iopub.status.busy": "2021-10-19T18:43:42.630Z",
          "iopub.execute_input": "2021-10-19T18:43:42.639Z",
          "iopub.status.idle": "2021-10-19T18:43:42.653Z"
        }
      }
    }
  ],
  "metadata": {
    "kernel_info": {
      "name": "julia-nteract-1.5"
    },
    "language_info": {
      "file_extension": ".jl",
      "name": "julia",
      "mimetype": "application/julia",
      "version": "1.5.4"
    },
    "kernelspec": {
      "argv": [
        "C:\\Users\\snikula\\AppData\\Local\\JuliaPro-1.5.4-1\\Julia-1.5.4\\bin\\julia.exe",
        "-i",
        "--color=yes",
        "C:\\Users\\snikula\\.julia\\packages\\IJulia\\e8kqU\\src\\kernel.jl",
        "{connection_file}"
      ],
      "display_name": "Julia nteract 1.5.4",
      "env": {},
      "interrupt_mode": "message",
      "language": "julia",
      "name": "julia-nteract-1.5"
    },
    "nteract": {
      "version": "0.28.0"
    }
  },
  "nbformat": 4,
  "nbformat_minor": 0
}