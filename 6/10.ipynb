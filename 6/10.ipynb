{
  "cells": [
    {
      "cell_type": "markdown",
      "source": [
        "# Suoran johtimen induktiolaki"
      ],
      "metadata": {
        "nteract": {
          "transient": {
            "deleting": false
          }
        }
      }
    },
    {
      "cell_type": "code",
      "source": [
        "using Printf\n",
        "using Dates\n",
        "@printf \"%s\\n\" Dates.now();\n",
        "versioninfo(verbose=false);"
      ],
      "outputs": [
        {
          "output_type": "stream",
          "name": "stdout",
          "text": [
            "2021-10-18T20:38:48.089\n",
            "Julia Version 1.5.4\n",
            "Commit 69fcb5745b (2021-03-11 19:13 UTC)\n",
            "Platform Info:\n",
            "  OS: Windows (x86_64-w64-mingw32)\n",
            "  CPU: Intel(R) Core(TM) i7-8650U CPU @ 1.90GHz\n",
            "  WORD_SIZE: 64\n",
            "  LIBM: libopenlibm\n",
            "  LLVM: libLLVM-9.0.1 (ORCJIT, skylake)\n",
            "Environment:\n",
            "  JULIA_DEPOT_PATH = C:\\Users\\snikula\\.julia;C:\\Users\\snikula\\AppData\\Local\\JuliaPro-1.5.4-1\\Julia-1.5.4\\local\\share\\julia;C:\\Users\\snikula\\AppData\\Local\\JuliaPro-1.5.4-1\\Julia-1.5.4\\share\\julia\n",
            "  JULIA_LOAD_PATH = C:\\Users\\snikula\\.julia\\environments\\JuliaPro_v1.5.4-1;@;@v#.#;@stdlib\n",
            "  JULIA_PKG_SERVER = pkg.juliahub.com\n"
          ]
        }
      ],
      "execution_count": 9,
      "metadata": {
        "collapsed": true,
        "jupyter": {
          "source_hidden": false,
          "outputs_hidden": false
        },
        "nteract": {
          "transient": {
            "deleting": false
          }
        },
        "execution": {
          "iopub.status.busy": "2021-10-18T17:38:48.112Z",
          "iopub.execute_input": "2021-10-18T17:38:48.118Z",
          "iopub.status.idle": "2021-10-18T17:38:48.137Z"
        }
      }
    },
    {
      "cell_type": "markdown",
      "source": [
        "10-6 l=25 m, 680 km/h, B=85 mikroTesla\n",
        "\n",
        "Kirjan vastaus: 0.4 V, vasemman siiven kärki"
      ],
      "metadata": {
        "nteract": {
          "transient": {
            "deleting": false
          }
        }
      }
    },
    {
      "cell_type": "code",
      "source": [
        "B=85e-6\n",
        "l=25\n",
        "v=680e3/3600\n",
        "@printf(\"Jännite on %.1f V\\n\", B*l*v)"
      ],
      "outputs": [
        {
          "output_type": "stream",
          "name": "stdout",
          "text": [
            "Jännite on 0.4 V\n"
          ]
        }
      ],
      "execution_count": 10,
      "metadata": {
        "collapsed": true,
        "jupyter": {
          "source_hidden": false,
          "outputs_hidden": false
        },
        "nteract": {
          "transient": {
            "deleting": false
          }
        },
        "execution": {
          "iopub.status.busy": "2021-10-18T17:48:10.366Z",
          "iopub.execute_input": "2021-10-18T17:48:10.375Z",
          "iopub.status.idle": "2021-10-18T17:48:10.485Z"
        }
      }
    },
    {
      "cell_type": "markdown",
      "source": [
        "10-7\n",
        "\n",
        "Kirjan vastaus: 0.17 V"
      ],
      "metadata": {
        "nteract": {
          "transient": {
            "deleting": false
          }
        }
      }
    },
    {
      "cell_type": "code",
      "source": [
        "v=175\n",
        "B=30e-6\n",
        "alpha=(90-25)*pi/180\n",
        "l=35\n",
        "@printf(\"Jännite on %.2f V\\n\", B*l*v*sin(alpha))"
      ],
      "outputs": [
        {
          "output_type": "stream",
          "name": "stdout",
          "text": [
            "Jännite on 0.17 V\n"
          ]
        }
      ],
      "execution_count": 13,
      "metadata": {
        "collapsed": true,
        "jupyter": {
          "source_hidden": false,
          "outputs_hidden": false
        },
        "nteract": {
          "transient": {
            "deleting": false
          }
        },
        "execution": {
          "iopub.status.busy": "2021-10-18T17:52:55.138Z",
          "iopub.execute_input": "2021-10-18T17:52:55.150Z",
          "iopub.status.idle": "2021-10-18T17:52:55.171Z"
        }
      }
    },
    {
      "cell_type": "markdown",
      "source": [
        "10-8\n",
        "\n",
        "Kirjan vastaus: 59 mikroTesla"
      ],
      "metadata": {
        "nteract": {
          "transient": {
            "deleting": false
          }
        }
      }
    },
    {
      "cell_type": "code",
      "source": [
        "r=0.9\n",
        "v=2*2*pi*r\n",
        "l=1\n",
        "e=0.67e-3\n",
        "B=e/(v*l)\n",
        "@printf(\"Magneettivuon tiheys on %.0f µT.\", B*1e6)"
      ],
      "outputs": [
        {
          "output_type": "stream",
          "name": "stdout",
          "text": [
            "Magneettivuon tiheys on 59 µT."
          ]
        }
      ],
      "execution_count": 20,
      "metadata": {
        "collapsed": true,
        "jupyter": {
          "source_hidden": false,
          "outputs_hidden": false
        },
        "nteract": {
          "transient": {
            "deleting": false
          }
        },
        "execution": {
          "iopub.status.busy": "2021-10-18T17:58:35.657Z",
          "iopub.execute_input": "2021-10-18T17:58:35.667Z",
          "iopub.status.idle": "2021-10-18T17:58:35.693Z"
        }
      }
    },
    {
      "cell_type": "markdown",
      "source": [
        "10-9\n",
        "\n",
        "Kirjan vastaus: a) 250 m/s, b) 6 mN c) ylös"
      ],
      "metadata": {
        "nteract": {
          "transient": {
            "deleting": false
          }
        }
      }
    },
    {
      "cell_type": "code",
      "source": [
        "B=0.15\n",
        "l=0.12\n",
        "e=4.5\n",
        "P=1.5\n",
        "v=e/(B*l)\n",
        "@printf(\"a) Nopeus on %.0f m/s.\\n\", v)\n",
        "I=P/e\n",
        "Fmc=B*I*l\n",
        "@printf(\"b) Voima on %.0f mN.\\n\", Fmc*1e3)"
      ],
      "outputs": [
        {
          "output_type": "stream",
          "name": "stdout",
          "text": [
            "a) Nopeus on 250 m/s.\n",
            "b) Voima on 6 mN.\n"
          ]
        }
      ],
      "execution_count": 25,
      "metadata": {
        "collapsed": true,
        "jupyter": {
          "source_hidden": false,
          "outputs_hidden": false
        },
        "nteract": {
          "transient": {
            "deleting": false
          }
        },
        "execution": {
          "iopub.status.busy": "2021-10-18T18:08:57.739Z",
          "iopub.execute_input": "2021-10-18T18:08:57.749Z",
          "iopub.status.idle": "2021-10-18T18:08:57.783Z"
        }
      }
    },
    {
      "cell_type": "markdown",
      "source": [
        "10-10\n",
        "\n",
        "Kirjan vastaus: 2.9 V"
      ],
      "metadata": {
        "nteract": {
          "transient": {
            "deleting": false
          }
        }
      }
    },
    {
      "cell_type": "code",
      "source": [
        "#= \n",
        "Fmc=sin(alpha)*m*g\n",
        "Fmc=B*I*l\n",
        "=>I\n",
        "e=B*l*v\n",
        "U=R*I\n",
        "=#\n",
        "B=0.76\n",
        "l=0.1\n",
        "alpha=15*pi/180\n",
        "m=0.0072\n",
        "g=9.8\n",
        "I=sin(alpha)*m*g/(B*l)\n",
        "R=12\n",
        "U=R*I\n",
        "@printf(\"Jännite on %.1f V.\\n\", U)\n"
      ],
      "outputs": [
        {
          "output_type": "stream",
          "name": "stdout",
          "text": [
            "Jännite on 2.9 V.\n"
          ]
        }
      ],
      "execution_count": 27,
      "metadata": {
        "collapsed": true,
        "jupyter": {
          "source_hidden": false,
          "outputs_hidden": false
        },
        "nteract": {
          "transient": {
            "deleting": false
          }
        },
        "execution": {
          "iopub.status.busy": "2021-10-18T18:23:34.370Z",
          "iopub.execute_input": "2021-10-18T18:23:34.382Z",
          "iopub.status.idle": "2021-10-18T18:23:34.406Z"
        }
      }
    },
    {
      "cell_type": "markdown",
      "source": [
        "10-11\n",
        "\n",
        "Kirjan vastaus: a) 0.22 ohmia b) 1.5 J"
      ],
      "metadata": {
        "nteract": {
          "transient": {
            "deleting": false
          }
        }
      }
    },
    {
      "cell_type": "code",
      "source": [
        "v=5\n",
        "m=0.25\n",
        "g=9.8\n",
        "B=0.22\n",
        "l=1.5\n",
        "Fmc=0.25*9.8\n",
        "I=Fmc/(B*l)\n",
        "U=B*l*v\n",
        "R=U/I\n",
        "@printf(\"Vastus on %.2f ohmia.\\n\", R)\n",
        "h=0.6\n",
        "W=m*g*h\n",
        "@printf(\"Vastuksessa vapautuu %.1f J.\\n\", W)"
      ],
      "outputs": [
        {
          "output_type": "stream",
          "name": "stdout",
          "text": [
            "Vastus on 0.22 ohmia.\n",
            "Vastuksessa vapautuu 1.5 J.\n"
          ]
        }
      ],
      "execution_count": 29,
      "metadata": {
        "collapsed": true,
        "jupyter": {
          "source_hidden": false,
          "outputs_hidden": false
        },
        "nteract": {
          "transient": {
            "deleting": false
          }
        },
        "execution": {
          "iopub.status.busy": "2021-10-18T18:30:59.574Z",
          "iopub.execute_input": "2021-10-18T18:30:59.591Z",
          "iopub.status.idle": "2021-10-18T18:30:59.728Z"
        }
      }
    },
    {
      "cell_type": "code",
      "source": [],
      "outputs": [],
      "execution_count": null,
      "metadata": {
        "collapsed": true,
        "jupyter": {
          "source_hidden": false,
          "outputs_hidden": false
        },
        "nteract": {
          "transient": {
            "deleting": false
          }
        }
      }
    }
  ],
  "metadata": {
    "kernel_info": {
      "name": "julia-nteract-1.5"
    },
    "language_info": {
      "file_extension": ".jl",
      "name": "julia",
      "mimetype": "application/julia",
      "version": "1.5.4"
    },
    "kernelspec": {
      "argv": [
        "C:\\Users\\snikula\\AppData\\Local\\JuliaPro-1.5.4-1\\Julia-1.5.4\\bin\\julia.exe",
        "-i",
        "--color=yes",
        "C:\\Users\\snikula\\.julia\\packages\\IJulia\\e8kqU\\src\\kernel.jl",
        "{connection_file}"
      ],
      "display_name": "Julia nteract 1.5.4",
      "env": {},
      "interrupt_mode": "message",
      "language": "julia",
      "name": "julia-nteract-1.5"
    },
    "nteract": {
      "version": "0.28.0"
    }
  },
  "nbformat": 4,
  "nbformat_minor": 0
}