{
  "cells": [
    {
      "cell_type": "markdown",
      "source": [
        "# Aineen rakenteen tutkiminen"
      ],
      "metadata": {
        "nteract": {
          "transient": {
            "deleting": false
          }
        }
      }
    },
    {
      "cell_type": "code",
      "source": [
        "using Printf\n",
        "using Dates\n",
        "b=2.897768e-3 # Wienin siirtymälain vakio\n",
        "c=2.99792e8 # Valon nopeus\n",
        "h=6.6260693e-34 # Plancin vakio\n",
        "me=9.10938e-31 # Elektronin massa\n",
        "eV=1.6021766e-19 # Elektorinivoltti\n",
        "sigma=5.670374419e-8 # Stefan-Boltzman\n",
        "@printf \"%s\\n\" Dates.now();\n",
        "versioninfo(verbose=false);"
      ],
      "outputs": [
        {
          "output_type": "stream",
          "name": "stdout",
          "text": [
            "2021-11-26T20:59:20.362\n",
            "Julia Version 1.5.4\n",
            "Commit 69fcb5745b (2021-03-11 19:13 UTC)\n",
            "Platform Info:\n",
            "  OS: Windows (x86_64-w64-mingw32)\n",
            "  CPU: Intel(R) Core(TM) i7-8650U CPU @ 1.90GHz\n",
            "  WORD_SIZE: 64\n",
            "  LIBM: libopenlibm\n",
            "  LLVM: libLLVM-9.0.1 (ORCJIT, skylake)\n",
            "Environment:\n",
            "  JULIA_DEPOT_PATH = C:\\Users\\snikula\\.julia;C:\\Users\\snikula\\AppData\\Local\\JuliaPro-1.5.4-1\\Julia-1.5.4\\local\\share\\julia;C:\\Users\\snikula\\AppData\\Local\\JuliaPro-1.5.4-1\\Julia-1.5.4\\share\\julia\n",
            "  JULIA_LOAD_PATH = C:\\Users\\snikula\\.julia\\environments\\JuliaPro_v1.5.4-1;@;@v#.#;@stdlib\n",
            "  JULIA_PKG_SERVER = pkg.juliahub.com\n"
          ]
        }
      ],
      "execution_count": 23,
      "metadata": {
        "collapsed": true,
        "jupyter": {
          "source_hidden": false,
          "outputs_hidden": false
        },
        "nteract": {
          "transient": {
            "deleting": false
          }
        },
        "execution": {
          "iopub.status.busy": "2021-11-26T18:59:20.399Z",
          "iopub.execute_input": "2021-11-26T18:59:20.411Z",
          "iopub.status.idle": "2021-11-26T18:59:20.437Z"
        }
      }
    },
    {
      "cell_type": "markdown",
      "source": [
        "7-3 \n",
        "\n",
        "Kirjan vastaus: >= 8.3 kV"
      ],
      "metadata": {
        "nteract": {
          "transient": {
            "deleting": false
          }
        }
      }
    },
    {
      "cell_type": "code",
      "source": [
        "lambda=0.15e-9\n",
        "U=h*c/(eV*lambda)\n",
        "@printf(\"Jännite on vähintään %.1f kV.\\n\",U/1e3)"
      ],
      "outputs": [
        {
          "output_type": "stream",
          "name": "stdout",
          "text": [
            "Jännite on vähintään 8.3 kV.\n"
          ]
        }
      ],
      "execution_count": 2,
      "metadata": {
        "collapsed": true,
        "jupyter": {
          "source_hidden": false,
          "outputs_hidden": false
        },
        "nteract": {
          "transient": {
            "deleting": false
          }
        },
        "execution": {
          "iopub.status.busy": "2021-11-26T18:08:02.113Z",
          "iopub.execute_input": "2021-11-26T18:08:02.124Z",
          "iopub.status.idle": "2021-11-26T18:08:02.178Z"
        }
      }
    },
    {
      "cell_type": "markdown",
      "source": [
        "7-4\n",
        "\n",
        "Kirjan vastaus: 59 pm"
      ],
      "metadata": {
        "nteract": {
          "transient": {
            "deleting": false
          }
        }
      }
    },
    {
      "cell_type": "code",
      "source": [
        "U=21e3\n",
        "lambda=h*c/(eV*U)\n",
        "@printf(\"Pienin aallonpituus on %.0f pm.\\n\",lambda/1e-12)"
      ],
      "outputs": [
        {
          "output_type": "stream",
          "name": "stdout",
          "text": [
            "Pienin aallonpituus on 59 pm.\n"
          ]
        }
      ],
      "execution_count": 4,
      "metadata": {
        "collapsed": true,
        "jupyter": {
          "source_hidden": false,
          "outputs_hidden": false
        },
        "nteract": {
          "transient": {
            "deleting": false
          }
        },
        "execution": {
          "iopub.status.busy": "2021-11-26T18:11:31.842Z",
          "iopub.execute_input": "2021-11-26T18:11:31.855Z",
          "iopub.status.idle": "2021-11-26T18:11:31.875Z"
        }
      }
    },
    {
      "cell_type": "markdown",
      "source": [
        "7-5\n",
        "\n",
        "Kirjan vastaus: a) 3.0e17 Hz b) 3.6e18 Hz c) >=35 pm"
      ],
      "metadata": {
        "nteract": {
          "transient": {
            "deleting": false
          }
        }
      }
    },
    {
      "cell_type": "code",
      "source": [
        "lambda=1e-9\n",
        "f=c/lambda\n",
        "@printf(\"a) taajuus on %.1e Hz.\\n\",f)\n",
        "U=15e3\n",
        "f=eV*U/h\n",
        "@printf(\"b) taajuus on %.1e Hz.\\n\",f)\n",
        "U=35e3\n",
        "lambda=h*c/(eV*U)\n",
        "@printf(\"c) aallonpituus on vähintään %.0f pm.\\n\",lambda/1e-12)\n"
      ],
      "outputs": [
        {
          "output_type": "stream",
          "name": "stdout",
          "text": [
            "a) taajuus on 3.0e+17 Hz.\n",
            "b) taajuus on 3.6e+18 Hz.\n",
            "c) aallonpituus on vähintään 35 pm.\n"
          ]
        }
      ],
      "execution_count": 9,
      "metadata": {
        "collapsed": true,
        "jupyter": {
          "source_hidden": false,
          "outputs_hidden": false
        },
        "nteract": {
          "transient": {
            "deleting": false
          }
        },
        "execution": {
          "iopub.status.busy": "2021-11-26T18:16:51.006Z",
          "iopub.execute_input": "2021-11-26T18:16:51.016Z",
          "iopub.status.idle": "2021-11-26T18:16:51.039Z"
        }
      }
    },
    {
      "cell_type": "markdown",
      "source": [
        "7-6\n",
        "\n",
        "Kirjan vastaus: 3 (52 astetta)"
      ],
      "metadata": {
        "nteract": {
          "transient": {
            "deleting": false
          }
        }
      }
    },
    {
      "cell_type": "code",
      "source": [
        "d=89e-12\n",
        "lambda=1.4e-10\n",
        "theta=asin(lambda/(2*d))*180/pi\n",
        "@printf(\"Kulma on %.0f astetta.\\n\",theta)"
      ],
      "outputs": [
        {
          "output_type": "stream",
          "name": "stdout",
          "text": [
            "Kulma on 52 astetta.\n"
          ]
        }
      ],
      "execution_count": 10,
      "metadata": {
        "collapsed": true,
        "jupyter": {
          "source_hidden": false,
          "outputs_hidden": false
        },
        "nteract": {
          "transient": {
            "deleting": false
          }
        },
        "execution": {
          "iopub.status.busy": "2021-11-26T18:36:50.937Z",
          "iopub.execute_input": "2021-11-26T18:36:50.951Z",
          "iopub.status.idle": "2021-11-26T18:36:50.998Z"
        }
      }
    },
    {
      "cell_type": "markdown",
      "source": [
        "7-7\n",
        "\n",
        "Kirjan vastaus:a) 11.1 kV b) kupari"
      ],
      "metadata": {
        "nteract": {
          "transient": {
            "deleting": false
          }
        }
      }
    },
    {
      "cell_type": "code",
      "source": [
        "lambda=0.112e-9\n",
        "U=h*c/(eV*lambda)\n",
        "@printf(\"Jännite on %.1f kV.\\n\",U/1e3)\n",
        "lambda=0.154e-9\n",
        "U=h*c/(eV*lambda)\n",
        "@printf(\"Huippua vastaava jännite on noin %.1f kV.\\n\",U/1e3)"
      ],
      "outputs": [
        {
          "output_type": "stream",
          "name": "stdout",
          "text": [
            "Jännite on 11.1 kV.\n",
            "Huippua vastaava jännite on noin 8.1 kV.\n"
          ]
        }
      ],
      "execution_count": 14,
      "metadata": {
        "collapsed": true,
        "jupyter": {
          "source_hidden": false,
          "outputs_hidden": false
        },
        "nteract": {
          "transient": {
            "deleting": false
          }
        },
        "execution": {
          "iopub.status.busy": "2021-11-26T18:41:33.121Z",
          "iopub.execute_input": "2021-11-26T18:41:33.133Z",
          "iopub.status.idle": "2021-11-26T18:41:33.164Z"
        }
      }
    },
    {
      "cell_type": "markdown",
      "source": [
        "7-9\n",
        "\n",
        "Kirjan vastaus: 39 kV"
      ],
      "metadata": {
        "nteract": {
          "transient": {
            "deleting": false
          }
        }
      }
    },
    {
      "cell_type": "code",
      "source": [
        "lambda=32e-12\n",
        "U=h*c/(eV*lambda)\n",
        "@printf(\"Jännite on %.0f kV.\\n\",U/1e3)"
      ],
      "outputs": [
        {
          "output_type": "stream",
          "name": "stdout",
          "text": [
            "Jännite on 39 kV.\n"
          ]
        }
      ],
      "execution_count": 16,
      "metadata": {
        "collapsed": true,
        "jupyter": {
          "source_hidden": false,
          "outputs_hidden": false
        },
        "nteract": {
          "transient": {
            "deleting": false
          }
        },
        "execution": {
          "iopub.status.busy": "2021-11-26T18:43:45.109Z",
          "iopub.execute_input": "2021-11-26T18:43:45.125Z",
          "iopub.status.idle": "2021-11-26T18:43:45.149Z"
        }
      }
    },
    {
      "cell_type": "markdown",
      "source": [
        "7-10 Elektronien diffraktio on kappaleessa 4\n",
        "\n",
        "Kirjan vastaus: 92 pm"
      ],
      "metadata": {
        "nteract": {
          "transient": {
            "deleting": false
          }
        }
      }
    },
    {
      "cell_type": "code",
      "source": [
        "ke=54*eV\n",
        "v=sqrt(2*ke/me)\n",
        "lambda=h/(me*v) # de Broglien aallonpituus\n",
        "theta=65*pi/180\n",
        "# 2*d sin theta = n lambda # Braggin laki\n",
        "d=lambda/(2*sin(theta))\n",
        "@printf(\"Tasojen välinen etäisyys on %.0f pm.\\n\",d/1e-12)"
      ],
      "outputs": [
        {
          "output_type": "stream",
          "name": "stdout",
          "text": [
            "Tasojen välinen etäisyys on 92 pm.\n"
          ]
        }
      ],
      "execution_count": 27,
      "metadata": {
        "collapsed": true,
        "jupyter": {
          "source_hidden": false,
          "outputs_hidden": false
        },
        "nteract": {
          "transient": {
            "deleting": false
          }
        },
        "execution": {
          "iopub.status.busy": "2021-11-26T19:04:42.084Z",
          "iopub.execute_input": "2021-11-26T19:04:42.102Z",
          "iopub.status.idle": "2021-11-26T19:04:42.128Z"
        }
      }
    },
    {
      "cell_type": "markdown",
      "source": [
        "7-11\n",
        "\n",
        "Kirjan vastaus: 1, 2 ja 5"
      ],
      "metadata": {
        "nteract": {
          "transient": {
            "deleting": false
          }
        }
      }
    },
    {
      "cell_type": "code",
      "source": [
        "# E in keV\n",
        "function f_E(E)\n",
        "  f=E*1000*eV/h\n",
        "@printf(\"Energiatason %.1f keV säteilyn taajuus on %.1e Hz.\\n\",\n",
        "  E,f)\n",
        "end\n",
        "f_E(26.7-3.6)\n",
        "f_E(26.7-0.5)\n",
        "f_E(3.6-0.5)"
      ],
      "outputs": [
        {
          "output_type": "stream",
          "name": "stdout",
          "text": [
            "Energiatason 23.1 keV säteilyn taajuus on 5.6e+18 Hz.\n",
            "Energiatason 26.2 keV säteilyn taajuus on 6.3e+18 Hz.\n",
            "Energiatason 3.1 keV säteilyn taajuus on 7.5e+17 Hz.\n"
          ]
        }
      ],
      "execution_count": 33,
      "metadata": {
        "collapsed": true,
        "jupyter": {
          "source_hidden": false,
          "outputs_hidden": false
        },
        "nteract": {
          "transient": {
            "deleting": false
          }
        },
        "execution": {
          "iopub.status.busy": "2021-11-26T19:19:14.276Z",
          "iopub.execute_input": "2021-11-26T19:19:14.291Z",
          "iopub.status.idle": "2021-11-26T19:19:14.317Z"
        }
      }
    },
    {
      "cell_type": "markdown",
      "source": [
        "7-12\n",
        "\n",
        "Kirjan vastaus: b) kuparia, yrttiumia ja bariumia"
      ],
      "metadata": {
        "nteract": {
          "transient": {
            "deleting": false
          }
        }
      }
    },
    {
      "cell_type": "code",
      "source": [
        "#  keV\n",
        "function E_f(f)\n",
        "  E=h*f/(1e3*eV)\n",
        "@printf(\"Taajuuden %.1e Hz energia on %.1f keV.\\n\",\n",
        "  f,E)\n",
        "end\n",
        "E_f(1.94e18) # desimaaleja hiottu hieman\n",
        "E_f(3.6e18)\n",
        "E_f(7.75e18)"
      ],
      "outputs": [
        {
          "output_type": "stream",
          "name": "stdout",
          "text": [
            "Taajuuden 1.9e+18 Hz energia on 8.0 keV.\n",
            "Taajuuden 3.6e+18 Hz energia on 14.9 keV.\n",
            "Taajuuden 7.8e+18 Hz energia on 32.1 keV.\n"
          ]
        }
      ],
      "execution_count": 41,
      "metadata": {
        "collapsed": true,
        "jupyter": {
          "source_hidden": false,
          "outputs_hidden": false
        },
        "nteract": {
          "transient": {
            "deleting": false
          }
        },
        "execution": {
          "iopub.status.busy": "2021-11-26T19:27:44.769Z",
          "iopub.execute_input": "2021-11-26T19:27:44.783Z",
          "iopub.status.idle": "2021-11-26T19:27:44.922Z"
        }
      }
    }
  ],
  "metadata": {
    "kernel_info": {
      "name": "julia-nteract-1.5"
    },
    "language_info": {
      "file_extension": ".jl",
      "name": "julia",
      "mimetype": "application/julia",
      "version": "1.5.4"
    },
    "kernelspec": {
      "argv": [
        "C:\\Users\\snikula\\AppData\\Local\\JuliaPro-1.5.4-1\\Julia-1.5.4\\bin\\julia.exe",
        "-i",
        "--color=yes",
        "C:\\Users\\snikula\\.julia\\packages\\IJulia\\e8kqU\\src\\kernel.jl",
        "{connection_file}"
      ],
      "display_name": "Julia nteract 1.5.4",
      "env": {},
      "interrupt_mode": "message",
      "language": "julia",
      "name": "julia-nteract-1.5"
    },
    "nteract": {
      "version": "0.28.0"
    }
  },
  "nbformat": 4,
  "nbformat_minor": 0
}