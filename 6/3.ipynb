{
  "cells": [
    {
      "cell_type": "markdown",
      "source": [
        "# Valkoinen valo\n"
      ],
      "metadata": {
        "nteract": {
          "transient": {
            "deleting": false
          }
        }
      }
    },
    {
      "cell_type": "markdown",
      "source": [
        "3-3 Tasasivuisen lasiprisman vinoon sivuun osuu kantasivun suuntainen laservalo, jonka aallonpituus on 532 nm. Mikä on tulevan ja prisman läpi kulkeneen valonsäteen kulma, jos prismaa ympäröi a) ilman b) vesi?<br>\n",
        "$\\alpha_1=30 ^{\\circ}$<br>\n",
        "$n_1 = 1$ ilma<br>\n",
        "$n_1 = 1.33$ vesi<br>\n",
        "$n_2 = 1.51$ lasi<br>\n",
        "Arvot eivät ole aivan samoja kuin kirjan takana."
      ],
      "metadata": {
        "nteract": {
          "transient": {
            "deleting": false
          }
        }
      }
    },
    {
      "cell_type": "code",
      "source": [
        "lisatietoja=false;\n",
        "function kulma(n1,nimi,n2){\n",
        "  a1=30; //\n",
        "  a2=Math.asin(n1*Math.sin(Math.PI*a1/180)/n2)*180/Math.PI;\n",
        "  ai=a2-a1;\n",
        "  if(lisatietoja){\n",
        "  console.info('a2='+a2.toFixed(2)+', ai='+ai.toFixed(2));\n",
        "  }\n",
        "  a3=30-ai;\n",
        "  a4=Math.asin(n2*Math.sin(Math.PI*a3/180)/n1)*180/Math.PI;\n",
        "  if(lisatietoja){\n",
        "  console.info('a3='+a3.toFixed(2)+', a4='+a4.toFixed(2));\n",
        "  }\n",
        "  console.log('Kulmien erotus aineessa '+nimi+' on '+\n",
        "              (a4-30).toFixed(2)+' astetta');\n",
        "}\n",
        "kulma(1,'ilma',1.51);\n",
        "kulma(1.33,'vesi',1.51);"
      ],
      "outputs": [
        {
          "output_type": "stream",
          "name": "stdout",
          "text": [
            "Kulmien erotus aineessa ilma on 49.71 astetta\n",
            "Kulmien erotus aineessa vesi on 9.25 astetta\n"
          ]
        }
      ],
      "execution_count": 41,
      "metadata": {
        "collapsed": true,
        "jupyter": {
          "source_hidden": false,
          "outputs_hidden": false
        },
        "nteract": {
          "transient": {
            "deleting": false
          }
        },
        "execution": {
          "iopub.status.busy": "2021-09-28T18:23:56.949Z",
          "iopub.execute_input": "2021-09-28T18:23:56.957Z",
          "iopub.status.idle": "2021-09-28T18:23:56.977Z",
          "shell.execute_reply": "2021-09-28T18:23:56.981Z"
        }
      }
    },
    {
      "cell_type": "markdown",
      "source": [
        "3-4 Vaakasuora lasersäde, $\\alpha_2=52.6 ^{\\circ}$"
      ],
      "metadata": {
        "nteract": {
          "transient": {
            "deleting": false
          }
        }
      }
    },
    {
      "cell_type": "code",
      "source": [
        "function n1(n2,a1,a2){\n",
        "    return Math.sin(a2*Math.PI/180)*n2/Math.sin(a1*Math.PI/180);\n",
        "}\n",
        "console.log('Prisman taitekerroin on '+n1(1.0,30.,52.6).toFixed(2));"
      ],
      "outputs": [
        {
          "output_type": "stream",
          "name": "stdout",
          "text": [
            "Prisman taitekerroin on 1.59\n"
          ]
        }
      ],
      "execution_count": 45,
      "metadata": {
        "collapsed": true,
        "jupyter": {
          "source_hidden": false,
          "outputs_hidden": false
        },
        "nteract": {
          "transient": {
            "deleting": false
          }
        },
        "execution": {
          "iopub.status.busy": "2021-09-28T18:43:00.145Z",
          "iopub.execute_input": "2021-09-28T18:43:00.151Z",
          "iopub.status.idle": "2021-09-28T18:43:00.165Z",
          "shell.execute_reply": "2021-09-28T18:43:00.170Z"
        }
      }
    },
    {
      "cell_type": "markdown",
      "source": [
        "3-5 Kvartsilasin taitekerroin punaiselle valolle on 1.455 ja violetille valolle 1.470. Valkoinen valo tulee tulokulmassa 25 astetta. Miten suuri on punaisen ja violetin valon taitekulmien ero.\n",
        "\n",
        "Kirjan vastaus 0.18$^{\\circ}$\n"
      ],
      "metadata": {
        "nteract": {
          "transient": {
            "deleting": false
          }
        }
      }
    },
    {
      "cell_type": "code",
      "source": [
        "function a2(a1,n2){\n",
        "  return Math.asin(Math.sin(a1*Math.PI/180)/n2)*180/Math.PI;\n",
        "}\n",
        "console.log('Taitekulmien ero on '+\n",
        "            (a2(25,1.455)-a2(25,1.470)).toFixed(2)+' astetta');\n",
        "  "
      ],
      "outputs": [
        {
          "output_type": "stream",
          "name": "stdout",
          "text": [
            "Taitekulmien ero on 0.18 astetta\n"
          ]
        }
      ],
      "execution_count": 74,
      "metadata": {
        "collapsed": true,
        "jupyter": {
          "source_hidden": false,
          "outputs_hidden": false
        },
        "nteract": {
          "transient": {
            "deleting": false
          }
        },
        "execution": {
          "iopub.status.busy": "2021-09-28T19:31:44.354Z",
          "iopub.execute_input": "2021-09-28T19:31:44.364Z",
          "iopub.status.idle": "2021-09-28T19:31:44.384Z",
          "shell.execute_reply": "2021-09-28T19:31:44.394Z"
        }
      }
    },
    {
      "cell_type": "markdown",
      "source": [
        "3-6 Yhdistävän värimuodostuksen yhteydessä käytettävä termi RGB tulee sanoista Red-Green-Blue ja CMYK Cyan-Magenta-Yellow-Key(Black)."
      ],
      "metadata": {
        "nteract": {
          "transient": {
            "deleting": false
          }
        }
      }
    },
    {
      "cell_type": "markdown",
      "source": [
        "3-7 Värejä voi muodostaan $256^3$ erilaista, mutta silmä ei erota niin monia sävyjä.\n"
      ],
      "metadata": {
        "nteract": {
          "transient": {
            "deleting": false
          }
        }
      }
    },
    {
      "cell_type": "code",
      "source": [
        "Math.pow(256,3)"
      ],
      "outputs": [
        {
          "output_type": "execute_result",
          "execution_count": 49,
          "data": {
            "text/plain": "16777216"
          },
          "metadata": {}
        }
      ],
      "execution_count": 49,
      "metadata": {
        "collapsed": true,
        "jupyter": {
          "source_hidden": false,
          "outputs_hidden": false
        },
        "nteract": {
          "transient": {
            "deleting": false
          }
        },
        "execution": {
          "iopub.status.busy": "2021-09-28T18:56:01.182Z",
          "iopub.execute_input": "2021-09-28T18:56:01.193Z",
          "iopub.status.idle": "2021-09-28T18:56:01.219Z",
          "shell.execute_reply": "2021-09-28T18:56:01.226Z"
        }
      }
    },
    {
      "cell_type": "markdown",
      "source": [
        "3-8 Kuinka suuri on violetin säteen ja punaisen säteen välinen kulma prisman läpi kulkeneessa valossa.\n",
        "alkutiedot <br>\n",
        "$\\alpha_1=34 ^{\\circ}$<br>\n",
        "$n_1 = 1.702$ violetti 405 nm<br>\n",
        "$n_1 = 1.661$ punainen 690 nm<br>\n",
        "Kirjan vastaus 3.9 $^{\\circ}$\n"
      ],
      "metadata": {
        "nteract": {
          "transient": {
            "deleting": false
          }
        }
      }
    },
    {
      "cell_type": "code",
      "source": [
        "function a2(a1,n1){\n",
        "  return Math.asin(Math.sin(a1*Math.PI/180)*n1)*180/Math.PI;\n",
        "}\n",
        "console.log('Taitekulmien ero on '+\n",
        "            (a2(34,1.702)-a2(34,1.661)).toFixed(1)+' astetta');"
      ],
      "outputs": [
        {
          "output_type": "stream",
          "name": "stdout",
          "text": [
            "Taitekulmien ero on 3.9 astetta\n"
          ]
        }
      ],
      "execution_count": 75,
      "metadata": {
        "collapsed": true,
        "jupyter": {
          "source_hidden": false,
          "outputs_hidden": false
        },
        "nteract": {
          "transient": {
            "deleting": false
          }
        },
        "execution": {
          "iopub.status.busy": "2021-09-28T19:31:53.757Z",
          "iopub.execute_input": "2021-09-28T19:31:53.771Z",
          "iopub.status.idle": "2021-09-28T19:31:53.789Z",
          "shell.execute_reply": "2021-09-28T19:31:53.800Z"
        }
      }
    },
    {
      "cell_type": "markdown",
      "source": [],
      "metadata": {
        "nteract": {
          "transient": {
            "deleting": false
          }
        }
      }
    }
  ],
  "metadata": {
    "kernel_info": {
      "name": "node_nteract"
    },
    "language_info": {
      "name": "javascript",
      "version": "12.8.1",
      "mimetype": "application/javascript",
      "file_extension": ".js"
    },
    "kernelspec": {
      "argv": [
        "C:\\Program Files\\nteract\\nteract.exe",
        "C:\\Program Files\\nteract\\resources\\app.asar\\node_modules\\ijavascript\\lib\\kernel.js",
        "{connection_file}",
        "--protocol=5.0",
        "--hide-undefined"
      ],
      "display_name": "Node.js (nteract)",
      "env": {
        "ELECTRON_RUN_AS_NODE": "1",
        "NODE_PATH": "C:\\Program Files\\nteract\\resources\\app.asar\\node_modules"
      },
      "language": "javascript",
      "name": "node_nteract"
    },
    "nteract": {
      "version": "0.28.0"
    }
  },
  "nbformat": 4,
  "nbformat_minor": 0
}