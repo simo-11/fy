{
  "cells": [
    {
      "cell_type": "markdown",
      "source": [
        "# Kertaus"
      ],
      "metadata": {
        "nteract": {
          "transient": {
            "deleting": false
          }
        }
      }
    },
    {
      "cell_type": "code",
      "source": [
        "b<-2.897768e-3 # Wienin siirtymälain vakio\n",
        "c<-2.99792e8 # Valon nopeus\n",
        "h<-6.6260693e-34 # Plancin vakio\n",
        "u<-1.66053904e-27 # Atomimassayksikkö [kg]\n",
        "mp<-1.67262164e-27 # protonin massa [kg]\n",
        "mn<-1.674927351e-27 # neutronin massa [kg]\n",
        "me<-9.10938e-31 # Elektronin massa [kg]\n",
        "ma<-4.001506179127*u # alfa hiukkasen massa [kg]\n",
        "eV<-1.6021766e-19 # Elektorinivoltti\n",
        "sigma<-5.670374419e-8 # Stefan-Boltzman\n",
        "H0<-22e-6# km/s/ly\n",
        "cat(format(Sys.time(),\"%d.%m.%Y %H:%M:%S\"))\n",
        "version"
      ],
      "outputs": [
        {
          "output_type": "stream",
          "name": "stdout",
          "text": [
            "05.12.2021 18:42:04"
          ]
        },
        {
          "output_type": "display_data",
          "data": {
            "text/plain": "               _                           \nplatform       x86_64-w64-mingw32          \narch           x86_64                      \nos             mingw32                     \nsystem         x86_64, mingw32             \nstatus                                     \nmajor          4                           \nminor          1.2                         \nyear           2021                        \nmonth          11                          \nday            01                          \nsvn rev        81115                       \nlanguage       R                           \nversion.string R version 4.1.2 (2021-11-01)\nnickname       Bird Hippie                 "
          },
          "metadata": {}
        }
      ],
      "execution_count": 55,
      "metadata": {
        "collapsed": true,
        "jupyter": {
          "source_hidden": false,
          "outputs_hidden": false
        },
        "nteract": {
          "transient": {
            "deleting": false
          }
        },
        "execution": {
          "iopub.status.busy": "2021-12-05T16:42:04.992Z",
          "iopub.execute_input": "2021-12-05T16:42:05.008Z",
          "iopub.status.idle": "2021-12-05T16:42:05.148Z",
          "shell.execute_reply": "2021-12-05T16:42:05.176Z"
        }
      }
    },
    {
      "cell_type": "markdown",
      "source": [
        "3\n",
        "\n",
        "Kirjan vastaus: d) 8.05 keV, 4.3e-24 kgm/s"
      ],
      "metadata": {
        "nteract": {
          "transient": {
            "deleting": false
          }
        }
      }
    },
    {
      "cell_type": "code",
      "source": [
        "l<-0.154e-9\n",
        "E<-h*c/l\n",
        "p<-h/l\n",
        "cat(sprintf(\"Energia=%.2f keV ja liikemäärä=%.1e kgm/s.\\n\",\n",
        "            E/(1e3*eV),p))"
      ],
      "outputs": [
        {
          "output_type": "stream",
          "name": "stdout",
          "text": [
            "Energia=8.05 keV ja liikemäärä=4.3e-24 kgm/s.\n"
          ]
        }
      ],
      "execution_count": 5,
      "metadata": {
        "collapsed": true,
        "jupyter": {
          "source_hidden": false,
          "outputs_hidden": false
        },
        "nteract": {
          "transient": {
            "deleting": false
          }
        },
        "execution": {
          "iopub.status.busy": "2021-12-05T12:40:47.004Z",
          "iopub.execute_input": "2021-12-05T12:40:47.014Z",
          "iopub.status.idle": "2021-12-05T12:40:47.036Z",
          "shell.execute_reply": "2021-12-05T12:40:47.055Z"
        }
      }
    },
    {
      "cell_type": "markdown",
      "source": [
        "5\n",
        "\n",
        "Kirjan vastaus: i) 250 nm"
      ],
      "metadata": {
        "nteract": {
          "transient": {
            "deleting": false
          }
        }
      }
    },
    {
      "cell_type": "code",
      "source": [
        "E<-4.97*eV\n",
        "l<-h*c/E\n",
        "cat(sprintf(\"Maksimi aallonpituus on %.0f nm.\\n\",l/1e-9))"
      ],
      "outputs": [
        {
          "output_type": "stream",
          "name": "stdout",
          "text": [
            "Maksimi aallonpituus on 249 nm.\n"
          ]
        }
      ],
      "execution_count": 7,
      "metadata": {
        "collapsed": true,
        "jupyter": {
          "source_hidden": false,
          "outputs_hidden": false
        },
        "nteract": {
          "transient": {
            "deleting": false
          }
        },
        "execution": {
          "iopub.status.busy": "2021-12-05T12:45:52.867Z",
          "iopub.execute_input": "2021-12-05T12:45:52.879Z",
          "iopub.status.idle": "2021-12-05T12:45:52.903Z",
          "shell.execute_reply": "2021-12-05T12:45:52.923Z"
        }
      }
    },
    {
      "cell_type": "markdown",
      "source": [
        "6\n",
        "\n",
        "Kirjan vastaus: a) 286 nm b) 180 nm"
      ],
      "metadata": {
        "nteract": {
          "transient": {
            "deleting": false
          }
        }
      }
    },
    {
      "cell_type": "code",
      "source": [
        "E<-4.34*eV\n",
        "l<-h*c/E\n",
        "cat(sprintf(\"Maksimi aallonpituus sinkille on %.0f nm.\\n\",l/1e-9))\n",
        "l0<-230e-9\n",
        "W0<-h*c/l0\n",
        "E=W0+1.5*eV\n",
        "l<-h*c/E\n",
        "cat(sprintf(\"Kohdan b maksimi aallonpituus on %.0f nm.\\n\",l/1e-9))\n"
      ],
      "outputs": [
        {
          "output_type": "stream",
          "name": "stdout",
          "text": [
            "Maksimi aallonpituus sinkille on 286 nm.\n",
            "Kohdan b maksimi aallonpituus on 180 nm.\n"
          ]
        }
      ],
      "execution_count": 9,
      "metadata": {
        "collapsed": true,
        "jupyter": {
          "source_hidden": false,
          "outputs_hidden": false
        },
        "nteract": {
          "transient": {
            "deleting": false
          }
        },
        "execution": {
          "iopub.status.busy": "2021-12-05T12:50:02.928Z",
          "iopub.execute_input": "2021-12-05T12:50:02.943Z",
          "iopub.status.idle": "2021-12-05T12:50:03.077Z",
          "shell.execute_reply": "2021-12-05T12:50:03.098Z"
        }
      }
    },
    {
      "cell_type": "markdown",
      "source": [
        "7\n",
        "\n",
        "Kirjan vastaus: a) 3.2 eV b) 0.75 PHz c) 4.2e-15eVs"
      ],
      "metadata": {
        "nteract": {
          "transient": {
            "deleting": false
          }
        }
      }
    },
    {
      "cell_type": "code",
      "source": [
        "# f=c/l\n",
        "# Käytetään taajuutena PHz arvoja (kerroin k=1e15)\n",
        "k=1e15\n",
        "df<-data.frame(x=(c*1e9/k)/c(385,380,370,349,345),\n",
        "               y=c(0.11,0.16,0.25,0.46,0.49))\n",
        "plot(df$x,df$y,ylim=c(-3.3,0.5),xlim=c(0,0.88),\n",
        "     xlab='Taajuus [PHz]',ylab='Pysäytysjännite [V]')\n",
        "fit1 <- lm(y~x, data=df)\n",
        "W0<-fit1$coefficient[[1]]\n",
        "hg<-fit1$coefficient[[2]]\n",
        "f0=-W0/hg\n",
        "q=eV\n",
        "cat(sprintf(\"a) Elektronien irrotustyö on %.1f eV.\\n\",-W0*q/eV))\n",
        "cat(sprintf(\"b) Kynnystaajuus on %.2f PHz.\\n\",f0))\n",
        "cat(sprintf(\"c) Plancin vakio on %.1e eVs.\\n\",hg/k))\n",
        "print(fit1)\n",
        "x_axis <- seq(0.0, 0.88, length=15)\n",
        "lines(x_axis, predict(fit1, data.frame(x=x_axis)), col='green')\n"
      ],
      "outputs": [
        {
          "output_type": "stream",
          "name": "stdout",
          "text": [
            "a) Elektronien irrotustyö on 3.2 eV.\n",
            "b) Kynnystaajuus on 0.75 PHz.\n",
            "c) Plancin vakio on 4.2e-15 eVs.\n",
            "\n",
            "Call:\n",
            "lm(formula = y ~ x, data = df)\n",
            "\n",
            "Coefficients:\n",
            "(Intercept)            x  \n",
            "     -3.181        4.232  \n",
            "\n"
          ]
        },
        {
          "output_type": "display_data",
          "data": {
            "text/plain": "plot without title",
            "image/png": "[encoded data removed]"
          },
          "metadata": {
            "image/png": {
              "width": 420,
              "height": 420
            }
          }
        }
      ],
      "execution_count": 49,
      "metadata": {
        "collapsed": false,
        "jupyter": {
          "source_hidden": false,
          "outputs_hidden": false
        },
        "nteract": {
          "transient": {
            "deleting": false
          }
        },
        "execution": {
          "iopub.status.busy": "2021-12-05T16:16:37.300Z",
          "iopub.execute_input": "2021-12-05T16:16:37.315Z",
          "iopub.status.idle": "2021-12-05T16:16:37.411Z",
          "shell.execute_reply": "2021-12-05T16:16:37.432Z"
        }
      }
    },
    {
      "cell_type": "markdown",
      "source": [
        "8\n",
        "\n",
        "Kirjan vastaus: b) cesium (1.93 eV)"
      ],
      "metadata": {
        "nteract": {
          "transient": {
            "deleting": false
          }
        }
      }
    },
    {
      "cell_type": "code",
      "source": [
        "# Ek=h*f-W0\n",
        "# f=c/l\n",
        "l=543.5e-9\n",
        "U=0.35\n",
        "q=eV\n",
        "W0<-h*c/l-U*q\n",
        "cat(sprintf(\"b) W0 on %.2f eV.\\n\",W0/eV))"
      ],
      "outputs": [
        {
          "output_type": "stream",
          "name": "stdout",
          "text": [
            "b) W0 on 1.93 eV.\n"
          ]
        }
      ],
      "execution_count": 52,
      "metadata": {
        "collapsed": true,
        "jupyter": {
          "source_hidden": false,
          "outputs_hidden": false
        },
        "nteract": {
          "transient": {
            "deleting": false
          }
        },
        "execution": {
          "iopub.status.busy": "2021-12-05T16:25:25.855Z",
          "iopub.execute_input": "2021-12-05T16:25:25.869Z",
          "iopub.status.idle": "2021-12-05T16:25:25.895Z",
          "shell.execute_reply": "2021-12-05T16:25:25.915Z"
        }
      }
    },
    {
      "cell_type": "markdown",
      "source": [
        "9\n",
        "\n",
        "Kirjan vastaus: 3e19"
      ],
      "metadata": {
        "nteract": {
          "transient": {
            "deleting": false
          }
        }
      }
    },
    {
      "cell_type": "code",
      "source": [
        "P<-11#W\n",
        "l<-540e-9\n",
        "E<-h*c/l\n",
        "N<-P/E\n",
        "cat(sprintf(\"Fotoneja syntyy sekunnissa noin %.0e.\\n\",N))"
      ],
      "outputs": [
        {
          "output_type": "stream",
          "name": "stdout",
          "text": [
            "Fotoneja syntyy sekunnissa noin 3e+19.\n"
          ]
        }
      ],
      "execution_count": 53,
      "metadata": {
        "collapsed": true,
        "jupyter": {
          "source_hidden": false,
          "outputs_hidden": false
        },
        "nteract": {
          "transient": {
            "deleting": false
          }
        },
        "execution": {
          "iopub.status.busy": "2021-12-05T16:37:27.333Z",
          "iopub.execute_input": "2021-12-05T16:37:27.347Z",
          "iopub.status.idle": "2021-12-05T16:37:27.374Z",
          "shell.execute_reply": "2021-12-05T16:37:27.402Z"
        }
      }
    },
    {
      "cell_type": "markdown",
      "source": [
        "10\n",
        "\n",
        "Kirjan vastaus: b) 150 V"
      ],
      "metadata": {
        "nteract": {
          "transient": {
            "deleting": false
          }
        }
      }
    },
    {
      "cell_type": "code",
      "source": [
        "# Elektronien de Broglien aallonpituus\n",
        "# l=h/(mv)\n",
        "l<-1e-10\n",
        "v<-h/(me*l)\n",
        "q=eV\n",
        "U<-0.5*me*v^2/q\n",
        "cat(sprintf(\"Tarvittava jännite on %.0f V.\\n\",U))"
      ],
      "outputs": [
        {
          "output_type": "stream",
          "name": "stdout",
          "text": [
            "Tarvittava jännite on 150 V.\n"
          ]
        }
      ],
      "execution_count": 57,
      "metadata": {
        "collapsed": true,
        "jupyter": {
          "source_hidden": false,
          "outputs_hidden": false
        },
        "nteract": {
          "transient": {
            "deleting": false
          }
        },
        "execution": {
          "iopub.status.busy": "2021-12-05T16:44:33.139Z",
          "iopub.execute_input": "2021-12-05T16:44:33.151Z",
          "iopub.status.idle": "2021-12-05T16:44:33.178Z",
          "shell.execute_reply": "2021-12-05T16:44:33.199Z"
        }
      }
    },
    {
      "cell_type": "markdown",
      "source": [
        "\n",
        "\n",
        "Kirjan vastaus:"
      ],
      "metadata": {
        "nteract": {
          "transient": {
            "deleting": false
          }
        }
      }
    },
    {
      "cell_type": "markdown",
      "source": [
        "\n",
        "\n",
        "Kirjan vastaus:"
      ],
      "metadata": {
        "nteract": {
          "transient": {
            "deleting": false
          }
        }
      }
    },
    {
      "cell_type": "markdown",
      "source": [
        "\n",
        "\n",
        "Kirjan vastaus:"
      ],
      "metadata": {
        "nteract": {
          "transient": {
            "deleting": false
          }
        }
      }
    },
    {
      "cell_type": "markdown",
      "source": [
        "\n",
        "\n",
        "Kirjan vastaus:"
      ],
      "metadata": {
        "nteract": {
          "transient": {
            "deleting": false
          }
        }
      }
    },
    {
      "cell_type": "markdown",
      "source": [],
      "metadata": {
        "nteract": {
          "transient": {
            "deleting": false
          }
        }
      }
    }
  ],
  "metadata": {
    "kernel_info": {
      "name": "julia-nteract-1.5"
    },
    "language_info": {
      "name": "R",
      "codemirror_mode": "r",
      "pygments_lexer": "r",
      "mimetype": "text/x-r-source",
      "file_extension": ".r",
      "version": "4.1.2"
    },
    "kernelspec": {
      "argv": [
        "C:\\Users\\snikula\\AppData\\Local\\JuliaPro-1.5.4-1\\Julia-1.5.4\\bin\\julia.exe",
        "-i",
        "--color=yes",
        "C:\\Users\\snikula\\.julia\\packages\\IJulia\\e8kqU\\src\\kernel.jl",
        "{connection_file}"
      ],
      "display_name": "Julia nteract 1.5.4",
      "env": {},
      "interrupt_mode": "message",
      "language": "julia",
      "name": "julia-nteract-1.5"
    },
    "nteract": {
      "version": "0.28.0"
    }
  },
  "nbformat": 4,
  "nbformat_minor": 0
}