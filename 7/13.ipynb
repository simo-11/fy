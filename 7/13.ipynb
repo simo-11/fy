{
  "cells": [
    {
      "cell_type": "markdown",
      "source": [
        "# Ionisoiva säteily"
      ],
      "metadata": {
        "nteract": {
          "transient": {
            "deleting": false
          }
        }
      }
    },
    {
      "cell_type": "code",
      "source": [
        "using Printf\n",
        "using Dates\n",
        "b=2.897768e-3 # Wienin siirtymälain vakio\n",
        "c=2.99792e8 # Valon nopeus\n",
        "h=6.6260693e-34 # Plancin vakio\n",
        "eV=1.6021766e-19 # Elektorinivoltti\n",
        "sigma=5.670374419e-8 # Stefan-Boltzman\n",
        "@printf \"%s\\n\" Dates.now();\n",
        "versioninfo(verbose=false);"
      ],
      "outputs": [
        {
          "output_type": "stream",
          "name": "stdout",
          "text": [
            "2021-12-03T20:52:58.11\n",
            "Julia Version 1.5.4\n",
            "Commit 69fcb5745b (2021-03-11 19:13 UTC)\n",
            "Platform Info:\n",
            "  OS: Windows (x86_64-w64-mingw32)\n",
            "  CPU: Intel(R) Core(TM) i7-8650U CPU @ 1.90GHz\n",
            "  WORD_SIZE: 64\n",
            "  LIBM: libopenlibm\n",
            "  LLVM: libLLVM-9.0.1 (ORCJIT, skylake)\n",
            "Environment:\n",
            "  JULIA_DEPOT_PATH = C:\\Users\\snikula\\.julia;C:\\Users\\snikula\\AppData\\Local\\JuliaPro-1.5.4-1\\Julia-1.5.4\\local\\share\\julia;C:\\Users\\snikula\\AppData\\Local\\JuliaPro-1.5.4-1\\Julia-1.5.4\\share\\julia\n",
            "  JULIA_LOAD_PATH = C:\\Users\\snikula\\.julia\\environments\\JuliaPro_v1.5.4-1;@;@v#.#;@stdlib\n",
            "  JULIA_PKG_SERVER = pkg.juliahub.com\n"
          ]
        }
      ],
      "execution_count": 1,
      "metadata": {
        "collapsed": true,
        "jupyter": {
          "source_hidden": false,
          "outputs_hidden": false
        },
        "nteract": {
          "transient": {
            "deleting": false
          }
        },
        "execution": {
          "iopub.status.busy": "2021-12-03T18:52:57.038Z",
          "iopub.execute_input": "2021-12-03T18:52:57.999Z",
          "iopub.status.idle": "2021-12-03T18:53:00.153Z"
        }
      }
    },
    {
      "cell_type": "markdown",
      "source": [
        "13-6 \n",
        "\n",
        "Kirjan vastaus: 300 h"
      ],
      "metadata": {
        "nteract": {
          "transient": {
            "deleting": false
          }
        }
      }
    },
    {
      "cell_type": "code",
      "source": [
        "# t*5µSv/h=0.5*3.2 mSv\n",
        "t=0.5*3.2e-3/5e-6"
      ],
      "outputs": [
        {
          "output_type": "execute_result",
          "execution_count": 2,
          "data": {
            "text/plain": "320.0"
          },
          "metadata": {}
        }
      ],
      "execution_count": 2,
      "metadata": {
        "collapsed": true,
        "jupyter": {
          "source_hidden": false,
          "outputs_hidden": false
        },
        "nteract": {
          "transient": {
            "deleting": false
          }
        },
        "execution": {
          "iopub.status.busy": "2021-12-03T19:04:16.424Z",
          "iopub.execute_input": "2021-12-03T19:04:16.436Z",
          "iopub.status.idle": "2021-12-03T19:04:17.194Z"
        }
      }
    },
    {
      "cell_type": "markdown",
      "source": [
        "13-9\n",
        "\n",
        "Kirjan vastaus: 76 %"
      ],
      "metadata": {
        "nteract": {
          "transient": {
            "deleting": false
          }
        }
      }
    },
    {
      "cell_type": "code",
      "source": [
        "# I=I0*exp(-µx)\n",
        "µ=46#1/m\n",
        "t=6e-3#m\n",
        "exp(-µ*t)"
      ],
      "outputs": [
        {
          "output_type": "execute_result",
          "execution_count": 3,
          "data": {
            "text/plain": "0.7588129307612415"
          },
          "metadata": {}
        }
      ],
      "execution_count": 3,
      "metadata": {
        "collapsed": true,
        "jupyter": {
          "source_hidden": false,
          "outputs_hidden": false
        },
        "nteract": {
          "transient": {
            "deleting": false
          }
        },
        "execution": {
          "iopub.status.busy": "2021-12-03T19:07:04.470Z",
          "iopub.execute_input": "2021-12-03T19:07:04.479Z",
          "iopub.status.idle": "2021-12-03T19:07:04.627Z"
        }
      }
    },
    {
      "cell_type": "markdown",
      "source": [
        "13-10\n",
        "\n",
        "Kirjan vastaus: a) 3.0 1/m b) 0.24 %"
      ],
      "metadata": {
        "nteract": {
          "transient": {
            "deleting": false
          }
        }
      }
    },
    {
      "cell_type": "code",
      "source": [
        "k=0.5\n",
        "t=0.23\n",
        "µ=log(1/k)/t\n",
        "t=2\n",
        "@printf(\"Heikennyskerroin on %.1f 1/m.\\n\",µ)\n",
        "@printf(\"%.2f %% säteilystä läpäisee 2 metrin vesikerroksen.\\n\",\n",
        "  exp(-µ*t)*100)"
      ],
      "outputs": [
        {
          "output_type": "stream",
          "name": "stdout",
          "text": [
            "Heikennyskerroin on 3.0 1/m.\n",
            "0.24 % säteilystä läpäisee 2 metrin vesikerroksen.\n"
          ]
        }
      ],
      "execution_count": 8,
      "metadata": {
        "collapsed": true,
        "jupyter": {
          "source_hidden": false,
          "outputs_hidden": false
        },
        "nteract": {
          "transient": {
            "deleting": false
          }
        },
        "execution": {
          "iopub.status.busy": "2021-12-03T19:14:28.017Z",
          "iopub.execute_input": "2021-12-03T19:14:28.025Z",
          "iopub.status.idle": "2021-12-03T19:14:28.248Z"
        }
      }
    },
    {
      "cell_type": "markdown",
      "source": [
        "13-11\n",
        "\n",
        "Kirjan vastaus: 1) noin 1/3\n"
      ],
      "metadata": {
        "nteract": {
          "transient": {
            "deleting": false
          }
        }
      }
    },
    {
      "cell_type": "code",
      "source": [
        "k=0.5\n",
        "t=0.05\n",
        "µ=log(1/k)/t\n",
        "t=0.08\n",
        "@printf(\"%.2f %% säteilystä läpäisee 8 cm pehmytkudoskerroksen.\\n\",\n",
        "  exp(-µ*t)*100)"
      ],
      "outputs": [
        {
          "output_type": "stream",
          "name": "stdout",
          "text": [
            "32.99 % säteilystä läpäisee 8 cm pehmytkudoskerroksen.\n"
          ]
        }
      ],
      "execution_count": 9,
      "metadata": {
        "collapsed": true,
        "jupyter": {
          "source_hidden": false,
          "outputs_hidden": false
        },
        "nteract": {
          "transient": {
            "deleting": false
          }
        },
        "execution": {
          "iopub.status.busy": "2021-12-03T19:17:07.619Z",
          "iopub.execute_input": "2021-12-03T19:17:07.630Z",
          "iopub.status.idle": "2021-12-03T19:17:07.653Z"
        }
      }
    },
    {
      "cell_type": "markdown",
      "source": [
        "13-12\n",
        "\n",
        "Kirjan vastaus: 4.0 cm"
      ],
      "metadata": {
        "nteract": {
          "transient": {
            "deleting": false
          }
        }
      }
    },
    {
      "cell_type": "code",
      "source": [
        "k=22738/38791\n",
        "t=0.03\n",
        "µ=log(1/k)/t\n",
        "k=0.5\n",
        "t=log(1/k)/µ"
      ],
      "outputs": [
        {
          "output_type": "execute_result",
          "execution_count": 10,
          "data": {
            "text/plain": "0.038929864466805554"
          },
          "metadata": {}
        }
      ],
      "execution_count": 10,
      "metadata": {
        "collapsed": true,
        "jupyter": {
          "source_hidden": false,
          "outputs_hidden": false
        },
        "nteract": {
          "transient": {
            "deleting": false
          }
        },
        "execution": {
          "iopub.status.busy": "2021-12-03T19:21:27.849Z",
          "iopub.execute_input": "2021-12-03T19:21:27.861Z",
          "iopub.status.idle": "2021-12-03T19:21:28.008Z"
        }
      }
    },
    {
      "cell_type": "markdown",
      "source": [
        "13-13\n",
        "\n",
        "Kirjan vastaus: 110 1/m"
      ],
      "metadata": {
        "nteract": {
          "transient": {
            "deleting": false
          }
        }
      }
    },
    {
      "cell_type": "code",
      "source": [
        "k=210/1205\n",
        "t=0.016\n",
        "µ=log(1/k)/t"
      ],
      "outputs": [
        {
          "output_type": "execute_result",
          "execution_count": 11,
          "data": {
            "text/plain": "109.19545720045541"
          },
          "metadata": {}
        }
      ],
      "execution_count": 11,
      "metadata": {
        "collapsed": true,
        "jupyter": {
          "source_hidden": false,
          "outputs_hidden": false
        },
        "nteract": {
          "transient": {
            "deleting": false
          }
        },
        "execution": {
          "iopub.status.busy": "2021-12-03T19:22:40.266Z",
          "iopub.execute_input": "2021-12-03T19:22:40.277Z",
          "iopub.status.idle": "2021-12-03T19:22:40.305Z"
        }
      }
    },
    {
      "cell_type": "markdown",
      "source": [
        "13-14\n",
        "\n",
        "Kirjan vastaus:<br>\n",
        "a) $\\substack{222 \\\\ 86}Rn \\rightarrow \\substack{218 \\\\ 84}Po + \\substack{4 \\\\ 2}He$<br><br>\n",
        "c) kyllä"
      ],
      "metadata": {
        "nteract": {
          "transient": {
            "deleting": false
          }
        }
      }
    }
  ],
  "metadata": {
    "kernel_info": {
      "name": "julia-nteract-1.5"
    },
    "language_info": {
      "file_extension": ".jl",
      "name": "julia",
      "mimetype": "application/julia",
      "version": "1.5.4"
    },
    "kernelspec": {
      "argv": [
        "C:\\Users\\snikula\\AppData\\Local\\JuliaPro-1.5.4-1\\Julia-1.5.4\\bin\\julia.exe",
        "-i",
        "--color=yes",
        "C:\\Users\\snikula\\.julia\\packages\\IJulia\\e8kqU\\src\\kernel.jl",
        "{connection_file}"
      ],
      "display_name": "Julia nteract 1.5.4",
      "env": {},
      "interrupt_mode": "message",
      "language": "julia",
      "name": "julia-nteract-1.5"
    },
    "nteract": {
      "version": "0.28.0"
    }
  },
  "nbformat": 4,
  "nbformat_minor": 0
}