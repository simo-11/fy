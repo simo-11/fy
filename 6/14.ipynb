{
  "cells": [
    {
      "cell_type": "markdown",
      "source": [
        "# Vaihtovirta"
      ],
      "metadata": {
        "nteract": {
          "transient": {
            "deleting": false
          }
        }
      }
    },
    {
      "cell_type": "code",
      "source": [
        "using Printf\n",
        "using Dates\n",
        "@printf \"%s\\n\" Dates.now();\n",
        "versioninfo(verbose=false);"
      ],
      "outputs": [
        {
          "output_type": "stream",
          "name": "stdout",
          "text": [
            "2021-10-24T15:20:36.136\n",
            "Julia Version 1.5.4\n",
            "Commit 69fcb5745b (2021-03-11 19:13 UTC)\n",
            "Platform Info:\n",
            "  OS: Windows (x86_64-w64-mingw32)\n",
            "  CPU: Intel(R) Core(TM) i7-8650U CPU @ 1.90GHz\n",
            "  WORD_SIZE: 64\n",
            "  LIBM: libopenlibm\n",
            "  LLVM: libLLVM-9.0.1 (ORCJIT, skylake)\n",
            "Environment:\n",
            "  JULIA_DEPOT_PATH = C:\\Users\\snikula\\.julia;C:\\Users\\snikula\\AppData\\Local\\JuliaPro-1.5.4-1\\Julia-1.5.4\\local\\share\\julia;C:\\Users\\snikula\\AppData\\Local\\JuliaPro-1.5.4-1\\Julia-1.5.4\\share\\julia\n",
            "  JULIA_LOAD_PATH = C:\\Users\\snikula\\.julia\\environments\\JuliaPro_v1.5.4-1;@;@v#.#;@stdlib\n",
            "  JULIA_PKG_SERVER = pkg.juliahub.com\n"
          ]
        }
      ],
      "execution_count": 60,
      "metadata": {
        "collapsed": true,
        "jupyter": {
          "source_hidden": false,
          "outputs_hidden": false
        },
        "nteract": {
          "transient": {
            "deleting": false
          }
        },
        "execution": {
          "iopub.status.busy": "2021-10-24T12:20:36.160Z",
          "iopub.execute_input": "2021-10-24T12:20:36.170Z",
          "iopub.status.idle": "2021-10-24T12:20:36.189Z"
        }
      }
    },
    {
      "cell_type": "markdown",
      "source": [
        "14-3 \n",
        "\n",
        "Kirjan vastaus:  a) 4.0 V b) 2.8 V c) 0.020 s d) 50 Hz"
      ],
      "metadata": {
        "nteract": {
          "transient": {
            "deleting": false
          }
        }
      }
    },
    {
      "cell_type": "code",
      "source": [
        "u0=4\n",
        "U=u0/sqrt(2)\n",
        "t=0.02\n",
        "f=1/t\n",
        "\n",
        "@printf(\"Tehollinen jännite on %.1f V.\\n\", U)\n",
        "@printf(\"Taajuus on %.0f Hz.\\n\",f) \n"
      ],
      "outputs": [
        {
          "output_type": "stream",
          "name": "stdout",
          "text": [
            "Tehollinen jännite on 2.8 V.\n",
            "Taajuus on 50 Hz.\n"
          ]
        }
      ],
      "execution_count": 63,
      "metadata": {
        "collapsed": true,
        "jupyter": {
          "source_hidden": false,
          "outputs_hidden": false
        },
        "nteract": {
          "transient": {
            "deleting": false
          }
        },
        "execution": {
          "iopub.status.busy": "2021-10-24T12:34:25.791Z",
          "iopub.execute_input": "2021-10-24T12:34:25.800Z",
          "iopub.status.idle": "2021-10-24T12:34:25.822Z"
        }
      }
    },
    {
      "cell_type": "markdown",
      "source": [
        "14-4\n",
        "\n",
        "Kirjan vastaus: b) 50 Hz c) 4.0 V ja 0.19 A c) 21 Ω"
      ],
      "metadata": {
        "nteract": {
          "transient": {
            "deleting": false
          }
        }
      }
    },
    {
      "cell_type": "code",
      "source": [
        "u0=5.6\n",
        "i0=0.27\n",
        "U=u0/sqrt(2)\n",
        "I=i0/sqrt(2)\n",
        "t=0.02\n",
        "f=1/t\n",
        "R=U/I\n",
        "@printf(\"Taajuus on %.0f Hz.\\n\",f) \n",
        "@printf(\"Tehollinen jännite on %.1f V ja virta %.2f A.\\n\", U,I)\n",
        "@printf(\"Vastuksen resistanssi on %.0f Ω.\\n\",R) \n"
      ],
      "outputs": [
        {
          "output_type": "stream",
          "name": "stdout",
          "text": [
            "Taajuus on 50 Hz.\n",
            "Tehollinen jännite on 4.0 V ja virta 0.19 A.\n",
            "Vastuksen resistanssi on 21 Ω.\n"
          ]
        }
      ],
      "execution_count": 67,
      "metadata": {
        "collapsed": true,
        "jupyter": {
          "source_hidden": false,
          "outputs_hidden": false
        },
        "nteract": {
          "transient": {
            "deleting": false
          }
        },
        "execution": {
          "iopub.status.busy": "2021-10-24T12:41:57.303Z",
          "iopub.execute_input": "2021-10-24T12:41:57.316Z",
          "iopub.status.idle": "2021-10-24T12:41:57.361Z"
        }
      }
    },
    {
      "cell_type": "markdown",
      "source": [
        "14-5\n",
        "\n",
        "\n",
        "Kirjan vastaus: b) 0.495 A ja 0.35 A c) 40 Hz d) -0.24 A, 0.18 A"
      ],
      "metadata": {
        "nteract": {
          "transient": {
            "deleting": false
          }
        }
      }
    },
    {
      "cell_type": "code",
      "source": [
        "using Plots\n",
        "i0=0.495\n",
        "I=i0/sqrt(2)\n",
        "f=40\n",
        "@printf(\"Huippuarvo %.1f A ja tehollinen %.2f A.\\n\", i0,I)\n",
        "@printf(\"Taajuus on %.0f Hz.\\n\",f)\n",
        "@printf(\"Vastuksen resistanssi on %.0f Ω.\\n\",R)\n",
        "tmax=0.036\n",
        "x = 0:tmax/100:tmax\n",
        "fi(x)=i0*sin(2*pi*f*x)\n",
        "@printf(\"\"\"I(0.023)=%.2f A, I(0.036)=%.2f A.\\n\"\"\",\n",
        " fi(0.023),fi(0.036));\n",
        "plot(x,fi.(x))\n",
        "xlabel!(\"t(s)\")\n",
        "ylabel!(\"I(A)\")\n"
      ],
      "outputs": [
        {
          "output_type": "stream",
          "name": "stdout",
          "text": [
            "Huippuarvo 0.5 A ja tehollinen 0.35 A.\n",
            "Taajuus on 40 Hz.\n",
            "Vastuksen resistanssi on 21 Ω.\n",
            "I(0.023)=-0.24 A, I(0.036)=0.18 A.\n"
          ]
        },
        {
          "output_type": "execute_result",
          "execution_count": 79,
          "data": {
            "image/svg+xml": "<?xml version=\"1.0\" encoding=\"utf-8\"?>\n<svg xmlns=\"http://www.w3.org/2000/svg\" xmlns:xlink=\"http://www.w3.org/1999/xlink\" width=\"600\" height=\"400\" viewBox=\"0 0 2400 1600\">\n<defs>\n  <clipPath id=\"clip480\">\n    <rect x=\"0\" y=\"0\" width=\"2400\" height=\"1600\"/>\n  </clipPath>\n</defs>\n<path clip-path=\"url(#clip480)\" d=\"\nM0 1600 L2400 1600 L2400 0 L0 0  Z\n  \" fill=\"#ffffff\" fill-rule=\"evenodd\" fill-opacity=\"1\"/>\n<defs>\n  <clipPath id=\"clip481\">\n    <rect x=\"480\" y=\"0\" width=\"1681\" height=\"1600\"/>\n  </clipPath>\n</defs>\n<path clip-path=\"url(#clip480)\" d=\"\nM257.69 1423.18 L2352.76 1423.18 L2352.76 47.2441 L257.69 47.2441  Z\n  \" fill=\"#ffffff\" fill-rule=\"evenodd\" fill-opacity=\"1\"/>\n<defs>\n  <clipPath id=\"clip482\">\n    <rect x=\"257\" y=\"47\" width=\"2096\" height=\"1377\"/>\n  </clipPath>\n</defs>\n<polyline clip-path=\"url(#clip482)\" style=\"stroke:#000000; stroke-linecap:butt; stroke-linejoin:round; stroke-width:2; stroke-opacity:0.1; fill:none\" points=\"\n  316.984,1423.18 316.984,47.2441 \n  \"/>\n<polyline clip-path=\"url(#clip482)\" style=\"stroke:#000000; stroke-linecap:butt; stroke-linejoin:round; stroke-width:2; stroke-opacity:0.1; fill:none\" points=\"\n  866.006,1423.18 866.006,47.2441 \n  \"/>\n<polyline clip-path=\"url(#clip482)\" style=\"stroke:#000000; stroke-linecap:butt; stroke-linejoin:round; stroke-width:2; stroke-opacity:0.1; fill:none\" points=\"\n  1415.03,1423.18 1415.03,47.2441 \n  \"/>\n<polyline clip-path=\"url(#clip482)\" style=\"stroke:#000000; stroke-linecap:butt; stroke-linejoin:round; stroke-width:2; stroke-opacity:0.1; fill:none\" points=\"\n  1964.05,1423.18 1964.05,47.2441 \n  \"/>\n<polyline clip-path=\"url(#clip480)\" style=\"stroke:#000000; stroke-linecap:butt; stroke-linejoin:round; stroke-width:4; stroke-opacity:1; fill:none\" points=\"\n  257.69,1423.18 2352.76,1423.18 \n  \"/>\n<polyline clip-path=\"url(#clip480)\" style=\"stroke:#000000; stroke-linecap:butt; stroke-linejoin:round; stroke-width:4; stroke-opacity:1; fill:none\" points=\"\n  316.984,1423.18 316.984,1406.67 \n  \"/>\n<polyline clip-path=\"url(#clip480)\" style=\"stroke:#000000; stroke-linecap:butt; stroke-linejoin:round; stroke-width:4; stroke-opacity:1; fill:none\" points=\"\n  866.006,1423.18 866.006,1406.67 \n  \"/>\n<polyline clip-path=\"url(#clip480)\" style=\"stroke:#000000; stroke-linecap:butt; stroke-linejoin:round; stroke-width:4; stroke-opacity:1; fill:none\" points=\"\n  1415.03,1423.18 1415.03,1406.67 \n  \"/>\n<polyline clip-path=\"url(#clip480)\" style=\"stroke:#000000; stroke-linecap:butt; stroke-linejoin:round; stroke-width:4; stroke-opacity:1; fill:none\" points=\"\n  1964.05,1423.18 1964.05,1406.67 \n  \"/>\n<path clip-path=\"url(#clip480)\" d=\"M279.288 1452.37 Q275.677 1452.37 273.848 1455.94 Q272.043 1459.48 272.043 1466.61 Q272.043 1473.71 273.848 1477.28 Q275.677 1480.82 279.288 1480.82 Q282.922 1480.82 284.728 1477.28 Q286.556 1473.71 286.556 1466.61 Q286.556 1459.48 284.728 1455.94 Q282.922 1452.37 279.288 1452.37 M279.288 1448.67 Q285.098 1448.67 288.154 1453.27 Q291.232 1457.86 291.232 1466.61 Q291.232 1475.33 288.154 1479.94 Q285.098 1484.52 279.288 1484.52 Q273.478 1484.52 270.399 1479.94 Q267.344 1475.33 267.344 1466.61 Q267.344 1457.86 270.399 1453.27 Q273.478 1448.67 279.288 1448.67 Z\" fill=\"#000000\" fill-rule=\"evenodd\" fill-opacity=\"1\" /><path clip-path=\"url(#clip480)\" d=\"M299.45 1477.97 L304.334 1477.97 L304.334 1483.85 L299.45 1483.85 L299.45 1477.97 Z\" fill=\"#000000\" fill-rule=\"evenodd\" fill-opacity=\"1\" /><path clip-path=\"url(#clip480)\" d=\"M324.519 1452.37 Q320.908 1452.37 319.079 1455.94 Q317.274 1459.48 317.274 1466.61 Q317.274 1473.71 319.079 1477.28 Q320.908 1480.82 324.519 1480.82 Q328.153 1480.82 329.959 1477.28 Q331.788 1473.71 331.788 1466.61 Q331.788 1459.48 329.959 1455.94 Q328.153 1452.37 324.519 1452.37 M324.519 1448.67 Q330.329 1448.67 333.385 1453.27 Q336.464 1457.86 336.464 1466.61 Q336.464 1475.33 333.385 1479.94 Q330.329 1484.52 324.519 1484.52 Q318.709 1484.52 315.63 1479.94 Q312.575 1475.33 312.575 1466.61 Q312.575 1457.86 315.63 1453.27 Q318.709 1448.67 324.519 1448.67 Z\" fill=\"#000000\" fill-rule=\"evenodd\" fill-opacity=\"1\" /><path clip-path=\"url(#clip480)\" d=\"M354.681 1452.37 Q351.07 1452.37 349.241 1455.94 Q347.436 1459.48 347.436 1466.61 Q347.436 1473.71 349.241 1477.28 Q351.07 1480.82 354.681 1480.82 Q358.315 1480.82 360.121 1477.28 Q361.949 1473.71 361.949 1466.61 Q361.949 1459.48 360.121 1455.94 Q358.315 1452.37 354.681 1452.37 M354.681 1448.67 Q360.491 1448.67 363.547 1453.27 Q366.625 1457.86 366.625 1466.61 Q366.625 1475.33 363.547 1479.94 Q360.491 1484.52 354.681 1484.52 Q348.871 1484.52 345.792 1479.94 Q342.737 1475.33 342.737 1466.61 Q342.737 1457.86 345.792 1453.27 Q348.871 1448.67 354.681 1448.67 Z\" fill=\"#000000\" fill-rule=\"evenodd\" fill-opacity=\"1\" /><path clip-path=\"url(#clip480)\" d=\"M828.923 1452.37 Q825.312 1452.37 823.483 1455.94 Q821.677 1459.48 821.677 1466.61 Q821.677 1473.71 823.483 1477.28 Q825.312 1480.82 828.923 1480.82 Q832.557 1480.82 834.363 1477.28 Q836.191 1473.71 836.191 1466.61 Q836.191 1459.48 834.363 1455.94 Q832.557 1452.37 828.923 1452.37 M828.923 1448.67 Q834.733 1448.67 837.788 1453.27 Q840.867 1457.86 840.867 1466.61 Q840.867 1475.33 837.788 1479.94 Q834.733 1484.52 828.923 1484.52 Q823.113 1484.52 820.034 1479.94 Q816.978 1475.33 816.978 1466.61 Q816.978 1457.86 820.034 1453.27 Q823.113 1448.67 828.923 1448.67 Z\" fill=\"#000000\" fill-rule=\"evenodd\" fill-opacity=\"1\" /><path clip-path=\"url(#clip480)\" d=\"M849.085 1477.97 L853.969 1477.97 L853.969 1483.85 L849.085 1483.85 L849.085 1477.97 Z\" fill=\"#000000\" fill-rule=\"evenodd\" fill-opacity=\"1\" /><path clip-path=\"url(#clip480)\" d=\"M874.154 1452.37 Q870.543 1452.37 868.714 1455.94 Q866.909 1459.48 866.909 1466.61 Q866.909 1473.71 868.714 1477.28 Q870.543 1480.82 874.154 1480.82 Q877.788 1480.82 879.594 1477.28 Q881.422 1473.71 881.422 1466.61 Q881.422 1459.48 879.594 1455.94 Q877.788 1452.37 874.154 1452.37 M874.154 1448.67 Q879.964 1448.67 883.02 1453.27 Q886.098 1457.86 886.098 1466.61 Q886.098 1475.33 883.02 1479.94 Q879.964 1484.52 874.154 1484.52 Q868.344 1484.52 865.265 1479.94 Q862.21 1475.33 862.21 1466.61 Q862.21 1457.86 865.265 1453.27 Q868.344 1448.67 874.154 1448.67 Z\" fill=\"#000000\" fill-rule=\"evenodd\" fill-opacity=\"1\" /><path clip-path=\"url(#clip480)\" d=\"M895.126 1479.92 L902.765 1479.92 L902.765 1453.55 L894.455 1455.22 L894.455 1450.96 L902.719 1449.29 L907.395 1449.29 L907.395 1479.92 L915.033 1479.92 L915.033 1483.85 L895.126 1483.85 L895.126 1479.92 Z\" fill=\"#000000\" fill-rule=\"evenodd\" fill-opacity=\"1\" /><path clip-path=\"url(#clip480)\" d=\"M1378.13 1452.37 Q1374.52 1452.37 1372.69 1455.94 Q1370.88 1459.48 1370.88 1466.61 Q1370.88 1473.71 1372.69 1477.28 Q1374.52 1480.82 1378.13 1480.82 Q1381.76 1480.82 1383.57 1477.28 Q1385.4 1473.71 1385.4 1466.61 Q1385.4 1459.48 1383.57 1455.94 Q1381.76 1452.37 1378.13 1452.37 M1378.13 1448.67 Q1383.94 1448.67 1387 1453.27 Q1390.07 1457.86 1390.07 1466.61 Q1390.07 1475.33 1387 1479.94 Q1383.94 1484.52 1378.13 1484.52 Q1372.32 1484.52 1369.24 1479.94 Q1366.18 1475.33 1366.18 1466.61 Q1366.18 1457.86 1369.24 1453.27 Q1372.32 1448.67 1378.13 1448.67 Z\" fill=\"#000000\" fill-rule=\"evenodd\" fill-opacity=\"1\" /><path clip-path=\"url(#clip480)\" d=\"M1398.29 1477.97 L1403.18 1477.97 L1403.18 1483.85 L1398.29 1483.85 L1398.29 1477.97 Z\" fill=\"#000000\" fill-rule=\"evenodd\" fill-opacity=\"1\" /><path clip-path=\"url(#clip480)\" d=\"M1423.36 1452.37 Q1419.75 1452.37 1417.92 1455.94 Q1416.12 1459.48 1416.12 1466.61 Q1416.12 1473.71 1417.92 1477.28 Q1419.75 1480.82 1423.36 1480.82 Q1426.99 1480.82 1428.8 1477.28 Q1430.63 1473.71 1430.63 1466.61 Q1430.63 1459.48 1428.8 1455.94 Q1426.99 1452.37 1423.36 1452.37 M1423.36 1448.67 Q1429.17 1448.67 1432.23 1453.27 Q1435.3 1457.86 1435.3 1466.61 Q1435.3 1475.33 1432.23 1479.94 Q1429.17 1484.52 1423.36 1484.52 Q1417.55 1484.52 1414.47 1479.94 Q1411.42 1475.33 1411.42 1466.61 Q1411.42 1457.86 1414.47 1453.27 Q1417.55 1448.67 1423.36 1448.67 Z\" fill=\"#000000\" fill-rule=\"evenodd\" fill-opacity=\"1\" /><path clip-path=\"url(#clip480)\" d=\"M1447.55 1479.92 L1463.87 1479.92 L1463.87 1483.85 L1441.93 1483.85 L1441.93 1479.92 Q1444.59 1477.16 1449.17 1472.53 Q1453.78 1467.88 1454.96 1466.54 Q1457.2 1464.01 1458.08 1462.28 Q1458.99 1460.52 1458.99 1458.83 Q1458.99 1456.07 1457.04 1454.34 Q1455.12 1452.6 1452.02 1452.6 Q1449.82 1452.6 1447.37 1453.37 Q1444.93 1454.13 1442.16 1455.68 L1442.16 1450.96 Q1444.98 1449.82 1447.43 1449.25 Q1449.89 1448.67 1451.93 1448.67 Q1457.3 1448.67 1460.49 1451.35 Q1463.68 1454.04 1463.68 1458.53 Q1463.68 1460.66 1462.87 1462.58 Q1462.09 1464.48 1459.98 1467.07 Q1459.4 1467.74 1456.3 1470.96 Q1453.2 1474.15 1447.55 1479.92 Z\" fill=\"#000000\" fill-rule=\"evenodd\" fill-opacity=\"1\" /><path clip-path=\"url(#clip480)\" d=\"M1926.68 1452.37 Q1923.07 1452.37 1921.24 1455.94 Q1919.43 1459.48 1919.43 1466.61 Q1919.43 1473.71 1921.24 1477.28 Q1923.07 1480.82 1926.68 1480.82 Q1930.31 1480.82 1932.12 1477.28 Q1933.94 1473.71 1933.94 1466.61 Q1933.94 1459.48 1932.12 1455.94 Q1930.31 1452.37 1926.68 1452.37 M1926.68 1448.67 Q1932.49 1448.67 1935.54 1453.27 Q1938.62 1457.86 1938.62 1466.61 Q1938.62 1475.33 1935.54 1479.94 Q1932.49 1484.52 1926.68 1484.52 Q1920.87 1484.52 1917.79 1479.94 Q1914.73 1475.33 1914.73 1466.61 Q1914.73 1457.86 1917.79 1453.27 Q1920.87 1448.67 1926.68 1448.67 Z\" fill=\"#000000\" fill-rule=\"evenodd\" fill-opacity=\"1\" /><path clip-path=\"url(#clip480)\" d=\"M1946.84 1477.97 L1951.72 1477.97 L1951.72 1483.85 L1946.84 1483.85 L1946.84 1477.97 Z\" fill=\"#000000\" fill-rule=\"evenodd\" fill-opacity=\"1\" /><path clip-path=\"url(#clip480)\" d=\"M1971.91 1452.37 Q1968.3 1452.37 1966.47 1455.94 Q1964.66 1459.48 1964.66 1466.61 Q1964.66 1473.71 1966.47 1477.28 Q1968.3 1480.82 1971.91 1480.82 Q1975.54 1480.82 1977.35 1477.28 Q1979.18 1473.71 1979.18 1466.61 Q1979.18 1459.48 1977.35 1455.94 Q1975.54 1452.37 1971.91 1452.37 M1971.91 1448.67 Q1977.72 1448.67 1980.77 1453.27 Q1983.85 1457.86 1983.85 1466.61 Q1983.85 1475.33 1980.77 1479.94 Q1977.72 1484.52 1971.91 1484.52 Q1966.1 1484.52 1963.02 1479.94 Q1959.96 1475.33 1959.96 1466.61 Q1959.96 1457.86 1963.02 1453.27 Q1966.1 1448.67 1971.91 1448.67 Z\" fill=\"#000000\" fill-rule=\"evenodd\" fill-opacity=\"1\" /><path clip-path=\"url(#clip480)\" d=\"M2006.24 1465.22 Q2009.59 1465.94 2011.47 1468.2 Q2013.37 1470.47 2013.37 1473.81 Q2013.37 1478.92 2009.85 1481.72 Q2006.33 1484.52 1999.85 1484.52 Q1997.67 1484.52 1995.36 1484.08 Q1993.06 1483.67 1990.61 1482.81 L1990.61 1478.3 Q1992.56 1479.43 1994.87 1480.01 Q1997.19 1480.59 1999.71 1480.59 Q2004.11 1480.59 2006.4 1478.85 Q2008.71 1477.12 2008.71 1473.81 Q2008.71 1470.75 2006.56 1469.04 Q2004.43 1467.3 2000.61 1467.3 L1996.58 1467.3 L1996.58 1463.46 L2000.8 1463.46 Q2004.25 1463.46 2006.07 1462.09 Q2007.9 1460.7 2007.9 1458.11 Q2007.9 1455.45 2006 1454.04 Q2004.13 1452.6 2000.61 1452.6 Q1998.69 1452.6 1996.49 1453.02 Q1994.29 1453.44 1991.65 1454.31 L1991.65 1450.15 Q1994.31 1449.41 1996.63 1449.04 Q1998.97 1448.67 2001.03 1448.67 Q2006.35 1448.67 2009.45 1451.1 Q2012.56 1453.5 2012.56 1457.63 Q2012.56 1460.5 2010.91 1462.49 Q2009.27 1464.45 2006.24 1465.22 Z\" fill=\"#000000\" fill-rule=\"evenodd\" fill-opacity=\"1\" /><path clip-path=\"url(#clip480)\" d=\"M1263.89 1522.27 L1263.89 1532.4 L1275.96 1532.4 L1275.96 1536.95 L1263.89 1536.95 L1263.89 1556.3 Q1263.89 1560.66 1265.07 1561.9 Q1266.28 1563.14 1269.94 1563.14 L1275.96 1563.14 L1275.96 1568.04 L1269.94 1568.04 Q1263.16 1568.04 1260.58 1565.53 Q1258.01 1562.98 1258.01 1556.3 L1258.01 1536.95 L1253.71 1536.95 L1253.71 1532.4 L1258.01 1532.4 L1258.01 1522.27 L1263.89 1522.27 Z\" fill=\"#000000\" fill-rule=\"evenodd\" fill-opacity=\"1\" /><path clip-path=\"url(#clip480)\" d=\"M1297.73 1518.58 Q1293.46 1525.9 1291.39 1533.06 Q1289.32 1540.23 1289.32 1547.58 Q1289.32 1554.93 1291.39 1562.16 Q1293.49 1569.35 1297.73 1576.64 L1292.63 1576.64 Q1287.86 1569.16 1285.47 1561.93 Q1283.12 1554.71 1283.12 1547.58 Q1283.12 1540.48 1285.47 1533.29 Q1287.83 1526.09 1292.63 1518.58 L1297.73 1518.58 Z\" fill=\"#000000\" fill-rule=\"evenodd\" fill-opacity=\"1\" /><path clip-path=\"url(#clip480)\" d=\"M1331.82 1533.45 L1331.82 1538.98 Q1329.33 1537.71 1326.66 1537.07 Q1323.99 1536.44 1321.12 1536.44 Q1316.76 1536.44 1314.56 1537.77 Q1312.4 1539.11 1312.4 1541.79 Q1312.4 1543.82 1313.96 1545 Q1315.52 1546.15 1320.23 1547.2 L1322.24 1547.64 Q1328.47 1548.98 1331.08 1551.43 Q1333.73 1553.85 1333.73 1558.21 Q1333.73 1563.17 1329.78 1566.07 Q1325.86 1568.97 1318.99 1568.97 Q1316.12 1568.97 1313.01 1568.39 Q1309.92 1567.85 1306.48 1566.74 L1306.48 1560.69 Q1309.73 1562.38 1312.88 1563.24 Q1316.03 1564.07 1319.12 1564.07 Q1323.25 1564.07 1325.48 1562.66 Q1327.71 1561.23 1327.71 1558.65 Q1327.71 1556.27 1326.09 1554.99 Q1324.5 1553.72 1319.05 1552.54 L1317.02 1552.07 Q1311.57 1550.92 1309.15 1548.56 Q1306.73 1546.18 1306.73 1542.04 Q1306.73 1537.01 1310.3 1534.27 Q1313.86 1531.54 1320.42 1531.54 Q1323.67 1531.54 1326.53 1532.01 Q1329.4 1532.49 1331.82 1533.45 Z\" fill=\"#000000\" fill-rule=\"evenodd\" fill-opacity=\"1\" /><path clip-path=\"url(#clip480)\" d=\"M1342.13 1518.58 L1347.22 1518.58 Q1352 1526.09 1354.35 1533.29 Q1356.74 1540.48 1356.74 1547.58 Q1356.74 1554.71 1354.35 1561.93 Q1352 1569.16 1347.22 1576.64 L1342.13 1576.64 Q1346.36 1569.35 1348.43 1562.16 Q1350.53 1554.93 1350.53 1547.58 Q1350.53 1540.23 1348.43 1533.06 Q1346.36 1525.9 1342.13 1518.58 Z\" fill=\"#000000\" fill-rule=\"evenodd\" fill-opacity=\"1\" /><polyline clip-path=\"url(#clip482)\" style=\"stroke:#000000; stroke-linecap:butt; stroke-linejoin:round; stroke-width:2; stroke-opacity:0.1; fill:none\" points=\"\n  257.69,1259.68 2352.76,1259.68 \n  \"/>\n<polyline clip-path=\"url(#clip482)\" style=\"stroke:#000000; stroke-linecap:butt; stroke-linejoin:round; stroke-width:2; stroke-opacity:0.1; fill:none\" points=\"\n  257.69,997.428 2352.76,997.428 \n  \"/>\n<polyline clip-path=\"url(#clip482)\" style=\"stroke:#000000; stroke-linecap:butt; stroke-linejoin:round; stroke-width:2; stroke-opacity:0.1; fill:none\" points=\"\n  257.69,735.171 2352.76,735.171 \n  \"/>\n<polyline clip-path=\"url(#clip482)\" style=\"stroke:#000000; stroke-linecap:butt; stroke-linejoin:round; stroke-width:2; stroke-opacity:0.1; fill:none\" points=\"\n  257.69,472.914 2352.76,472.914 \n  \"/>\n<polyline clip-path=\"url(#clip482)\" style=\"stroke:#000000; stroke-linecap:butt; stroke-linejoin:round; stroke-width:2; stroke-opacity:0.1; fill:none\" points=\"\n  257.69,210.657 2352.76,210.657 \n  \"/>\n<polyline clip-path=\"url(#clip480)\" style=\"stroke:#000000; stroke-linecap:butt; stroke-linejoin:round; stroke-width:4; stroke-opacity:1; fill:none\" points=\"\n  257.69,1423.18 257.69,47.2441 \n  \"/>\n<polyline clip-path=\"url(#clip480)\" style=\"stroke:#000000; stroke-linecap:butt; stroke-linejoin:round; stroke-width:4; stroke-opacity:1; fill:none\" points=\"\n  257.69,1259.68 282.831,1259.68 \n  \"/>\n<polyline clip-path=\"url(#clip480)\" style=\"stroke:#000000; stroke-linecap:butt; stroke-linejoin:round; stroke-width:4; stroke-opacity:1; fill:none\" points=\"\n  257.69,997.428 282.831,997.428 \n  \"/>\n<polyline clip-path=\"url(#clip480)\" style=\"stroke:#000000; stroke-linecap:butt; stroke-linejoin:round; stroke-width:4; stroke-opacity:1; fill:none\" points=\"\n  257.69,735.171 282.831,735.171 \n  \"/>\n<polyline clip-path=\"url(#clip480)\" style=\"stroke:#000000; stroke-linecap:butt; stroke-linejoin:round; stroke-width:4; stroke-opacity:1; fill:none\" points=\"\n  257.69,472.914 282.831,472.914 \n  \"/>\n<polyline clip-path=\"url(#clip480)\" style=\"stroke:#000000; stroke-linecap:butt; stroke-linejoin:round; stroke-width:4; stroke-opacity:1; fill:none\" points=\"\n  257.69,210.657 282.831,210.657 \n  \"/>\n<path clip-path=\"url(#clip480)\" d=\"M114.26 1260.14 L143.936 1260.14 L143.936 1264.07 L114.26 1264.07 L114.26 1260.14 Z\" fill=\"#000000\" fill-rule=\"evenodd\" fill-opacity=\"1\" /><path clip-path=\"url(#clip480)\" d=\"M164.028 1245.48 Q160.417 1245.48 158.589 1249.05 Q156.783 1252.59 156.783 1259.72 Q156.783 1266.83 158.589 1270.39 Q160.417 1273.93 164.028 1273.93 Q167.663 1273.93 169.468 1270.39 Q171.297 1266.83 171.297 1259.72 Q171.297 1252.59 169.468 1249.05 Q167.663 1245.48 164.028 1245.48 M164.028 1241.78 Q169.839 1241.78 172.894 1246.39 Q175.973 1250.97 175.973 1259.72 Q175.973 1268.45 172.894 1273.05 Q169.839 1277.64 164.028 1277.64 Q158.218 1277.64 155.14 1273.05 Q152.084 1268.45 152.084 1259.72 Q152.084 1250.97 155.14 1246.39 Q158.218 1241.78 164.028 1241.78 Z\" fill=\"#000000\" fill-rule=\"evenodd\" fill-opacity=\"1\" /><path clip-path=\"url(#clip480)\" d=\"M184.19 1271.09 L189.075 1271.09 L189.075 1276.96 L184.19 1276.96 L184.19 1271.09 Z\" fill=\"#000000\" fill-rule=\"evenodd\" fill-opacity=\"1\" /><path clip-path=\"url(#clip480)\" d=\"M212.107 1246.48 L200.301 1264.93 L212.107 1264.93 L212.107 1246.48 M210.88 1242.4 L216.76 1242.4 L216.76 1264.93 L221.69 1264.93 L221.69 1268.82 L216.76 1268.82 L216.76 1276.96 L212.107 1276.96 L212.107 1268.82 L196.505 1268.82 L196.505 1264.3 L210.88 1242.4 Z\" fill=\"#000000\" fill-rule=\"evenodd\" fill-opacity=\"1\" /><path clip-path=\"url(#clip480)\" d=\"M116.343 997.879 L146.019 997.879 L146.019 1001.81 L116.343 1001.81 L116.343 997.879 Z\" fill=\"#000000\" fill-rule=\"evenodd\" fill-opacity=\"1\" /><path clip-path=\"url(#clip480)\" d=\"M166.112 983.227 Q162.501 983.227 160.672 986.791 Q158.866 990.333 158.866 997.463 Q158.866 1004.57 160.672 1008.13 Q162.501 1011.68 166.112 1011.68 Q169.746 1011.68 171.552 1008.13 Q173.38 1004.57 173.38 997.463 Q173.38 990.333 171.552 986.791 Q169.746 983.227 166.112 983.227 M166.112 979.523 Q171.922 979.523 174.977 984.129 Q178.056 988.713 178.056 997.463 Q178.056 1006.19 174.977 1010.8 Q171.922 1015.38 166.112 1015.38 Q160.302 1015.38 157.223 1010.8 Q154.167 1006.19 154.167 997.463 Q154.167 988.713 157.223 984.129 Q160.302 979.523 166.112 979.523 Z\" fill=\"#000000\" fill-rule=\"evenodd\" fill-opacity=\"1\" /><path clip-path=\"url(#clip480)\" d=\"M186.274 1008.83 L191.158 1008.83 L191.158 1014.71 L186.274 1014.71 L186.274 1008.83 Z\" fill=\"#000000\" fill-rule=\"evenodd\" fill-opacity=\"1\" /><path clip-path=\"url(#clip480)\" d=\"M205.371 1010.77 L221.69 1010.77 L221.69 1014.71 L199.746 1014.71 L199.746 1010.77 Q202.408 1008.02 206.991 1003.39 Q211.598 998.736 212.778 997.393 Q215.024 994.87 215.903 993.134 Q216.806 991.375 216.806 989.685 Q216.806 986.93 214.861 985.194 Q212.94 983.458 209.838 983.458 Q207.639 983.458 205.186 984.222 Q202.755 984.986 199.977 986.537 L199.977 981.814 Q202.801 980.68 205.255 980.102 Q207.709 979.523 209.746 979.523 Q215.116 979.523 218.311 982.208 Q221.505 984.893 221.505 989.384 Q221.505 991.514 220.695 993.435 Q219.908 995.333 217.801 997.926 Q217.223 998.597 214.121 1001.81 Q211.019 1005.01 205.371 1010.77 Z\" fill=\"#000000\" fill-rule=\"evenodd\" fill-opacity=\"1\" /><path clip-path=\"url(#clip480)\" d=\"M164.515 720.97 Q160.903 720.97 159.075 724.534 Q157.269 728.076 157.269 735.206 Q157.269 742.312 159.075 745.877 Q160.903 749.419 164.515 749.419 Q168.149 749.419 169.954 745.877 Q171.783 742.312 171.783 735.206 Q171.783 728.076 169.954 724.534 Q168.149 720.97 164.515 720.97 M164.515 717.266 Q170.325 717.266 173.38 721.872 Q176.459 726.456 176.459 735.206 Q176.459 743.932 173.38 748.539 Q170.325 753.122 164.515 753.122 Q158.704 753.122 155.626 748.539 Q152.57 743.932 152.57 735.206 Q152.57 726.456 155.626 721.872 Q158.704 717.266 164.515 717.266 Z\" fill=\"#000000\" fill-rule=\"evenodd\" fill-opacity=\"1\" /><path clip-path=\"url(#clip480)\" d=\"M184.676 746.571 L189.561 746.571 L189.561 752.451 L184.676 752.451 L184.676 746.571 Z\" fill=\"#000000\" fill-rule=\"evenodd\" fill-opacity=\"1\" /><path clip-path=\"url(#clip480)\" d=\"M209.746 720.97 Q206.135 720.97 204.306 724.534 Q202.5 728.076 202.5 735.206 Q202.5 742.312 204.306 745.877 Q206.135 749.419 209.746 749.419 Q213.38 749.419 215.186 745.877 Q217.014 742.312 217.014 735.206 Q217.014 728.076 215.186 724.534 Q213.38 720.97 209.746 720.97 M209.746 717.266 Q215.556 717.266 218.611 721.872 Q221.69 726.456 221.69 735.206 Q221.69 743.932 218.611 748.539 Q215.556 753.122 209.746 753.122 Q203.936 753.122 200.857 748.539 Q197.801 743.932 197.801 735.206 Q197.801 726.456 200.857 721.872 Q203.936 717.266 209.746 717.266 Z\" fill=\"#000000\" fill-rule=\"evenodd\" fill-opacity=\"1\" /><path clip-path=\"url(#clip480)\" d=\"M166.112 458.713 Q162.501 458.713 160.672 462.278 Q158.866 465.819 158.866 472.949 Q158.866 480.055 160.672 483.62 Q162.501 487.162 166.112 487.162 Q169.746 487.162 171.552 483.62 Q173.38 480.055 173.38 472.949 Q173.38 465.819 171.552 462.278 Q169.746 458.713 166.112 458.713 M166.112 455.009 Q171.922 455.009 174.977 459.616 Q178.056 464.199 178.056 472.949 Q178.056 481.676 174.977 486.282 Q171.922 490.865 166.112 490.865 Q160.302 490.865 157.223 486.282 Q154.167 481.676 154.167 472.949 Q154.167 464.199 157.223 459.616 Q160.302 455.009 166.112 455.009 Z\" fill=\"#000000\" fill-rule=\"evenodd\" fill-opacity=\"1\" /><path clip-path=\"url(#clip480)\" d=\"M186.274 484.315 L191.158 484.315 L191.158 490.194 L186.274 490.194 L186.274 484.315 Z\" fill=\"#000000\" fill-rule=\"evenodd\" fill-opacity=\"1\" /><path clip-path=\"url(#clip480)\" d=\"M205.371 486.259 L221.69 486.259 L221.69 490.194 L199.746 490.194 L199.746 486.259 Q202.408 483.504 206.991 478.875 Q211.598 474.222 212.778 472.879 Q215.024 470.356 215.903 468.62 Q216.806 466.861 216.806 465.171 Q216.806 462.416 214.861 460.68 Q212.94 458.944 209.838 458.944 Q207.639 458.944 205.186 459.708 Q202.755 460.472 199.977 462.023 L199.977 457.301 Q202.801 456.167 205.255 455.588 Q207.709 455.009 209.746 455.009 Q215.116 455.009 218.311 457.694 Q221.505 460.379 221.505 464.87 Q221.505 467 220.695 468.921 Q219.908 470.819 217.801 473.412 Q217.223 474.083 214.121 477.301 Q211.019 480.495 205.371 486.259 Z\" fill=\"#000000\" fill-rule=\"evenodd\" fill-opacity=\"1\" /><path clip-path=\"url(#clip480)\" d=\"M164.028 196.456 Q160.417 196.456 158.589 200.021 Q156.783 203.562 156.783 210.692 Q156.783 217.798 158.589 221.363 Q160.417 224.905 164.028 224.905 Q167.663 224.905 169.468 221.363 Q171.297 217.798 171.297 210.692 Q171.297 203.562 169.468 200.021 Q167.663 196.456 164.028 196.456 M164.028 192.752 Q169.839 192.752 172.894 197.359 Q175.973 201.942 175.973 210.692 Q175.973 219.419 172.894 224.025 Q169.839 228.609 164.028 228.609 Q158.218 228.609 155.14 224.025 Q152.084 219.419 152.084 210.692 Q152.084 201.942 155.14 197.359 Q158.218 192.752 164.028 192.752 Z\" fill=\"#000000\" fill-rule=\"evenodd\" fill-opacity=\"1\" /><path clip-path=\"url(#clip480)\" d=\"M184.19 222.058 L189.075 222.058 L189.075 227.937 L184.19 227.937 L184.19 222.058 Z\" fill=\"#000000\" fill-rule=\"evenodd\" fill-opacity=\"1\" /><path clip-path=\"url(#clip480)\" d=\"M212.107 197.451 L200.301 215.9 L212.107 215.9 L212.107 197.451 M210.88 193.377 L216.76 193.377 L216.76 215.9 L221.69 215.9 L221.69 219.789 L216.76 219.789 L216.76 227.937 L212.107 227.937 L212.107 219.789 L196.505 219.789 L196.505 215.275 L210.88 193.377 Z\" fill=\"#000000\" fill-rule=\"evenodd\" fill-opacity=\"1\" /><path clip-path=\"url(#clip480)\" d=\"M16.4842 786.551 L16.4842 780.122 L64.0042 780.122 L64.0042 786.551 L16.4842 786.551 Z\" fill=\"#000000\" fill-rule=\"evenodd\" fill-opacity=\"1\" /><path clip-path=\"url(#clip480)\" d=\"M14.5426 753.513 Q21.8632 757.778 29.0246 759.847 Q36.186 761.916 43.5384 761.916 Q50.8908 761.916 58.1159 759.847 Q65.3091 757.747 72.5979 753.513 L72.5979 758.606 Q65.1182 763.38 57.8931 765.767 Q50.668 768.123 43.5384 768.123 Q36.4406 768.123 29.2474 765.767 Q22.0542 763.412 14.5426 758.606 L14.5426 753.513 Z\" fill=\"#000000\" fill-rule=\"evenodd\" fill-opacity=\"1\" /><path clip-path=\"url(#clip480)\" d=\"M22.818 726.014 L46.4666 734.735 L46.4666 717.261 L22.818 726.014 M16.4842 729.642 L16.4842 722.353 L64.0042 704.243 L64.0042 710.927 L51.8138 715.255 L51.8138 736.676 L64.0042 741.005 L64.0042 747.784 L16.4842 729.642 Z\" fill=\"#000000\" fill-rule=\"evenodd\" fill-opacity=\"1\" /><path clip-path=\"url(#clip480)\" d=\"M14.5426 698.482 L14.5426 693.389 Q22.0542 688.615 29.2474 686.26 Q36.4406 683.873 43.5384 683.873 Q50.668 683.873 57.8931 686.26 Q65.1182 688.615 72.5979 693.389 L72.5979 698.482 Q65.3091 694.249 58.1159 692.18 Q50.8908 690.079 43.5384 690.079 Q36.186 690.079 29.0246 692.18 Q21.8632 694.249 14.5426 698.482 Z\" fill=\"#000000\" fill-rule=\"evenodd\" fill-opacity=\"1\" /><polyline clip-path=\"url(#clip482)\" style=\"stroke:#009af9; stroke-linecap:butt; stroke-linejoin:round; stroke-width:4; stroke-opacity:1; fill:none\" points=\"\n  316.984,735.171 336.749,676.523 356.514,618.355 376.279,561.143 396.044,505.354 415.808,451.445 435.573,399.858 455.338,351.013 475.103,305.311 494.867,263.126 \n  514.632,224.802 534.397,190.654 554.162,160.96 573.926,135.963 593.691,115.869 613.456,100.84 633.221,91.001 652.986,86.4316 672.75,87.1694 692.515,93.2082 \n  712.28,104.499 732.045,120.948 751.809,142.423 771.574,168.747 791.339,199.704 811.104,235.042 830.869,274.471 850.633,317.669 870.398,364.283 890.163,413.93 \n  909.928,466.206 929.692,520.682 949.457,576.912 969.222,634.437 988.987,692.787 1008.75,751.483 1028.52,810.045 1048.28,867.995 1068.05,924.859 1087.81,980.17 \n  1107.58,1033.48 1127.34,1084.34 1147.1,1132.36 1166.87,1177.12 1186.63,1218.26 1206.4,1255.46 1226.16,1288.39 1245.93,1316.81 1265.69,1340.46 1285.46,1359.16 \n  1305.22,1372.76 1324.99,1381.14 1344.75,1384.24 1364.52,1382.03 1384.28,1374.52 1404.05,1361.79 1423.81,1343.93 1443.58,1321.08 1463.34,1293.45 1483.11,1261.25 \n  1502.87,1224.74 1522.64,1184.23 1542.4,1140.05 1562.17,1092.56 1581.93,1042.14 1601.69,989.206 1621.46,934.197 1641.22,877.561 1660.99,819.759 1680.75,761.265 \n  1700.52,702.558 1720.28,644.118 1740.05,586.422 1759.81,529.944 1779.58,475.144 1799.34,422.472 1819.11,372.357 1838.87,325.211 1858.64,281.418 1878.4,241.338 \n  1898.17,205.297 1917.93,173.591 1937.7,146.479 1957.46,124.183 1977.23,106.885 1996.99,94.7272 2016.75,87.8085 2036.52,86.1857 2056.28,89.872 2076.05,98.8372 \n  2095.81,113.008 2115.58,132.269 2135.34,156.461 2155.11,185.388 2174.87,218.813 2194.64,256.462 2214.4,298.027 2234.17,343.168 2253.93,391.515 2273.7,442.675 \n  2293.46,496.227 \n  \"/>\n<path clip-path=\"url(#clip480)\" d=\"\nM1997.71 214.069 L2282.92 214.069 L2282.92 93.1086 L1997.71 93.1086  Z\n  \" fill=\"#ffffff\" fill-rule=\"evenodd\" fill-opacity=\"1\"/>\n<polyline clip-path=\"url(#clip480)\" style=\"stroke:#000000; stroke-linecap:butt; stroke-linejoin:round; stroke-width:4; stroke-opacity:1; fill:none\" points=\"\n  1997.71,214.069 2282.92,214.069 2282.92,93.1086 1997.71,93.1086 1997.71,214.069 \n  \"/>\n<polyline clip-path=\"url(#clip480)\" style=\"stroke:#009af9; stroke-linecap:butt; stroke-linejoin:round; stroke-width:4; stroke-opacity:1; fill:none\" points=\"\n  2020.98,153.589 2160.65,153.589 \n  \"/>\n<path clip-path=\"url(#clip480)\" d=\"M2197.78 173.276 Q2195.97 177.906 2194.26 179.318 Q2192.54 180.73 2189.67 180.73 L2186.27 180.73 L2186.27 177.165 L2188.77 177.165 Q2190.53 177.165 2191.5 176.332 Q2192.47 175.498 2193.66 172.396 L2194.42 170.452 L2183.93 144.943 L2188.45 144.943 L2196.55 165.221 L2204.65 144.943 L2209.16 144.943 L2197.78 173.276 Z\" fill=\"#000000\" fill-rule=\"evenodd\" fill-opacity=\"1\" /><path clip-path=\"url(#clip480)\" d=\"M2216.46 166.933 L2224.09 166.933 L2224.09 140.568 L2215.78 142.235 L2215.78 137.975 L2224.05 136.309 L2228.72 136.309 L2228.72 166.933 L2236.36 166.933 L2236.36 170.869 L2216.46 170.869 L2216.46 166.933 Z\" fill=\"#000000\" fill-rule=\"evenodd\" fill-opacity=\"1\" /></svg>\n"
          },
          "metadata": {}
        }
      ],
      "execution_count": 79,
      "metadata": {
        "collapsed": false,
        "jupyter": {
          "source_hidden": false,
          "outputs_hidden": false
        },
        "nteract": {
          "transient": {
            "deleting": false
          }
        },
        "execution": {
          "iopub.status.busy": "2021-10-24T13:28:39.234Z",
          "iopub.execute_input": "2021-10-24T13:28:39.248Z",
          "iopub.status.idle": "2021-10-24T13:28:39.439Z"
        }
      }
    },
    {
      "cell_type": "markdown",
      "source": [
        "14-6\n",
        "\n",
        "Kirjan vastaus: a) 330 V b) ei"
      ],
      "metadata": {
        "nteract": {
          "transient": {
            "deleting": false
          }
        }
      }
    },
    {
      "cell_type": "code",
      "source": [
        "U=230\n",
        "u0=sqrt(2)*U\n",
        "@printf(\"Huippuarvo %.0f V.\\n\", u0)\n"
      ],
      "outputs": [
        {
          "output_type": "stream",
          "name": "stdout",
          "text": [
            "Huippuarvo 325 V.\n"
          ]
        }
      ],
      "execution_count": 80,
      "metadata": {
        "collapsed": true,
        "jupyter": {
          "source_hidden": false,
          "outputs_hidden": false
        },
        "nteract": {
          "transient": {
            "deleting": false
          }
        },
        "execution": {
          "iopub.status.busy": "2021-10-24T13:31:13.251Z",
          "iopub.execute_input": "2021-10-24T13:31:13.264Z",
          "iopub.status.idle": "2021-10-24T13:31:13.286Z"
        }
      }
    },
    {
      "cell_type": "markdown",
      "source": [
        "14-7\n",
        "\n",
        "Kirjan vastaus: a) 540 V b) 27 A"
      ],
      "metadata": {
        "nteract": {
          "transient": {
            "deleting": false
          }
        }
      }
    },
    {
      "cell_type": "code",
      "source": [
        "N=1200\n",
        "B=1.2\n",
        "A=150e-4\n",
        "omega=1500/60\n",
        "u0=N*A*B*omega\n",
        "@printf(\"Huippujännite on %.0f V.\\n\", u0)\n",
        "R=20\n",
        "i0=u0/R\n",
        "@printf(\"Huippuvirta on %.0f A.\\n\", i0)\n"
      ],
      "outputs": [
        {
          "output_type": "stream",
          "name": "stdout",
          "text": [
            "Huippujännite on 540 V.\n",
            "Huippuvirta on 27 A.\n"
          ]
        }
      ],
      "execution_count": 86,
      "metadata": {
        "collapsed": true,
        "jupyter": {
          "source_hidden": false,
          "outputs_hidden": false
        },
        "nteract": {
          "transient": {
            "deleting": false
          }
        },
        "execution": {
          "iopub.status.busy": "2021-10-24T13:51:50.899Z",
          "iopub.execute_input": "2021-10-24T13:51:50.914Z",
          "iopub.status.idle": "2021-10-24T13:51:50.947Z"
        }
      }
    },
    {
      "cell_type": "markdown",
      "source": [
        "14-8\n",
        "\n",
        "Kirjan vastaus: a) 100 Ω b) 190 kJ c) 90 V"
      ],
      "metadata": {
        "nteract": {
          "transient": {
            "deleting": false
          }
        }
      }
    },
    {
      "cell_type": "code",
      "source": [
        "u0=120\n",
        "i0=1.2\n",
        "R=u0/i0\n",
        "@printf(\"Vastus on %.0f Ω.\\n\",R)\n",
        "w0=i0*u0/2*45*60\n",
        "@printf(\"Lämpömäärä 45 minuutin aikana on %.2e J.\\n\",w0);\n",
        "ia=0.9\n",
        "ua=ia*R\n",
        "@printf(\"Jännitehävio, kun virta on %.1f A on %.0f V.\\n\",ia,ua);"
      ],
      "outputs": [
        {
          "output_type": "stream",
          "name": "stdout",
          "text": [
            "Vastus on 100 Ω.\n",
            "Lämpömäärä 45 minuutin aikana on 1.94e+05 J.\n",
            "Jännitehävio, kun virta on 0.9 A on 90 V.\n"
          ]
        }
      ],
      "execution_count": 88,
      "metadata": {
        "collapsed": true,
        "jupyter": {
          "source_hidden": false,
          "outputs_hidden": false
        },
        "nteract": {
          "transient": {
            "deleting": false
          }
        },
        "execution": {
          "iopub.status.busy": "2021-10-24T13:59:12.832Z",
          "iopub.execute_input": "2021-10-24T13:59:12.846Z",
          "iopub.status.idle": "2021-10-24T13:59:12.890Z"
        }
      }
    },
    {
      "cell_type": "markdown",
      "source": [
        "14-9 $P=U*I, I=U/R \\rightarrow U=R*I, P=R*I*I$\n",
        "\n",
        "Kirjan vastaus: a) 7.1 A b) 10 A"
      ],
      "metadata": {
        "nteract": {
          "transient": {
            "deleting": false
          }
        }
      }
    },
    {
      "cell_type": "code",
      "source": [
        "P=1200\n",
        "R=24\n",
        "I=sqrt(P/R)\n",
        "i0=I*sqrt(2)\n",
        "@printf(\"Tehollinen virta on %.1f A.\\n\",I)\n",
        "@printf(\"Huippuvirta on %.1f A.\\n\",i0)"
      ],
      "outputs": [
        {
          "output_type": "stream",
          "name": "stdout",
          "text": [
            "Tehollinen virta on 7.1 A.\n",
            "Huippuvirta on 10.0 A.\n"
          ]
        }
      ],
      "execution_count": 91,
      "metadata": {
        "collapsed": true,
        "jupyter": {
          "source_hidden": false,
          "outputs_hidden": false
        },
        "nteract": {
          "transient": {
            "deleting": false
          }
        },
        "execution": {
          "iopub.status.busy": "2021-10-24T15:01:40.606Z",
          "iopub.execute_input": "2021-10-24T15:01:40.620Z",
          "iopub.status.idle": "2021-10-24T15:01:40.650Z"
        }
      }
    },
    {
      "cell_type": "markdown",
      "source": [
        "14-10\n",
        "\n",
        "Kirjan vastaus: 92 mA"
      ],
      "metadata": {
        "nteract": {
          "transient": {
            "deleting": false
          }
        }
      }
    },
    {
      "cell_type": "code",
      "source": [
        "u0=325\n",
        "i0=u0/2500\n",
        "I=i0/sqrt(2)\n",
        "@printf(\"Tehollinen virta on %.3f A.\\n\",I)"
      ],
      "outputs": [
        {
          "output_type": "stream",
          "name": "stdout",
          "text": [
            "Tehollinen virta on 0.092 A.\n"
          ]
        }
      ],
      "execution_count": 100,
      "metadata": {
        "collapsed": true,
        "jupyter": {
          "source_hidden": false,
          "outputs_hidden": false
        },
        "nteract": {
          "transient": {
            "deleting": false
          }
        },
        "execution": {
          "iopub.status.busy": "2021-10-24T15:08:40.999Z",
          "iopub.execute_input": "2021-10-24T15:08:41.011Z",
          "iopub.status.idle": "2021-10-24T15:08:41.042Z"
        }
      }
    },
    {
      "cell_type": "markdown",
      "source": [
        "14-11\n",
        "\n",
        "Kirjan vastaus: b) 120 Ω c) 300 Ω"
      ],
      "metadata": {
        "nteract": {
          "transient": {
            "deleting": false
          }
        }
      }
    },
    {
      "cell_type": "code",
      "source": [
        "I=0.015\n",
        "U=1.8\n",
        "R=U/I\n",
        "@printf(\"Vastuksen resistanssi on %.0f Ω.\\n\",R)\n",
        "U2=4.5\n",
        "Z=U2/I\n",
        "@printf(\"Piirin impedanssi on %.0f Ω.\\n\",Z)\n"
      ],
      "outputs": [
        {
          "output_type": "stream",
          "name": "stdout",
          "text": [
            "Vastuksen resistanssi on 120 Ω.\n",
            "Piirin impedanssi on 300 Ω.\n"
          ]
        }
      ],
      "execution_count": 105,
      "metadata": {
        "collapsed": true,
        "jupyter": {
          "source_hidden": false,
          "outputs_hidden": false
        },
        "nteract": {
          "transient": {
            "deleting": false
          }
        },
        "execution": {
          "iopub.status.busy": "2021-10-24T15:15:57.178Z",
          "iopub.execute_input": "2021-10-24T15:15:57.193Z",
          "iopub.status.idle": "2021-10-24T15:15:57.221Z"
        }
      }
    }
  ],
  "metadata": {
    "kernel_info": {
      "name": "julia-nteract-1.5"
    },
    "language_info": {
      "file_extension": ".jl",
      "name": "julia",
      "mimetype": "application/julia",
      "version": "1.5.4"
    },
    "kernelspec": {
      "argv": [
        "C:\\Users\\snikula\\AppData\\Local\\JuliaPro-1.5.4-1\\Julia-1.5.4\\bin\\julia.exe",
        "-i",
        "--color=yes",
        "C:\\Users\\snikula\\.julia\\packages\\IJulia\\e8kqU\\src\\kernel.jl",
        "{connection_file}"
      ],
      "display_name": "Julia nteract 1.5.4",
      "env": {},
      "interrupt_mode": "message",
      "language": "julia",
      "name": "julia-nteract-1.5"
    },
    "nteract": {
      "version": "0.28.0"
    }
  },
  "nbformat": 4,
  "nbformat_minor": 0
}