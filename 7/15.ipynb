{
  "cells": [
    {
      "cell_type": "markdown",
      "source": [
        "# Alkuaineiden synty"
      ],
      "metadata": {
        "nteract": {
          "transient": {
            "deleting": false
          }
        }
      }
    },
    {
      "cell_type": "code",
      "source": [
        "b<-2.897768e-3 # Wienin siirtymälain vakio\n",
        "c<-2.99792e8 # Valon nopeus\n",
        "h<-6.6260693e-34 # Plancin vakio\n",
        "eV<-1.6021766e-19 # Elektorinivoltti\n",
        "sigma<-5.670374419e-8 # Stefan-Boltzman\n",
        "cat(format(Sys.time(),\"%d.%m.%Y %H:%M:%S\"))\n",
        "version"
      ],
      "outputs": [
        {
          "output_type": "stream",
          "name": "stdout",
          "text": [
            "04.12.2021 23:22:42"
          ]
        },
        {
          "output_type": "display_data",
          "data": {
            "text/plain": "               _                           \nplatform       x86_64-w64-mingw32          \narch           x86_64                      \nos             mingw32                     \nsystem         x86_64, mingw32             \nstatus                                     \nmajor          4                           \nminor          1.2                         \nyear           2021                        \nmonth          11                          \nday            01                          \nsvn rev        81115                       \nlanguage       R                           \nversion.string R version 4.1.2 (2021-11-01)\nnickname       Bird Hippie                 "
          },
          "metadata": {}
        }
      ],
      "execution_count": 18,
      "metadata": {
        "collapsed": true,
        "jupyter": {
          "source_hidden": false,
          "outputs_hidden": false
        },
        "nteract": {
          "transient": {
            "deleting": false
          }
        },
        "execution": {
          "iopub.status.busy": "2021-12-04T21:22:42.606Z",
          "iopub.execute_input": "2021-12-04T21:22:42.614Z",
          "iopub.status.idle": "2021-12-04T21:22:42.659Z",
          "shell.execute_reply": "2021-12-04T21:22:42.649Z"
        }
      }
    }
  ],
  "metadata": {
    "kernel_info": {
      "name": "julia-nteract-1.5"
    },
    "language_info": {
      "name": "R",
      "codemirror_mode": "r",
      "pygments_lexer": "r",
      "mimetype": "text/x-r-source",
      "file_extension": ".r",
      "version": "4.1.2"
    },
    "kernelspec": {
      "argv": [
        "C:\\Users\\snikula\\AppData\\Local\\JuliaPro-1.5.4-1\\Julia-1.5.4\\bin\\julia.exe",
        "-i",
        "--color=yes",
        "C:\\Users\\snikula\\.julia\\packages\\IJulia\\e8kqU\\src\\kernel.jl",
        "{connection_file}"
      ],
      "display_name": "Julia nteract 1.5.4",
      "env": {},
      "interrupt_mode": "message",
      "language": "julia",
      "name": "julia-nteract-1.5"
    },
    "nteract": {
      "version": "0.28.0"
    }
  },
  "nbformat": 4,
  "nbformat_minor": 0
}