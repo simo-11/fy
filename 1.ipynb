{
  "cells": [
    {
      "cell_type": "markdown",
      "source": [
        "1-1 Miten voit päätellä, että valo kulkee nopeammin kuin ääni?\n",
        "\n",
        "Salaman valo näkyy ensin ja ääni tulee myöhemmin."
      ],
      "metadata": {
        "nteract": {
          "transient": {
            "deleting": false
          }
        }
      }
    },
    {
      "cell_type": "markdown",
      "source": [
        "1-2 Näkyvän valon aallonpituudet ovat välillä 400..700 nm. Määritä näkyvän valon taajuus.\n",
        "\n",
        "$c= f \\lambda$<br>\n",
        "$f=\\frac{c}{\\lambda}$<br> \n",
        "c=3e8 $\\frac{m}{s}$<br>\n",
        "$\\lambda = 400*10^{-9} .. 700*10^{-9} $"
      ],
      "metadata": {
        "nteract": {
          "transient": {
            "deleting": false
          }
        }
      }
    },
    {
      "cell_type": "code",
      "source": [
        "f1=3e8/400e-9\n",
        "f2=3e8/700e-9\n",
        "print(f'Taajuus on {f1:.3e}-{f2:.3e} Hz eli {f1/1e12:.0f}-{f2/1e12:.0f} THz')\n"
      ],
      "outputs": [
        {
          "output_type": "stream",
          "name": "stdout",
          "text": [
            "Taajuus on 7.500e+14-4.286e+14 Hz eli 750-429 THz\n"
          ]
        }
      ],
      "execution_count": 8,
      "metadata": {
        "collapsed": true,
        "jupyter": {
          "source_hidden": false,
          "outputs_hidden": false
        },
        "nteract": {
          "transient": {
            "deleting": false
          }
        },
        "execution": {
          "iopub.status.busy": "2021-09-22T19:21:33.555Z",
          "iopub.execute_input": "2021-09-22T19:21:33.561Z",
          "iopub.status.idle": "2021-09-22T19:21:33.576Z",
          "shell.execute_reply": "2021-09-22T19:21:33.582Z"
        }
      }
    },
    {
      "cell_type": "markdown",
      "source": [
        "1-4 Lampun valoteho 1.6 m etäisyydellä on 120 lx. Määritä etäisyys, jolla valovoimakkuus on 500 lx.\n",
        "\n",
        "Valovoimakkuus on kääntäen verrannollinen etäisyyden neliöön. $E=\\frac{\\Phi}{4 \\pi r^2}$<br>\n",
        "$\\Phi=E 4 \\pi r^2$<br>\n",
        "$r=\\sqrt{\\frac{\\Phi}{4 E \\pi}}$<br>"
      ],
      "metadata": {
        "nteract": {
          "transient": {
            "deleting": false
          }
        }
      }
    },
    {
      "cell_type": "code",
      "source": [
        "import math\n",
        "phi=4*120*math.pi*pow(1.6,2)\n",
        "r2=math.sqrt(phi/(4*500*math.pi))\n",
        "print(f'Valovirta={phi:.0f} ja kysytty etäisyys on {r2:.3f} m')"
      ],
      "outputs": [
        {
          "output_type": "stream",
          "name": "stdout",
          "text": [
            "Valovirta=3860 ja kysytty etäisyys on 0.784 m\n"
          ]
        }
      ],
      "execution_count": 14,
      "metadata": {
        "collapsed": true,
        "jupyter": {
          "source_hidden": false,
          "outputs_hidden": false
        },
        "nteract": {
          "transient": {
            "deleting": false
          }
        },
        "execution": {
          "iopub.status.busy": "2021-09-22T19:42:00.269Z",
          "iopub.execute_input": "2021-09-22T19:42:00.277Z",
          "iopub.status.idle": "2021-09-22T19:42:00.291Z",
          "shell.execute_reply": "2021-09-22T19:42:00.298Z"
        }
      }
    },
    {
      "cell_type": "code",
      "source": [],
      "outputs": [],
      "execution_count": null,
      "metadata": {
        "collapsed": true,
        "jupyter": {
          "source_hidden": false,
          "outputs_hidden": false
        },
        "nteract": {
          "transient": {
            "deleting": false
          }
        }
      }
    }
  ],
  "metadata": {
    "kernel_info": {
      "name": "python3"
    },
    "language_info": {
      "name": "python",
      "version": "3.9.6",
      "mimetype": "text/x-python",
      "codemirror_mode": {
        "name": "ipython",
        "version": 3
      },
      "pygments_lexer": "ipython3",
      "nbconvert_exporter": "python",
      "file_extension": ".py"
    },
    "kernelspec": {
      "argv": [
        "python",
        "-m",
        "ipykernel_launcher",
        "-f",
        "{connection_file}"
      ],
      "display_name": "Python 3 (ipykernel)",
      "language": "python",
      "metadata": {
        "debugger": true
      },
      "name": "python3"
    },
    "nteract": {
      "version": "0.28.0"
    }
  },
  "nbformat": 4,
  "nbformat_minor": 0
}