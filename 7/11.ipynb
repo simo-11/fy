{
  "cells": [
    {
      "cell_type": "markdown",
      "source": [
        "# Hajoamislaki"
      ],
      "metadata": {
        "nteract": {
          "transient": {
            "deleting": false
          }
        }
      }
    },
    {
      "cell_type": "code",
      "source": [
        "using Printf\n",
        "using Dates\n",
        "b=2.897768e-3 # Wienin siirtymälain vakio\n",
        "c=2.99792e8 # Valon nopeus\n",
        "h=6.6260693e-34 # Plancin vakio\n",
        "u=1.66053904e-27 # Atomimassayksikkö [kg]\n",
        "mp=1.67262164e-27 # protonin massa [kg]\n",
        "mn=1.674927351e-27 # neutronin massa [kg]\n",
        "me=9.10938e-31 # Elektronin massa [kg]\n",
        "ma=4.001506179127u # alfa hiukkasen massa [kg]\n",
        "eV=1.6021766e-19 # Elektorinivoltti\n",
        "sigma=5.670374419e-8 # Stefan-Boltzman\n",
        "@printf \"%s\\n\" Dates.now();\n",
        "versioninfo(verbose=false);"
      ],
      "outputs": [
        {
          "output_type": "stream",
          "name": "stdout",
          "text": [
            "2021-12-01T20:44:10.924\n",
            "Julia Version 1.5.4\n",
            "Commit 69fcb5745b (2021-03-11 19:13 UTC)\n",
            "Platform Info:\n",
            "  OS: Windows (x86_64-w64-mingw32)\n",
            "  CPU: Intel(R) Core(TM) i7-8650U CPU @ 1.90GHz\n",
            "  WORD_SIZE: 64\n",
            "  LIBM: libopenlibm\n",
            "  LLVM: libLLVM-9.0.1 (ORCJIT, skylake)\n",
            "Environment:\n",
            "  JULIA_DEPOT_PATH = C:\\Users\\snikula\\.julia;C:\\Users\\snikula\\AppData\\Local\\JuliaPro-1.5.4-1\\Julia-1.5.4\\local\\share\\julia;C:\\Users\\snikula\\AppData\\Local\\JuliaPro-1.5.4-1\\Julia-1.5.4\\share\\julia\n",
            "  JULIA_LOAD_PATH = C:\\Users\\snikula\\.julia\\environments\\JuliaPro_v1.5.4-1;@;@v#.#;@stdlib\n",
            "  JULIA_PKG_SERVER = pkg.juliahub.com\n"
          ]
        }
      ],
      "execution_count": 4,
      "metadata": {
        "collapsed": true,
        "jupyter": {
          "source_hidden": false,
          "outputs_hidden": false
        },
        "nteract": {
          "transient": {
            "deleting": false
          }
        },
        "execution": {
          "iopub.status.busy": "2021-12-01T18:44:10.842Z",
          "iopub.execute_input": "2021-12-01T18:44:10.851Z",
          "iopub.status.idle": "2021-12-01T18:44:10.954Z"
        }
      }
    },
    {
      "cell_type": "markdown",
      "source": [
        "11-3 \n",
        "\n",
        "Kirjan vastaus: 8.2 kBq"
      ],
      "metadata": {
        "nteract": {
          "transient": {
            "deleting": false
          }
        }
      }
    },
    {
      "cell_type": "code",
      "source": [
        "T12=8.02#d\n",
        "l=log(2)/T12\n",
        "N0=110e3\n",
        "t=30\n",
        "N=N0*exp(-l*t)\n",
        "@printf(\"Aktiivisuus on %.1f kBq.\\n\",N/1e3)"
      ],
      "outputs": [
        {
          "output_type": "stream",
          "name": "stdout",
          "text": [
            "Aktiivisuus on 8.2 kBq.\n"
          ]
        }
      ],
      "execution_count": 8,
      "metadata": {
        "collapsed": true,
        "jupyter": {
          "source_hidden": false,
          "outputs_hidden": false
        },
        "nteract": {
          "transient": {
            "deleting": false
          }
        },
        "execution": {
          "iopub.status.busy": "2021-12-01T19:32:37.734Z",
          "iopub.execute_input": "2021-12-01T19:32:37.745Z",
          "iopub.status.idle": "2021-12-01T19:32:37.940Z"
        }
      }
    },
    {
      "cell_type": "markdown",
      "source": [
        "11-4\n",
        "\n",
        "Kirjan vastaus: 6000 a"
      ],
      "metadata": {
        "nteract": {
          "transient": {
            "deleting": false
          }
        }
      }
    },
    {
      "cell_type": "code",
      "source": [
        "# Voidaan nähdä suoraan säteilyn puoliintumisesta, mutta johdetaan\n",
        "# yleinen ratkaisu\n",
        "T12=5730#a\n",
        "N=400\n",
        "N0=800\n",
        "l=log(2)/T12\n",
        "#lt=l*t\n",
        "#N=N0*exp(-l*t)\n",
        "# exp(-lt)=N/N0\n",
        "# -l*t=log(N/N0)\n",
        "t=log(N/N0)/-l\n",
        "@printf(\"Näytteen ikä on %.0f a.\\n\",t)"
      ],
      "outputs": [
        {
          "output_type": "stream",
          "name": "stdout",
          "text": [
            "Näytteen ikä on 5730 a.\n"
          ]
        }
      ],
      "execution_count": 10,
      "metadata": {
        "collapsed": true,
        "jupyter": {
          "source_hidden": false,
          "outputs_hidden": false
        },
        "nteract": {
          "transient": {
            "deleting": false
          }
        },
        "execution": {
          "iopub.status.busy": "2021-12-01T19:41:53.456Z",
          "iopub.execute_input": "2021-12-01T19:41:53.467Z",
          "iopub.status.idle": "2021-12-01T19:41:53.492Z"
        }
      }
    },
    {
      "cell_type": "markdown",
      "source": [
        "11-5\n",
        "\n",
        "Kirjan vastaus: \n",
        "a) $\\substack{236 \\\\ 92}U \\rightarrow \\substack{232 \\\\ 90}Th + \\substack{4 \\\\ 2}He$<br>\n",
        "b) 102 kBq"
      ],
      "metadata": {
        "nteract": {
          "transient": {
            "deleting": false
          }
        }
      }
    },
    {
      "cell_type": "code",
      "source": [
        "T12=1.405e10#a\n",
        "l=log(2)/(T12*365*24*3600)\n",
        "mTh=232.038054u\n",
        "m=25e-3\n",
        "N=m/mTh\n",
        "A=l*N\n",
        "@printf(\"Näytteen aktiivisuus on %.0f kBq.\\n\",A/1e3)"
      ],
      "outputs": [
        {
          "output_type": "stream",
          "name": "stdout",
          "text": [
            "Näytteen aktiivisuus on 102 kBq.\n"
          ]
        }
      ],
      "execution_count": 13,
      "metadata": {
        "collapsed": true,
        "jupyter": {
          "source_hidden": false,
          "outputs_hidden": false
        },
        "nteract": {
          "transient": {
            "deleting": false
          }
        },
        "execution": {
          "iopub.status.busy": "2021-12-01T19:50:38.699Z",
          "iopub.execute_input": "2021-12-01T19:50:38.714Z",
          "iopub.status.idle": "2021-12-01T19:50:38.749Z"
        }
      }
    },
    {
      "cell_type": "markdown",
      "source": [
        "11-6\n",
        "\n",
        "Kirjan vastaus: 360 d"
      ],
      "metadata": {
        "nteract": {
          "transient": {
            "deleting": false
          }
        }
      }
    },
    {
      "cell_type": "code",
      "source": [
        "#N=N0*exp(-l*t)\n",
        "N=110\n",
        "N0=120\n",
        "t=45\n",
        "l=log(N/N0)/-t\n",
        "T12=log(2)/l\n",
        "@printf(\"Puoliintumisaika on %.0f d.\\n\",T12)"
      ],
      "outputs": [
        {
          "output_type": "stream",
          "name": "stdout",
          "text": [
            "Puoliintumisaika on 358 d.\n"
          ]
        }
      ],
      "execution_count": 14,
      "metadata": {
        "collapsed": true,
        "jupyter": {
          "source_hidden": false,
          "outputs_hidden": false
        },
        "nteract": {
          "transient": {
            "deleting": false
          }
        },
        "execution": {
          "iopub.status.busy": "2021-12-01T19:57:31.408Z",
          "iopub.execute_input": "2021-12-01T19:57:31.422Z",
          "iopub.status.idle": "2021-12-01T19:57:31.446Z"
        }
      }
    },
    {
      "cell_type": "markdown",
      "source": [
        "11-7\n",
        "\n",
        "Kirjan vastaus: 78 %\n"
      ],
      "metadata": {
        "nteract": {
          "transient": {
            "deleting": false
          }
        }
      }
    },
    {
      "cell_type": "code",
      "source": [
        "T12=87.7#a\n",
        "l=log(2)/T12\n",
        "#N=N0*exp(-l*t)\n",
        "#p=N/N0=exp(-l*t)\n",
        "t=31\n",
        "p=exp(-l*t)\n",
        "@printf(\"Aktiivisuus on %.0f %%.\\n\",100*p)"
      ],
      "outputs": [
        {
          "output_type": "stream",
          "name": "stdout",
          "text": [
            "Aktiivisuus on 78 %.\n"
          ]
        }
      ],
      "execution_count": 18,
      "metadata": {
        "collapsed": true,
        "jupyter": {
          "source_hidden": false,
          "outputs_hidden": false
        },
        "nteract": {
          "transient": {
            "deleting": false
          }
        },
        "execution": {
          "iopub.status.busy": "2021-12-01T20:04:26.156Z",
          "iopub.execute_input": "2021-12-01T20:04:26.169Z",
          "iopub.status.idle": "2021-12-01T20:04:26.191Z"
        }
      }
    },
    {
      "cell_type": "markdown",
      "source": [
        "11-8\n",
        "\n",
        "Kirjan vastaus: 17 %"
      ],
      "metadata": {
        "nteract": {
          "transient": {
            "deleting": false
          }
        }
      }
    },
    {
      "cell_type": "code",
      "source": [
        "T12=5730#a\n",
        "l=log(2)/T12\n",
        "#N=N0*exp(-l*t)\n",
        "#p=N/N0=exp(-l*t)\n",
        "t=1500\n",
        "p=exp(-l*t)\n",
        "@printf(\"Aktiivisuus on laskenut %.0f %%.\\n\",100*(1-p))"
      ],
      "outputs": [
        {
          "output_type": "stream",
          "name": "stdout",
          "text": [
            "Aktiivisuus on laskenut 17 %.\n"
          ]
        }
      ],
      "execution_count": 19,
      "metadata": {
        "collapsed": true,
        "jupyter": {
          "source_hidden": false,
          "outputs_hidden": false
        },
        "nteract": {
          "transient": {
            "deleting": false
          }
        },
        "execution": {
          "iopub.status.busy": "2021-12-01T20:06:33.939Z",
          "iopub.execute_input": "2021-12-01T20:06:33.948Z",
          "iopub.status.idle": "2021-12-01T20:06:33.973Z"
        }
      }
    },
    {
      "cell_type": "markdown",
      "source": [
        "11-9\n",
        "\n",
        "Kirjan vastaus: <br>\n",
        "a)\n",
        "$\\substack{222 \\\\ 86}Rn \\rightarrow \\substack{218 \\\\ 84}Po + \\substack{4 \\\\ 2}He$,<br>\n",
        "$\\substack{218 \\\\ 84}Po  \\rightarrow \\substack{214 \\\\ 82}Pb + \\substack{4 \\\\ 2}He$,<br>\n",
        "$ \\substack{214 \\\\ 82}Pb  \\rightarrow \\substack{214 \\\\ 83}Bi + \\substack{0 \\\\ -1}e + \\bar{v}$,<br>\n",
        "$ \\substack{214 \\\\ 83}Bi \\rightarrow \\substack{214 \\\\ 84}Po +\n",
        "\\substack{0 \\\\ -1}e + \\bar{v}$, lyijy 206<br>\n",
        "b) 5800 Bq/l"
      ],
      "metadata": {
        "nteract": {
          "transient": {
            "deleting": false
          }
        }
      }
    },
    {
      "cell_type": "code",
      "source": [
        "T12=3.825#d\n",
        "T12=3.825*24#h\n",
        "l=log(2)/T12\n",
        "N=4700\n",
        "t=28\n",
        "N0=N/(exp(-l*t))\n",
        "@printf(\"Aktiivisuus näyttöönottohetkellä oli %.0f Bq/l.\\n\",N0)"
      ],
      "outputs": [
        {
          "output_type": "stream",
          "name": "stdout",
          "text": [
            "Aktiivisuus näyttöönottohetkellä oli 5807 Bq/l.\n"
          ]
        }
      ],
      "execution_count": 21,
      "metadata": {
        "collapsed": true,
        "jupyter": {
          "source_hidden": false,
          "outputs_hidden": false
        },
        "nteract": {
          "transient": {
            "deleting": false
          }
        },
        "execution": {
          "iopub.status.busy": "2021-12-01T20:11:41.306Z",
          "iopub.execute_input": "2021-12-01T20:11:41.317Z",
          "iopub.status.idle": "2021-12-01T20:11:41.344Z"
        }
      }
    },
    {
      "cell_type": "markdown",
      "source": [
        "11-10\n",
        "\n",
        "Kirjan vastaus: 230 MBq, 3.4 ml"
      ],
      "metadata": {
        "nteract": {
          "transient": {
            "deleting": false
          }
        }
      }
    },
    {
      "cell_type": "code",
      "source": [
        "T12=8.02#d\n",
        "l=log(2)/T12\n",
        "N=160e6\n",
        "v0=40\n",
        "t=4\n",
        "N0=N/(exp(-l*t))\n",
        "@printf(\"Aktiivisuus lähtiessä oli %.0f MBq.\\n\",N0/1e6)\n",
        "t+=6\n",
        "N=N0*(exp(-l*t))/v0\n",
        "@printf(\"Aktiivisuus seuraavana maanantaina oli %.2f MBq/ml.\\n\",N/1e6)\n",
        "Nn=8e6\n",
        "v=Nn/N\n",
        "@printf(\"Tarvittava annos on %.1f ml.\\n\",v)\n"
      ],
      "outputs": [
        {
          "output_type": "stream",
          "name": "stdout",
          "text": [
            "Aktiivisuus lähtiessä oli 226 MBq.\n",
            "Aktiivisuus seuraavana maanantaina oli 2.38 MBq/ml.\n",
            "Tarvittava annos on 3.4 ml.\n"
          ]
        }
      ],
      "execution_count": 26,
      "metadata": {
        "collapsed": true,
        "jupyter": {
          "source_hidden": false,
          "outputs_hidden": false
        },
        "nteract": {
          "transient": {
            "deleting": false
          }
        },
        "execution": {
          "iopub.status.busy": "2021-12-01T20:23:11.152Z",
          "iopub.execute_input": "2021-12-01T20:23:11.166Z",
          "iopub.status.idle": "2021-12-01T20:23:11.191Z"
        }
      }
    },
    {
      "cell_type": "markdown",
      "source": [
        "11-11\n",
        "\n",
        "Kirjan vastaus: a) 250 W b) 76 a"
      ],
      "metadata": {
        "nteract": {
          "transient": {
            "deleting": false
          }
        }
      }
    },
    {
      "cell_type": "code",
      "source": [
        "T12=87.7#a\n",
        "l=log(2)/T12\n",
        "t=25\n",
        "P0=310\n",
        "P=P0*exp(-l*t)\n",
        "@printf(\"Sähköteho 25 vuoden kuluttua on %.0f W.\\n\",P)\n",
        "P=170\n",
        "t=log(P/P0)/-l\n",
        "@printf(\"Teho on vähintään 170 W %.0f vuotta.\\n\",t)"
      ],
      "outputs": [
        {
          "output_type": "stream",
          "name": "stdout",
          "text": [
            "Sähköteho 25 vuoden kuluttua on 254 W.\n",
            "Teho on vähintään 170 W 76 vuotta.\n"
          ]
        }
      ],
      "execution_count": 28,
      "metadata": {
        "collapsed": true,
        "jupyter": {
          "source_hidden": false,
          "outputs_hidden": false
        },
        "nteract": {
          "transient": {
            "deleting": false
          }
        },
        "execution": {
          "iopub.status.busy": "2021-12-01T20:28:24.899Z",
          "iopub.execute_input": "2021-12-01T20:28:24.918Z",
          "iopub.status.idle": "2021-12-01T20:28:24.958Z"
        }
      }
    },
    {
      "cell_type": "markdown",
      "source": [
        "11-12\n",
        "\n",
        "Kirjan vastaus: kyllä"
      ],
      "metadata": {
        "nteract": {
          "transient": {
            "deleting": false
          }
        }
      }
    },
    {
      "cell_type": "code",
      "source": [
        "N=9.3e-13\n",
        "N0=1.2e-12\n",
        "T12=5730#a\n",
        "l=log(2)/T12\n",
        "t=log(N/N0)/-l\n",
        "@printf(\"Ikä on noin %.0f vuotta.\\n\",t)"
      ],
      "outputs": [
        {
          "output_type": "stream",
          "name": "stdout",
          "text": [
            "Ikä on noin 2107 vuotta.\n"
          ]
        }
      ],
      "execution_count": 29,
      "metadata": {
        "collapsed": true,
        "jupyter": {
          "source_hidden": false,
          "outputs_hidden": false
        },
        "nteract": {
          "transient": {
            "deleting": false
          }
        },
        "execution": {
          "iopub.status.busy": "2021-12-02T15:38:13.536Z",
          "iopub.execute_input": "2021-12-02T15:38:13.551Z",
          "iopub.status.idle": "2021-12-02T15:38:13.642Z"
        }
      }
    },
    {
      "cell_type": "markdown",
      "source": [
        "11-13\n",
        "\n",
        "Kirjan vastaus: (8200$\\pm$100) a"
      ],
      "metadata": {
        "nteract": {
          "transient": {
            "deleting": false
          }
        }
      }
    },
    {
      "cell_type": "code",
      "source": [
        "T12=5730#a\n",
        "l=log(2)/T12\n",
        "N0=20200\n",
        "N=7500# +-90\n",
        "t=log(N/N0)/-l\n",
        "dt=t-(log((N+90)/N0)/-l)\n",
        "@printf(\"Ikä on noin %.0f +- %.0f vuotta.\\n\",t,dt)"
      ],
      "outputs": [
        {
          "output_type": "stream",
          "name": "stdout",
          "text": [
            "Ikä on noin 8190 +- 99 vuotta.\n"
          ]
        }
      ],
      "execution_count": 33,
      "metadata": {
        "collapsed": true,
        "jupyter": {
          "source_hidden": false,
          "outputs_hidden": false
        },
        "nteract": {
          "transient": {
            "deleting": false
          }
        },
        "execution": {
          "iopub.status.busy": "2021-12-02T15:44:59.418Z",
          "iopub.execute_input": "2021-12-02T15:44:59.434Z",
          "iopub.status.idle": "2021-12-02T15:44:59.518Z"
        }
      }
    },
    {
      "cell_type": "code",
      "source": [],
      "outputs": [],
      "execution_count": null,
      "metadata": {
        "collapsed": true,
        "jupyter": {
          "source_hidden": false,
          "outputs_hidden": false
        },
        "nteract": {
          "transient": {
            "deleting": false
          }
        }
      }
    }
  ],
  "metadata": {
    "kernel_info": {
      "name": "julia-nteract-1.5"
    },
    "language_info": {
      "file_extension": ".jl",
      "name": "julia",
      "mimetype": "application/julia",
      "version": "1.5.4"
    },
    "kernelspec": {
      "argv": [
        "C:\\Users\\snikula\\AppData\\Local\\JuliaPro-1.5.4-1\\Julia-1.5.4\\bin\\julia.exe",
        "-i",
        "--color=yes",
        "C:\\Users\\snikula\\.julia\\packages\\IJulia\\e8kqU\\src\\kernel.jl",
        "{connection_file}"
      ],
      "display_name": "Julia nteract 1.5.4",
      "env": {},
      "interrupt_mode": "message",
      "language": "julia",
      "name": "julia-nteract-1.5"
    },
    "nteract": {
      "version": "0.28.0"
    }
  },
  "nbformat": 4,
  "nbformat_minor": 0
}