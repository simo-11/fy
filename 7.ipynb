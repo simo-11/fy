{
  "cells": [
    {
      "cell_type": "markdown",
      "source": [
        "# Varatun hiukkasen liike homogeenisessa sähkö- ja magneettikentässä"
      ],
      "metadata": {
        "nteract": {
          "transient": {
            "deleting": false
          }
        }
      }
    },
    {
      "cell_type": "code",
      "source": [
        "@printf \"%s\\n\" Dates.now();\n",
        "versioninfo(verbose=true);"
      ],
      "outputs": [
        {
          "output_type": "stream",
          "name": "stdout",
          "text": [
            "2021-10-05T21:17:31.662\n",
            "Julia Version 1.5.4\n",
            "Commit 69fcb5745b (2021-03-11 19:13 UTC)\n",
            "Platform Info:\n",
            "  OS: Windows (x86_64-w64-mingw32)\n",
            "      Microsoft Windows [Version 10.0.19043.1237]\n",
            "  CPU: Intel(R) Core(TM) i7-8650U CPU @ 1.90GHz: \n",
            "              speed         user         nice          sys         idle          irq\n",
            "       #1  2112 MHz   21448437            0     40930156    371182859      3192968  ticks\n",
            "       #2  2112 MHz   16327546            0     26153687    391079843       282265  ticks\n",
            "       #3  2112 MHz   27440468            0     44715953    361404656       481437  ticks\n",
            "       #4  2112 MHz   17813375            0     28845812    386901890       270921  ticks\n",
            "       #5  2112 MHz   25237984            0     43878531    364444562       447687  ticks\n",
            "       #6  2112 MHz   16154421            0     29417171    387989468       287375  ticks\n",
            "       #7  2112 MHz   24218593            0     41340046    368002421       411453  ticks\n",
            "       #8  2112 MHz   18671015            0     28824515    386065531       245765  ticks\n",
            "       \n",
            "  Memory: 23.846885681152344 GB (8352.15625 MB free)\n",
            "  Uptime: 783013.0 sec\n",
            "  Load Avg:  0.0  0.0  0.0\n",
            "  WORD_SIZE: 64\n",
            "  LIBM: libopenlibm\n",
            "  LLVM: libLLVM-9.0.1 (ORCJIT, skylake)\n",
            "Environment:\n",
            "  JULIA_DEPOT_PATH = C:\\Users\\snikula\\.julia;C:\\Users\\snikula\\AppData\\Local\\JuliaPro-1.5.4-1\\Julia-1.5.4\\local\\share\\julia;C:\\Users\\snikula\\AppData\\Local\\JuliaPro-1.5.4-1\\Julia-1.5.4\\share\\julia\n",
            "  JULIA_LOAD_PATH = C:\\Users\\snikula\\.julia\\environments\\JuliaPro_v1.5.4-1;@;@v#.#;@stdlib\n",
            "  JULIA_PKG_SERVER = pkg.juliahub.com\n",
            "  HOMEDRIVE = C:\n",
            "  HOMEPATH = \\Users\\snikula\n",
            "  JAVA_HOME = C:\\dev\\jdk1.8.0_251\n",
            "  JULIA_DEPOT_PATH = C:\\Users\\snikula\\.julia;C:\\Users\\snikula\\AppData\\Local\\JuliaPro-1.5.4-1\\Julia-1.5.4\\local\\share\\julia;C:\\Users\\snikula\\AppData\\Local\\JuliaPro-1.5.4-1\\Julia-1.5.4\\share\\julia\n",
            "  JULIA_LOAD_PATH = C:\\Users\\snikula\\.julia\\environments\\JuliaPro_v1.5.4-1;@;@v#.#;@stdlib\n",
            "  JUNORC_PATH = C:\\Users\\snikula\\AppData\\Local\\JuliaPro-1.5.4-1\\.atom\n",
            "  M2_HOME = C:\\dev\\apache-maven-3.5.3\n",
            "  PATH = C:\\github\\fy6\\node_modules\\.bin;C:\\github\\node_modules\\.bin;C:\\node_modules\\.bin;C:\\Program Files\\nteract;C:\\Program Files (x86)\\Microsoft SDKs\\Azure\\CLI2\\wbin;C:\\Program Files\\AdoptOpenJDK\\jdk-15.0.0.36-hotspot\\bin;C:\\WINDOWS\\system32;C:\\WINDOWS;C:\\WINDOWS\\System32\\Wbem;C:\\WINDOWS\\System32\\WindowsPowerShell\\v1.0\\;C:\\WINDOWS\\System32\\OpenSSH\\;C:\\Program Files\\Git\\cmd;C:\\Program Files\\nodejs\\;C:\\Program Files\\MATLAB\\R2021a\\bin;C:\\Users\\snikula\\AppData\\Local\\Programs\\Python\\Python39\\Scripts\\;C:\\Users\\snikula\\AppData\\Local\\Programs\\Python\\Python39\\;C:\\Users\\snikula\\AppData\\Local\\Microsoft\\WindowsApps;C:\\Users\\snikula\\AppData\\Roaming\\npm;C:\\dev\\apache-maven-3.5.3\\bin;\n",
            "  PATHEXT = .COM;.EXE;.BAT;.CMD;.VBS;.VBE;.JS;.JSE;.WSF;.WSH;.MSC\n",
            "  PSMODULEPATH = C:\\Program Files\\WindowsPowerShell\\Modules;C:\\WINDOWS\\system32\\WindowsPowerShell\\v1.0\\Modules\n"
          ]
        }
      ],
      "execution_count": 26,
      "metadata": {
        "collapsed": true,
        "jupyter": {
          "source_hidden": false,
          "outputs_hidden": false
        },
        "nteract": {
          "transient": {
            "deleting": false
          }
        },
        "execution": {
          "iopub.status.busy": "2021-10-05T18:17:31.764Z",
          "iopub.execute_input": "2021-10-05T18:17:31.771Z",
          "iopub.status.idle": "2021-10-05T18:17:31.823Z"
        }
      }
    },
    {
      "cell_type": "code",
      "source": [],
      "outputs": [],
      "execution_count": null,
      "metadata": {
        "collapsed": true,
        "jupyter": {
          "source_hidden": false,
          "outputs_hidden": false
        },
        "nteract": {
          "transient": {
            "deleting": false
          }
        }
      }
    }
  ],
  "metadata": {
    "kernel_info": {
      "name": "julia-nteract-1.5"
    },
    "language_info": {
      "file_extension": ".jl",
      "name": "julia",
      "mimetype": "application/julia",
      "version": "1.5.4"
    },
    "kernelspec": {
      "argv": [
        "C:\\Users\\snikula\\AppData\\Local\\JuliaPro-1.5.4-1\\Julia-1.5.4\\bin\\julia.exe",
        "-i",
        "--color=yes",
        "C:\\Users\\snikula\\.julia\\packages\\IJulia\\e8kqU\\src\\kernel.jl",
        "{connection_file}"
      ],
      "display_name": "Julia nteract 1.5.4",
      "env": {},
      "interrupt_mode": "message",
      "language": "julia",
      "name": "julia-nteract-1.5"
    },
    "nteract": {
      "version": "0.28.0"
    }
  },
  "nbformat": 4,
  "nbformat_minor": 0
}