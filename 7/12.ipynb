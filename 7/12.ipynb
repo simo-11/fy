{
  "cells": [
    {
      "cell_type": "markdown",
      "source": [
        "# Ydinenergia"
      ],
      "metadata": {
        "nteract": {
          "transient": {
            "deleting": false
          }
        }
      }
    },
    {
      "cell_type": "code",
      "source": [
        "using Printf\n",
        "using Dates\n",
        "b=2.897768e-3 # Wienin siirtymälain vakio\n",
        "c=2.99792e8 # Valon nopeus\n",
        "h=6.6260693e-34 # Plancin vakio\n",
        "u=1.66053904e-27 # Atomimassayksikkö [kg]\n",
        "mp=1.67262164e-27 # protonin massa [kg]\n",
        "mn=1.674927351e-27 # neutronin massa [kg]\n",
        "me=9.10938e-31 # Elektronin massa [kg]\n",
        "ma=4.001506179127u # alfa hiukkasen massa [kg]\n",
        "eV=1.6021766e-19 # Elektorinivoltti\n",
        "sigma=5.670374419e-8 # Stefan-Boltzman\n",
        "@printf \"%s\\n\" Dates.now();\n",
        "versioninfo(verbose=false);"
      ],
      "outputs": [
        {
          "output_type": "stream",
          "name": "stdout",
          "text": [
            "2021-12-02T21:16:17.973\n",
            "Julia Version 1.5.4\n",
            "Commit 69fcb5745b (2021-03-11 19:13 UTC)\n",
            "Platform Info:\n",
            "  OS: Windows (x86_64-w64-mingw32)\n",
            "  CPU: Intel(R) Core(TM) i7-8650U CPU @ 1.90GHz\n",
            "  WORD_SIZE: 64\n",
            "  LIBM: libopenlibm\n",
            "  LLVM: libLLVM-9.0.1 (ORCJIT, skylake)\n",
            "Environment:\n",
            "  JULIA_DEPOT_PATH = C:\\Users\\snikula\\.julia;C:\\Users\\snikula\\AppData\\Local\\JuliaPro-1.5.4-1\\Julia-1.5.4\\local\\share\\julia;C:\\Users\\snikula\\AppData\\Local\\JuliaPro-1.5.4-1\\Julia-1.5.4\\share\\julia\n",
            "  JULIA_LOAD_PATH = C:\\Users\\snikula\\.julia\\environments\\JuliaPro_v1.5.4-1;@;@v#.#;@stdlib\n",
            "  JULIA_PKG_SERVER = pkg.juliahub.com\n"
          ]
        }
      ],
      "execution_count": 4,
      "metadata": {
        "collapsed": true,
        "jupyter": {
          "source_hidden": false,
          "outputs_hidden": false
        },
        "nteract": {
          "transient": {
            "deleting": false
          }
        },
        "execution": {
          "iopub.status.busy": "2021-12-02T19:16:18.005Z",
          "iopub.execute_input": "2021-12-02T19:16:18.030Z",
          "iopub.status.idle": "2021-12-02T19:16:18.052Z"
        }
      }
    },
    {
      "cell_type": "markdown",
      "source": [
        "12-5 \n",
        "\n",
        "Kirjan vastaus: b) 1.7e6 neutronia/s"
      ],
      "metadata": {
        "nteract": {
          "transient": {
            "deleting": false
          }
        }
      }
    },
    {
      "cell_type": "code",
      "source": [
        "T12=2.64#a\n",
        "l=log(2)/T12\n",
        "t=6.5\n",
        "N0=9.5e6\n",
        "N=N0*exp(-l*t)\n",
        "@printf(\"6.5 vuoden kuluttua emittoituu %.1e neutronia/s.\\n\",N)"
      ],
      "outputs": [
        {
          "output_type": "stream",
          "name": "stdout",
          "text": [
            "6.5 vuoden kuluttua emittoituu 1.7e+06 neutronia/s.\n"
          ]
        }
      ],
      "execution_count": 3,
      "metadata": {
        "collapsed": true,
        "jupyter": {
          "source_hidden": false,
          "outputs_hidden": false
        },
        "nteract": {
          "transient": {
            "deleting": false
          }
        },
        "execution": {
          "iopub.status.busy": "2021-12-02T19:15:01.709Z",
          "iopub.execute_input": "2021-12-02T19:15:01.721Z",
          "iopub.status.idle": "2021-12-02T19:15:01.974Z"
        }
      }
    },
    {
      "cell_type": "markdown",
      "source": [
        "12-6 \n",
        "\n",
        "Kirjan vastaus: a) 173.67 MeV"
      ],
      "metadata": {
        "nteract": {
          "transient": {
            "deleting": false
          }
        }
      }
    },
    {
      "cell_type": "code",
      "source": [
        "dm=235.043925u+mn-142.920627u-89.919516555u-3*mn\n",
        "E=dm*c^2\n",
        "@printf(\"Vapautuva energia on %.2f MeV.\\n\",E/1e6/eV)"
      ],
      "outputs": [
        {
          "output_type": "stream",
          "name": "stdout",
          "text": [
            "Vapautuva energia on 173.68 MeV.\n"
          ]
        }
      ],
      "execution_count": 6,
      "metadata": {
        "collapsed": true,
        "jupyter": {
          "source_hidden": false,
          "outputs_hidden": false
        },
        "nteract": {
          "transient": {
            "deleting": false
          }
        },
        "execution": {
          "iopub.status.busy": "2021-12-02T19:23:59.625Z",
          "iopub.execute_input": "2021-12-02T19:23:59.639Z",
          "iopub.status.idle": "2021-12-02T19:23:59.670Z"
        }
      }
    },
    {
      "cell_type": "markdown",
      "source": [
        "12-7\n",
        "\n",
        "Kirjan vastaus: a) 3.3 GJ b) 1000 km"
      ],
      "metadata": {
        "nteract": {
          "transient": {
            "deleting": false
          }
        }
      }
    },
    {
      "cell_type": "code",
      "source": [
        "mH2O=(2*1.0078250+15.9949146)u\n",
        "m=1\n",
        "N=m/mH2O/6500\n",
        "E=N*4.03e6eV\n",
        "@printf(\"Kilo merivettä sisältää %.1e J energiaa.\\n\",E)"
      ],
      "outputs": [
        {
          "output_type": "stream",
          "name": "stdout",
          "text": [
            "Kilo merivettä sisältää 3.3e+09 J energiaa.\n"
          ]
        }
      ],
      "execution_count": 10,
      "metadata": {
        "collapsed": true,
        "jupyter": {
          "source_hidden": false,
          "outputs_hidden": false
        },
        "nteract": {
          "transient": {
            "deleting": false
          }
        },
        "execution": {
          "iopub.status.busy": "2021-12-02T19:34:08.944Z",
          "iopub.execute_input": "2021-12-02T19:34:08.954Z",
          "iopub.status.idle": "2021-12-02T19:34:08.974Z"
        }
      }
    },
    {
      "cell_type": "markdown",
      "source": [
        "12-8\n",
        "\n",
        "Kirjan vastaus: a) 130 TJ b) 4e24\n"
      ],
      "metadata": {
        "nteract": {
          "transient": {
            "deleting": false
          }
        }
      }
    },
    {
      "cell_type": "code",
      "source": [
        "P=440e6/0.3\n",
        "t=24*3600\n",
        "E=P*t\n",
        "@printf(\"Vuorokaudessa vapautuu %.0f TJ sidosenergiaa.\\n\",E/1e12)\n",
        "@printf(\"Fissioita tapahtuu %.0e.\\n\",E/(200e6eV))"
      ],
      "outputs": [
        {
          "output_type": "stream",
          "name": "stdout",
          "text": [
            "Vuorokaudessa vapautuu 127 TJ sidosenergiaa.\n",
            "Fissioita tapahtuu 4e+24.\n"
          ]
        }
      ],
      "execution_count": 13,
      "metadata": {
        "collapsed": true,
        "jupyter": {
          "source_hidden": false,
          "outputs_hidden": false
        },
        "nteract": {
          "transient": {
            "deleting": false
          }
        },
        "execution": {
          "iopub.status.busy": "2021-12-02T19:39:47.044Z",
          "iopub.execute_input": "2021-12-02T19:39:47.056Z",
          "iopub.status.idle": "2021-12-02T19:39:47.077Z"
        }
      }
    },
    {
      "cell_type": "markdown",
      "source": [],
      "metadata": {
        "nteract": {
          "transient": {
            "deleting": false
          }
        }
      }
    }
  ],
  "metadata": {
    "kernel_info": {
      "name": "julia-nteract-1.5"
    },
    "language_info": {
      "file_extension": ".jl",
      "name": "julia",
      "mimetype": "application/julia",
      "version": "1.5.4"
    },
    "kernelspec": {
      "argv": [
        "C:\\Users\\snikula\\AppData\\Local\\JuliaPro-1.5.4-1\\Julia-1.5.4\\bin\\julia.exe",
        "-i",
        "--color=yes",
        "C:\\Users\\snikula\\.julia\\packages\\IJulia\\e8kqU\\src\\kernel.jl",
        "{connection_file}"
      ],
      "display_name": "Julia nteract 1.5.4",
      "env": {},
      "interrupt_mode": "message",
      "language": "julia",
      "name": "julia-nteract-1.5"
    },
    "nteract": {
      "version": "0.28.0"
    }
  },
  "nbformat": 4,
  "nbformat_minor": 0
}