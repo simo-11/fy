{
  "cells": [
    {
      "cell_type": "markdown",
      "source": [
        "# Sähkömagneettinen tiedonsiirto"
      ],
      "metadata": {
        "nteract": {
          "transient": {
            "deleting": false
          }
        }
      }
    },
    {
      "cell_type": "code",
      "source": [
        "using Printf\n",
        "using Dates\n",
        "@printf \"%s\\n\" Dates.now();\n",
        "versioninfo(verbose=false);"
      ],
      "outputs": [
        {
          "output_type": "stream",
          "name": "stdout",
          "text": [
            "2021-10-25T20:41:53.146\n",
            "Julia Version 1.5.4\n",
            "Commit 69fcb5745b (2021-03-11 19:13 UTC)\n",
            "Platform Info:\n",
            "  OS: Windows (x86_64-w64-mingw32)\n",
            "  CPU: Intel(R) Core(TM) i7-8650U CPU @ 1.90GHz\n",
            "  WORD_SIZE: 64\n",
            "  LIBM: libopenlibm\n",
            "  LLVM: libLLVM-9.0.1 (ORCJIT, skylake)\n",
            "Environment:\n",
            "  JULIA_DEPOT_PATH = C:\\Users\\snikula\\.julia;C:\\Users\\snikula\\AppData\\Local\\JuliaPro-1.5.4-1\\Julia-1.5.4\\local\\share\\julia;C:\\Users\\snikula\\AppData\\Local\\JuliaPro-1.5.4-1\\Julia-1.5.4\\share\\julia\n",
            "  JULIA_LOAD_PATH = C:\\Users\\snikula\\.julia\\environments\\JuliaPro_v1.5.4-1;@;@v#.#;@stdlib\n",
            "  JULIA_PKG_SERVER = pkg.juliahub.com\n"
          ]
        }
      ],
      "execution_count": 124,
      "metadata": {
        "collapsed": true,
        "jupyter": {
          "source_hidden": false,
          "outputs_hidden": false
        },
        "nteract": {
          "transient": {
            "deleting": false
          }
        },
        "execution": {
          "iopub.status.busy": "2021-10-25T17:41:53.157Z",
          "iopub.execute_input": "2021-10-25T17:41:53.172Z",
          "iopub.status.idle": "2021-10-25T17:41:53.198Z"
        }
      }
    },
    {
      "cell_type": "markdown",
      "source": [
        "16-3 \n",
        "\n",
        "Kirjan vastaus:  36 kHz"
      ],
      "metadata": {
        "nteract": {
          "transient": {
            "deleting": false
          }
        }
      }
    },
    {
      "cell_type": "code",
      "source": [
        "L=10e-3\n",
        "C=2e-9\n",
        "f=1/(2*pi*sqrt(L*C))\n",
        "@printf(\"Värähtelytaajuus on %.1e Hz.\\n\", f)\n"
      ],
      "outputs": [
        {
          "output_type": "stream",
          "name": "stdout",
          "text": [
            "Värähtelytaajuus on 3.6e+04 Hz.\n"
          ]
        }
      ],
      "execution_count": 127,
      "metadata": {
        "collapsed": true,
        "jupyter": {
          "source_hidden": false,
          "outputs_hidden": false
        },
        "nteract": {
          "transient": {
            "deleting": false
          }
        },
        "execution": {
          "iopub.status.busy": "2021-10-25T17:50:04.705Z",
          "iopub.execute_input": "2021-10-25T17:50:04.718Z",
          "iopub.status.idle": "2021-10-25T17:50:04.750Z"
        }
      }
    },
    {
      "cell_type": "markdown",
      "source": [
        "16-4\n",
        "\n",
        "Kirjan vastaus: 0.18 fF"
      ],
      "metadata": {
        "nteract": {
          "transient": {
            "deleting": false
          }
        }
      }
    },
    {
      "cell_type": "code",
      "source": [
        "L=15e-3\n",
        "f=97.7e6\n",
        "C=1/((2*pi*f)^2*L)\n",
        "@printf(\"Kapasiteetin tulee olla %.1e F.\\n\", C)\n"
      ],
      "outputs": [
        {
          "output_type": "stream",
          "name": "stdout",
          "text": [
            "Kapasiteetin tulee olla 1.8e-16 F.\n"
          ]
        }
      ],
      "execution_count": 129,
      "metadata": {
        "collapsed": true,
        "jupyter": {
          "source_hidden": false,
          "outputs_hidden": false
        },
        "nteract": {
          "transient": {
            "deleting": false
          }
        },
        "execution": {
          "iopub.status.busy": "2021-10-25T17:55:31.039Z",
          "iopub.execute_input": "2021-10-25T17:55:31.053Z",
          "iopub.status.idle": "2021-10-25T17:55:31.075Z"
        }
      }
    },
    {
      "cell_type": "markdown",
      "source": [
        "16-5\n",
        "\n",
        "Kirjan vastaus: a) 150 MHz b) 3.3 ms"
      ],
      "metadata": {
        "nteract": {
          "transient": {
            "deleting": false
          }
        }
      }
    },
    {
      "cell_type": "code",
      "source": [
        "c=2.99792e8\n",
        "L=1\n",
        "l=2*L\n",
        "f=c/l\n",
        "@printf(\"Taajuus on %.2e Hz.\\n\", f)\n",
        "s=1000e3\n",
        "t=s/c\n",
        "@printf(\"Aika on %.2e s.\\n\", t)"
      ],
      "outputs": [
        {
          "output_type": "stream",
          "name": "stdout",
          "text": [
            "Taajuus on 1.50e+08 Hz.\n",
            "Aika on 3.34e-03 s.\n"
          ]
        }
      ],
      "execution_count": 132,
      "metadata": {
        "collapsed": true,
        "jupyter": {
          "source_hidden": false,
          "outputs_hidden": false
        },
        "nteract": {
          "transient": {
            "deleting": false
          }
        },
        "execution": {
          "iopub.status.busy": "2021-10-25T18:00:09.530Z",
          "iopub.execute_input": "2021-10-25T18:00:09.542Z",
          "iopub.status.idle": "2021-10-25T18:00:09.567Z"
        }
      }
    },
    {
      "cell_type": "markdown",
      "source": [
        "16-6\n",
        "\n",
        "Kirjan vastaus: 75 m - 380 m"
      ],
      "metadata": {
        "nteract": {
          "transient": {
            "deleting": false
          }
        }
      }
    },
    {
      "cell_type": "code",
      "source": [
        "L=0.8e-3\n",
        "C=2e-12\n",
        "f=1/(2*pi*sqrt(L*C))\n",
        "l=c/f\n",
        "@printf(\"Aallonpituus kapasiteetilla %.2e F on %.0f m.\\n\", C,l)\n",
        "C=50e-12\n",
        "f=1/(2*pi*sqrt(L*C))\n",
        "l=c/f\n",
        "@printf(\"Aallonpituus kapasiteetilla %.2e F on %.0f m.\\n\", C,l)"
      ],
      "outputs": [
        {
          "output_type": "stream",
          "name": "stdout",
          "text": [
            "Aallonpituus kapasiteetilla 2.00e-12 F on 75 m.\n",
            "Aallonpituus kapasiteetilla 5.00e-11 F on 377 m.\n"
          ]
        }
      ],
      "execution_count": 138,
      "metadata": {
        "collapsed": true,
        "jupyter": {
          "source_hidden": false,
          "outputs_hidden": false
        },
        "nteract": {
          "transient": {
            "deleting": false
          }
        },
        "execution": {
          "iopub.status.busy": "2021-10-25T18:06:08.648Z",
          "iopub.execute_input": "2021-10-25T18:06:08.657Z",
          "iopub.status.idle": "2021-10-25T18:06:08.823Z"
        }
      }
    },
    {
      "cell_type": "markdown",
      "source": [
        "16-8\n",
        "\n",
        "Kirjan vastaus: a) 17 cm, 7.1 cm (tai 8.3 cm, 3.6 cm)\n"
      ],
      "metadata": {
        "nteract": {
          "transient": {
            "deleting": false
          }
        }
      }
    },
    {
      "cell_type": "code",
      "source": [
        "f=900e6\n",
        "l=c/f\n",
        "L=l/2\n",
        "@printf(\"Puoliaaltoantennin pituus taajuudella %.2e Hz on %.1e m.\\n\", f,L)\n",
        "f=2100e6\n",
        "l=c/f\n",
        "L=l/2\n",
        "@printf(\"Puoliaaltoantennin pituus taajuudella %.2e Hz on %.1e m.\\n\", f,L)\n"
      ],
      "outputs": [
        {
          "output_type": "stream",
          "name": "stdout",
          "text": [
            "Puoliaaltoantennin pituus taajuudella 9.00e+08 Hz on 1.7e-01 m.\n",
            "Puoliaaltoantennin pituus taajuudella 2.10e+09 Hz on 7.1e-02 m.\n"
          ]
        }
      ],
      "execution_count": 146,
      "metadata": {
        "collapsed": true,
        "jupyter": {
          "source_hidden": false,
          "outputs_hidden": false
        },
        "nteract": {
          "transient": {
            "deleting": false
          }
        },
        "execution": {
          "iopub.status.busy": "2021-10-25T18:12:41.101Z",
          "iopub.execute_input": "2021-10-25T18:12:41.115Z",
          "iopub.status.idle": "2021-10-25T18:12:41.138Z"
        }
      }
    }
  ],
  "metadata": {
    "kernel_info": {
      "name": "julia-nteract-1.5"
    },
    "language_info": {
      "file_extension": ".jl",
      "name": "julia",
      "mimetype": "application/julia",
      "version": "1.5.4"
    },
    "kernelspec": {
      "argv": [
        "C:\\Users\\snikula\\AppData\\Local\\JuliaPro-1.5.4-1\\Julia-1.5.4\\bin\\julia.exe",
        "-i",
        "--color=yes",
        "C:\\Users\\snikula\\.julia\\packages\\IJulia\\e8kqU\\src\\kernel.jl",
        "{connection_file}"
      ],
      "display_name": "Julia nteract 1.5.4",
      "env": {},
      "interrupt_mode": "message",
      "language": "julia",
      "name": "julia-nteract-1.5"
    },
    "nteract": {
      "version": "0.28.0"
    }
  },
  "nbformat": 4,
  "nbformat_minor": 0
}