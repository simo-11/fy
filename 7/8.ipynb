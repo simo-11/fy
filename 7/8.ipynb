{
  "cells": [
    {
      "cell_type": "markdown",
      "source": [
        "# Atomin ydin"
      ],
      "metadata": {
        "nteract": {
          "transient": {
            "deleting": false
          }
        }
      }
    },
    {
      "cell_type": "code",
      "source": [
        "using Printf\n",
        "using Dates\n",
        "b=2.897768e-3 # Wienin siirtymälain vakio\n",
        "c=2.99792e8 # Valon nopeus\n",
        "h=6.6260693e-34 # Plancin vakio\n",
        "u=1.66053904e-27 # Atomimassayksikkö [kg]\n",
        "mp=1.67262164e-27 # protonin massa [kg]\n",
        "mn=1.674927351e-27 # neutronin massa [kg]\n",
        "me=9.10938e-31 # Elektronin massa [kg]\n",
        "eV=1.6021766e-19 # Elektorinivoltti\n",
        "sigma=5.670374419e-8 # Stefan-Boltzman\n",
        "@printf \"%s\\n\" Dates.now();\n",
        "versioninfo(verbose=false);"
      ],
      "outputs": [
        {
          "output_type": "stream",
          "name": "stdout",
          "text": [
            "2021-11-28T20:52:38.404\n",
            "Julia Version 1.5.4\n",
            "Commit 69fcb5745b (2021-03-11 19:13 UTC)\n",
            "Platform Info:\n",
            "  OS: Windows (x86_64-w64-mingw32)\n",
            "  CPU: Intel(R) Core(TM) i7-8650U CPU @ 1.90GHz\n",
            "  WORD_SIZE: 64\n",
            "  LIBM: libopenlibm\n",
            "  LLVM: libLLVM-9.0.1 (ORCJIT, skylake)\n",
            "Environment:\n",
            "  JULIA_DEPOT_PATH = C:\\Users\\snikula\\.julia;C:\\Users\\snikula\\AppData\\Local\\JuliaPro-1.5.4-1\\Julia-1.5.4\\local\\share\\julia;C:\\Users\\snikula\\AppData\\Local\\JuliaPro-1.5.4-1\\Julia-1.5.4\\share\\julia\n",
            "  JULIA_LOAD_PATH = C:\\Users\\snikula\\.julia\\environments\\JuliaPro_v1.5.4-1;@;@v#.#;@stdlib\n",
            "  JULIA_PKG_SERVER = pkg.juliahub.com\n"
          ]
        }
      ],
      "execution_count": 25,
      "metadata": {
        "collapsed": true,
        "jupyter": {
          "source_hidden": false,
          "outputs_hidden": false
        },
        "nteract": {
          "transient": {
            "deleting": false
          }
        },
        "execution": {
          "iopub.status.busy": "2021-11-28T18:52:38.551Z",
          "iopub.execute_input": "2021-11-28T18:52:38.564Z",
          "iopub.status.idle": "2021-11-28T18:52:38.594Z"
        }
      }
    },
    {
      "cell_type": "markdown",
      "source": [
        "8-6 \n",
        "\n",
        "Kirjan vastaus: 10^36"
      ],
      "metadata": {
        "nteract": {
          "transient": {
            "deleting": false
          }
        }
      }
    },
    {
      "cell_type": "code",
      "source": [
        "# Fs=k*q1*q1/r^2\n",
        "# Fg=G*m1*m1/r^2\n",
        "k=8.98755e9\n",
        "G=6.67384e-11\n",
        "q1=eV\n",
        "m1=mp\n",
        "Fs_Fg=k*q1^2/(G*m1^2)\n",
        "@printf(\"Suhde on %.0e.\\n\",Fs_Fg)"
      ],
      "outputs": [
        {
          "output_type": "stream",
          "name": "stdout",
          "text": [
            "Suhde on 1e+36.\n"
          ]
        }
      ],
      "execution_count": 6,
      "metadata": {
        "collapsed": true,
        "jupyter": {
          "source_hidden": false,
          "outputs_hidden": false
        },
        "nteract": {
          "transient": {
            "deleting": false
          }
        },
        "execution": {
          "iopub.status.busy": "2021-11-28T17:12:19.275Z",
          "iopub.execute_input": "2021-11-28T17:12:19.283Z",
          "iopub.status.idle": "2021-11-28T17:12:19.562Z"
        }
      }
    },
    {
      "cell_type": "markdown",
      "source": [
        "8-8 \n",
        "\n",
        "Kirjan vastaus: 10 000 a"
      ],
      "metadata": {
        "nteract": {
          "transient": {
            "deleting": false
          }
        }
      }
    },
    {
      "cell_type": "code",
      "source": [
        "m=0.046\n",
        "e=m*c^2\n",
        "P=13e3\n",
        "ta=e/P/(3600*24*365.25)\n",
        "@printf(\"Noin %.1e vuotta.\\n\",ta)"
      ],
      "outputs": [
        {
          "output_type": "stream",
          "name": "stdout",
          "text": [
            "Noin 1.0e+04 vuotta.\n"
          ]
        }
      ],
      "execution_count": 9,
      "metadata": {
        "collapsed": true,
        "jupyter": {
          "source_hidden": false,
          "outputs_hidden": false
        },
        "nteract": {
          "transient": {
            "deleting": false
          }
        },
        "execution": {
          "iopub.status.busy": "2021-11-28T17:53:31.562Z",
          "iopub.execute_input": "2021-11-28T17:53:31.573Z",
          "iopub.status.idle": "2021-11-28T17:53:31.592Z"
        }
      }
    },
    {
      "cell_type": "markdown",
      "source": [
        "8-9 \n",
        "\n",
        "Kirjan vastaus: e) Ni (~8.8), Sn (~8.3), C (~7.5), He (~7)<br> \n",
        "f) 8.795 MeV"
      ],
      "metadata": {
        "nteract": {
          "transient": {
            "deleting": false
          }
        }
      }
    },
    {
      "cell_type": "code",
      "source": [
        "Eb=545.3\n",
        "A=62\n",
        "b=Eb/A\n",
        "@printf(\"Sidososuus on %.3f MeV.\\n\",b)"
      ],
      "outputs": [
        {
          "output_type": "stream",
          "name": "stdout",
          "text": [
            "Sidososuus on 8.795 MeV.\n"
          ]
        }
      ],
      "execution_count": 13,
      "metadata": {
        "collapsed": true,
        "jupyter": {
          "source_hidden": false,
          "outputs_hidden": false
        },
        "nteract": {
          "transient": {
            "deleting": false
          }
        },
        "execution": {
          "iopub.status.busy": "2021-11-28T18:03:50.571Z",
          "iopub.execute_input": "2021-11-28T18:03:50.582Z",
          "iopub.status.idle": "2021-11-28T18:03:50.602Z"
        }
      }
    },
    {
      "cell_type": "markdown",
      "source": [
        "8-10 \n",
        "\n",
        "Kirjan vastaus: 63.62 u (63.55 u)"
      ],
      "metadata": {
        "nteract": {
          "transient": {
            "deleting": false
          }
        }
      }
    },
    {
      "cell_type": "code",
      "source": [
        "mc=0.6917*63+.3083*65\n",
        "@printf(\"Kuparin atomimassa on %.2f u.\\n\",mc)"
      ],
      "outputs": [
        {
          "output_type": "stream",
          "name": "stdout",
          "text": [
            "Kuparin atomimassa on 63.62 u.\n"
          ]
        }
      ],
      "execution_count": 15,
      "metadata": {
        "collapsed": true,
        "jupyter": {
          "source_hidden": false,
          "outputs_hidden": false
        },
        "nteract": {
          "transient": {
            "deleting": false
          }
        },
        "execution": {
          "iopub.status.busy": "2021-11-28T18:06:31.197Z",
          "iopub.execute_input": "2021-11-28T18:06:31.207Z",
          "iopub.status.idle": "2021-11-28T18:06:31.229Z"
        }
      }
    },
    {
      "cell_type": "markdown",
      "source": [
        "8-13 \n",
        "\n",
        "Kirjan vastaus: a) 1.4e17 kg/m^3 b) säde 210 m"
      ],
      "metadata": {
        "nteract": {
          "transient": {
            "deleting": false
          }
        }
      }
    },
    {
      "cell_type": "code",
      "source": [
        "#m=A*u\n",
        "#r=1.4*A^(1/3)\n",
        "#V=4/3*pi*r^3\n",
        "rho=u/(4/3*pi*1.4^3*1e-45)\n",
        "@printf(\"Tiheys on %.2e kg/m^3.\\n\",rho)\n",
        "m=5.9737e24\n",
        "# m=V*rho\n",
        "# m=4/3*pi*r^3*rho\n",
        "# r=pow(m/(4/3*pi*rho),1/3)\n",
        "r=(m/(4/3*pi*rho))^(1/3)\n",
        "@printf(\"Maapallon säde olisi %.0f m.\\n\",r)"
      ],
      "outputs": [
        {
          "output_type": "stream",
          "name": "stdout",
          "text": [
            "Tiheys on 1.44e+17 kg/m^3.\n",
            "Maapallon säde olisi 215 m.\n"
          ]
        }
      ],
      "execution_count": 23,
      "metadata": {
        "collapsed": true,
        "jupyter": {
          "source_hidden": false,
          "outputs_hidden": false
        },
        "nteract": {
          "transient": {
            "deleting": false
          }
        },
        "execution": {
          "iopub.status.busy": "2021-11-28T18:37:21.897Z",
          "iopub.execute_input": "2021-11-28T18:37:21.910Z",
          "iopub.status.idle": "2021-11-28T18:37:21.943Z"
        }
      }
    },
    {
      "cell_type": "markdown",
      "source": [
        "8-14 \n",
        "\n",
        "Kirjan vastaus: a) 1.44e17 kg/m^3"
      ],
      "metadata": {
        "nteract": {
          "transient": {
            "deleting": false
          }
        }
      }
    },
    {
      "cell_type": "code",
      "source": [
        "m=55.9u\n",
        "r=5.36e-15\n",
        "V=4/3*pi*r^3\n",
        "rho=m/V\n",
        "@printf(\"Tiheys on %.2e kg/m^3.\\n\",rho)"
      ],
      "outputs": [
        {
          "output_type": "stream",
          "name": "stdout",
          "text": [
            "Tiheys on 1.44e+17 kg/m^3.\n"
          ]
        }
      ],
      "execution_count": 22,
      "metadata": {
        "collapsed": true,
        "jupyter": {
          "source_hidden": false,
          "outputs_hidden": false
        },
        "nteract": {
          "transient": {
            "deleting": false
          }
        },
        "execution": {
          "iopub.status.busy": "2021-11-28T18:37:12.949Z",
          "iopub.execute_input": "2021-11-28T18:37:12.959Z",
          "iopub.status.idle": "2021-11-28T18:37:12.982Z"
        }
      }
    },
    {
      "cell_type": "markdown",
      "source": [
        "8-15 \n",
        "\n",
        "Kirjan vastaus: a) 1.75682 u"
      ],
      "metadata": {
        "nteract": {
          "transient": {
            "deleting": false
          }
        }
      }
    },
    {
      "cell_type": "code",
      "source": [
        "ma=207.976627u\n",
        "A=208\n",
        "Z=82\n",
        "N=A-Z\n",
        "dm=(Z*mp+N*mn+Z*me-ma)/u\n",
        "@printf(\"Massavaje on %.5f u.\\n\",dm)"
      ],
      "outputs": [
        {
          "output_type": "stream",
          "name": "stdout",
          "text": [
            "Massavaje on 1.75678 u.\n"
          ]
        }
      ],
      "execution_count": 26,
      "metadata": {
        "collapsed": true,
        "jupyter": {
          "source_hidden": false,
          "outputs_hidden": false
        },
        "nteract": {
          "transient": {
            "deleting": false
          }
        },
        "execution": {
          "iopub.status.busy": "2021-11-28T18:52:46.858Z",
          "iopub.execute_input": "2021-11-28T18:52:46.871Z",
          "iopub.status.idle": "2021-11-28T18:52:46.896Z"
        }
      }
    },
    {
      "cell_type": "markdown",
      "source": [
        "8-16 \n",
        "\n",
        "Kirjan vastaus: a) 0.0989405 u b) 92.1625 MeV c) 7.68021 MeV"
      ],
      "metadata": {
        "nteract": {
          "transient": {
            "deleting": false
          }
        }
      }
    },
    {
      "cell_type": "code",
      "source": [
        "ma=12u\n",
        "A=12\n",
        "Z=6\n",
        "N=A-Z\n",
        "dm=Z*mp+N*mn+Z*me-ma\n",
        "@printf(\"Massavaje on %.5f u.\\n\",dm/u)\n",
        "Eb=dm*c^2\n",
        "@printf(\"Sidosenergia on %.5f MeV.\\n\",Eb/(1e6*eV))\n",
        "@printf(\"Sidososuus on %.5f MeV.\\n\",Eb/(A*1e6*eV))\n"
      ],
      "outputs": [
        {
          "output_type": "stream",
          "name": "stdout",
          "text": [
            "Massavaje on 0.09894 u.\n",
            "Sidosenergia on 92.16027 MeV.\n",
            "Sidososuus on 7.68002 MeV.\n"
          ]
        }
      ],
      "execution_count": 29,
      "metadata": {
        "collapsed": true,
        "jupyter": {
          "source_hidden": false,
          "outputs_hidden": false
        },
        "nteract": {
          "transient": {
            "deleting": false
          }
        },
        "execution": {
          "iopub.status.busy": "2021-11-28T18:58:16.033Z",
          "iopub.execute_input": "2021-11-28T18:58:16.049Z",
          "iopub.status.idle": "2021-11-28T18:58:16.076Z"
        }
      }
    },
    {
      "cell_type": "markdown",
      "source": [
        "8-17 \n",
        "\n",
        "Kirjan vastaus: b, c ja d"
      ],
      "metadata": {
        "nteract": {
          "transient": {
            "deleting": false
          }
        }
      }
    },
    {
      "cell_type": "code",
      "source": [
        "A=238\n",
        "Z=92\n",
        "N=A-Z\n",
        "m=238.050784u-Z*me # Taulukkoarvosta pois elektronien osuus\n",
        "@printf(\"Uraanin 238:n ytimen massa on %.6f u.\\n\",m/u)\n",
        "@printf(\"Uraanin 238:n ytimen massa on %.6e kg.\\n\",m)\n",
        "@printf(\"Uraanin 238:n ytimen massa on %.6e eV/c^2.\\n\",m/eV*c^2)"
      ],
      "outputs": [
        {
          "output_type": "stream",
          "name": "stdout",
          "text": [
            "Uraanin 238:n ytimen massa on 238.000315 u.\n",
            "Uraanin 238:n ytimen massa on 3.952088e-25 kg.\n",
            "Uraanin 238:n ytimen massa on 2.216952e+11 eV/c^2.\n"
          ]
        }
      ],
      "execution_count": 35,
      "metadata": {
        "collapsed": true,
        "jupyter": {
          "source_hidden": false,
          "outputs_hidden": false
        },
        "nteract": {
          "transient": {
            "deleting": false
          }
        },
        "execution": {
          "iopub.status.busy": "2021-11-28T19:17:33.356Z",
          "iopub.execute_input": "2021-11-28T19:17:33.371Z",
          "iopub.status.idle": "2021-11-28T19:17:33.397Z"
        }
      }
    },
    {
      "cell_type": "markdown",
      "source": [
        "8-18\n",
        "\n",
        "Kirjan vastaus: 3 (143 ja 7.591 MeV)"
      ],
      "metadata": {
        "nteract": {
          "transient": {
            "deleting": false
          }
        }
      }
    },
    {
      "cell_type": "code",
      "source": [
        "ma=235.043925u\n",
        "A=235\n",
        "Z=92\n",
        "N=A-Z\n",
        "@printf(\"Neutroniluku on %d \\n\",N)\n",
        "dm=Z*mp+N*mn+Z*me-ma\n",
        "@printf(\"Massavaje on %.5f u.\\n\",dm/u)\n",
        "Eb=dm*c^2\n",
        "@printf(\"Sidosenergia on %.5f MeV.\\n\",Eb/(1e6*eV))\n",
        "@printf(\"Sidososuus on %.3f MeV.\\n\",Eb/(A*1e6*eV))\n"
      ],
      "outputs": [
        {
          "output_type": "stream",
          "name": "stdout",
          "text": [
            "Neutroniluku on 143 \n",
            "Massavaje on 1.91504 u.\n",
            "Sidosenergia on 1783.84084 MeV.\n",
            "Sidososuus on 7.591 MeV.\n"
          ]
        }
      ],
      "execution_count": 38,
      "metadata": {
        "collapsed": true,
        "jupyter": {
          "source_hidden": false,
          "outputs_hidden": false
        },
        "nteract": {
          "transient": {
            "deleting": false
          }
        },
        "execution": {
          "iopub.status.busy": "2021-11-28T19:24:41.665Z",
          "iopub.execute_input": "2021-11-28T19:24:41.680Z",
          "iopub.status.idle": "2021-11-28T19:24:41.709Z"
        }
      }
    },
    {
      "cell_type": "markdown",
      "source": [
        "8-19 \n",
        "\n",
        "Kirjan vastaus: 3.77 pm"
      ],
      "metadata": {
        "nteract": {
          "transient": {
            "deleting": false
          }
        }
      }
    },
    {
      "cell_type": "code",
      "source": [
        "dE=0.329e6*eV\n",
        "# dE=h*c/lambda\n",
        "lambda=h*c/dE\n",
        "@printf(\"Gammakvantin aallonpituus on %.2e m.\\n\",lambda)"
      ],
      "outputs": [
        {
          "output_type": "stream",
          "name": "stdout",
          "text": [
            "Gammakvantin aallonpituus on 3.77e-12 m.\n"
          ]
        }
      ],
      "execution_count": 40,
      "metadata": {
        "collapsed": true,
        "jupyter": {
          "source_hidden": false,
          "outputs_hidden": false
        },
        "nteract": {
          "transient": {
            "deleting": false
          }
        },
        "execution": {
          "iopub.status.busy": "2021-11-28T19:28:52.452Z",
          "iopub.execute_input": "2021-11-28T19:28:52.466Z",
          "iopub.status.idle": "2021-11-28T19:28:52.495Z"
        }
      }
    }
  ],
  "metadata": {
    "kernel_info": {
      "name": "julia-nteract-1.5"
    },
    "language_info": {
      "file_extension": ".jl",
      "name": "julia",
      "mimetype": "application/julia",
      "version": "1.5.4"
    },
    "kernelspec": {
      "argv": [
        "C:\\Users\\snikula\\AppData\\Local\\JuliaPro-1.5.4-1\\Julia-1.5.4\\bin\\julia.exe",
        "-i",
        "--color=yes",
        "C:\\Users\\snikula\\.julia\\packages\\IJulia\\e8kqU\\src\\kernel.jl",
        "{connection_file}"
      ],
      "display_name": "Julia nteract 1.5.4",
      "env": {},
      "interrupt_mode": "message",
      "language": "julia",
      "name": "julia-nteract-1.5"
    },
    "nteract": {
      "version": "0.28.0"
    }
  },
  "nbformat": 4,
  "nbformat_minor": 0
}