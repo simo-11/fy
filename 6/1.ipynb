{
  "cells": [
    {
      "cell_type": "markdown",
      "source": [
        "1-1 Miten voit päätellä, että valo kulkee nopeammin kuin ääni?\n",
        "\n",
        "Salaman valo näkyy ensin ja ääni tulee myöhemmin."
      ],
      "metadata": {
        "nteract": {
          "transient": {
            "deleting": false
          }
        }
      }
    },
    {
      "cell_type": "markdown",
      "source": [
        "1-2 Näkyvän valon aallonpituudet ovat välillä 400..700 nm. Määritä näkyvän valon taajuus.\n",
        "\n",
        "$c= f \\lambda$<br>\n",
        "$f=\\frac{c}{\\lambda}$<br> \n",
        "c=3e8 $\\frac{m}{s}$<br>\n",
        "$\\lambda = 400*10^{-9} .. 700*10^{-9} $"
      ],
      "metadata": {
        "nteract": {
          "transient": {
            "deleting": false
          }
        }
      }
    },
    {
      "cell_type": "code",
      "source": [
        "f1=3e8/400e-9\n",
        "f2=3e8/700e-9\n",
        "print(f'Taajuus on {f1:.3e}-{f2:.3e} Hz eli {f1/1e12:.0f}-{f2/1e12:.0f} THz')\n"
      ],
      "outputs": [],
      "execution_count": null,
      "metadata": {
        "collapsed": true,
        "jupyter": {
          "source_hidden": false,
          "outputs_hidden": false
        },
        "nteract": {
          "transient": {
            "deleting": false
          }
        },
        "execution": {
          "iopub.status.busy": "2021-09-22T19:21:33.555Z",
          "iopub.execute_input": "2021-09-22T19:21:33.561Z",
          "iopub.status.idle": "2021-09-22T19:21:33.576Z",
          "shell.execute_reply": "2021-09-22T19:21:33.582Z"
        }
      }
    },
    {
      "cell_type": "markdown",
      "source": [
        "1-4 Lampun valoteho 1.6 m etäisyydellä on 120 lx. Määritä etäisyys, jolla valovoimakkuus on 500 lx.\n",
        "\n",
        "Valovoimakkuus on kääntäen verrannollinen etäisyyden neliöön. \n",
        "\n",
        "$E=\\frac{\\Phi}{4 \\pi r^2}$<br>\n",
        "$\\Phi= 4 E \\pi r^2$<br>\n",
        "$r=\\sqrt{\\frac{\\Phi}{4 E \\pi}}$<br>"
      ],
      "metadata": {
        "nteract": {
          "transient": {
            "deleting": false
          }
        }
      }
    },
    {
      "cell_type": "code",
      "source": [
        "import math\n",
        "phi=4*120*math.pi*pow(1.6,2)\n",
        "r2=math.sqrt(phi/(4*500*math.pi))\n",
        "print(f'Valovirta={phi:.0f} ja kysytty etäisyys on {r2:.3f} m')"
      ],
      "outputs": [],
      "execution_count": null,
      "metadata": {
        "collapsed": true,
        "jupyter": {
          "source_hidden": false,
          "outputs_hidden": false
        },
        "nteract": {
          "transient": {
            "deleting": false
          }
        },
        "execution": {
          "iopub.status.busy": "2021-09-22T19:42:00.269Z",
          "iopub.execute_input": "2021-09-22T19:42:00.277Z",
          "iopub.status.idle": "2021-09-22T19:42:00.291Z",
          "shell.execute_reply": "2021-09-22T19:42:00.298Z"
        }
      }
    },
    {
      "cell_type": "markdown",
      "source": [
        "1-5 Auton sumuvalo antaa 30 m päähän 5 luksin valaistusvoimakkuuden. Kuinka suuri valaistusvoimakkuus on 10 metrin etäisyydellä. Tehtävän 1-4 kaavoilla. Kirjan takana on väärä vastaus 50 lx."
      ],
      "metadata": {
        "nteract": {
          "transient": {
            "deleting": false
          }
        }
      }
    },
    {
      "cell_type": "code",
      "source": [
        "import math\n",
        "phi=4*5*math.pi*pow(30,2)\n",
        "E=phi/(4*math.pi*pow(10,2))\n",
        "print(f'Valovirta={phi:.0f} ja valaistusvoimakkuus 10 metrin etäisyydellä on {E:.1f} luksia')"
      ],
      "outputs": [],
      "execution_count": null,
      "metadata": {
        "collapsed": true,
        "jupyter": {
          "source_hidden": false,
          "outputs_hidden": false
        },
        "nteract": {
          "transient": {
            "deleting": false
          }
        },
        "execution": {
          "iopub.status.busy": "2021-09-23T16:40:29.693Z",
          "iopub.execute_input": "2021-09-23T16:40:29.701Z",
          "iopub.status.idle": "2021-09-23T16:40:29.721Z",
          "shell.execute_reply": "2021-09-23T16:40:29.729Z"
        }
      }
    },
    {
      "cell_type": "markdown",
      "source": [
        "1-6 Lampun valaistusvoimakkuus 1 metrin etäisyydellä on 75 lx. \n",
        "\n",
        " * Piirrä kuvaaja, joka esittää lampun valaistusvoimakkuutta etäisyyksillä 1..5 m\n",
        " * Kuinka suuri on valaistusvoimakkuus etäisyydellä 3.5 m\n"
      ],
      "metadata": {
        "nteract": {
          "transient": {
            "deleting": false
          }
        }
      }
    },
    {
      "cell_type": "code",
      "source": [
        "# Tarvittaessa komentoriviltä pip install matplotlib\n",
        "\n",
        "import math\n",
        "phi=4*75*math.pi*pow(1,2)\n",
        "def E(r):\n",
        "  return phi/(4*math.pi*pow(r,2))\n",
        "\n",
        "import matplotlib.pyplot as plt\n",
        "import numpy as np\n",
        "# Data for plotting\n",
        "t = np.arange(1.0, 5.0, 0.01)\n",
        "s = E(t)\n",
        "fig, ax = plt.subplots()\n",
        "ax.plot(t, s)\n",
        "ax.set(xlabel='Etäisyys [m]', ylabel='Valaistusvoimakkuus [lx]',\n",
        "       title='Tehtävä 1-6 a')\n",
        "ax.grid()\n",
        "plt.show()\n",
        "ev=E(3.5)\n",
        "print(f'b: Valovoimakkuus etäisyydellä 3,5 m on {ev:.1f} lx')"
      ],
      "outputs": [],
      "execution_count": null,
      "metadata": {
        "collapsed": true,
        "jupyter": {
          "source_hidden": false,
          "outputs_hidden": false
        },
        "nteract": {
          "transient": {
            "deleting": false
          }
        },
        "execution": {
          "iopub.status.busy": "2021-09-23T17:19:33.748Z",
          "iopub.execute_input": "2021-09-23T17:19:33.764Z",
          "iopub.status.idle": "2021-09-23T17:19:33.952Z",
          "shell.execute_reply": "2021-09-23T17:19:33.973Z"
        }
      }
    },
    {
      "cell_type": "markdown",
      "source": [
        "1-7 Määritä valonnopeus mittaustuloksista, joissa on aika ja etäisyys, kun valo heijastuu\n"
      ],
      "metadata": {
        "nteract": {
          "transient": {
            "deleting": false
          }
        }
      }
    },
    {
      "cell_type": "code",
      "source": [
        "import matplotlib.pyplot as plt\n",
        "import numpy as np\n",
        "fig, ax = plt.subplots()\n",
        "s=[15,  16.5, 18, 19.5, 21, 22.5, 24]\n",
        "t=[105, 119, 126, 138, 150, 157, 170]\n",
        "ax.plot(s,t)\n",
        "ax.set(xlabel='Etäisyys [m]', ylabel='Aika [ns]',\n",
        "       title='Tehtävä 1-7')\n",
        "ax.grid()\n",
        "plt.show()\n",
        "print(f'valon nopeus on noin (yksi hyvä piste) {2*19.5/138e-9:.3g} m/s')\n",
        "print(f'valon nopeus on noin (keskiarvo) {2*sum(s)/sum(t)*1e9:.3g} m/s')\n"
      ],
      "outputs": [],
      "execution_count": null,
      "metadata": {
        "collapsed": true,
        "jupyter": {
          "source_hidden": false,
          "outputs_hidden": false
        },
        "nteract": {
          "transient": {
            "deleting": false
          }
        },
        "execution": {
          "iopub.status.busy": "2021-09-23T17:40:34.305Z",
          "iopub.execute_input": "2021-09-23T17:40:34.319Z",
          "iopub.status.idle": "2021-09-23T17:40:34.493Z",
          "shell.execute_reply": "2021-09-23T17:40:34.520Z"
        }
      }
    },
    {
      "cell_type": "code",
      "source": [],
      "outputs": [],
      "execution_count": null,
      "metadata": {
        "collapsed": true,
        "jupyter": {
          "source_hidden": false,
          "outputs_hidden": false
        },
        "nteract": {
          "transient": {
            "deleting": false
          }
        }
      }
    }
  ],
  "metadata": {
    "kernel_info": {
      "name": "python3"
    },
    "language_info": {
      "name": "python",
      "version": "3.9.6",
      "mimetype": "text/x-python",
      "codemirror_mode": {
        "name": "ipython",
        "version": 3
      },
      "pygments_lexer": "ipython3",
      "nbconvert_exporter": "python",
      "file_extension": ".py"
    },
    "kernelspec": {
      "argv": [
        "python",
        "-m",
        "ipykernel_launcher",
        "-f",
        "{connection_file}"
      ],
      "display_name": "Python 3 (ipykernel)",
      "language": "python",
      "metadata": {
        "debugger": true
      },
      "name": "python3"
    },
    "nteract": {
      "version": "0.28.0"
    }
  },
  "nbformat": 4,
  "nbformat_minor": 0
}