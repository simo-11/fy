{
  "cells": [
    {
      "cell_type": "markdown",
      "source": [
        "# Kertaus"
      ],
      "metadata": {
        "nteract": {
          "transient": {
            "deleting": false
          }
        }
      }
    },
    {
      "cell_type": "code",
      "source": [
        "using Printf\n",
        "using Dates\n",
        "@printf \"%s\\n\" Dates.now();\n",
        "versioninfo(verbose=false);"
      ],
      "outputs": [
        {
          "output_type": "stream",
          "name": "stdout",
          "text": [
            "2021-10-26T20:15:31.816\n",
            "Julia Version 1.5.4\n",
            "Commit 69fcb5745b (2021-03-11 19:13 UTC)\n",
            "Platform Info:\n",
            "  OS: Windows (x86_64-w64-mingw32)\n",
            "  CPU: Intel(R) Core(TM) i7-8650U CPU @ 1.90GHz\n",
            "  WORD_SIZE: 64\n",
            "  LIBM: libopenlibm\n",
            "  LLVM: libLLVM-9.0.1 (ORCJIT, skylake)\n",
            "Environment:\n",
            "  JULIA_DEPOT_PATH = C:\\Users\\snikula\\.julia;C:\\Users\\snikula\\AppData\\Local\\JuliaPro-1.5.4-1\\Julia-1.5.4\\local\\share\\julia;C:\\Users\\snikula\\AppData\\Local\\JuliaPro-1.5.4-1\\Julia-1.5.4\\share\\julia\n",
            "  JULIA_LOAD_PATH = C:\\Users\\snikula\\.julia\\environments\\JuliaPro_v1.5.4-1;@;@v#.#;@stdlib\n",
            "  JULIA_PKG_SERVER = pkg.juliahub.com\n"
          ]
        }
      ],
      "execution_count": 147,
      "metadata": {
        "collapsed": true,
        "jupyter": {
          "source_hidden": false,
          "outputs_hidden": false
        },
        "nteract": {
          "transient": {
            "deleting": false
          }
        },
        "execution": {
          "iopub.status.busy": "2021-10-26T17:15:31.827Z",
          "iopub.execute_input": "2021-10-26T17:15:31.843Z",
          "iopub.status.idle": "2021-10-26T17:15:31.874Z"
        }
      }
    },
    {
      "cell_type": "markdown",
      "source": [
        "k-2 \n",
        "\n",
        "Kirjan vastaus: a) 16 lx b) 0.57 m"
      ],
      "metadata": {
        "nteract": {
          "transient": {
            "deleting": false
          }
        }
      }
    },
    {
      "cell_type": "code",
      "source": [
        "L=10e-3\n",
        "C=2e-9\n",
        "f=1/(2*pi*sqrt(L*C))\n",
        "@printf(\"Värähtelytaajuus on %.1e Hz.\\n\", f)\n"
      ],
      "outputs": [
        {
          "output_type": "stream",
          "name": "stdout",
          "text": [
            "Värähtelytaajuus on 3.6e+04 Hz.\n"
          ]
        }
      ],
      "execution_count": 148,
      "metadata": {
        "collapsed": true,
        "jupyter": {
          "source_hidden": false,
          "outputs_hidden": false
        },
        "nteract": {
          "transient": {
            "deleting": false
          }
        },
        "execution": {
          "iopub.status.busy": "2021-10-26T17:16:20.434Z",
          "iopub.execute_input": "2021-10-26T17:16:20.447Z",
          "iopub.status.idle": "2021-10-26T17:16:20.475Z"
        }
      }
    },
    {
      "cell_type": "markdown",
      "source": [
        "k-3 \n",
        "\n",
        "Kirjan vastaus: a) 1500 lx b) 630 lx c) voi"
      ],
      "metadata": {
        "nteract": {
          "transient": {
            "deleting": false
          }
        }
      }
    },
    {
      "cell_type": "code",
      "source": [
        "L=15e-3\n",
        "f=97.7e6\n",
        "C=1/((2*pi*f)^2*L)\n",
        "@printf(\"Kapasiteetin tulee olla %.1e F.\\n\", C)\n"
      ],
      "outputs": [
        {
          "output_type": "stream",
          "name": "stdout",
          "text": [
            "Kapasiteetin tulee olla 1.8e-16 F.\n"
          ]
        }
      ],
      "execution_count": 149,
      "metadata": {
        "collapsed": true,
        "jupyter": {
          "source_hidden": false,
          "outputs_hidden": false
        },
        "nteract": {
          "transient": {
            "deleting": false
          }
        },
        "execution": {
          "iopub.status.busy": "2021-10-26T17:17:28.173Z",
          "iopub.execute_input": "2021-10-26T17:17:28.184Z",
          "iopub.status.idle": "2021-10-26T17:17:28.207Z"
        }
      }
    },
    {
      "cell_type": "markdown",
      "source": [
        "k-5\n",
        "\n",
        "Kirjan vastaus: 300 nm - 530 nm"
      ],
      "metadata": {
        "nteract": {
          "transient": {
            "deleting": false
          }
        }
      }
    },
    {
      "cell_type": "code",
      "source": [
        "c=2.99792e8\n",
        "L=1\n",
        "l=2*L\n",
        "f=c/l\n",
        "@printf(\"Taajuus on %.2e Hz.\\n\", f)\n",
        "s=1000e3\n",
        "t=s/c\n",
        "@printf(\"Aika on %.2e s.\\n\", t)"
      ],
      "outputs": [
        {
          "output_type": "stream",
          "name": "stdout",
          "text": [
            "Taajuus on 1.50e+08 Hz.\n",
            "Aika on 3.34e-03 s.\n"
          ]
        }
      ],
      "execution_count": 150,
      "metadata": {
        "collapsed": true,
        "jupyter": {
          "source_hidden": false,
          "outputs_hidden": false
        },
        "nteract": {
          "transient": {
            "deleting": false
          }
        },
        "execution": {
          "iopub.status.busy": "2021-10-26T17:18:08.075Z",
          "iopub.execute_input": "2021-10-26T17:18:08.087Z",
          "iopub.status.idle": "2021-10-26T17:18:08.116Z"
        }
      }
    },
    {
      "cell_type": "markdown",
      "source": [
        "k-6\n",
        "\n",
        "Kirjan vastaus: a) 49° b) 35°"
      ],
      "metadata": {
        "nteract": {
          "transient": {
            "deleting": false
          }
        }
      }
    },
    {
      "cell_type": "code",
      "source": [
        "L=0.8e-3\n",
        "C=2e-12\n",
        "f=1/(2*pi*sqrt(L*C))\n",
        "l=c/f\n",
        "@printf(\"Aallonpituus kapasiteetilla %.2e F on %.0f m.\\n\", C,l)\n",
        "C=50e-12\n",
        "f=1/(2*pi*sqrt(L*C))\n",
        "l=c/f\n",
        "@printf(\"Aallonpituus kapasiteetilla %.2e F on %.0f m.\\n\", C,l)"
      ],
      "outputs": [
        {
          "output_type": "stream",
          "name": "stdout",
          "text": [
            "Aallonpituus kapasiteetilla 2.00e-12 F on 75 m.\n",
            "Aallonpituus kapasiteetilla 5.00e-11 F on 377 m.\n"
          ]
        }
      ],
      "execution_count": 151,
      "metadata": {
        "collapsed": true,
        "jupyter": {
          "source_hidden": false,
          "outputs_hidden": false
        },
        "nteract": {
          "transient": {
            "deleting": false
          }
        },
        "execution": {
          "iopub.status.busy": "2021-10-26T17:19:51.399Z",
          "iopub.execute_input": "2021-10-26T17:19:51.410Z",
          "iopub.status.idle": "2021-10-26T17:19:51.556Z"
        }
      }
    },
    {
      "cell_type": "markdown",
      "source": [
        "k-7\n",
        "\n",
        "Kirjan vastaus: a) 29.7° b) 46.0°, 43.6°\n"
      ],
      "metadata": {
        "nteract": {
          "transient": {
            "deleting": false
          }
        }
      }
    },
    {
      "cell_type": "code",
      "source": [
        "f=900e6\n",
        "l=c/f\n",
        "L=l/2\n",
        "@printf(\"Puoliaaltoantennin pituus taajuudella %.2e Hz on %.1e m.\\n\", f,L)\n",
        "f=2100e6\n",
        "l=c/f\n",
        "L=l/2\n",
        "@printf(\"Puoliaaltoantennin pituus taajuudella %.2e Hz on %.1e m.\\n\", f,L)\n"
      ],
      "outputs": [
        {
          "output_type": "stream",
          "name": "stdout",
          "text": [
            "Puoliaaltoantennin pituus taajuudella 9.00e+08 Hz on 1.7e-01 m.\n",
            "Puoliaaltoantennin pituus taajuudella 2.10e+09 Hz on 7.1e-02 m.\n"
          ]
        }
      ],
      "execution_count": 146,
      "metadata": {
        "collapsed": true,
        "jupyter": {
          "source_hidden": false,
          "outputs_hidden": false
        },
        "nteract": {
          "transient": {
            "deleting": false
          }
        },
        "execution": {
          "iopub.status.busy": "2021-10-25T18:12:41.101Z",
          "iopub.execute_input": "2021-10-25T18:12:41.115Z",
          "iopub.status.idle": "2021-10-25T18:12:41.138Z"
        }
      }
    },
    {
      "cell_type": "markdown",
      "source": [
        "k-9\n",
        "\n",
        "Kirjan vastaus: 0.302 mm punaisen valon osumakohdan alapuolella\n"
      ],
      "metadata": {
        "nteract": {
          "transient": {
            "deleting": false
          }
        }
      }
    },
    {
      "cell_type": "markdown",
      "source": [
        "k-11\n",
        "\n",
        "Kirjan vastaus: 656 nm"
      ],
      "metadata": {
        "nteract": {
          "transient": {
            "deleting": false
          }
        }
      }
    },
    {
      "cell_type": "markdown",
      "source": [
        "k-12\n",
        "\n",
        "Kirjan vastaus: 657 nm, 4.56e14Hz"
      ],
      "metadata": {
        "nteract": {
          "transient": {
            "deleting": false
          }
        }
      }
    },
    {
      "cell_type": "markdown",
      "source": [
        "k-13\n",
        "\n",
        "Kirjan vastaus: 840 nm"
      ],
      "metadata": {
        "nteract": {
          "transient": {
            "deleting": false
          }
        }
      }
    },
    {
      "cell_type": "markdown",
      "source": [
        "k-16\n",
        "\n",
        "Kirjan vastaus: a 43 fN"
      ],
      "metadata": {
        "nteract": {
          "transient": {
            "deleting": false
          }
        }
      }
    },
    {
      "cell_type": "markdown",
      "source": [
        "k-17\n",
        "\n",
        "Kirjan vastaus: 3.2 fN"
      ],
      "metadata": {
        "nteract": {
          "transient": {
            "deleting": false
          }
        }
      }
    },
    {
      "cell_type": "markdown",
      "source": [
        "k-18\n",
        "\n",
        "Kirjan vastaus: 93 ns"
      ],
      "metadata": {
        "nteract": {
          "transient": {
            "deleting": false
          }
        }
      }
    },
    {
      "cell_type": "markdown",
      "source": [
        "k-19\n",
        "\n",
        "Kirjan vastaus: b) 0.32 T ja 3.3 MHz"
      ],
      "metadata": {
        "nteract": {
          "transient": {
            "deleting": false
          }
        }
      }
    },
    {
      "cell_type": "markdown",
      "source": [
        "k-20\n",
        "\n",
        "Kirjan vastaus: b) 64 kV"
      ],
      "metadata": {
        "nteract": {
          "transient": {
            "deleting": false
          }
        }
      }
    },
    {
      "cell_type": "markdown",
      "source": [
        "k-21\n",
        "\n",
        "Kirjan vastaus: 46 kN/C"
      ],
      "metadata": {
        "nteract": {
          "transient": {
            "deleting": false
          }
        }
      }
    },
    {
      "cell_type": "markdown",
      "source": [
        "k-22\n",
        "\n",
        "Kirjan vastaus: b) 32 µN itään"
      ],
      "metadata": {
        "nteract": {
          "transient": {
            "deleting": false
          }
        }
      }
    },
    {
      "cell_type": "markdown",
      "source": [
        "k-23\n",
        "\n",
        "Kirjan vastaus: a) 0.14 A"
      ],
      "metadata": {
        "nteract": {
          "transient": {
            "deleting": false
          }
        }
      }
    },
    {
      "cell_type": "markdown",
      "source": [
        "k-24\n",
        "\n",
        "Kirjan vastaus: a) 0.31 T b) 58 mN"
      ],
      "metadata": {
        "nteract": {
          "transient": {
            "deleting": false
          }
        }
      }
    },
    {
      "cell_type": "markdown",
      "source": [
        "k-27\n",
        "\n",
        "Kirjan vastaus: 0.13 V"
      ],
      "metadata": {
        "nteract": {
          "transient": {
            "deleting": false
          }
        }
      }
    },
    {
      "cell_type": "markdown",
      "source": [
        "k-28\n",
        "\n",
        "Kirjan vastaus: a) 4.2 m/s² oikealle b) 34 m/s"
      ],
      "metadata": {
        "nteract": {
          "transient": {
            "deleting": false
          }
        }
      }
    },
    {
      "cell_type": "markdown",
      "source": [
        "k-29\n",
        "\n",
        "Kirjan vastaus: c) 1.5 V"
      ],
      "metadata": {
        "nteract": {
          "transient": {
            "deleting": false
          }
        }
      }
    },
    {
      "cell_type": "markdown",
      "source": [
        "k-35\n",
        "\n",
        "Kirjan vastaus: b) 280 V, 100 Hz"
      ],
      "metadata": {
        "nteract": {
          "transient": {
            "deleting": false
          }
        }
      }
    },
    {
      "cell_type": "markdown",
      "source": [
        "k-36\n",
        "\n",
        "Kirjan vastaus: a) 2 b) 1"
      ],
      "metadata": {
        "nteract": {
          "transient": {
            "deleting": false
          }
        }
      }
    },
    {
      "cell_type": "markdown",
      "source": [
        "k-37\n",
        "\n",
        "Kirjan vastaus: a) 20 V, 14 V c) -7.8 V"
      ],
      "metadata": {
        "nteract": {
          "transient": {
            "deleting": false
          }
        }
      }
    },
    {
      "cell_type": "markdown",
      "source": [
        "k-38\n",
        "\n",
        "Kirjan vastaus: b) 0.9 kΩ c) 6.8 V"
      ],
      "metadata": {
        "nteract": {
          "transient": {
            "deleting": false
          }
        }
      }
    },
    {
      "cell_type": "markdown",
      "source": [
        "k-39\n",
        "\n",
        "Kirjan vastaus: 260 kierrosta"
      ],
      "metadata": {
        "nteract": {
          "transient": {
            "deleting": false
          }
        }
      }
    },
    {
      "cell_type": "markdown",
      "source": [
        "k-40\n",
        "\n",
        "Kirjan vastaus: a) kaksinkertaistuu b) pienenee puoleen c) kaksinkertaistuu d) ei muutu"
      ],
      "metadata": {
        "nteract": {
          "transient": {
            "deleting": false
          }
        }
      }
    },
    {
      "cell_type": "markdown",
      "source": [
        "k-41\n",
        "\n",
        "Kirjan vastaus: a) 1.2 V b) sulaa ja katkeaa"
      ],
      "metadata": {
        "nteract": {
          "transient": {
            "deleting": false
          }
        }
      }
    },
    {
      "cell_type": "markdown",
      "source": [
        "k-42\n",
        "\n",
        "Kirjan vastaus: 0.73"
      ],
      "metadata": {
        "nteract": {
          "transient": {
            "deleting": false
          }
        }
      }
    },
    {
      "cell_type": "markdown",
      "source": [
        "k-43\n",
        "\n",
        "Kirjan vastaus: b) 1.57 m"
      ],
      "metadata": {
        "nteract": {
          "transient": {
            "deleting": false
          }
        }
      }
    },
    {
      "cell_type": "markdown",
      "source": [
        "k-44\n",
        "\n",
        "Kirjan vastaus: 98 µH"
      ],
      "metadata": {
        "nteract": {
          "transient": {
            "deleting": false
          }
        }
      }
    },
    {
      "cell_type": "markdown",
      "source": [
        "S2007/4 b) 38.4°"
      ],
      "metadata": {
        "nteract": {
          "transient": {
            "deleting": false
          }
        }
      }
    },
    {
      "cell_type": "markdown",
      "source": [
        "K2014/+13 d) 1) 99 % 2) 52 %"
      ],
      "metadata": {
        "nteract": {
          "transient": {
            "deleting": false
          }
        }
      }
    },
    {
      "cell_type": "markdown",
      "source": [
        "K2016/8 a) 0.7 mV"
      ],
      "metadata": {
        "nteract": {
          "transient": {
            "deleting": false
          }
        }
      }
    }
  ],
  "metadata": {
    "kernel_info": {
      "name": "julia-nteract-1.5"
    },
    "language_info": {
      "file_extension": ".jl",
      "name": "julia",
      "mimetype": "application/julia",
      "version": "1.5.4"
    },
    "kernelspec": {
      "argv": [
        "C:\\Users\\snikula\\AppData\\Local\\JuliaPro-1.5.4-1\\Julia-1.5.4\\bin\\julia.exe",
        "-i",
        "--color=yes",
        "C:\\Users\\snikula\\.julia\\packages\\IJulia\\e8kqU\\src\\kernel.jl",
        "{connection_file}"
      ],
      "display_name": "Julia nteract 1.5.4",
      "env": {},
      "interrupt_mode": "message",
      "language": "julia",
      "name": "julia-nteract-1.5"
    },
    "nteract": {
      "version": "0.28.0"
    }
  },
  "nbformat": 4,
  "nbformat_minor": 0
}