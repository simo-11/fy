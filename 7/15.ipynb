{
  "cells": [
    {
      "cell_type": "markdown",
      "source": [
        "# Alkuaineiden synty"
      ],
      "metadata": {
        "nteract": {
          "transient": {
            "deleting": false
          }
        }
      }
    },
    {
      "cell_type": "code",
      "source": [
        "b<-2.897768e-3 # Wienin siirtymälain vakio\n",
        "c<-2.99792e8 # Valon nopeus\n",
        "h<-6.6260693e-34 # Plancin vakio\n",
        "eV<-1.6021766e-19 # Elektorinivoltti\n",
        "sigma<-5.670374419e-8 # Stefan-Boltzman"
      ],
      "outputs": [],
      "execution_count": 1,
      "metadata": {
        "collapsed": true,
        "jupyter": {
          "source_hidden": false,
          "outputs_hidden": false
        },
        "nteract": {
          "transient": {
            "deleting": false
          }
        },
        "execution": {
          "iopub.status.busy": "2021-12-04T20:51:26.438Z",
          "iopub.execute_input": "2021-12-04T20:51:26.446Z",
          "iopub.status.idle": "2021-12-04T20:51:26.517Z",
          "shell.execute_reply": "2021-12-04T20:51:26.500Z"
        }
      }
    },
    {
      "cell_type": "markdown",
      "source": [
        "2-5 \n",
        "\n",
        "Kirjan vastaus: 5-09 eV, Nikkeli"
      ],
      "metadata": {
        "nteract": {
          "transient": {
            "deleting": false
          }
        }
      }
    },
    {
      "cell_type": "code",
      "source": [
        "\n"
      ],
      "outputs": [],
      "execution_count": 3,
      "metadata": {
        "collapsed": true,
        "jupyter": {
          "source_hidden": false,
          "outputs_hidden": false
        },
        "nteract": {
          "transient": {
            "deleting": false
          }
        },
        "execution": {
          "iopub.status.busy": "2021-12-04T20:52:40.099Z",
          "iopub.execute_input": "2021-12-04T20:52:40.106Z",
          "iopub.status.idle": "2021-12-04T20:52:40.121Z",
          "shell.execute_reply": "2021-12-04T20:52:40.135Z"
        }
      }
    },
    {
      "cell_type": "code",
      "source": [],
      "outputs": [],
      "execution_count": null,
      "metadata": {
        "collapsed": true,
        "jupyter": {
          "source_hidden": false,
          "outputs_hidden": false
        },
        "nteract": {
          "transient": {
            "deleting": false
          }
        }
      }
    }
  ],
  "metadata": {
    "kernel_info": {
      "name": "julia-nteract-1.5"
    },
    "language_info": {
      "name": "R",
      "codemirror_mode": "r",
      "pygments_lexer": "r",
      "mimetype": "text/x-r-source",
      "file_extension": ".r",
      "version": "4.1.2"
    },
    "kernelspec": {
      "argv": [
        "C:\\Users\\snikula\\AppData\\Local\\JuliaPro-1.5.4-1\\Julia-1.5.4\\bin\\julia.exe",
        "-i",
        "--color=yes",
        "C:\\Users\\snikula\\.julia\\packages\\IJulia\\e8kqU\\src\\kernel.jl",
        "{connection_file}"
      ],
      "display_name": "Julia nteract 1.5.4",
      "env": {},
      "interrupt_mode": "message",
      "language": "julia",
      "name": "julia-nteract-1.5"
    },
    "nteract": {
      "version": "0.28.0"
    }
  },
  "nbformat": 4,
  "nbformat_minor": 0
}