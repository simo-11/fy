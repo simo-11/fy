{
  "cells": [
    {
      "cell_type": "markdown",
      "source": [
        "# Hajoamisenergia"
      ],
      "metadata": {
        "nteract": {
          "transient": {
            "deleting": false
          }
        }
      }
    },
    {
      "cell_type": "code",
      "source": [
        "using Printf\n",
        "using Dates\n",
        "b=2.897768e-3 # Wienin siirtymälain vakio\n",
        "c=2.99792e8 # Valon nopeus\n",
        "h=6.6260693e-34 # Plancin vakio\n",
        "u=1.66053904e-27 # Atomimassayksikkö [kg]\n",
        "mp=1.67262164e-27 # protonin massa [kg]\n",
        "mn=1.674927351e-27 # neutronin massa [kg]\n",
        "me=9.10938e-31 # Elektronin massa [kg]\n",
        "ma=4.001506179127u # alfa hiukkasen massa [kg]\n",
        "eV=1.6021766e-19 # Elektorinivoltti\n",
        "sigma=5.670374419e-8 # Stefan-Boltzman\n",
        "@printf \"%s\\n\" Dates.now();\n",
        "versioninfo(verbose=false);"
      ],
      "outputs": [
        {
          "output_type": "stream",
          "name": "stdout",
          "text": [
            "2021-11-30T20:56:53.365\n",
            "Julia Version 1.5.4\n",
            "Commit 69fcb5745b (2021-03-11 19:13 UTC)\n",
            "Platform Info:\n",
            "  OS: Windows (x86_64-w64-mingw32)\n",
            "  CPU: Intel(R) Core(TM) i7-8650U CPU @ 1.90GHz\n",
            "  WORD_SIZE: 64\n",
            "  LIBM: libopenlibm\n",
            "  LLVM: libLLVM-9.0.1 (ORCJIT, skylake)\n",
            "Environment:\n",
            "  JULIA_DEPOT_PATH = C:\\Users\\snikula\\.julia;C:\\Users\\snikula\\AppData\\Local\\JuliaPro-1.5.4-1\\Julia-1.5.4\\local\\share\\julia;C:\\Users\\snikula\\AppData\\Local\\JuliaPro-1.5.4-1\\Julia-1.5.4\\share\\julia\n",
            "  JULIA_LOAD_PATH = C:\\Users\\snikula\\.julia\\environments\\JuliaPro_v1.5.4-1;@;@v#.#;@stdlib\n",
            "  JULIA_PKG_SERVER = pkg.juliahub.com\n"
          ]
        }
      ],
      "execution_count": 10,
      "metadata": {
        "collapsed": true,
        "jupyter": {
          "source_hidden": false,
          "outputs_hidden": false
        },
        "nteract": {
          "transient": {
            "deleting": false
          }
        },
        "execution": {
          "iopub.status.busy": "2021-11-30T18:56:53.374Z",
          "iopub.execute_input": "2021-11-30T18:56:53.498Z",
          "iopub.status.idle": "2021-11-30T18:56:53.516Z"
        }
      }
    },
    {
      "cell_type": "markdown",
      "source": [
        "10-3 \n",
        "\n",
        "Kirjan vastaus: a) 1.6e7 m/s b) 150 000"
      ],
      "metadata": {
        "nteract": {
          "transient": {
            "deleting": false
          }
        }
      }
    },
    {
      "cell_type": "code",
      "source": [
        "E=5.4e6*eV\n",
        "Ei=35eV\n",
        "# E=0.5*m*v^2\n",
        "v=sqrt(2*E/ma)\n",
        "@printf(\"Nopeus on %.1e m/s.\\n\",v)\n",
        "@printf(\"Määrä on %d.\\n\",E/Ei)"
      ],
      "outputs": [
        {
          "output_type": "stream",
          "name": "stdout",
          "text": [
            "Nopeus on 1.6e+07 m/s.\n",
            "Määrä on 154286.\n"
          ]
        }
      ],
      "execution_count": 11,
      "metadata": {
        "collapsed": true,
        "jupyter": {
          "source_hidden": false,
          "outputs_hidden": false
        },
        "nteract": {
          "transient": {
            "deleting": false
          }
        },
        "execution": {
          "iopub.status.busy": "2021-11-30T18:56:57.394Z",
          "iopub.execute_input": "2021-11-30T18:56:57.403Z",
          "iopub.status.idle": "2021-11-30T18:56:57.417Z"
        }
      }
    },
    {
      "cell_type": "markdown",
      "source": [
        "10-4\n",
        "https://www.taulukot.com/fysiikka/isotooppeja/\n",
        "\n",
        "Kirjan vastaus: b) 5.935 MeV"
      ],
      "metadata": {
        "nteract": {
          "transient": {
            "deleting": false
          }
        }
      }
    },
    {
      "cell_type": "code",
      "source": [
        "mAc=225.023205u\n",
        "mFr=221.014230u\n",
        "mHe=4.0026033u\n",
        "dm=mAc-mFr-mHe\n",
        "E=dm*c^2\n",
        "@printf(\"dm=%.5f u, hajoamisenergia on %.3f MeV.\\n\",\n",
        "  dm/u,E/1e6/eV)\n"
      ],
      "outputs": [
        {
          "output_type": "stream",
          "name": "stdout",
          "text": [
            "dm=0.00637 u, hajoamisenergia on 5.935 MeV.\n"
          ]
        }
      ],
      "execution_count": 21,
      "metadata": {
        "collapsed": true,
        "jupyter": {
          "source_hidden": false,
          "outputs_hidden": false
        },
        "nteract": {
          "transient": {
            "deleting": false
          }
        },
        "execution": {
          "iopub.status.busy": "2021-11-30T19:28:05.074Z",
          "iopub.execute_input": "2021-11-30T19:28:05.086Z",
          "iopub.status.idle": "2021-11-30T19:28:05.109Z"
        }
      }
    },
    {
      "cell_type": "markdown",
      "source": [
        "10-5\n",
        "\n",
        "Kirjan vastaus: b) 1.5e7 m/s c) 0.083 MeV, 2.7e5 m/s"
      ],
      "metadata": {
        "nteract": {
          "transient": {
            "deleting": false
          }
        }
      }
    },
    {
      "cell_type": "code",
      "source": [
        "E=4.602e6*eV\n",
        "v=sqrt(2*E/ma)\n",
        "@printf(\"Alfa-hiukkasen nopeus on %.1e m/s.\\n\",v)\n",
        "# Liikemäärä säilyy, alussa 0\n",
        "mRn=222.017570u\n",
        "vRn=v*ma/mRn\n",
        "@printf(\"Radonin nopeus on %.1e m/s.\\n\",vRn)\n",
        "eRn=0.5*mRn*vRn^2\n",
        "@printf(\"Radonin liike-energia on %.3f MeV.\\n\",eRn/1e6/eV)\n",
        "\n"
      ],
      "outputs": [
        {
          "output_type": "stream",
          "name": "stdout",
          "text": [
            "Alfa-hiukkasen nopeus on 1.5e+07 m/s.\n",
            "Radonin nopeus on 2.7e+05 m/s.\n",
            "Radonin liike-energia on 0.083 MeV.\n"
          ]
        }
      ],
      "execution_count": 17,
      "metadata": {
        "collapsed": true,
        "jupyter": {
          "source_hidden": false,
          "outputs_hidden": false
        },
        "nteract": {
          "transient": {
            "deleting": false
          }
        },
        "execution": {
          "iopub.status.busy": "2021-11-30T19:11:19.295Z",
          "iopub.execute_input": "2021-11-30T19:11:19.304Z",
          "iopub.status.idle": "2021-11-30T19:11:19.323Z"
        }
      }
    },
    {
      "cell_type": "markdown",
      "source": [
        "10-7\n",
        "\n",
        "Kirjan vastaus: a) 0.156 MeV"
      ],
      "metadata": {
        "nteract": {
          "transient": {
            "deleting": false
          }
        }
      }
    },
    {
      "cell_type": "code",
      "source": [
        "# C14 muuttuu typeksi N14\n",
        "mC=14.003241u\n",
        "mN=14.0030740u\n",
        "dm=mC-mN\n",
        "E=dm*c^2\n",
        "@printf(\"dm=%.5f u, hajoamisenergia on %.3f MeV.\\n\",\n",
        "  dm/u,E/1e6/eV)"
      ],
      "outputs": [
        {
          "output_type": "stream",
          "name": "stdout",
          "text": [
            "dm=0.00017 u, hajoamisenergia on 0.156 MeV.\n"
          ]
        }
      ],
      "execution_count": 20,
      "metadata": {
        "collapsed": true,
        "jupyter": {
          "source_hidden": false,
          "outputs_hidden": false
        },
        "nteract": {
          "transient": {
            "deleting": false
          }
        },
        "execution": {
          "iopub.status.busy": "2021-11-30T19:23:56.577Z",
          "iopub.execute_input": "2021-11-30T19:23:56.588Z",
          "iopub.status.idle": "2021-11-30T19:23:56.605Z"
        }
      }
    },
    {
      "cell_type": "markdown",
      "source": [
        "10-8\n",
        "\n",
        "Kirjan vastaus: b) 1087.7 keV, 411.8 keV, 675.9 keV, 1.1399 pm, 9.957e19 1/s"
      ],
      "metadata": {
        "nteract": {
          "transient": {
            "deleting": false
          }
        }
      }
    },
    {
      "cell_type": "code",
      "source": [
        "@printf(\"välitasolle %.1f.keV\\n\",1087.7-411.8)\n",
        "E=1087.7e3*eV\n",
        "# E=hc/lambda\n",
        "lambda=h*c/E\n",
        "@printf(\"Lyhin aallonpituus on %.4f pm.\\n\",lambda/1e-12)\n",
        "# E=hf\n",
        "# f=E/h, pienin tulee pienimmällä energialla\n",
        "E=411.8e3eV\n",
        "f=E/h\n",
        "@printf(\"Pienin taajuus on %.3e Hz.\\n\",f)"
      ],
      "outputs": [
        {
          "output_type": "stream",
          "name": "stdout",
          "text": [
            "välitasolle 675.9.keV\n",
            "Lyhin aallonpituus on 1.1399 pm.\n",
            "Pienin taajuus on 9.957e+19 Hz.\n"
          ]
        }
      ],
      "execution_count": 23,
      "metadata": {
        "collapsed": true,
        "jupyter": {
          "source_hidden": false,
          "outputs_hidden": false
        },
        "nteract": {
          "transient": {
            "deleting": false
          }
        },
        "execution": {
          "iopub.status.busy": "2021-11-30T19:39:36.172Z",
          "iopub.execute_input": "2021-11-30T19:39:36.191Z",
          "iopub.status.idle": "2021-11-30T19:39:36.223Z"
        }
      }
    },
    {
      "cell_type": "markdown",
      "source": [
        "10-10\n",
        "\n",
        "Kirjan vastaus: b) 5.509 MeV"
      ],
      "metadata": {
        "nteract": {
          "transient": {
            "deleting": false
          }
        }
      }
    },
    {
      "cell_type": "code",
      "source": [
        "# Ca39 muuttuu Kaliumiksi\n",
        "mCa=38.970718u\n",
        "mK=38.963707u\n",
        "dm=mCa-mK-2*me\n",
        "E=dm*c^2\n",
        "@printf(\"dm=%.5f u, hajoamisenergia on %.3f MeV.\\n\",\n",
        "  dm/u,E/1e6/eV)"
      ],
      "outputs": [
        {
          "output_type": "stream",
          "name": "stdout",
          "text": [
            "dm=0.00591 u, hajoamisenergia on 5.509 MeV.\n"
          ]
        }
      ],
      "execution_count": 25,
      "metadata": {
        "collapsed": true,
        "jupyter": {
          "source_hidden": false,
          "outputs_hidden": false
        },
        "nteract": {
          "transient": {
            "deleting": false
          }
        },
        "execution": {
          "iopub.status.busy": "2021-11-30T19:48:21.158Z",
          "iopub.execute_input": "2021-11-30T19:48:21.173Z",
          "iopub.status.idle": "2021-11-30T19:48:21.197Z"
        }
      }
    },
    {
      "cell_type": "markdown",
      "source": [
        "10-11\n",
        "\n",
        "Kirjan vastaus: b) 0.836 MeV"
      ],
      "metadata": {
        "nteract": {
          "transient": {
            "deleting": false
          }
        }
      }
    },
    {
      "cell_type": "code",
      "source": [
        "# Co57 muuttuu Raudaksi\n",
        "mCo=56.936249u\n",
        "mFe=56.935396u\n",
        "dm=mCo-mFe\n",
        "E=dm*c^2\n",
        "@printf(\"dm=%.5f u, hajoamisenergia on %.3f MeV.\\n\",\n",
        "  dm/u,E/1e6/eV)"
      ],
      "outputs": [
        {
          "output_type": "stream",
          "name": "stdout",
          "text": [
            "dm=0.00085 u, hajoamisenergia on 0.795 MeV.\n"
          ]
        }
      ],
      "execution_count": 29,
      "metadata": {
        "collapsed": true,
        "jupyter": {
          "source_hidden": false,
          "outputs_hidden": false
        },
        "nteract": {
          "transient": {
            "deleting": false
          }
        },
        "execution": {
          "iopub.status.busy": "2021-11-30T20:02:55.882Z",
          "iopub.execute_input": "2021-11-30T20:02:55.915Z",
          "iopub.status.idle": "2021-11-30T20:02:55.941Z"
        }
      }
    },
    {
      "cell_type": "markdown",
      "source": [
        "10-12\n",
        "\n",
        "Kirjan vastaus: 5.54 MeV"
      ],
      "metadata": {
        "nteract": {
          "transient": {
            "deleting": false
          }
        }
      }
    },
    {
      "cell_type": "code",
      "source": [
        "# Am muuttuu Np\n",
        "mAm=241.05682u\n",
        "mNp=237.048167u\n",
        "mHe=4.0026033u\n",
        "dm=mAm-mNp-mHe\n",
        "E=dm*c^2\n",
        "@printf(\"dm=%.5f u, hajoamisenergia on %.3f MeV.\\n\",\n",
        "  dm/u,E/1e6/eV)\n",
        "# E=0.5*(mNp*vNp^2+ma*va^2)\n",
        "# Liikemäärä säilyy, alussa 0\n",
        "# mNp*vNp=ma*va\n",
        "# vNp=ma/mNp*va\n",
        "# E=0.5*(mNp*(ma/mNp*va)^2+ma*va^2)\n",
        "# E=0.5*(ma^2/mNp+ma)*va^2\n",
        "va=sqrt(2*E/(ma^2/mNp+ma))\n",
        "@printf(\"Alfa-hiukkasen nopeus on %.1e m/s.\\n\",v)\n",
        "# \n",
        "Ea=0.5*ma*va^2\n",
        "@printf(\"Alfa-hiukkasen liike-energia on %.2f MeV.\\n\",Ea/1e6/eV)"
      ],
      "outputs": [
        {
          "output_type": "stream",
          "name": "stdout",
          "text": [
            "dm=0.00605 u, hajoamisenergia on 5.635 MeV.\n",
            "Alfa-hiukkasen nopeus on 1.5e+07 m/s.\n",
            "Alfa-hiukkasen liike-energia on 5.54 MeV.\n"
          ]
        }
      ],
      "execution_count": 33,
      "metadata": {
        "collapsed": true,
        "jupyter": {
          "source_hidden": false,
          "outputs_hidden": false
        },
        "nteract": {
          "transient": {
            "deleting": false
          }
        },
        "execution": {
          "iopub.status.busy": "2021-11-30T20:34:44.764Z",
          "iopub.execute_input": "2021-11-30T20:34:44.778Z",
          "iopub.status.idle": "2021-11-30T20:34:44.825Z"
        }
      }
    }
  ],
  "metadata": {
    "kernel_info": {
      "name": "julia-nteract-1.5"
    },
    "language_info": {
      "file_extension": ".jl",
      "name": "julia",
      "mimetype": "application/julia",
      "version": "1.5.4"
    },
    "kernelspec": {
      "argv": [
        "C:\\Users\\snikula\\AppData\\Local\\JuliaPro-1.5.4-1\\Julia-1.5.4\\bin\\julia.exe",
        "-i",
        "--color=yes",
        "C:\\Users\\snikula\\.julia\\packages\\IJulia\\e8kqU\\src\\kernel.jl",
        "{connection_file}"
      ],
      "display_name": "Julia nteract 1.5.4",
      "env": {},
      "interrupt_mode": "message",
      "language": "julia",
      "name": "julia-nteract-1.5"
    },
    "nteract": {
      "version": "0.28.0"
    }
  },
  "nbformat": 4,
  "nbformat_minor": 0
}