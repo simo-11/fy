{
  "cells": [
    {
      "cell_type": "markdown",
      "source": [
        "# Kosmologia"
      ],
      "metadata": {
        "nteract": {
          "transient": {
            "deleting": false
          }
        }
      }
    },
    {
      "cell_type": "code",
      "source": [
        "b<-2.897768e-3 # Wienin siirtymälain vakio\n",
        "c<-2.99792e8 # Valon nopeus\n",
        "h<-6.6260693e-34 # Plancin vakio\n",
        "eV<-1.6021766e-19 # Elektorinivoltti\n",
        "sigma<-5.670374419e-8 # Stefan-Boltzman\n",
        "H0<-22e-6# km/s/ly\n",
        "cat(format(Sys.time(),\"%d.%m.%Y %H:%M:%S\"))\n",
        "version"
      ],
      "outputs": [
        {
          "output_type": "stream",
          "name": "stdout",
          "text": [
            "05.12.2021 12:02:32"
          ]
        },
        {
          "output_type": "display_data",
          "data": {
            "text/plain": "               _                           \nplatform       x86_64-w64-mingw32          \narch           x86_64                      \nos             mingw32                     \nsystem         x86_64, mingw32             \nstatus                                     \nmajor          4                           \nminor          1.2                         \nyear           2021                        \nmonth          11                          \nday            01                          \nsvn rev        81115                       \nlanguage       R                           \nversion.string R version 4.1.2 (2021-11-01)\nnickname       Bird Hippie                 "
          },
          "metadata": {}
        }
      ],
      "execution_count": 5,
      "metadata": {
        "collapsed": true,
        "jupyter": {
          "source_hidden": false,
          "outputs_hidden": false
        },
        "nteract": {
          "transient": {
            "deleting": false
          }
        },
        "execution": {
          "iopub.status.busy": "2021-12-05T10:02:32.872Z",
          "iopub.execute_input": "2021-12-05T10:02:32.881Z",
          "iopub.status.idle": "2021-12-05T10:02:32.905Z",
          "shell.execute_reply": "2021-12-05T10:02:32.929Z"
        }
      }
    },
    {
      "cell_type": "markdown",
      "source": [
        "16-3 \n",
        "\n",
        "Kirjan vastaus: 24 000 km/s"
      ],
      "metadata": {
        "nteract": {
          "transient": {
            "deleting": false
          }
        }
      }
    },
    {
      "cell_type": "code",
      "source": [
        "d<-1.1e9# ly\n",
        "v<-H0*d\n",
        "cat(v,\"km/s\")"
      ],
      "outputs": [
        {
          "output_type": "stream",
          "name": "stdout",
          "text": [
            "24200 km/s"
          ]
        }
      ],
      "execution_count": 8,
      "metadata": {
        "collapsed": true,
        "jupyter": {
          "source_hidden": false,
          "outputs_hidden": false
        },
        "nteract": {
          "transient": {
            "deleting": false
          }
        },
        "execution": {
          "iopub.status.busy": "2021-12-05T10:03:21.783Z",
          "iopub.execute_input": "2021-12-05T10:03:21.791Z",
          "iopub.status.idle": "2021-12-05T10:03:21.809Z",
          "shell.execute_reply": "2021-12-05T10:03:21.825Z"
        }
      }
    },
    {
      "cell_type": "markdown",
      "source": [
        "16-4\n",
        "\n",
        "Kirjan vastaus: a) 10 000 ly 22.1 (km/s)/Mly"
      ],
      "metadata": {
        "nteract": {
          "transient": {
            "deleting": false
          }
        }
      }
    },
    {
      "cell_type": "markdown",
      "source": [
        "16-6\n",
        "\n",
        "Kirjan vastaus: b) 220 km/s"
      ],
      "metadata": {
        "nteract": {
          "transient": {
            "deleting": false
          }
        }
      }
    },
    {
      "cell_type": "markdown",
      "source": [
        "16-7\n",
        "\n",
        "Kirjan vastaus: a) 2.9 K b) 1000"
      ],
      "metadata": {
        "nteract": {
          "transient": {
            "deleting": false
          }
        }
      }
    },
    {
      "cell_type": "code",
      "source": [
        "l<-1e-3\n",
        "T<-b/l\n",
        "cat(sprintf\n",
        "    (\"Aallonpituutta %.1f mm vastaava lämpötila on %.1f K.\",\n",
        "     l*1e3,T))\n",
        "T=2900\n",
        "l0=b/T\n",
        "cat(sprintf(\"\\nLaajentuminen on ollut %.0f kertainen.\",l/l0))"
      ],
      "outputs": [
        {
          "output_type": "stream",
          "name": "stdout",
          "text": [
            "Aallonpituutta 1.0 mm vastaava lämpötila on 2.9 K.\n",
            "Laajentuminen on ollut 1001 kertainen."
          ]
        }
      ],
      "execution_count": 21,
      "metadata": {
        "collapsed": true,
        "jupyter": {
          "source_hidden": false,
          "outputs_hidden": false
        },
        "nteract": {
          "transient": {
            "deleting": false
          }
        },
        "execution": {
          "iopub.status.busy": "2021-12-05T10:16:52.538Z",
          "iopub.execute_input": "2021-12-05T10:16:52.545Z",
          "iopub.status.idle": "2021-12-05T10:16:52.569Z",
          "shell.execute_reply": "2021-12-05T10:16:52.586Z"
        }
      }
    },
    {
      "cell_type": "code",
      "source": [],
      "outputs": [],
      "execution_count": null,
      "metadata": {
        "collapsed": true,
        "jupyter": {
          "source_hidden": false,
          "outputs_hidden": false
        },
        "nteract": {
          "transient": {
            "deleting": false
          }
        }
      }
    }
  ],
  "metadata": {
    "kernel_info": {
      "name": "julia-nteract-1.5"
    },
    "language_info": {
      "name": "R",
      "codemirror_mode": "r",
      "pygments_lexer": "r",
      "mimetype": "text/x-r-source",
      "file_extension": ".r",
      "version": "4.1.2"
    },
    "kernelspec": {
      "argv": [
        "C:\\Users\\snikula\\AppData\\Local\\JuliaPro-1.5.4-1\\Julia-1.5.4\\bin\\julia.exe",
        "-i",
        "--color=yes",
        "C:\\Users\\snikula\\.julia\\packages\\IJulia\\e8kqU\\src\\kernel.jl",
        "{connection_file}"
      ],
      "display_name": "Julia nteract 1.5.4",
      "env": {},
      "interrupt_mode": "message",
      "language": "julia",
      "name": "julia-nteract-1.5"
    },
    "nteract": {
      "version": "0.28.0"
    }
  },
  "nbformat": 4,
  "nbformat_minor": 0
}