{
  "cells": [
    {
      "cell_type": "markdown",
      "source": [
        "# Valo aaltoina ja fotoneina"
      ],
      "metadata": {
        "nteract": {
          "transient": {
            "deleting": false
          }
        }
      }
    },
    {
      "cell_type": "code",
      "source": [
        "using Printf\n",
        "using Dates\n",
        "b=2.897768e-3 # Wienin siirtymälain vakio\n",
        "c=2.99792e8 # Valon nopeus\n",
        "h=6.6260693e-34 # Plancin vakio\n",
        "eV=1.62021766e-19 # Elektorinivoltti\n",
        "sigma=5.670374419e-8 # Stefan-Boltzman\n",
        "@printf \"%s\\n\" Dates.now();\n",
        "versioninfo(verbose=false);"
      ],
      "outputs": [
        {
          "output_type": "stream",
          "name": "stdout",
          "text": [
            "2021-11-14T20:07:09.923\n",
            "Julia Version 1.5.4\n",
            "Commit 69fcb5745b (2021-03-11 19:13 UTC)\n",
            "Platform Info:\n",
            "  OS: Windows (x86_64-w64-mingw32)\n",
            "  CPU: Intel(R) Core(TM) i7-8650U CPU @ 1.90GHz\n",
            "  WORD_SIZE: 64\n",
            "  LIBM: libopenlibm\n",
            "  LLVM: libLLVM-9.0.1 (ORCJIT, skylake)\n",
            "Environment:\n",
            "  JULIA_DEPOT_PATH = C:\\Users\\snikula\\.julia;C:\\Users\\snikula\\AppData\\Local\\JuliaPro-1.5.4-1\\Julia-1.5.4\\local\\share\\julia;C:\\Users\\snikula\\AppData\\Local\\JuliaPro-1.5.4-1\\Julia-1.5.4\\share\\julia\n",
            "  JULIA_LOAD_PATH = C:\\Users\\snikula\\.julia\\environments\\JuliaPro_v1.5.4-1;@;@v#.#;@stdlib\n",
            "  JULIA_PKG_SERVER = pkg.juliahub.com\n"
          ]
        }
      ],
      "execution_count": 31,
      "metadata": {
        "collapsed": true,
        "jupyter": {
          "source_hidden": false,
          "outputs_hidden": false
        },
        "nteract": {
          "transient": {
            "deleting": false
          }
        },
        "execution": {
          "iopub.status.busy": "2021-11-14T18:07:09.966Z",
          "iopub.execute_input": "2021-11-14T18:07:09.979Z",
          "iopub.status.idle": "2021-11-14T18:07:10.013Z"
        }
      }
    },
    {
      "cell_type": "markdown",
      "source": [
        "1-3 \n",
        "\n",
        "Kirjan vastaus:  a) 8.0e-16 J B) 1.3e-27 J c) 6.9e-10 m"
      ],
      "metadata": {
        "nteract": {
          "transient": {
            "deleting": false
          }
        }
      }
    },
    {
      "cell_type": "code",
      "source": [
        "f=1.2e18\n",
        "E=h*f\n",
        "@printf(\"Fotonin energia on %.1e J.\\n\",E)\n",
        "lambda=150\n",
        "E=h*c/lambda\n",
        "@printf(\"Fotonin energia on %.1e J.\\n\",E)\n",
        "E=1.8e3eV\n",
        "lambda=h*c/E\n",
        "@printf(\"Aallonpituus on %.2e m.\\n\",lambda)\n"
      ],
      "outputs": [
        {
          "output_type": "stream",
          "name": "stdout",
          "text": [
            "Fotonin energia on 8.0e-16 J.\n",
            "Fotonin energia on 1.3e-27 J.\n",
            "Aallonpituus on 6.81e-10 m.\n"
          ]
        }
      ],
      "execution_count": 10,
      "metadata": {
        "collapsed": true,
        "jupyter": {
          "source_hidden": false,
          "outputs_hidden": false
        },
        "nteract": {
          "transient": {
            "deleting": false
          }
        },
        "execution": {
          "iopub.status.busy": "2021-11-14T17:23:49.491Z",
          "iopub.execute_input": "2021-11-14T17:23:49.500Z",
          "iopub.status.idle": "2021-11-14T17:23:49.519Z"
        }
      }
    },
    {
      "cell_type": "markdown",
      "source": [
        "1-4\n",
        "\n",
        "Kirjan vastaus: 3e-19 J .. 5e-19 J"
      ],
      "metadata": {
        "nteract": {
          "transient": {
            "deleting": false
          }
        }
      }
    },
    {
      "cell_type": "code",
      "source": [
        "E=h*c/lambda\n",
        "@printf(\"Näkyvän valon fotonien energia on %.1e - %.1e J.\\n\",\n",
        "    h*c/700e-9,h*c/400e-9)\n"
      ],
      "outputs": [
        {
          "output_type": "stream",
          "name": "stdout",
          "text": [
            "Näkyvän valon fotonien energia on 2.8e-19 - 5.0e-19 J.\n"
          ]
        }
      ],
      "execution_count": 12,
      "metadata": {
        "collapsed": true,
        "jupyter": {
          "source_hidden": false,
          "outputs_hidden": false
        },
        "nteract": {
          "transient": {
            "deleting": false
          }
        },
        "execution": {
          "iopub.status.busy": "2021-11-14T17:26:36.709Z",
          "iopub.execute_input": "2021-11-14T17:26:36.718Z",
          "iopub.status.idle": "2021-11-14T17:26:36.738Z"
        }
      }
    },
    {
      "cell_type": "markdown",
      "source": [
        "1-5\n",
        "\n",
        "Kirjan vastaus: a) 2.6 eV b) 1.4e-27 kgm/s"
      ],
      "metadata": {
        "nteract": {
          "transient": {
            "deleting": false
          }
        }
      }
    },
    {
      "cell_type": "code",
      "source": [
        "lambda=480e-9\n",
        "E=h*c/lambda\n",
        "@printf(\"Fotonin energia on %.1f eV.\\n\",E/eV)\n",
        "p=h/lambda\n",
        "@printf(\"Fotonin liikemäärä on %.1e kgm/s.\\n\",p)"
      ],
      "outputs": [
        {
          "output_type": "stream",
          "name": "stdout",
          "text": [
            "Fotonin energia on 2.6 eV.\n",
            "Fotonin liikemäärä on 1.4e-27 kgm/s.\n"
          ]
        }
      ],
      "execution_count": 15,
      "metadata": {
        "collapsed": true,
        "jupyter": {
          "source_hidden": false,
          "outputs_hidden": false
        },
        "nteract": {
          "transient": {
            "deleting": false
          }
        },
        "execution": {
          "iopub.status.busy": "2021-11-14T17:29:54.653Z",
          "iopub.execute_input": "2021-11-14T17:29:54.668Z",
          "iopub.status.idle": "2021-11-14T17:29:54.806Z"
        }
      }
    },
    {
      "cell_type": "markdown",
      "source": [
        "1-6\n",
        "\n",
        "Kirjan vastaus: 30"
      ],
      "metadata": {
        "nteract": {
          "transient": {
            "deleting": false
          }
        }
      }
    },
    {
      "cell_type": "code",
      "source": [
        "lambda=570e-9\n",
        "E=h*c/lambda\n",
        "@printf(\"Fotonien määrä on %d.\\n\",Int(floor(1e-17/E))+1)"
      ],
      "outputs": [
        {
          "output_type": "stream",
          "name": "stdout",
          "text": [
            "Fotonien määrä on 29.\n"
          ]
        }
      ],
      "execution_count": 20,
      "metadata": {
        "collapsed": true,
        "jupyter": {
          "source_hidden": false,
          "outputs_hidden": false
        },
        "nteract": {
          "transient": {
            "deleting": false
          }
        },
        "execution": {
          "iopub.status.busy": "2021-11-14T17:35:58.046Z",
          "iopub.execute_input": "2021-11-14T17:35:58.062Z",
          "iopub.status.idle": "2021-11-14T17:35:58.091Z"
        }
      }
    },
    {
      "cell_type": "markdown",
      "source": [
        "1-7\n",
        "\n",
        "Kirjan vastaus: 4e21 "
      ],
      "metadata": {
        "nteract": {
          "transient": {
            "deleting": false
          }
        }
      }
    },
    {
      "cell_type": "code",
      "source": [
        "lambda=500e-9\n",
        "E=h*c/lambda\n",
        "@printf(\"Fotonien määrä on %.0e.\\n\",1.4e3/E)"
      ],
      "outputs": [
        {
          "output_type": "stream",
          "name": "stdout",
          "text": [
            "Fotonien määrä on 4e+21.\n"
          ]
        }
      ],
      "execution_count": 21,
      "metadata": {
        "collapsed": true,
        "jupyter": {
          "source_hidden": false,
          "outputs_hidden": false
        },
        "nteract": {
          "transient": {
            "deleting": false
          }
        },
        "execution": {
          "iopub.status.busy": "2021-11-14T17:38:13.204Z",
          "iopub.execute_input": "2021-11-14T17:38:13.215Z",
          "iopub.status.idle": "2021-11-14T17:38:13.243Z"
        }
      }
    },
    {
      "cell_type": "markdown",
      "source": [
        "1-8\n",
        "\n",
        "Kirjan vastaus: 7.4ueV"
      ],
      "metadata": {
        "nteract": {
          "transient": {
            "deleting": false
          }
        }
      }
    },
    {
      "cell_type": "code",
      "source": [
        "f=1800e6\n",
        "E=h*f\n",
        "@printf(\"Fotonien energia on %.1e eV.\\n\",E/eV)"
      ],
      "outputs": [
        {
          "output_type": "stream",
          "name": "stdout",
          "text": [
            "Fotonien energia on 7.4e-06 eV.\n"
          ]
        }
      ],
      "execution_count": 23,
      "metadata": {
        "collapsed": true,
        "jupyter": {
          "source_hidden": false,
          "outputs_hidden": false
        },
        "nteract": {
          "transient": {
            "deleting": false
          }
        },
        "execution": {
          "iopub.status.busy": "2021-11-14T17:40:21.286Z",
          "iopub.execute_input": "2021-11-14T17:40:21.300Z",
          "iopub.status.idle": "2021-11-14T17:40:21.434Z"
        }
      }
    },
    {
      "cell_type": "markdown",
      "source": [
        "1-9\n",
        "\n",
        "Kirjan vastaus: 5e17"
      ],
      "metadata": {
        "nteract": {
          "transient": {
            "deleting": false
          }
        }
      }
    },
    {
      "cell_type": "code",
      "source": [
        "lambda=532e-9\n",
        "E=h*c/lambda\n",
        "@printf(\"Fotonien määrä on %.0e.\\n\",200e-3/E)"
      ],
      "outputs": [
        {
          "output_type": "stream",
          "name": "stdout",
          "text": [
            "Fotonien määrä on 5e+17.\n"
          ]
        }
      ],
      "execution_count": 24,
      "metadata": {
        "collapsed": true,
        "jupyter": {
          "source_hidden": false,
          "outputs_hidden": false
        },
        "nteract": {
          "transient": {
            "deleting": false
          }
        },
        "execution": {
          "iopub.status.busy": "2021-11-14T17:42:27.395Z",
          "iopub.execute_input": "2021-11-14T17:42:27.410Z",
          "iopub.status.idle": "2021-11-14T17:42:27.439Z"
        }
      }
    },
    {
      "cell_type": "markdown",
      "source": [
        "1-10\n",
        "\n",
        "Kirjan vastaus: a) 3.5 eV b) valkoinen"
      ],
      "metadata": {
        "nteract": {
          "transient": {
            "deleting": false
          }
        }
      }
    },
    {
      "cell_type": "code",
      "source": [
        "T=8100\n",
        "lambda=b/T\n",
        "E=h*c/lambda\n",
        "@printf(\"Fotonin energia on %.1f eV.\\n\",E/eV)"
      ],
      "outputs": [
        {
          "output_type": "stream",
          "name": "stdout",
          "text": [
            "Fotonin energia on 3.4 eV.\n"
          ]
        }
      ],
      "execution_count": 28,
      "metadata": {
        "collapsed": true,
        "jupyter": {
          "source_hidden": false,
          "outputs_hidden": false
        },
        "nteract": {
          "transient": {
            "deleting": false
          }
        },
        "execution": {
          "iopub.status.busy": "2021-11-14T18:04:25.862Z",
          "iopub.execute_input": "2021-11-14T18:04:25.885Z",
          "iopub.status.idle": "2021-11-14T18:04:25.917Z"
        }
      }
    },
    {
      "cell_type": "markdown",
      "source": [
        "1-11\n",
        "\n",
        "Kirjan vastaus: b) 64 MW/m2"
      ],
      "metadata": {
        "nteract": {
          "transient": {
            "deleting": false
          }
        }
      }
    },
    {
      "cell_type": "code",
      "source": [
        "T=5800\n",
        "lambda=b/T\n",
        "@printf(\"Aallonpituus on %.1e m.\\n\",lambda)\n",
        "I=sigma*T^4\n",
        "@printf(\"Säteilyteho on %.1e W/m2.\\n\",I)"
      ],
      "outputs": [
        {
          "output_type": "stream",
          "name": "stdout",
          "text": [
            "Aallonpituus on 5.0e-07 m.\n",
            "Säteilyteho on 6.4e+07 W/m2.\n"
          ]
        }
      ],
      "execution_count": 32,
      "metadata": {
        "collapsed": true,
        "jupyter": {
          "source_hidden": false,
          "outputs_hidden": false
        },
        "nteract": {
          "transient": {
            "deleting": false
          }
        },
        "execution": {
          "iopub.status.busy": "2021-11-14T18:07:16.818Z",
          "iopub.execute_input": "2021-11-14T18:07:16.831Z",
          "iopub.status.idle": "2021-11-14T18:07:16.859Z"
        }
      }
    },
    {
      "cell_type": "markdown",
      "source": [
        "1-12\n",
        "\n",
        "Kirjan vastaus: b) infrapunasäteily"
      ],
      "metadata": {
        "nteract": {
          "transient": {
            "deleting": false
          }
        }
      }
    },
    {
      "cell_type": "code",
      "source": [
        "T=273+37\n",
        "lambda=b/T\n",
        "@printf(\"Aallonpituus on %.1e m.\\n\",lambda)"
      ],
      "outputs": [
        {
          "output_type": "stream",
          "name": "stdout",
          "text": [
            "Aallonpituus on 9.3e-06 m.\n"
          ]
        }
      ],
      "execution_count": 35,
      "metadata": {
        "collapsed": true,
        "jupyter": {
          "source_hidden": false,
          "outputs_hidden": false
        },
        "nteract": {
          "transient": {
            "deleting": false
          }
        },
        "execution": {
          "iopub.status.busy": "2021-11-14T18:09:07.036Z",
          "iopub.execute_input": "2021-11-14T18:09:07.057Z",
          "iopub.status.idle": "2021-11-14T18:09:07.093Z"
        }
      }
    }
  ],
  "metadata": {
    "kernel_info": {
      "name": "julia-nteract-1.5"
    },
    "language_info": {
      "file_extension": ".jl",
      "name": "julia",
      "mimetype": "application/julia",
      "version": "1.5.4"
    },
    "kernelspec": {
      "argv": [
        "C:\\Users\\snikula\\AppData\\Local\\JuliaPro-1.5.4-1\\Julia-1.5.4\\bin\\julia.exe",
        "-i",
        "--color=yes",
        "C:\\Users\\snikula\\.julia\\packages\\IJulia\\e8kqU\\src\\kernel.jl",
        "{connection_file}"
      ],
      "display_name": "Julia nteract 1.5.4",
      "env": {},
      "interrupt_mode": "message",
      "language": "julia",
      "name": "julia-nteract-1.5"
    },
    "nteract": {
      "version": "0.28.0"
    }
  },
  "nbformat": 4,
  "nbformat_minor": 0
}