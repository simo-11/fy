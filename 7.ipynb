{
  "cells": [
    {
      "cell_type": "markdown",
      "source": [
        "# Varatun hiukkasen liike homogeenisessa sähkö- ja magneettikentässä"
      ],
      "metadata": {
        "nteract": {
          "transient": {
            "deleting": false
          }
        }
      }
    },
    {
      "cell_type": "code",
      "source": [
        "using Printf\n",
        "using Dates\n",
        "@printf \"%s\\n\" Dates.now();\n",
        "versioninfo(verbose=true);"
      ],
      "outputs": [
        {
          "output_type": "stream",
          "name": "stdout",
          "text": [
            "2021-10-06T21:05:28.541\n",
            "Julia Version 1.5.4\n",
            "Commit 69fcb5745b (2021-03-11 19:13 UTC)\n",
            "Platform Info:\n",
            "  OS: Windows (x86_64-w64-mingw32)\n",
            "      Microsoft Windows [Version 10.0.19043.1237]\n",
            "  CPU: Intel(R) Core(TM) i7-8650U CPU @ 1.90GHz: \n",
            "              speed         user         nice          sys         idle          irq\n",
            "       #1  2112 MHz   23826687            0     44473156    415515796      3655578  ticks\n",
            "       #2  2112 MHz   18156171            0     28133156    437525937       305343  ticks\n",
            "       #3  2112 MHz   30339390            0     48625328    404850546       525781  ticks\n",
            "       #4  2112 MHz   19612281            0     31412609    432790375       298328  ticks\n",
            "       #5  2112 MHz   27683546            0     47297468    408834250       485718  ticks\n",
            "       #6  2112 MHz   17730328            0     31959000    434125921       314156  ticks\n",
            "       #7  2112 MHz   26611453            0     44677359    412526437       451312  ticks\n",
            "       #8  2112 MHz   20715843            0     31331750    431767656       265671  ticks\n",
            "       \n",
            "  Memory: 23.846885681152344 GB (6394.9765625 MB free)\n",
            "  Uptime: 868691.0 sec\n",
            "  Load Avg:  0.0  0.0  0.0\n",
            "  WORD_SIZE: 64\n",
            "  LIBM: libopenlibm\n",
            "  LLVM: libLLVM-9.0.1 (ORCJIT, skylake)\n",
            "Environment:\n",
            "  JULIA_DEPOT_PATH = C:\\Users\\snikula\\.julia;C:\\Users\\snikula\\AppData\\Local\\JuliaPro-1.5.4-1\\Julia-1.5.4\\local\\share\\julia;C:\\Users\\snikula\\AppData\\Local\\JuliaPro-1.5.4-1\\Julia-1.5.4\\share\\julia\n",
            "  JULIA_LOAD_PATH = C:\\Users\\snikula\\.julia\\environments\\JuliaPro_v1.5.4-1;@;@v#.#;@stdlib\n",
            "  JULIA_PKG_SERVER = pkg.juliahub.com\n",
            "  HOMEDRIVE = C:\n",
            "  HOMEPATH = \\Users\\snikula\n",
            "  JAVA_HOME = C:\\dev\\jdk1.8.0_251\n",
            "  JULIA_DEPOT_PATH = C:\\Users\\snikula\\.julia;C:\\Users\\snikula\\AppData\\Local\\JuliaPro-1.5.4-1\\Julia-1.5.4\\local\\share\\julia;C:\\Users\\snikula\\AppData\\Local\\JuliaPro-1.5.4-1\\Julia-1.5.4\\share\\julia\n",
            "  JULIA_LOAD_PATH = C:\\Users\\snikula\\.julia\\environments\\JuliaPro_v1.5.4-1;@;@v#.#;@stdlib\n",
            "  JUNORC_PATH = C:\\Users\\snikula\\AppData\\Local\\JuliaPro-1.5.4-1\\.atom\n",
            "  M2_HOME = C:\\dev\\apache-maven-3.5.3\n",
            "  PATH = C:\\github\\fy6\\node_modules\\.bin;C:\\github\\node_modules\\.bin;C:\\node_modules\\.bin;C:\\Program Files\\nteract;C:\\Program Files (x86)\\Microsoft SDKs\\Azure\\CLI2\\wbin;C:\\Program Files\\AdoptOpenJDK\\jdk-15.0.0.36-hotspot\\bin;C:\\WINDOWS\\system32;C:\\WINDOWS;C:\\WINDOWS\\System32\\Wbem;C:\\WINDOWS\\System32\\WindowsPowerShell\\v1.0\\;C:\\WINDOWS\\System32\\OpenSSH\\;C:\\Program Files\\Git\\cmd;C:\\Program Files\\nodejs\\;C:\\Program Files\\MATLAB\\R2021a\\bin;C:\\Users\\snikula\\AppData\\Local\\Programs\\Python\\Python39\\Scripts\\;C:\\Users\\snikula\\AppData\\Local\\Programs\\Python\\Python39\\;C:\\Users\\snikula\\AppData\\Local\\Microsoft\\WindowsApps;C:\\Users\\snikula\\AppData\\Roaming\\npm;C:\\dev\\apache-maven-3.5.3\\bin;\n",
            "  PATHEXT = .COM;.EXE;.BAT;.CMD;.VBS;.VBE;.JS;.JSE;.WSF;.WSH;.MSC\n",
            "  PSMODULEPATH = C:\\Program Files\\WindowsPowerShell\\Modules;C:\\WINDOWS\\system32\\WindowsPowerShell\\v1.0\\Modules\n"
          ]
        }
      ],
      "execution_count": 5,
      "metadata": {
        "collapsed": true,
        "jupyter": {
          "source_hidden": false,
          "outputs_hidden": false
        },
        "nteract": {
          "transient": {
            "deleting": false
          }
        },
        "execution": {
          "iopub.status.busy": "2021-10-06T18:05:28.567Z",
          "iopub.execute_input": "2021-10-06T18:05:28.578Z",
          "iopub.status.idle": "2021-10-06T18:05:30.886Z"
        }
      }
    },
    {
      "cell_type": "markdown",
      "source": [
        "7-4 a) vertaile protonille mg ja qvB, kun  B=50 μT ja nopeus 1Mm/s\n",
        "<br>\n",
        "b) osoita, että qvB yksikkö on N <br>\n",
        "https://en.wikipedia.org/wiki/Tesla_(unit)<br>\n",
        "$qvB= C \\frac{m}{s} T = $ <br>\n",
        "$ A s  \\frac{m}{s} \\frac{kg}{A s^2} $ <br>\n",
        "$ \\frac{A s m kg}{s A s s}$ <br>\n",
        "$ \\frac{m kg}{s^2}$ <br>\n",
        "$ N $  <br>"
      ],
      "metadata": {
        "nteract": {
          "transient": {
            "deleting": false
          }
        }
      }
    },
    {
      "cell_type": "code",
      "source": [
        "mp=1.6726231e-27\n",
        "g=9.8\n",
        "q=1.6021773e-19\n",
        "B=50e-6\n",
        "v=1e6\n",
        "Fg=mp*g\n",
        "Fb=q*v*B\n",
        "@printf \"Magneettinen voima on %6.2e kertainen \" Fb/Fg"
      ],
      "outputs": [
        {
          "output_type": "stream",
          "name": "stdout",
          "text": [
            "Magneettinen voima on 4.89e+08 kertainen "
          ]
        }
      ],
      "execution_count": 6,
      "metadata": {
        "collapsed": true,
        "jupyter": {
          "source_hidden": false,
          "outputs_hidden": false
        },
        "nteract": {
          "transient": {
            "deleting": false
          }
        },
        "execution": {
          "iopub.status.busy": "2021-10-06T18:26:52.563Z",
          "iopub.execute_input": "2021-10-06T18:26:52.575Z",
          "iopub.status.idle": "2021-10-06T18:26:52.880Z"
        }
      }
    },
    {
      "cell_type": "markdown",
      "source": [
        "7-5 Laske voima.<br>\n",
        "a) Protoni liikkuu idästä länteen. v=1.5 Mm/s, B=15 mT kohti maata. <br>\n",
        "b) v=2.5 Mm/s, B=5.5 mT\n",
        "\n",
        "Kirjan vastaukset:<br> \n",
        "a) 3.6fN etelään b) 2.2 fN liikesuuntaan nähden oikealle"
      ],
      "metadata": {
        "nteract": {
          "transient": {
            "deleting": false
          }
        }
      }
    },
    {
      "cell_type": "code",
      "source": [
        "q=1.6021773e-19\n",
        "B=15e-3\n",
        "v=1.5e6\n",
        "@printf \"a) voima on %6.2e N\\n\" q*v*B\n",
        "v=2.5e6\n",
        "B=5.5e-3\n",
        "@printf \"b) voima on %6.2e N\\n\" q*v*B"
      ],
      "outputs": [
        {
          "output_type": "stream",
          "name": "stdout",
          "text": [
            "a) voima on 3.60e-15 N\n",
            "b) voima on 2.20e-15 N\n"
          ]
        }
      ],
      "execution_count": 11,
      "metadata": {
        "collapsed": true,
        "jupyter": {
          "source_hidden": false,
          "outputs_hidden": false
        },
        "nteract": {
          "transient": {
            "deleting": false
          }
        },
        "execution": {
          "iopub.status.busy": "2021-10-06T18:58:14.457Z",
          "iopub.execute_input": "2021-10-06T18:58:14.467Z",
          "iopub.status.idle": "2021-10-06T18:58:14.488Z"
        }
      }
    },
    {
      "cell_type": "markdown",
      "source": [
        "7-6 Elektroni lähtee levosta 0 V potentiaalista. Määritä elektronin nopeus ja liike-energia 150 V:n potentiaalissa.\n",
        "\n",
        "Kirjan vastaukset: 7.3 Mm/s ja 2.4e-17 J"
      ],
      "metadata": {
        "nteract": {
          "transient": {
            "deleting": false
          }
        }
      }
    },
    {
      "cell_type": "code",
      "source": [
        "q=1.6021773e-19\n",
        "me=9.1093897e-31\n",
        "U=150\n",
        "v=sqrt(2*q*U/me)\n",
        "@printf \"Nopeus on %6.2e m/s ja energia %6.2e J\\n\" v q*U"
      ],
      "outputs": [
        {
          "output_type": "stream",
          "name": "stdout",
          "text": [
            "Nopeus on 7.26e+06 m/s ja energia 2.40e-17 J\n"
          ]
        }
      ],
      "execution_count": 13,
      "metadata": {
        "collapsed": true,
        "jupyter": {
          "source_hidden": false,
          "outputs_hidden": false
        },
        "nteract": {
          "transient": {
            "deleting": false
          }
        },
        "execution": {
          "iopub.status.busy": "2021-10-06T19:06:28.238Z",
          "iopub.execute_input": "2021-10-06T19:06:28.251Z",
          "iopub.status.idle": "2021-10-06T19:06:28.272Z"
        }
      }
    },
    {
      "cell_type": "markdown",
      "source": [
        "7-7 Mikä jännite U tarvitaan 16 mm leyvyisen kenttään, jotta protoniin vaikuttaa saman suuruinen sähköinen voima kuin siihen kohdistuu 1.1 Mm/s nopeudella magneettikentässä, jonka suuruus on 23 mT.<br>\n",
        "$ F_m=qvB=F_s=qE, E=\\frac{U}{d}$\n",
        "\n",
        "Kirjan vastaus: 0.4 kV"
      ],
      "metadata": {
        "nteract": {
          "transient": {
            "deleting": false
          }
        }
      }
    },
    {
      "cell_type": "code",
      "source": [
        "v=1.1e6\n",
        "B=23e-3\n",
        "E=v*B\n",
        "d=0.016\n",
        "@printf \"E=%.2e -> U=%.1f kV\\n\" E E*d/1000"
      ],
      "outputs": [
        {
          "output_type": "stream",
          "name": "stdout",
          "text": [
            "E=2.53e+04 -> U=0.4 kV\n"
          ]
        }
      ],
      "execution_count": 23,
      "metadata": {
        "collapsed": true,
        "jupyter": {
          "source_hidden": false,
          "outputs_hidden": false
        },
        "nteract": {
          "transient": {
            "deleting": false
          }
        },
        "execution": {
          "iopub.status.busy": "2021-10-07T18:31:04.341Z",
          "iopub.execute_input": "2021-10-07T18:31:04.352Z",
          "iopub.status.idle": "2021-10-07T18:31:04.376Z"
        }
      }
    },
    {
      "cell_type": "markdown",
      "source": [
        "7-8 $Ca^{2+}$ ionit kiihdytetään 42 kV jännitteellä, jonka jälkeen ne tulevat kohtisuorassa toisiaan vastaan oleviin sähkö- ja magneettikenttiin. B=270 mT. Ionin massa on 6.6e-26 kg. Määritä sähkökentän voimakkuus, kun ionit jatkavat matkaa alkuperäiseen suuntaan.\n",
        "\n",
        "Lasketaan ensin nopeus ja sen jälkeen E.\n",
        "\n",
        "Kirjan vastaus:0.17 MV/m, alas"
      ],
      "metadata": {
        "nteract": {
          "transient": {
            "deleting": false
          }
        }
      }
    },
    {
      "cell_type": "code",
      "source": [
        "q=2*1.6021773e-19\n",
        "m=6.6e-26\n",
        "U=42e3\n",
        "v=sqrt(2*q*U/m)\n",
        "@printf \"Nopeus on %.2e m/s\\n\" v\n",
        "B=270e-3\n",
        "E=v*B\n",
        "@printf \"E=%.2f MV/m\\n\" E/1e6"
      ],
      "outputs": [
        {
          "output_type": "stream",
          "name": "stdout",
          "text": [
            "Nopeus on 6.39e+05 m/s\n",
            "E=0.17 MV/m\n"
          ]
        }
      ],
      "execution_count": 29,
      "metadata": {
        "collapsed": true,
        "jupyter": {
          "source_hidden": false,
          "outputs_hidden": false
        },
        "nteract": {
          "transient": {
            "deleting": false
          }
        },
        "execution": {
          "iopub.status.busy": "2021-10-07T18:47:03.413Z",
          "iopub.execute_input": "2021-10-07T18:47:03.425Z",
          "iopub.status.idle": "2021-10-07T18:47:03.446Z"
        }
      }
    },
    {
      "cell_type": "markdown",
      "source": [
        "7-9 Syklotronin magneettikentän magneettivuon tiheys on 0.45 T ja D-eletrodien säde on 0.66 m.<br>\n",
        "a) Laske, mikä on kiihdytettyjen protonien liike-energia niiden poistuessa syklotronista.<br>\n",
        "b) Millä taajudella protoneja on kiihdytettävä.\n",
        "\n",
        "Kirjan vastaukset: a) 4.2 MeV b) 6.9 MHz"
      ],
      "metadata": {
        "nteract": {
          "transient": {
            "deleting": false
          }
        }
      }
    },
    {
      "cell_type": "code",
      "source": [
        "q=1.6021773e-19\n",
        "mp=1.6726231e-27\n",
        "B=0.45\n",
        "r=0.66\n",
        "v=q*B*r/mp\n",
        "Ej=0.5*mp*v^2\n",
        "Ee=Ej/q\n",
        "@printf \"Liike-energia on %.2e J eli %.2e eV\\n\" Ej Ee\n",
        "f=v/(2*pi*r)\n",
        "@printf \"Tarvittava taajuus on %.1e Hz\\n\" f"
      ],
      "outputs": [
        {
          "output_type": "stream",
          "name": "stdout",
          "text": [
            "Liike-energia on 6.77e-13 J eli 4.22e+06 eV\n",
            "Tarvittava taajuus on 6.9e+06 Hz\n"
          ]
        }
      ],
      "execution_count": 37,
      "metadata": {
        "collapsed": true,
        "jupyter": {
          "source_hidden": false,
          "outputs_hidden": false
        },
        "nteract": {
          "transient": {
            "deleting": false
          }
        },
        "execution": {
          "iopub.status.busy": "2021-10-10T15:01:54.584Z",
          "iopub.execute_input": "2021-10-10T15:01:54.598Z",
          "iopub.status.idle": "2021-10-10T15:01:54.622Z"
        }
      }
    },
    {
      "cell_type": "markdown",
      "source": [
        "7-10 Syklotronilla kiihdytetään deuteroneja. r=0.45 m. Niiden liike-energia on 9.6 MeV. Laske<br>\n",
        "a) kiihdytysjännitteen taajuus\n",
        "b) hiukkasten ratatasoa vastaan kohtisuoran magneettikentän magneettivuon tiheys.<br>\n",
        "Deuteroni on deuterium atomin ydin, protoni+neutroni (https://fi.wikipedia.org/wiki/Sidosenergia)\n",
        "\n",
        "Kirjan vastaukset: a) 11 MHz b) 1.4 T"
      ],
      "metadata": {
        "nteract": {
          "transient": {
            "deleting": false
          }
        }
      }
    },
    {
      "cell_type": "code",
      "source": [
        "q=1.6021773e-19\n",
        "m=(1.6726231e-27+1.6749286e-27)\n",
        "r=0.45\n",
        "Ee=9.6e6\n",
        "Ej=Ee*q\n",
        "v=sqrt(2*Ej/m)\n",
        "f=v/(2*pi*r)\n",
        "B=m*v/(q*r)\n",
        "@printf(\"Taajuus on %.0f MHz ja magneettivuon tiheys on %.1f T.\\n\",\n",
        "  f/1e6,B)\n"
      ],
      "outputs": [
        {
          "output_type": "stream",
          "name": "stdout",
          "text": [
            "Taajuus on 11 MHz ja magneettivuon tiheys on 1.4 T.\n"
          ]
        }
      ],
      "execution_count": 45,
      "metadata": {
        "collapsed": true,
        "jupyter": {
          "source_hidden": false,
          "outputs_hidden": false
        },
        "nteract": {
          "transient": {
            "deleting": false
          }
        },
        "execution": {
          "iopub.status.busy": "2021-10-10T16:24:05.277Z",
          "iopub.execute_input": "2021-10-10T16:24:05.295Z",
          "iopub.status.idle": "2021-10-10T16:24:05.430Z"
        }
      }
    },
    {
      "cell_type": "markdown",
      "source": [
        "7-11 Elektroni liikkuu ratanopeudella 9 Mm/s homogeenisessa magneettikentässä, jonka magneettivuon tiheys on 0.25 mT. Elektronin liikkeen suunta on kohtisuorassa magneettikentän suuntaan vastaan. Laske<br>\n",
        "a) elektroniin kohdistuva magneettinen voima<br>\n",
        "b) elektronin radan säde<br>\n",
        "c) aika, joka elektronilta kuluu magneettikentässä yhteen kierrokseen.\n",
        "\n",
        "Kirjan vastaukset: a) 0.36 fN, liikesuuntaan nähden oikealle<br>\n",
        "b) 0.2 m c) 0.14 μs"
      ],
      "metadata": {
        "nteract": {
          "transient": {
            "deleting": false
          }
        }
      }
    },
    {
      "cell_type": "code",
      "source": [
        "q=1.6021773e-19\n",
        "me=9.1093897e-31\n",
        "v=9e6\n",
        "B=0.25e-3\n",
        "f=v*q*B\n",
        "r=me*v/(q*B)\n",
        "s=2*pi*r\n",
        "t=s/v\n",
        "@printf(\"Fm=%.2e N, r=%.1f m, t=%.2e s\\n\",f,r,t)"
      ],
      "outputs": [
        {
          "output_type": "stream",
          "name": "stdout",
          "text": [
            "Fm=3.60e-16 N, r=0.2 m, t=1.43e-07 s\n"
          ]
        }
      ],
      "execution_count": 49,
      "metadata": {
        "collapsed": true,
        "jupyter": {
          "source_hidden": false,
          "outputs_hidden": false
        },
        "nteract": {
          "transient": {
            "deleting": false
          }
        },
        "execution": {
          "iopub.status.busy": "2021-10-10T16:35:54.530Z",
          "iopub.execute_input": "2021-10-10T16:35:54.544Z",
          "iopub.status.idle": "2021-10-10T16:35:54.573Z"
        }
      }
    },
    {
      "cell_type": "markdown",
      "source": [
        "7-12 Nopeusvalitsin ja massaspektrometri https://www.youtube.com/watch?v=FO_aEDUHovY"
      ],
      "metadata": {
        "nteract": {
          "transient": {
            "deleting": false
          }
        }
      }
    },
    {
      "cell_type": "markdown",
      "source": [
        "7-13 Tutkitaan $^{114}Sn^+$ ja $^{115}Sn^+$ ioneja. Laske ilmaisimeen osuvien tina-atomien osumakohtien etäisyys toisistaan.\n",
        "Tulonopeus magneettikenttään nopeusvalitsimen sähkökentän voimakkuden E 28.6 kV/m ja magneettivuon tiheyden 0.11 T perusteella. Säteet analysaattorin magneettivuon tiheyden B 0.53 T perusteella.\n",
        "\n",
        "Kirjan vastaus: 10.2 mm"
      ],
      "metadata": {
        "nteract": {
          "transient": {
            "deleting": false
          }
        }
      }
    },
    {
      "cell_type": "code",
      "source": [
        "u=1.66054e-27\n",
        "q=1.6021773e-19\n",
        "m114=113.903*u\n",
        "m115=114.903*u\n",
        "E=28.6e3\n",
        "Bv=0.11\n",
        "Ba=0.53\n",
        "v=E/Bv\n",
        "r114=m114*v/(q*Ba)\n",
        "r115=m115*v/(q*Ba)\n",
        "@printf(\"\"\"Säteiden %.4f m ja %.4f m \n",
        "  osumakohtien erotus on %.1f mm\\n\"\"\",\n",
        "  r115,r114,2e3*(r115-r114))\n"
      ],
      "outputs": [
        {
          "output_type": "stream",
          "name": "stdout",
          "text": [
            "Säteiden 0.5842 m ja 0.5791 m \n",
            "osumakohtien erotus on 10.2 mm\n"
          ]
        }
      ],
      "execution_count": 59,
      "metadata": {
        "collapsed": true,
        "jupyter": {
          "source_hidden": false,
          "outputs_hidden": false
        },
        "nteract": {
          "transient": {
            "deleting": false
          }
        },
        "execution": {
          "iopub.status.busy": "2021-10-10T17:21:14.500Z",
          "iopub.execute_input": "2021-10-10T17:21:14.513Z",
          "iopub.status.idle": "2021-10-10T17:21:14.542Z"
        }
      }
    },
    {
      "cell_type": "markdown",
      "source": [
        "7-14 https://fi.wikipedia.org/wiki/Hall-ilmi%C3%B6 Verisuoneen muodostuu sähkökenttä, jonka aiheuttama voima kumoaa magneettisen voiman jotta veri virtaa suonen suuntaisesti.\n",
        "\n",
        "Kirjan vastaukset: a) alaosa b) 2.1 mm/s vasemmalle"
      ],
      "metadata": {
        "nteract": {
          "transient": {
            "deleting": false
          }
        }
      }
    },
    {
      "cell_type": "code",
      "source": [
        "E=11e-6/0.0038\n",
        "B=1.4\n",
        "v=E/B\n",
        "@printf(\"Nopeus on %.1f mm/s\\n\",1e3*v)"
      ],
      "outputs": [
        {
          "output_type": "stream",
          "name": "stdout",
          "text": [
            "Nopeus on 2.1 mm/s\n"
          ]
        }
      ],
      "execution_count": 63,
      "metadata": {
        "collapsed": true,
        "jupyter": {
          "source_hidden": false,
          "outputs_hidden": false
        },
        "nteract": {
          "transient": {
            "deleting": false
          }
        },
        "execution": {
          "iopub.status.busy": "2021-10-10T18:06:17.391Z",
          "iopub.execute_input": "2021-10-10T18:06:17.404Z",
          "iopub.status.idle": "2021-10-10T18:06:17.746Z"
        }
      }
    }
  ],
  "metadata": {
    "kernel_info": {
      "name": "julia-nteract-1.5"
    },
    "language_info": {
      "file_extension": ".jl",
      "name": "julia",
      "mimetype": "application/julia",
      "version": "1.5.4"
    },
    "kernelspec": {
      "argv": [
        "C:\\Users\\snikula\\AppData\\Local\\JuliaPro-1.5.4-1\\Julia-1.5.4\\bin\\julia.exe",
        "-i",
        "--color=yes",
        "C:\\Users\\snikula\\.julia\\packages\\IJulia\\e8kqU\\src\\kernel.jl",
        "{connection_file}"
      ],
      "display_name": "Julia nteract 1.5.4",
      "env": {},
      "interrupt_mode": "message",
      "language": "julia",
      "name": "julia-nteract-1.5"
    },
    "nteract": {
      "version": "0.28.0"
    }
  },
  "nbformat": 4,
  "nbformat_minor": 0
}