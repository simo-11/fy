{
  "cells": [
    {
      "cell_type": "markdown",
      "source": [
        "# Spektri"
      ],
      "metadata": {
        "nteract": {
          "transient": {
            "deleting": false
          }
        }
      }
    },
    {
      "cell_type": "code",
      "source": [
        "using Printf\n",
        "using Dates\n",
        "b=2.897768e-3 # Wienin siirtymälain vakio\n",
        "c=2.99792e8 # Valon nopeus\n",
        "h=6.6260693e-34 # Plancin vakio\n",
        "me=9.10938e-31 # Elektronin massa\n",
        "eV=1.6021766e-19 # Elektorinivoltti\n",
        "sigma=5.670374419e-8 # Stefan-Boltzman\n",
        "Rh=1.0973731e7 # Rydbergin vakio vedylle [1/m]\n",
        "@printf \"%s\\n\" Dates.now();\n",
        "versioninfo(verbose=false);"
      ],
      "outputs": [
        {
          "output_type": "stream",
          "name": "stdout",
          "text": [
            "2021-11-25T19:58:16.141\n",
            "Julia Version 1.5.4\n",
            "Commit 69fcb5745b (2021-03-11 19:13 UTC)\n",
            "Platform Info:\n",
            "  OS: Windows (x86_64-w64-mingw32)\n",
            "  CPU: Intel(R) Core(TM) i7-8650U CPU @ 1.90GHz\n",
            "  WORD_SIZE: 64\n",
            "  LIBM: libopenlibm\n",
            "  LLVM: libLLVM-9.0.1 (ORCJIT, skylake)\n",
            "Environment:\n",
            "  JULIA_DEPOT_PATH = C:\\Users\\snikula\\.julia;C:\\Users\\snikula\\AppData\\Local\\JuliaPro-1.5.4-1\\Julia-1.5.4\\local\\share\\julia;C:\\Users\\snikula\\AppData\\Local\\JuliaPro-1.5.4-1\\Julia-1.5.4\\share\\julia\n",
            "  JULIA_LOAD_PATH = C:\\Users\\snikula\\.julia\\environments\\JuliaPro_v1.5.4-1;@;@v#.#;@stdlib\n",
            "  JULIA_PKG_SERVER = pkg.juliahub.com\n"
          ]
        }
      ],
      "execution_count": 8,
      "metadata": {
        "collapsed": true,
        "jupyter": {
          "source_hidden": false,
          "outputs_hidden": false
        },
        "nteract": {
          "transient": {
            "deleting": false
          }
        },
        "execution": {
          "iopub.status.busy": "2021-11-25T17:58:16.191Z",
          "iopub.execute_input": "2021-11-25T17:58:16.199Z",
          "iopub.status.idle": "2021-11-25T17:58:16.217Z"
        }
      }
    },
    {
      "cell_type": "markdown",
      "source": [
        "6-6 \n",
        "\n",
        "Kirjan vastaus: a) <= 50.4 nm b) >= 2.9 Mm/s"
      ],
      "metadata": {
        "nteract": {
          "transient": {
            "deleting": false
          }
        }
      }
    },
    {
      "cell_type": "code",
      "source": [
        "#E=h*c/lambda\n",
        "E=24.6eV\n",
        "lambda=h*c/E\n",
        "@printf(\"Säteilyn aallonpituuden tulee olla korkeintaan %.1f nm.\\n\",\n",
        "  lambda/1e-9)\n",
        "# E=0.5*m*v^2\n",
        "v=sqrt(2*E/me)\n",
        "@printf(\"Elektronin nopeuden tulee olla vähintään %.1e m/s\",v)"
      ],
      "outputs": [
        {
          "output_type": "stream",
          "name": "stdout",
          "text": [
            "Säteilyn aallonpituuden tulee olla korkeintaan 50.4 nm.\n",
            "Elektronin nopeuden tulee olla vähintään 2.9e+06 m/s"
          ]
        }
      ],
      "execution_count": 4,
      "metadata": {
        "collapsed": true,
        "jupyter": {
          "source_hidden": false,
          "outputs_hidden": false
        },
        "nteract": {
          "transient": {
            "deleting": false
          }
        },
        "execution": {
          "iopub.status.busy": "2021-11-25T17:45:05.401Z",
          "iopub.execute_input": "2021-11-25T17:45:05.408Z",
          "iopub.status.idle": "2021-11-25T17:45:05.425Z"
        }
      }
    },
    {
      "cell_type": "markdown",
      "source": [
        "6-8 \n",
        "\n",
        "Kirjan vastaus: 122 nm, 103 nm, 97.2 nm. Ultravioletti (100-400 nm)"
      ],
      "metadata": {
        "nteract": {
          "transient": {
            "deleting": false
          }
        }
      }
    },
    {
      "cell_type": "code",
      "source": [
        "# lambda vedylle\n",
        "function l_h_n_m(n,m)\n",
        "  l=1/(Rh*(1/n^2-1/m^2))\n",
        "   @printf(\"Tasolle %d tasolta %d aallonpituus on %.1f nm.\\n\",\n",
        "    n,m,l/1e-9)\n",
        "end\n",
        "for m=2:4\n",
        "l_h_n_m(1,m)\n",
        "end"
      ],
      "outputs": [
        {
          "output_type": "stream",
          "name": "stdout",
          "text": [
            "Tasolle 1 tasolta 2 aallonpituus on 121.5 nm.\n",
            "Tasolle 1 tasolta 3 aallonpituus on 102.5 nm.\n",
            "Tasolle 1 tasolta 4 aallonpituus on 97.2 nm.\n"
          ]
        }
      ],
      "execution_count": 18,
      "metadata": {
        "collapsed": true,
        "jupyter": {
          "source_hidden": false,
          "outputs_hidden": false
        },
        "nteract": {
          "transient": {
            "deleting": false
          }
        },
        "execution": {
          "iopub.status.busy": "2021-11-25T18:04:17.576Z",
          "iopub.execute_input": "2021-11-25T18:04:17.584Z",
          "iopub.status.idle": "2021-11-25T18:04:17.603Z"
        }
      }
    },
    {
      "cell_type": "markdown",
      "source": [
        "6-9 $E_n=-\\frac{13.6 eV}{n^2}$\n",
        "\n",
        "Kirjan vastaus: 1(1.89 eV) ja 2(3.4 eV) kimmoinen törmäys<br>\n",
        "3(10.2 eV) virittyminen, 4 (15.6 eV) ionisaatio"
      ],
      "metadata": {
        "nteract": {
          "transient": {
            "deleting": false
          }
        }
      }
    },
    {
      "cell_type": "code",
      "source": [
        "function En(n,m)\n",
        "  en=-13.6/n^2\n",
        "  em=-13.6/m^2\n",
        "  @printf(\"Tarvittava energia(%d->%d)=%.1f eV.\\n\",n,m,en-em)\n",
        "end\n",
        "for n=2:9\n",
        "  En(1,n)\n",
        "end"
      ],
      "outputs": [
        {
          "output_type": "stream",
          "name": "stdout",
          "text": [
            "Tarvittava energia(1->2)=-10.2 eV.\n",
            "Tarvittava energia(1->3)=-12.1 eV.\n",
            "Tarvittava energia(1->4)=-12.8 eV.\n",
            "Tarvittava energia(1->5)=-13.1 eV.\n",
            "Tarvittava energia(1->6)=-13.2 eV.\n",
            "Tarvittava energia(1->7)=-13.3 eV.\n",
            "Tarvittava energia(1->8)=-13.4 eV.\n",
            "Tarvittava energia(1->9)=-13.4 eV.\n"
          ]
        }
      ],
      "execution_count": 24,
      "metadata": {
        "collapsed": true,
        "jupyter": {
          "source_hidden": false,
          "outputs_hidden": false
        },
        "nteract": {
          "transient": {
            "deleting": false
          }
        },
        "execution": {
          "iopub.status.busy": "2021-11-25T18:24:52.336Z",
          "iopub.execute_input": "2021-11-25T18:24:52.346Z",
          "iopub.status.idle": "2021-11-25T18:24:52.393Z"
        }
      }
    },
    {
      "cell_type": "markdown",
      "source": [
        "6-10\n",
        "\n",
        "Kirjan vastaus: A(366 nm) B(436 nm) ja E(545 nm)"
      ],
      "metadata": {
        "nteract": {
          "transient": {
            "deleting": false
          }
        }
      }
    },
    {
      "cell_type": "code",
      "source": [
        "# 6-10\n",
        "function l_E(E)\n",
        "lambda=h*c/E\n",
        "@printf(\"Energiatason %.1f eV säteilyn aallonpituus on %.1f nm.\\n\",\n",
        "  E/eV,lambda/1e-9)\n",
        "end\n",
        "l_E((5.0-1.6)*eV)\n",
        "l_E((5.5-2.7)*eV)\n",
        "l_E((5.0-2.7)*eV)"
      ],
      "outputs": [
        {
          "output_type": "stream",
          "name": "stdout",
          "text": [
            "Energiatason 3.4 eV säteilyn aallonpituus on 364.7 nm.\n",
            "Energiatason 2.8 eV säteilyn aallonpituus on 442.8 nm.\n",
            "Energiatason 2.3 eV säteilyn aallonpituus on 539.1 nm.\n"
          ]
        }
      ],
      "execution_count": 33,
      "metadata": {
        "collapsed": true,
        "jupyter": {
          "source_hidden": false,
          "outputs_hidden": false
        },
        "nteract": {
          "transient": {
            "deleting": false
          }
        },
        "execution": {
          "iopub.status.busy": "2021-11-25T18:39:08.152Z",
          "iopub.execute_input": "2021-11-25T18:39:08.169Z",
          "iopub.status.idle": "2021-11-25T18:39:08.191Z"
        }
      }
    },
    {
      "cell_type": "code",
      "source": [
        "# 6-11\n",
        "# E=h*c/lambda\n",
        "# suuri m, jälkimmäinen termi menee 0\n",
        "#l=n^2/Rh\n",
        "k=h*c*Rh\n",
        "@printf(\"1/n^2 kerroin on %.1f.\\n\",k/eV);"
      ],
      "outputs": [
        {
          "output_type": "stream",
          "name": "stdout",
          "text": [
            "1/n^2 kerroin on 13.6.\n"
          ]
        }
      ],
      "execution_count": 42,
      "metadata": {
        "collapsed": true,
        "jupyter": {
          "source_hidden": false,
          "outputs_hidden": false
        },
        "nteract": {
          "transient": {
            "deleting": false
          }
        },
        "execution": {
          "iopub.status.busy": "2021-11-25T18:48:02.560Z",
          "iopub.execute_input": "2021-11-25T18:48:02.570Z",
          "iopub.status.idle": "2021-11-25T18:48:02.591Z"
        }
      }
    }
  ],
  "metadata": {
    "kernel_info": {
      "name": "julia-nteract-1.5"
    },
    "language_info": {
      "file_extension": ".jl",
      "name": "julia",
      "mimetype": "application/julia",
      "version": "1.5.4"
    },
    "kernelspec": {
      "argv": [
        "C:\\Users\\snikula\\AppData\\Local\\JuliaPro-1.5.4-1\\Julia-1.5.4\\bin\\julia.exe",
        "-i",
        "--color=yes",
        "C:\\Users\\snikula\\.julia\\packages\\IJulia\\e8kqU\\src\\kernel.jl",
        "{connection_file}"
      ],
      "display_name": "Julia nteract 1.5.4",
      "env": {},
      "interrupt_mode": "message",
      "language": "julia",
      "name": "julia-nteract-1.5"
    },
    "nteract": {
      "version": "0.28.0"
    }
  },
  "nbformat": 4,
  "nbformat_minor": 0
}