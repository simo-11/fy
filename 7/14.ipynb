{
  "cells": [
    {
      "cell_type": "markdown",
      "source": [
        "# Säteily terveydenhuollossa"
      ],
      "metadata": {
        "nteract": {
          "transient": {
            "deleting": false
          }
        }
      }
    },
    {
      "cell_type": "code",
      "source": [
        "using Printf\n",
        "using Dates\n",
        "# ° Alt-0176 - https://jkorpela.fi/nappis.html\n",
        "b=2.897768e-3 # Wienin siirtymälain vakio\n",
        "c=2.99792e8 # Valon nopeus\n",
        "h=6.6260693e-34 # Plancin vakio\n",
        "eV=1.6021766e-19 # Elektorinivoltti\n",
        "sigma=5.670374419e-8 # Stefan-Boltzman\n",
        "@printf \"%s\\n\" Dates.now();\n",
        "versioninfo(verbose=false);"
      ],
      "outputs": [
        {
          "output_type": "stream",
          "name": "stdout",
          "text": [
            "2021-12-04T14:42:36.052\n",
            "Julia Version 1.5.4\n",
            "Commit 69fcb5745b (2021-03-11 19:13 UTC)\n",
            "Platform Info:\n",
            "  OS: Windows (x86_64-w64-mingw32)\n",
            "  CPU: Intel(R) Core(TM) i7-8650U CPU @ 1.90GHz\n",
            "  WORD_SIZE: 64\n",
            "  LIBM: libopenlibm\n",
            "  LLVM: libLLVM-9.0.1 (ORCJIT, skylake)\n",
            "Environment:\n",
            "  JULIA_DEPOT_PATH = C:\\Users\\snikula\\.julia;C:\\Users\\snikula\\AppData\\Local\\JuliaPro-1.5.4-1\\Julia-1.5.4\\local\\share\\julia;C:\\Users\\snikula\\AppData\\Local\\JuliaPro-1.5.4-1\\Julia-1.5.4\\share\\julia\n",
            "  JULIA_LOAD_PATH = C:\\Users\\snikula\\.julia\\environments\\JuliaPro_v1.5.4-1;@;@v#.#;@stdlib\n",
            "  JULIA_PKG_SERVER = pkg.juliahub.com\n"
          ]
        }
      ],
      "execution_count": 1,
      "metadata": {
        "collapsed": true,
        "jupyter": {
          "source_hidden": false,
          "outputs_hidden": false
        },
        "nteract": {
          "transient": {
            "deleting": false
          }
        },
        "execution": {
          "iopub.status.busy": "2021-12-04T12:42:35.089Z",
          "iopub.execute_input": "2021-12-04T12:42:35.960Z",
          "iopub.status.idle": "2021-12-04T12:42:37.878Z"
        }
      }
    },
    {
      "cell_type": "markdown",
      "source": [
        "14-3\n",
        "\n",
        "Kirjan vastaus: 20 MHz"
      ],
      "metadata": {
        "nteract": {
          "transient": {
            "deleting": false
          }
        }
      }
    },
    {
      "cell_type": "code",
      "source": [
        "# E = hf\n",
        "E=1e-7eV\n",
        "f=E/h"
      ],
      "outputs": [
        {
          "output_type": "execute_result",
          "execution_count": 3,
          "data": {
            "text/plain": "2.4179895009549625e7"
          },
          "metadata": {}
        }
      ],
      "execution_count": 3,
      "metadata": {
        "collapsed": true,
        "jupyter": {
          "source_hidden": false,
          "outputs_hidden": false
        },
        "nteract": {
          "transient": {
            "deleting": false
          }
        },
        "execution": {
          "iopub.status.busy": "2021-12-04T13:35:51.376Z",
          "iopub.execute_input": "2021-12-04T13:35:51.383Z",
          "iopub.status.idle": "2021-12-04T13:35:51.401Z"
        }
      }
    },
    {
      "cell_type": "markdown",
      "source": [
        "14-4\n",
        "\n",
        "Kirjan vastaus: <br>\n",
        "a) $\\substack{2 \\\\ 1}d + \\substack{14 \\\\ 7}N \\rightarrow \\substack{15 \\\\ 8}O + \\substack{1 \\\\ 0}n$<br>\n",
        "b) $\\substack{15 \\\\ 8}O \\rightarrow \\substack{15 \\\\ 7}N + \\substack{\\hspace{0.8em}0 \\\\ +1}e + v$<br>\n",
        "<br>"
      ],
      "metadata": {
        "nteract": {
          "transient": {
            "deleting": false
          }
        }
      }
    },
    {
      "cell_type": "markdown",
      "source": [
        "14-5\n",
        "\n",
        "Kirjan vastaus: <br>a) $\\substack{18 \\\\ 9}F \\rightarrow \\substack{18 \\\\ 8}O + \\substack{\\hspace{8pt}0 \\\\ +1}e + v$<br>\n",
        "b) 330 MBq"
      ],
      "metadata": {
        "nteract": {
          "transient": {
            "deleting": false
          }
        }
      }
    },
    {
      "cell_type": "code",
      "source": [
        "T12=109.77#min\n",
        "l=log(2)/T12\n",
        "t=45#min\n",
        "# N=N0*exp(-l*t)\n",
        "N=250 # MBq\n",
        "N0=N/exp(-l*t)"
      ],
      "outputs": [
        {
          "output_type": "execute_result",
          "execution_count": 4,
          "data": {
            "text/plain": "332.15949793053363"
          },
          "metadata": {}
        }
      ],
      "execution_count": 4,
      "metadata": {
        "collapsed": true,
        "jupyter": {
          "source_hidden": false,
          "outputs_hidden": false
        },
        "nteract": {
          "transient": {
            "deleting": false
          }
        },
        "execution": {
          "iopub.status.busy": "2021-12-04T13:41:23.515Z",
          "iopub.execute_input": "2021-12-04T13:41:23.524Z",
          "iopub.status.idle": "2021-12-04T13:41:23.543Z"
        }
      }
    }
  ],
  "metadata": {
    "kernel_info": {
      "name": "julia-nteract-1.5"
    },
    "language_info": {
      "file_extension": ".jl",
      "name": "julia",
      "mimetype": "application/julia",
      "version": "1.5.4"
    },
    "kernelspec": {
      "argv": [
        "C:\\Users\\snikula\\AppData\\Local\\JuliaPro-1.5.4-1\\Julia-1.5.4\\bin\\julia.exe",
        "-i",
        "--color=yes",
        "C:\\Users\\snikula\\.julia\\packages\\IJulia\\e8kqU\\src\\kernel.jl",
        "{connection_file}"
      ],
      "display_name": "Julia nteract 1.5.4",
      "env": {},
      "interrupt_mode": "message",
      "language": "julia",
      "name": "julia-nteract-1.5"
    },
    "nteract": {
      "version": "0.28.0"
    }
  },
  "nbformat": 4,
  "nbformat_minor": 0
}