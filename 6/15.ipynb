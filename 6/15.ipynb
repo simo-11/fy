{
  "cells": [
    {
      "cell_type": "markdown",
      "source": [
        "# Muuntaja ja energian siirto"
      ],
      "metadata": {
        "nteract": {
          "transient": {
            "deleting": false
          }
        }
      }
    },
    {
      "cell_type": "code",
      "source": [
        "using Printf\n",
        "using Dates\n",
        "@printf \"%s\\n\" Dates.now();\n",
        "versioninfo(verbose=false);"
      ],
      "outputs": [
        {
          "output_type": "stream",
          "name": "stdout",
          "text": [
            "2021-10-24T18:18:57.297\n",
            "Julia Version 1.5.4\n",
            "Commit 69fcb5745b (2021-03-11 19:13 UTC)\n",
            "Platform Info:\n",
            "  OS: Windows (x86_64-w64-mingw32)\n",
            "  CPU: Intel(R) Core(TM) i7-8650U CPU @ 1.90GHz\n",
            "  WORD_SIZE: 64\n",
            "  LIBM: libopenlibm\n",
            "  LLVM: libLLVM-9.0.1 (ORCJIT, skylake)\n",
            "Environment:\n",
            "  JULIA_DEPOT_PATH = C:\\Users\\snikula\\.julia;C:\\Users\\snikula\\AppData\\Local\\JuliaPro-1.5.4-1\\Julia-1.5.4\\local\\share\\julia;C:\\Users\\snikula\\AppData\\Local\\JuliaPro-1.5.4-1\\Julia-1.5.4\\share\\julia\n",
            "  JULIA_LOAD_PATH = C:\\Users\\snikula\\.julia\\environments\\JuliaPro_v1.5.4-1;@;@v#.#;@stdlib\n",
            "  JULIA_PKG_SERVER = pkg.juliahub.com\n"
          ]
        }
      ],
      "execution_count": 106,
      "metadata": {
        "collapsed": true,
        "jupyter": {
          "source_hidden": false,
          "outputs_hidden": false
        },
        "nteract": {
          "transient": {
            "deleting": false
          }
        },
        "execution": {
          "iopub.status.busy": "2021-10-24T15:18:57.365Z",
          "iopub.execute_input": "2021-10-24T15:18:57.378Z",
          "iopub.status.idle": "2021-10-24T15:18:57.412Z"
        }
      }
    },
    {
      "cell_type": "markdown",
      "source": [
        "15-3 \n",
        "\n",
        "Kirjan vastaus:  2.0 A, 20 V, 0.5 A"
      ],
      "metadata": {
        "nteract": {
          "transient": {
            "deleting": false
          }
        }
      }
    },
    {
      "cell_type": "code",
      "source": [
        "N1=200\n",
        "N2=800\n",
        "U2=80\n",
        "U1=N1/N2*U2\n",
        "R=160\n",
        "I2=U2/R\n",
        "I1=N2/N1*I2\n",
        "@printf(\"Ensiöpuolen jännite on %.1f V.\\n\", U1)\n",
        "@printf(\"Ensiöpuolen virta on %.1f A.\\n\",I1) \n",
        "@printf(\"Toisiopuolen virta on %.1f A.\\n\",I2) \n"
      ],
      "outputs": [
        {
          "output_type": "stream",
          "name": "stdout",
          "text": [
            "Ensiöpuolen jännite on 20.0 V.\n",
            "Ensiöpuolen virta on 2.0 A.\n",
            "Toisiopuolen virta on 0.5 A.\n"
          ]
        }
      ],
      "execution_count": 112,
      "metadata": {
        "collapsed": true,
        "jupyter": {
          "source_hidden": false,
          "outputs_hidden": false
        },
        "nteract": {
          "transient": {
            "deleting": false
          }
        },
        "execution": {
          "iopub.status.busy": "2021-10-24T17:38:12.234Z",
          "iopub.execute_input": "2021-10-24T17:38:12.243Z",
          "iopub.status.idle": "2021-10-24T17:38:12.267Z"
        }
      }
    },
    {
      "cell_type": "markdown",
      "source": [
        "15-6\n",
        "\n",
        "Kirjan vastaus: a) 1 (3.3 V) b) 0.22"
      ],
      "metadata": {
        "nteract": {
          "transient": {
            "deleting": false
          }
        }
      }
    },
    {
      "cell_type": "code",
      "source": [
        "U2=15\n",
        "I2=3.5\n",
        "I1=16\n",
        "U1=U2*I2/I1\n",
        "@printf(\"Ensiöpuolen jännite on %.1f V.\\n\", U1)\n",
        "@printf(\"Muuntosuhde on %.2f.\\n\", U1/U2)\n"
      ],
      "outputs": [
        {
          "output_type": "stream",
          "name": "stdout",
          "text": [
            "Ensiöpuolen jännite on 3.3 V.\n",
            "Muuntosuhde on 0.22.\n"
          ]
        }
      ],
      "execution_count": 117,
      "metadata": {
        "collapsed": true,
        "jupyter": {
          "source_hidden": false,
          "outputs_hidden": false
        },
        "nteract": {
          "transient": {
            "deleting": false
          }
        },
        "execution": {
          "iopub.status.busy": "2021-10-24T17:44:03.419Z",
          "iopub.execute_input": "2021-10-24T17:44:03.429Z",
          "iopub.status.idle": "2021-10-24T17:44:03.447Z"
        }
      }
    },
    {
      "cell_type": "markdown",
      "source": [
        "15-7\n",
        "\n",
        "Kirjan vastaus: 48 mA"
      ],
      "metadata": {
        "nteract": {
          "transient": {
            "deleting": false
          }
        }
      }
    },
    {
      "cell_type": "code",
      "source": [
        "P=11\n",
        "U1=230\n",
        "I1=P/U1\n",
        "@printf(\"Ensiövirta on %.2e A.\\n\", I1)\n"
      ],
      "outputs": [
        {
          "output_type": "stream",
          "name": "stdout",
          "text": [
            "Ensiövirta on 4.78e-02 A.\n"
          ]
        }
      ],
      "execution_count": 119,
      "metadata": {
        "collapsed": true,
        "jupyter": {
          "source_hidden": false,
          "outputs_hidden": false
        },
        "nteract": {
          "transient": {
            "deleting": false
          }
        },
        "execution": {
          "iopub.status.busy": "2021-10-24T17:46:29.102Z",
          "iopub.execute_input": "2021-10-24T17:46:29.112Z",
          "iopub.status.idle": "2021-10-24T17:46:29.143Z"
        }
      }
    },
    {
      "cell_type": "markdown",
      "source": [
        "15-8\n",
        "\n",
        "Kirjan vastaus: a) 15 A b) 26 A c) 16 A"
      ],
      "metadata": {
        "nteract": {
          "transient": {
            "deleting": false
          }
        }
      }
    },
    {
      "cell_type": "code",
      "source": [
        "P=6e3\n",
        "U=400\n",
        "I=P/U\n",
        "@printf(\"Pääjännitteessä virta on %.0f A.\\n\",I)\n",
        "U=230\n",
        "I=P/U\n",
        "@printf(\"Vaihejännitteessä virta olisi %.0f A.\\n\",I)\n"
      ],
      "outputs": [
        {
          "output_type": "stream",
          "name": "stdout",
          "text": [
            "Pääjännitteessä virta on 15 A.\n",
            "Vaihejännitteessä virta olisi 26 A.\n"
          ]
        }
      ],
      "execution_count": 123,
      "metadata": {
        "collapsed": true,
        "jupyter": {
          "source_hidden": false,
          "outputs_hidden": false
        },
        "nteract": {
          "transient": {
            "deleting": false
          }
        },
        "execution": {
          "iopub.status.busy": "2021-10-24T17:49:56.169Z",
          "iopub.execute_input": "2021-10-24T17:49:56.181Z",
          "iopub.status.idle": "2021-10-24T17:49:56.218Z"
        }
      }
    },
    {
      "cell_type": "code",
      "source": [],
      "outputs": [],
      "execution_count": null,
      "metadata": {
        "collapsed": true,
        "jupyter": {
          "source_hidden": false,
          "outputs_hidden": false
        },
        "nteract": {
          "transient": {
            "deleting": false
          }
        }
      }
    }
  ],
  "metadata": {
    "kernel_info": {
      "name": "julia-nteract-1.5"
    },
    "language_info": {
      "file_extension": ".jl",
      "name": "julia",
      "mimetype": "application/julia",
      "version": "1.5.4"
    },
    "kernelspec": {
      "argv": [
        "C:\\Users\\snikula\\AppData\\Local\\JuliaPro-1.5.4-1\\Julia-1.5.4\\bin\\julia.exe",
        "-i",
        "--color=yes",
        "C:\\Users\\snikula\\.julia\\packages\\IJulia\\e8kqU\\src\\kernel.jl",
        "{connection_file}"
      ],
      "display_name": "Julia nteract 1.5.4",
      "env": {},
      "interrupt_mode": "message",
      "language": "julia",
      "name": "julia-nteract-1.5"
    },
    "nteract": {
      "version": "0.28.0"
    }
  },
  "nbformat": 4,
  "nbformat_minor": 0
}