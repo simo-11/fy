{
  "cells": [
    {
      "cell_type": "markdown",
      "source": [
        "# Kertaus"
      ],
      "metadata": {
        "nteract": {
          "transient": {
            "deleting": false
          }
        }
      }
    },
    {
      "cell_type": "code",
      "source": [
        "using Printf\n",
        "using Dates\n",
        "@printf(\"%s\\n\",Dates.now())\n",
        "versioninfo(verbose=false)"
      ],
      "outputs": [
        {
          "output_type": "stream",
          "name": "stdout",
          "text": [
            "2021-11-01T21:29:13.57\n",
            "Julia Version 1.5.4\n",
            "Commit 69fcb5745b (2021-03-11 19:13 UTC)\n",
            "Platform Info:\n",
            "  OS: Windows (x86_64-w64-mingw32)\n",
            "  CPU: Intel(R) Core(TM) i7-8650U CPU @ 1.90GHz\n",
            "  WORD_SIZE: 64\n",
            "  LIBM: libopenlibm\n",
            "  LLVM: libLLVM-9.0.1 (ORCJIT, skylake)\n",
            "Environment:\n",
            "  JULIA_DEPOT_PATH = C:\\Users\\snikula\\.julia;C:\\Users\\snikula\\AppData\\Local\\JuliaPro-1.5.4-1\\Julia-1.5.4\\local\\share\\julia;C:\\Users\\snikula\\AppData\\Local\\JuliaPro-1.5.4-1\\Julia-1.5.4\\share\\julia\n",
            "  JULIA_LOAD_PATH = C:\\Users\\snikula\\.julia\\environments\\JuliaPro_v1.5.4-1;@;@v#.#;@stdlib\n",
            "  JULIA_PKG_SERVER = pkg.juliahub.com\n"
          ]
        }
      ],
      "execution_count": 297,
      "metadata": {
        "collapsed": false,
        "jupyter": {
          "source_hidden": false,
          "outputs_hidden": false
        },
        "nteract": {
          "transient": {
            "deleting": false
          }
        },
        "execution": {
          "iopub.status.busy": "2021-11-01T19:29:13.637Z",
          "iopub.execute_input": "2021-11-01T19:29:13.658Z",
          "iopub.status.idle": "2021-11-01T19:29:13.700Z"
        }
      }
    },
    {
      "cell_type": "markdown",
      "source": [
        "k-2 \n",
        "\n",
        "Kirjan vastaus: a) 16 lx b) 0.57 m"
      ],
      "metadata": {
        "nteract": {
          "transient": {
            "deleting": false
          }
        }
      }
    },
    {
      "cell_type": "code",
      "source": [
        "#E=phi/A\n",
        "E1=410\n",
        "L1=0.2\n",
        "phi=E1*L1^2\n",
        "L2=1\n",
        "E2=phi/L2^2\n",
        "@printf(\"Valaistusvoimakkuus on %.0f lx.\\n\", E2)\n",
        "E3=50\n",
        "L3=sqrt(phi/E3)\n",
        "@printf(\"Etäisyys on %.2f m.\\n\", L3)\n"
      ],
      "outputs": [
        {
          "output_type": "stream",
          "name": "stdout",
          "text": [
            "Valaistusvoimakkuus on 16 lx.\n",
            "Etäisyys on 0.57 m.\n"
          ]
        }
      ],
      "execution_count": 154,
      "metadata": {
        "collapsed": true,
        "jupyter": {
          "source_hidden": false,
          "outputs_hidden": false
        },
        "nteract": {
          "transient": {
            "deleting": false
          }
        },
        "execution": {
          "iopub.status.busy": "2021-10-28T18:40:56.279Z",
          "iopub.execute_input": "2021-10-28T18:40:56.297Z",
          "iopub.status.idle": "2021-10-28T18:40:56.339Z"
        }
      }
    },
    {
      "cell_type": "markdown",
      "source": [
        "k-3 \n",
        "\n",
        "Kirjan vastaus: a) 2500 lx b) 630 lx c) voi"
      ],
      "metadata": {
        "nteract": {
          "transient": {
            "deleting": false
          }
        }
      }
    },
    {
      "cell_type": "code",
      "source": [
        "L1=5\n",
        "phi=2500\n",
        "A1=1\n",
        "E1=phi/A1\n",
        "@printf(\"Valaistusvoimakkuus on %.0f lx.\\n\", E1)\n",
        "L2=10\n",
        "E2=phi/(L2/L1)^2\n",
        "@printf(\"Valaistusvoimakkuus on %.0f lx.\\n\", E2)"
      ],
      "outputs": [
        {
          "output_type": "stream",
          "name": "stdout",
          "text": [
            "Valaistusvoimakkuus on 2500 lx.\n",
            "Valaistusvoimakkuus on 625 lx.\n"
          ]
        }
      ],
      "execution_count": 155,
      "metadata": {
        "collapsed": true,
        "jupyter": {
          "source_hidden": false,
          "outputs_hidden": false
        },
        "nteract": {
          "transient": {
            "deleting": false
          }
        },
        "execution": {
          "iopub.status.busy": "2021-10-28T18:41:08.477Z",
          "iopub.execute_input": "2021-10-28T18:41:08.495Z",
          "iopub.status.idle": "2021-10-28T18:41:08.540Z"
        }
      }
    },
    {
      "cell_type": "markdown",
      "source": [
        "k-5\n",
        "\n",
        "Kirjan vastaus: 300 nm - 530 nm"
      ],
      "metadata": {
        "nteract": {
          "transient": {
            "deleting": false
          }
        }
      }
    },
    {
      "cell_type": "code",
      "source": [
        "c=2.99792e8\n",
        "l1=400/1.33\n",
        "l2=700/1.33\n",
        "@printf(\"Aallonpituus on %.0f - %.0f nm\\n\", l1,l2)\n"
      ],
      "outputs": [
        {
          "output_type": "stream",
          "name": "stdout",
          "text": [
            "Aallonpituus on 301 - 526 nm\n"
          ]
        }
      ],
      "execution_count": 157,
      "metadata": {
        "collapsed": true,
        "jupyter": {
          "source_hidden": false,
          "outputs_hidden": false
        },
        "nteract": {
          "transient": {
            "deleting": false
          }
        },
        "execution": {
          "iopub.status.busy": "2021-10-28T18:45:06.008Z",
          "iopub.execute_input": "2021-10-28T18:45:06.026Z",
          "iopub.status.idle": "2021-10-28T18:45:06.060Z"
        }
      }
    },
    {
      "cell_type": "markdown",
      "source": [
        "k-6 $\\frac{sin \\alpha_1}{sin \\alpha_2}=\\frac{c_1}{c_2}=\\frac{\\lambda_1}{\\lambda_2}=\\frac{n_2}{n_1}$\n",
        "\n",
        "Kirjan vastaus: a) 49° b) 35°"
      ],
      "metadata": {
        "nteract": {
          "transient": {
            "deleting": false
          }
        }
      }
    },
    {
      "cell_type": "code",
      "source": [
        "using Plots\n",
        "n1=1 # ilma\n",
        "n2=1.5\n",
        "a2=2*pi*15/180\n",
        "a1d=asin(n2*sin(a2)/n1)*180/pi\n",
        "@printf(\"Ilmassa %.0f°\\n\",a1d);\n",
        "n1=1.3 # vesi\n",
        "a1d=asin(n2*sin(a2)/n1)*180/pi\n",
        "@printf(\"Vedessä %.0f°\\n\",a1d);\n",
        "w=1 # leveys y=0 tasolla\n",
        "h=w/2/(tan(15*pi/180))\n",
        "k1=h/(w/2)# nousevan osan kulmakerroin\n",
        "nk1=-1/k1 # nousevan osan normaalin kulmakerroin\n",
        "k2=-k1\n",
        "nk2=-1/k2\n",
        "p1=(-0.25*w,k1*-0.25*w)\n",
        "p3=(1.25*w,h+k2*(0.75*w))\n",
        "ca=[p1,(w/2,h),p3,p1]\n",
        "# size x=y ja xlim=ylim jotta mittasuhteet säilyvät\n",
        "size=400\n",
        "sizes=(size,size)\n",
        "limits=(-1,h+0.5)\n",
        "plot(ca,xlim=limits,ylim=limits,size=sizes,label=\"\")\n",
        "plot!([(0,0),w.*(1,nk2)],arrow=true,label=\"valo\")\n",
        "plot!([-0.5.*(1,nk1),1.0.*(1,nk1)],label=\"normaali\")\n"
      ],
      "outputs": [
        {
          "output_type": "stream",
          "name": "stdout",
          "text": [
            "Ilmassa 49°\n",
            "Vedessä 35°\n"
          ]
        },
        {
          "output_type": "execute_result",
          "execution_count": 196,
          "data": {
            "image/svg+xml": "<?xml version=\"1.0\" encoding=\"utf-8\"?>\n<svg xmlns=\"http://www.w3.org/2000/svg\" xmlns:xlink=\"http://www.w3.org/1999/xlink\" width=\"400\" height=\"400\" viewBox=\"0 0 1600 1600\">\n<defs>\n  <clipPath id=\"clip560\">\n    <rect x=\"0\" y=\"0\" width=\"1600\" height=\"1600\"/>\n  </clipPath>\n</defs>\n<path clip-path=\"url(#clip560)\" d=\"\nM0 1600 L1600 1600 L1600 0 L0 0  Z\n  \" fill=\"#ffffff\" fill-rule=\"evenodd\" fill-opacity=\"1\"/>\n<defs>\n  <clipPath id=\"clip561\">\n    <rect x=\"320\" y=\"160\" width=\"1121\" height=\"1121\"/>\n  </clipPath>\n</defs>\n<path clip-path=\"url(#clip560)\" d=\"\nM139.478 1469.17 L1552.76 1469.17 L1552.76 47.2441 L139.478 47.2441  Z\n  \" fill=\"#ffffff\" fill-rule=\"evenodd\" fill-opacity=\"1\"/>\n<defs>\n  <clipPath id=\"clip562\">\n    <rect x=\"139\" y=\"47\" width=\"1414\" height=\"1423\"/>\n  </clipPath>\n</defs>\n<polyline clip-path=\"url(#clip562)\" style=\"stroke:#000000; stroke-linecap:butt; stroke-linejoin:round; stroke-width:2; stroke-opacity:0.1; fill:none\" points=\"\n  139.478,1469.17 139.478,47.2441 \n  \"/>\n<polyline clip-path=\"url(#clip562)\" style=\"stroke:#000000; stroke-linecap:butt; stroke-linejoin:round; stroke-width:2; stroke-opacity:0.1; fill:none\" points=\"\n  559.343,1469.17 559.343,47.2441 \n  \"/>\n<polyline clip-path=\"url(#clip562)\" style=\"stroke:#000000; stroke-linecap:butt; stroke-linejoin:round; stroke-width:2; stroke-opacity:0.1; fill:none\" points=\"\n  979.209,1469.17 979.209,47.2441 \n  \"/>\n<polyline clip-path=\"url(#clip562)\" style=\"stroke:#000000; stroke-linecap:butt; stroke-linejoin:round; stroke-width:2; stroke-opacity:0.1; fill:none\" points=\"\n  1399.07,1469.17 1399.07,47.2441 \n  \"/>\n<polyline clip-path=\"url(#clip560)\" style=\"stroke:#000000; stroke-linecap:butt; stroke-linejoin:round; stroke-width:4; stroke-opacity:1; fill:none\" points=\"\n  139.478,1469.17 1552.76,1469.17 \n  \"/>\n<polyline clip-path=\"url(#clip560)\" style=\"stroke:#000000; stroke-linecap:butt; stroke-linejoin:round; stroke-width:4; stroke-opacity:1; fill:none\" points=\"\n  139.478,1469.17 139.478,1452.1 \n  \"/>\n<polyline clip-path=\"url(#clip560)\" style=\"stroke:#000000; stroke-linecap:butt; stroke-linejoin:round; stroke-width:4; stroke-opacity:1; fill:none\" points=\"\n  559.343,1469.17 559.343,1452.1 \n  \"/>\n<polyline clip-path=\"url(#clip560)\" style=\"stroke:#000000; stroke-linecap:butt; stroke-linejoin:round; stroke-width:4; stroke-opacity:1; fill:none\" points=\"\n  979.209,1469.17 979.209,1452.1 \n  \"/>\n<polyline clip-path=\"url(#clip560)\" style=\"stroke:#000000; stroke-linecap:butt; stroke-linejoin:round; stroke-width:4; stroke-opacity:1; fill:none\" points=\"\n  1399.07,1469.17 1399.07,1452.1 \n  \"/>\n<path clip-path=\"url(#clip560)\" d=\"M109.235 1506.61 L138.911 1506.61 L138.911 1510.55 L109.235 1510.55 L109.235 1506.61 Z\" fill=\"#000000\" fill-rule=\"evenodd\" fill-opacity=\"1\" /><path clip-path=\"url(#clip560)\" d=\"M149.814 1519.5 L157.452 1519.5 L157.452 1493.14 L149.142 1494.81 L149.142 1490.55 L157.406 1488.88 L162.082 1488.88 L162.082 1519.5 L169.721 1519.5 L169.721 1523.44 L149.814 1523.44 L149.814 1519.5 Z\" fill=\"#000000\" fill-rule=\"evenodd\" fill-opacity=\"1\" /><path clip-path=\"url(#clip560)\" d=\"M559.343 1491.96 Q555.732 1491.96 553.904 1495.52 Q552.098 1499.07 552.098 1506.19 Q552.098 1513.3 553.904 1516.87 Q555.732 1520.41 559.343 1520.41 Q562.978 1520.41 564.783 1516.87 Q566.612 1513.3 566.612 1506.19 Q566.612 1499.07 564.783 1495.52 Q562.978 1491.96 559.343 1491.96 M559.343 1488.25 Q565.154 1488.25 568.209 1492.86 Q571.288 1497.44 571.288 1506.19 Q571.288 1514.92 568.209 1519.53 Q565.154 1524.11 559.343 1524.11 Q553.533 1524.11 550.455 1519.53 Q547.399 1514.92 547.399 1506.19 Q547.399 1497.44 550.455 1492.86 Q553.533 1488.25 559.343 1488.25 Z\" fill=\"#000000\" fill-rule=\"evenodd\" fill-opacity=\"1\" /><path clip-path=\"url(#clip560)\" d=\"M969.591 1519.5 L977.23 1519.5 L977.23 1493.14 L968.92 1494.81 L968.92 1490.55 L977.183 1488.88 L981.859 1488.88 L981.859 1519.5 L989.498 1519.5 L989.498 1523.44 L969.591 1523.44 L969.591 1519.5 Z\" fill=\"#000000\" fill-rule=\"evenodd\" fill-opacity=\"1\" /><path clip-path=\"url(#clip560)\" d=\"M1393.73 1519.5 L1410.05 1519.5 L1410.05 1523.44 L1388.1 1523.44 L1388.1 1519.5 Q1390.76 1516.75 1395.35 1512.12 Q1399.95 1507.47 1401.13 1506.13 Q1403.38 1503.6 1404.26 1501.87 Q1405.16 1500.11 1405.16 1498.42 Q1405.16 1495.66 1403.22 1493.93 Q1401.3 1492.19 1398.19 1492.19 Q1396 1492.19 1393.54 1492.95 Q1391.11 1493.72 1388.33 1495.27 L1388.33 1490.55 Q1391.16 1489.41 1393.61 1488.83 Q1396.07 1488.25 1398.1 1488.25 Q1403.47 1488.25 1406.67 1490.94 Q1409.86 1493.63 1409.86 1498.12 Q1409.86 1500.25 1409.05 1502.17 Q1408.26 1504.06 1406.16 1506.66 Q1405.58 1507.33 1402.48 1510.55 Q1399.38 1513.74 1393.73 1519.5 Z\" fill=\"#000000\" fill-rule=\"evenodd\" fill-opacity=\"1\" /><polyline clip-path=\"url(#clip562)\" style=\"stroke:#000000; stroke-linecap:butt; stroke-linejoin:round; stroke-width:2; stroke-opacity:0.1; fill:none\" points=\"\n  139.478,1469.17 1552.76,1469.17 \n  \"/>\n<polyline clip-path=\"url(#clip562)\" style=\"stroke:#000000; stroke-linecap:butt; stroke-linejoin:round; stroke-width:2; stroke-opacity:0.1; fill:none\" points=\"\n  139.478,1046.73 1552.76,1046.73 \n  \"/>\n<polyline clip-path=\"url(#clip562)\" style=\"stroke:#000000; stroke-linecap:butt; stroke-linejoin:round; stroke-width:2; stroke-opacity:0.1; fill:none\" points=\"\n  139.478,624.3 1552.76,624.3 \n  \"/>\n<polyline clip-path=\"url(#clip562)\" style=\"stroke:#000000; stroke-linecap:butt; stroke-linejoin:round; stroke-width:2; stroke-opacity:0.1; fill:none\" points=\"\n  139.478,201.866 1552.76,201.866 \n  \"/>\n<polyline clip-path=\"url(#clip560)\" style=\"stroke:#000000; stroke-linecap:butt; stroke-linejoin:round; stroke-width:4; stroke-opacity:1; fill:none\" points=\"\n  139.478,1469.17 139.478,47.2441 \n  \"/>\n<polyline clip-path=\"url(#clip560)\" style=\"stroke:#000000; stroke-linecap:butt; stroke-linejoin:round; stroke-width:4; stroke-opacity:1; fill:none\" points=\"\n  139.478,1469.17 156.437,1469.17 \n  \"/>\n<polyline clip-path=\"url(#clip560)\" style=\"stroke:#000000; stroke-linecap:butt; stroke-linejoin:round; stroke-width:4; stroke-opacity:1; fill:none\" points=\"\n  139.478,1046.73 156.437,1046.73 \n  \"/>\n<polyline clip-path=\"url(#clip560)\" style=\"stroke:#000000; stroke-linecap:butt; stroke-linejoin:round; stroke-width:4; stroke-opacity:1; fill:none\" points=\"\n  139.478,624.3 156.437,624.3 \n  \"/>\n<polyline clip-path=\"url(#clip560)\" style=\"stroke:#000000; stroke-linecap:butt; stroke-linejoin:round; stroke-width:4; stroke-opacity:1; fill:none\" points=\"\n  139.478,201.866 156.437,201.866 \n  \"/>\n<path clip-path=\"url(#clip560)\" d=\"M54.9921 1469.62 L84.6679 1469.62 L84.6679 1473.55 L54.9921 1473.55 L54.9921 1469.62 Z\" fill=\"#000000\" fill-rule=\"evenodd\" fill-opacity=\"1\" /><path clip-path=\"url(#clip560)\" d=\"M95.5706 1482.51 L103.209 1482.51 L103.209 1456.15 L94.8993 1457.81 L94.8993 1453.55 L103.163 1451.89 L107.839 1451.89 L107.839 1482.51 L115.478 1482.51 L115.478 1486.45 L95.5706 1486.45 L95.5706 1482.51 Z\" fill=\"#000000\" fill-rule=\"evenodd\" fill-opacity=\"1\" /><path clip-path=\"url(#clip560)\" d=\"M103.534 1032.53 Q99.9224 1032.53 98.0937 1036.1 Q96.2882 1039.64 96.2882 1046.77 Q96.2882 1053.87 98.0937 1057.44 Q99.9224 1060.98 103.534 1060.98 Q107.168 1060.98 108.973 1057.44 Q110.802 1053.87 110.802 1046.77 Q110.802 1039.64 108.973 1036.1 Q107.168 1032.53 103.534 1032.53 M103.534 1028.83 Q109.344 1028.83 112.399 1033.44 Q115.478 1038.02 115.478 1046.77 Q115.478 1055.5 112.399 1060.1 Q109.344 1064.69 103.534 1064.69 Q97.7234 1064.69 94.6447 1060.1 Q91.5892 1055.5 91.5892 1046.77 Q91.5892 1038.02 94.6447 1033.44 Q97.7234 1028.83 103.534 1028.83 Z\" fill=\"#000000\" fill-rule=\"evenodd\" fill-opacity=\"1\" /><path clip-path=\"url(#clip560)\" d=\"M95.5706 637.645 L103.209 637.645 L103.209 611.279 L94.8993 612.946 L94.8993 608.686 L103.163 607.02 L107.839 607.02 L107.839 637.645 L115.478 637.645 L115.478 641.58 L95.5706 641.58 L95.5706 637.645 Z\" fill=\"#000000\" fill-rule=\"evenodd\" fill-opacity=\"1\" /><path clip-path=\"url(#clip560)\" d=\"M99.1586 215.211 L115.478 215.211 L115.478 219.146 L93.5336 219.146 L93.5336 215.211 Q96.1956 212.456 100.779 207.826 Q105.385 203.174 106.566 201.831 Q108.811 199.308 109.691 197.572 Q110.594 195.812 110.594 194.123 Q110.594 191.368 108.649 189.632 Q106.728 187.896 103.626 187.896 Q101.427 187.896 98.9734 188.66 Q96.5428 189.424 93.7651 190.975 L93.7651 186.252 Q96.5891 185.118 99.0428 184.539 Q101.497 183.961 103.534 183.961 Q108.904 183.961 112.098 186.646 Q115.293 189.331 115.293 193.822 Q115.293 195.951 114.483 197.873 Q113.696 199.771 111.589 202.363 Q111.01 203.035 107.909 206.252 Q104.807 209.447 99.1586 215.211 Z\" fill=\"#000000\" fill-rule=\"evenodd\" fill-opacity=\"1\" /><polyline clip-path=\"url(#clip562)\" style=\"stroke:#009af9; stroke-linecap:butt; stroke-linejoin:round; stroke-width:4; stroke-opacity:1; fill:none\" points=\"\n  454.377,1440.87 769.276,258.461 1084.18,1440.87 454.377,1440.87 \n  \"/>\n<polyline clip-path=\"url(#clip562)\" style=\"stroke:#e26f46; stroke-linecap:butt; stroke-linejoin:round; stroke-width:4; stroke-opacity:1; fill:none\" points=\"\n  559.343,1046.73 979.209,933.543 \n  \"/>\n<polyline clip-path=\"url(#clip562)\" style=\"stroke:#e26f46; stroke-linecap:butt; stroke-linejoin:round; stroke-width:4; stroke-opacity:1; fill:none\" points=\"\n  952.913,928.204 979.209,933.543 959.16,951.376 \n  \"/>\n<polyline clip-path=\"url(#clip562)\" style=\"stroke:#e26f46; stroke-linecap:butt; stroke-linejoin:round; stroke-width:4; stroke-opacity:1; fill:none\" points=\"\n  979.209,933.543 559.343,1046.73 \n  \"/>\n<polyline clip-path=\"url(#clip562)\" style=\"stroke:#3da44d; stroke-linecap:butt; stroke-linejoin:round; stroke-width:4; stroke-opacity:1; fill:none\" points=\"\n  349.411,990.138 979.209,1159.92 \n  \"/>\n<path clip-path=\"url(#clip560)\" d=\"\nM1149.03 276.082 L1505.65 276.082 L1505.65 94.6416 L1149.03 94.6416  Z\n  \" fill=\"#ffffff\" fill-rule=\"evenodd\" fill-opacity=\"1\"/>\n<polyline clip-path=\"url(#clip560)\" style=\"stroke:#000000; stroke-linecap:butt; stroke-linejoin:round; stroke-width:4; stroke-opacity:1; fill:none\" points=\"\n  1149.03,276.082 1505.65,276.082 1505.65,94.6416 1149.03,94.6416 1149.03,276.082 \n  \"/>\n<polyline clip-path=\"url(#clip560)\" style=\"stroke:#e26f46; stroke-linecap:butt; stroke-linejoin:round; stroke-width:4; stroke-opacity:1; fill:none\" points=\"\n  1164.74,155.122 1258.96,155.122 \n  \"/>\n<path clip-path=\"url(#clip560)\" d=\"M1274.66 146.476 L1279.17 146.476 L1287.27 168.235 L1295.38 146.476 L1299.89 146.476 L1290.17 172.402 L1284.38 172.402 L1274.66 146.476 Z\" fill=\"#000000\" fill-rule=\"evenodd\" fill-opacity=\"1\" /><path clip-path=\"url(#clip560)\" d=\"M1317.55 159.369 Q1312.39 159.369 1310.4 160.55 Q1308.41 161.73 1308.41 164.578 Q1308.41 166.846 1309.89 168.189 Q1311.39 169.508 1313.96 169.508 Q1317.51 169.508 1319.63 167.008 Q1321.79 164.485 1321.79 160.318 L1321.79 159.369 L1317.55 159.369 M1326.05 157.61 L1326.05 172.402 L1321.79 172.402 L1321.79 168.466 Q1320.33 170.827 1318.15 171.962 Q1315.98 173.073 1312.83 173.073 Q1308.85 173.073 1306.49 170.851 Q1304.15 168.605 1304.15 164.855 Q1304.15 160.48 1307.07 158.258 Q1310.01 156.036 1315.82 156.036 L1321.79 156.036 L1321.79 155.619 Q1321.79 152.679 1319.84 151.082 Q1317.92 149.462 1314.43 149.462 Q1312.2 149.462 1310.1 149.994 Q1307.99 150.527 1306.05 151.591 L1306.05 147.656 Q1308.38 146.754 1310.58 146.314 Q1312.78 145.851 1314.87 145.851 Q1320.49 145.851 1323.27 148.767 Q1326.05 151.684 1326.05 157.61 Z\" fill=\"#000000\" fill-rule=\"evenodd\" fill-opacity=\"1\" /><path clip-path=\"url(#clip560)\" d=\"M1334.82 136.383 L1339.08 136.383 L1339.08 172.402 L1334.82 172.402 L1334.82 136.383 Z\" fill=\"#000000\" fill-rule=\"evenodd\" fill-opacity=\"1\" /><path clip-path=\"url(#clip560)\" d=\"M1358.04 149.462 Q1354.61 149.462 1352.62 152.147 Q1350.63 154.809 1350.63 159.462 Q1350.63 164.115 1352.6 166.8 Q1354.59 169.462 1358.04 169.462 Q1361.44 169.462 1363.43 166.777 Q1365.42 164.091 1365.42 159.462 Q1365.42 154.855 1363.43 152.17 Q1361.44 149.462 1358.04 149.462 M1358.04 145.851 Q1363.59 145.851 1366.76 149.462 Q1369.94 153.073 1369.94 159.462 Q1369.94 165.828 1366.76 169.462 Q1363.59 173.073 1358.04 173.073 Q1352.46 173.073 1349.29 169.462 Q1346.14 165.828 1346.14 159.462 Q1346.14 153.073 1349.29 149.462 Q1352.46 145.851 1358.04 145.851 Z\" fill=\"#000000\" fill-rule=\"evenodd\" fill-opacity=\"1\" /><polyline clip-path=\"url(#clip560)\" style=\"stroke:#3da44d; stroke-linecap:butt; stroke-linejoin:round; stroke-width:4; stroke-opacity:1; fill:none\" points=\"\n  1164.74,215.602 1258.96,215.602 \n  \"/>\n<path clip-path=\"url(#clip560)\" d=\"M1296.37 217.233 L1296.37 232.882 L1292.11 232.882 L1292.11 217.372 Q1292.11 213.692 1290.68 211.863 Q1289.24 210.034 1286.37 210.034 Q1282.92 210.034 1280.93 212.234 Q1278.94 214.433 1278.94 218.229 L1278.94 232.882 L1274.66 232.882 L1274.66 206.956 L1278.94 206.956 L1278.94 210.984 Q1280.47 208.646 1282.53 207.488 Q1284.61 206.331 1287.32 206.331 Q1291.79 206.331 1294.08 209.109 Q1296.37 211.863 1296.37 217.233 Z\" fill=\"#000000\" fill-rule=\"evenodd\" fill-opacity=\"1\" /><path clip-path=\"url(#clip560)\" d=\"M1314.91 209.942 Q1311.49 209.942 1309.5 212.627 Q1307.51 215.289 1307.51 219.942 Q1307.51 224.595 1309.47 227.28 Q1311.46 229.942 1314.91 229.942 Q1318.32 229.942 1320.31 227.257 Q1322.3 224.571 1322.3 219.942 Q1322.3 215.335 1320.31 212.65 Q1318.32 209.942 1314.91 209.942 M1314.91 206.331 Q1320.47 206.331 1323.64 209.942 Q1326.81 213.553 1326.81 219.942 Q1326.81 226.308 1323.64 229.942 Q1320.47 233.553 1314.91 233.553 Q1309.33 233.553 1306.16 229.942 Q1303.01 226.308 1303.01 219.942 Q1303.01 213.553 1306.16 209.942 Q1309.33 206.331 1314.91 206.331 Z\" fill=\"#000000\" fill-rule=\"evenodd\" fill-opacity=\"1\" /><path clip-path=\"url(#clip560)\" d=\"M1348.89 210.937 Q1348.18 210.521 1347.32 210.335 Q1346.49 210.127 1345.47 210.127 Q1341.86 210.127 1339.91 212.488 Q1337.99 214.826 1337.99 219.224 L1337.99 232.882 L1333.71 232.882 L1333.71 206.956 L1337.99 206.956 L1337.99 210.984 Q1339.33 208.622 1341.49 207.488 Q1343.64 206.331 1346.72 206.331 Q1347.16 206.331 1347.69 206.4 Q1348.22 206.447 1348.87 206.562 L1348.89 210.937 Z\" fill=\"#000000\" fill-rule=\"evenodd\" fill-opacity=\"1\" /><path clip-path=\"url(#clip560)\" d=\"M1372.71 211.933 Q1374.31 209.062 1376.53 207.697 Q1378.75 206.331 1381.76 206.331 Q1385.82 206.331 1388.01 209.178 Q1390.21 212.002 1390.21 217.233 L1390.21 232.882 L1385.93 232.882 L1385.93 217.372 Q1385.93 213.646 1384.61 211.84 Q1383.29 210.034 1380.58 210.034 Q1377.27 210.034 1375.35 212.234 Q1373.43 214.433 1373.43 218.229 L1373.43 232.882 L1369.15 232.882 L1369.15 217.372 Q1369.15 213.622 1367.83 211.84 Q1366.51 210.034 1363.75 210.034 Q1360.49 210.034 1358.57 212.257 Q1356.65 214.456 1356.65 218.229 L1356.65 232.882 L1352.37 232.882 L1352.37 206.956 L1356.65 206.956 L1356.65 210.984 Q1358.11 208.599 1360.14 207.465 Q1362.18 206.331 1364.98 206.331 Q1367.81 206.331 1369.77 207.766 Q1371.76 209.201 1372.71 211.933 Z\" fill=\"#000000\" fill-rule=\"evenodd\" fill-opacity=\"1\" /><path clip-path=\"url(#clip560)\" d=\"M1410.49 219.849 Q1405.33 219.849 1403.34 221.03 Q1401.35 222.21 1401.35 225.058 Q1401.35 227.326 1402.83 228.669 Q1404.33 229.988 1406.9 229.988 Q1410.44 229.988 1412.57 227.488 Q1414.73 224.965 1414.73 220.798 L1414.73 219.849 L1410.49 219.849 M1418.99 218.09 L1418.99 232.882 L1414.73 232.882 L1414.73 228.946 Q1413.27 231.307 1411.09 232.442 Q1408.92 233.553 1405.77 233.553 Q1401.79 233.553 1399.43 231.331 Q1397.09 229.085 1397.09 225.335 Q1397.09 220.96 1400 218.738 Q1402.94 216.516 1408.75 216.516 L1414.73 216.516 L1414.73 216.099 Q1414.73 213.159 1412.78 211.562 Q1410.86 209.942 1407.37 209.942 Q1405.14 209.942 1403.04 210.474 Q1400.93 211.007 1398.99 212.071 L1398.99 208.136 Q1401.32 207.234 1403.52 206.794 Q1405.72 206.331 1407.81 206.331 Q1413.43 206.331 1416.21 209.247 Q1418.99 212.164 1418.99 218.09 Z\" fill=\"#000000\" fill-rule=\"evenodd\" fill-opacity=\"1\" /><path clip-path=\"url(#clip560)\" d=\"M1439.54 219.849 Q1434.38 219.849 1432.39 221.03 Q1430.4 222.21 1430.4 225.058 Q1430.4 227.326 1431.88 228.669 Q1433.38 229.988 1435.95 229.988 Q1439.5 229.988 1441.62 227.488 Q1443.78 224.965 1443.78 220.798 L1443.78 219.849 L1439.54 219.849 M1448.04 218.09 L1448.04 232.882 L1443.78 232.882 L1443.78 228.946 Q1442.32 231.307 1440.14 232.442 Q1437.97 233.553 1434.82 233.553 Q1430.84 233.553 1428.48 231.331 Q1426.14 229.085 1426.14 225.335 Q1426.14 220.96 1429.06 218.738 Q1432 216.516 1437.81 216.516 L1443.78 216.516 L1443.78 216.099 Q1443.78 213.159 1441.83 211.562 Q1439.91 209.942 1436.42 209.942 Q1434.19 209.942 1432.09 210.474 Q1429.98 211.007 1428.04 212.071 L1428.04 208.136 Q1430.37 207.234 1432.57 206.794 Q1434.77 206.331 1436.86 206.331 Q1442.48 206.331 1445.26 209.247 Q1448.04 212.164 1448.04 218.09 Z\" fill=\"#000000\" fill-rule=\"evenodd\" fill-opacity=\"1\" /><path clip-path=\"url(#clip560)\" d=\"M1456.81 196.863 L1461.07 196.863 L1461.07 232.882 L1456.81 232.882 L1456.81 196.863 Z\" fill=\"#000000\" fill-rule=\"evenodd\" fill-opacity=\"1\" /><path clip-path=\"url(#clip560)\" d=\"M1469.98 206.956 L1474.24 206.956 L1474.24 232.882 L1469.98 232.882 L1469.98 206.956 M1469.98 196.863 L1474.24 196.863 L1474.24 202.257 L1469.98 202.257 L1469.98 196.863 Z\" fill=\"#000000\" fill-rule=\"evenodd\" fill-opacity=\"1\" /></svg>\n"
          },
          "metadata": {}
        }
      ],
      "execution_count": 196,
      "metadata": {
        "collapsed": false,
        "jupyter": {
          "source_hidden": false,
          "outputs_hidden": false
        },
        "nteract": {
          "transient": {
            "deleting": false
          }
        },
        "execution": {
          "iopub.status.busy": "2021-10-30T18:10:16.982Z",
          "iopub.execute_input": "2021-10-30T18:10:16.997Z",
          "iopub.status.idle": "2021-10-30T18:10:17.225Z"
        }
      }
    },
    {
      "cell_type": "markdown",
      "source": [
        "k-7\n",
        "\n",
        "Kirjan vastaus: a) 29.7° b) 46.0°, 43.6°\n"
      ],
      "metadata": {
        "nteract": {
          "transient": {
            "deleting": false
          }
        }
      }
    },
    {
      "cell_type": "code",
      "source": [
        "# size x=y ja xlim=ylim jotta mittasuhteet säilyvät\n",
        "size=400\n",
        "sizes=(size,size)\n",
        "h=0.5\n",
        "limits=(-0.5,0.6)\n",
        "p1=(-0.2,0)\n",
        "p2=(0.2,0)\n",
        "ca=[p1,p2]\n",
        "a1=(90-44)*pi/180;\n",
        "n1=1\n",
        "n2=1.45\n",
        "a2=asin(sin(a1)*n1/n2)\n",
        "a2d=180*a2/pi;\n",
        "@printf(\"Kulma on %.1f°\\n\",a2d);\n",
        "vkk=-1/tan(a1)\n",
        "vkkn=-1/tan(a2)\n",
        "plot(ca,xlim=limits,ylim=limits,size=sizes,label=\"pinta\")\n",
        "plot!([-0.2.*(1,vkk),(0,0),0.2.*(1,vkkn)],arrow=true,label=\"valo\")\n",
        "plot!([(0,-0.2),(0,0.2)],label=\"normaali\")\n",
        "plot!([(-0.3,0.04)],label=\"\",text=[\"44.0°\"])\n"
      ],
      "outputs": [
        {
          "output_type": "stream",
          "name": "stdout",
          "text": [
            "Kulma on 29.7°\n"
          ]
        },
        {
          "output_type": "execute_result",
          "execution_count": 230,
          "data": {
            "image/svg+xml": "<?xml version=\"1.0\" encoding=\"utf-8\"?>\n<svg xmlns=\"http://www.w3.org/2000/svg\" xmlns:xlink=\"http://www.w3.org/1999/xlink\" width=\"400\" height=\"400\" viewBox=\"0 0 1600 1600\">\n<defs>\n  <clipPath id=\"clip880\">\n    <rect x=\"0\" y=\"0\" width=\"1600\" height=\"1600\"/>\n  </clipPath>\n</defs>\n<path clip-path=\"url(#clip880)\" d=\"\nM0 1600 L1600 1600 L1600 0 L0 0  Z\n  \" fill=\"#ffffff\" fill-rule=\"evenodd\" fill-opacity=\"1\"/>\n<defs>\n  <clipPath id=\"clip881\">\n    <rect x=\"320\" y=\"160\" width=\"1121\" height=\"1121\"/>\n  </clipPath>\n</defs>\n<path clip-path=\"url(#clip880)\" d=\"\nM186.422 1469.17 L1552.76 1469.17 L1552.76 47.2441 L186.422 47.2441  Z\n  \" fill=\"#ffffff\" fill-rule=\"evenodd\" fill-opacity=\"1\"/>\n<defs>\n  <clipPath id=\"clip882\">\n    <rect x=\"186\" y=\"47\" width=\"1367\" height=\"1423\"/>\n  </clipPath>\n</defs>\n<polyline clip-path=\"url(#clip882)\" style=\"stroke:#000000; stroke-linecap:butt; stroke-linejoin:round; stroke-width:2; stroke-opacity:0.1; fill:none\" points=\"\n  310.634,1469.17 310.634,47.2441 \n  \"/>\n<polyline clip-path=\"url(#clip882)\" style=\"stroke:#000000; stroke-linecap:butt; stroke-linejoin:round; stroke-width:2; stroke-opacity:0.1; fill:none\" points=\"\n  559.059,1469.17 559.059,47.2441 \n  \"/>\n<polyline clip-path=\"url(#clip882)\" style=\"stroke:#000000; stroke-linecap:butt; stroke-linejoin:round; stroke-width:2; stroke-opacity:0.1; fill:none\" points=\"\n  807.483,1469.17 807.483,47.2441 \n  \"/>\n<polyline clip-path=\"url(#clip882)\" style=\"stroke:#000000; stroke-linecap:butt; stroke-linejoin:round; stroke-width:2; stroke-opacity:0.1; fill:none\" points=\"\n  1055.91,1469.17 1055.91,47.2441 \n  \"/>\n<polyline clip-path=\"url(#clip882)\" style=\"stroke:#000000; stroke-linecap:butt; stroke-linejoin:round; stroke-width:2; stroke-opacity:0.1; fill:none\" points=\"\n  1304.33,1469.17 1304.33,47.2441 \n  \"/>\n<polyline clip-path=\"url(#clip880)\" style=\"stroke:#000000; stroke-linecap:butt; stroke-linejoin:round; stroke-width:4; stroke-opacity:1; fill:none\" points=\"\n  186.422,1469.17 1552.76,1469.17 \n  \"/>\n<polyline clip-path=\"url(#clip880)\" style=\"stroke:#000000; stroke-linecap:butt; stroke-linejoin:round; stroke-width:4; stroke-opacity:1; fill:none\" points=\"\n  310.634,1469.17 310.634,1452.1 \n  \"/>\n<polyline clip-path=\"url(#clip880)\" style=\"stroke:#000000; stroke-linecap:butt; stroke-linejoin:round; stroke-width:4; stroke-opacity:1; fill:none\" points=\"\n  559.059,1469.17 559.059,1452.1 \n  \"/>\n<polyline clip-path=\"url(#clip880)\" style=\"stroke:#000000; stroke-linecap:butt; stroke-linejoin:round; stroke-width:4; stroke-opacity:1; fill:none\" points=\"\n  807.483,1469.17 807.483,1452.1 \n  \"/>\n<polyline clip-path=\"url(#clip880)\" style=\"stroke:#000000; stroke-linecap:butt; stroke-linejoin:round; stroke-width:4; stroke-opacity:1; fill:none\" points=\"\n  1055.91,1469.17 1055.91,1452.1 \n  \"/>\n<polyline clip-path=\"url(#clip880)\" style=\"stroke:#000000; stroke-linecap:butt; stroke-linejoin:round; stroke-width:4; stroke-opacity:1; fill:none\" points=\"\n  1304.33,1469.17 1304.33,1452.1 \n  \"/>\n<path clip-path=\"url(#clip880)\" d=\"M256.919 1506.61 L286.595 1506.61 L286.595 1510.55 L256.919 1510.55 L256.919 1506.61 Z\" fill=\"#000000\" fill-rule=\"evenodd\" fill-opacity=\"1\" /><path clip-path=\"url(#clip880)\" d=\"M306.688 1491.96 Q303.076 1491.96 301.248 1495.52 Q299.442 1499.07 299.442 1506.19 Q299.442 1513.3 301.248 1516.87 Q303.076 1520.41 306.688 1520.41 Q310.322 1520.41 312.127 1516.87 Q313.956 1513.3 313.956 1506.19 Q313.956 1499.07 312.127 1495.52 Q310.322 1491.96 306.688 1491.96 M306.688 1488.25 Q312.498 1488.25 315.553 1492.86 Q318.632 1497.44 318.632 1506.19 Q318.632 1514.92 315.553 1519.53 Q312.498 1524.11 306.688 1524.11 Q300.877 1524.11 297.799 1519.53 Q294.743 1514.92 294.743 1506.19 Q294.743 1497.44 297.799 1492.86 Q300.877 1488.25 306.688 1488.25 Z\" fill=\"#000000\" fill-rule=\"evenodd\" fill-opacity=\"1\" /><path clip-path=\"url(#clip880)\" d=\"M326.849 1517.56 L331.734 1517.56 L331.734 1523.44 L326.849 1523.44 L326.849 1517.56 Z\" fill=\"#000000\" fill-rule=\"evenodd\" fill-opacity=\"1\" /><path clip-path=\"url(#clip880)\" d=\"M354.766 1492.95 L342.96 1511.4 L354.766 1511.4 L354.766 1492.95 M353.539 1488.88 L359.419 1488.88 L359.419 1511.4 L364.349 1511.4 L364.349 1515.29 L359.419 1515.29 L359.419 1523.44 L354.766 1523.44 L354.766 1515.29 L339.164 1515.29 L339.164 1510.78 L353.539 1488.88 Z\" fill=\"#000000\" fill-rule=\"evenodd\" fill-opacity=\"1\" /><path clip-path=\"url(#clip880)\" d=\"M506.385 1506.61 L536.061 1506.61 L536.061 1510.55 L506.385 1510.55 L506.385 1506.61 Z\" fill=\"#000000\" fill-rule=\"evenodd\" fill-opacity=\"1\" /><path clip-path=\"url(#clip880)\" d=\"M556.154 1491.96 Q552.542 1491.96 550.714 1495.52 Q548.908 1499.07 548.908 1506.19 Q548.908 1513.3 550.714 1516.87 Q552.542 1520.41 556.154 1520.41 Q559.788 1520.41 561.593 1516.87 Q563.422 1513.3 563.422 1506.19 Q563.422 1499.07 561.593 1495.52 Q559.788 1491.96 556.154 1491.96 M556.154 1488.25 Q561.964 1488.25 565.019 1492.86 Q568.098 1497.44 568.098 1506.19 Q568.098 1514.92 565.019 1519.53 Q561.964 1524.11 556.154 1524.11 Q550.343 1524.11 547.265 1519.53 Q544.209 1514.92 544.209 1506.19 Q544.209 1497.44 547.265 1492.86 Q550.343 1488.25 556.154 1488.25 Z\" fill=\"#000000\" fill-rule=\"evenodd\" fill-opacity=\"1\" /><path clip-path=\"url(#clip880)\" d=\"M576.315 1517.56 L581.2 1517.56 L581.2 1523.44 L576.315 1523.44 L576.315 1517.56 Z\" fill=\"#000000\" fill-rule=\"evenodd\" fill-opacity=\"1\" /><path clip-path=\"url(#clip880)\" d=\"M595.413 1519.5 L611.732 1519.5 L611.732 1523.44 L589.788 1523.44 L589.788 1519.5 Q592.45 1516.75 597.033 1512.12 Q601.639 1507.47 602.82 1506.13 Q605.065 1503.6 605.945 1501.87 Q606.848 1500.11 606.848 1498.42 Q606.848 1495.66 604.903 1493.93 Q602.982 1492.19 599.88 1492.19 Q597.681 1492.19 595.227 1492.95 Q592.797 1493.72 590.019 1495.27 L590.019 1490.55 Q592.843 1489.41 595.297 1488.83 Q597.751 1488.25 599.788 1488.25 Q605.158 1488.25 608.352 1490.94 Q611.547 1493.63 611.547 1498.12 Q611.547 1500.25 610.737 1502.17 Q609.95 1504.06 607.843 1506.66 Q607.264 1507.33 604.163 1510.55 Q601.061 1513.74 595.413 1519.5 Z\" fill=\"#000000\" fill-rule=\"evenodd\" fill-opacity=\"1\" /><path clip-path=\"url(#clip880)\" d=\"M784.867 1491.96 Q781.256 1491.96 779.428 1495.52 Q777.622 1499.07 777.622 1506.19 Q777.622 1513.3 779.428 1516.87 Q781.256 1520.41 784.867 1520.41 Q788.502 1520.41 790.307 1516.87 Q792.136 1513.3 792.136 1506.19 Q792.136 1499.07 790.307 1495.52 Q788.502 1491.96 784.867 1491.96 M784.867 1488.25 Q790.677 1488.25 793.733 1492.86 Q796.812 1497.44 796.812 1506.19 Q796.812 1514.92 793.733 1519.53 Q790.677 1524.11 784.867 1524.11 Q779.057 1524.11 775.978 1519.53 Q772.923 1514.92 772.923 1506.19 Q772.923 1497.44 775.978 1492.86 Q779.057 1488.25 784.867 1488.25 Z\" fill=\"#000000\" fill-rule=\"evenodd\" fill-opacity=\"1\" /><path clip-path=\"url(#clip880)\" d=\"M805.029 1517.56 L809.913 1517.56 L809.913 1523.44 L805.029 1523.44 L805.029 1517.56 Z\" fill=\"#000000\" fill-rule=\"evenodd\" fill-opacity=\"1\" /><path clip-path=\"url(#clip880)\" d=\"M830.099 1491.96 Q826.487 1491.96 824.659 1495.52 Q822.853 1499.07 822.853 1506.19 Q822.853 1513.3 824.659 1516.87 Q826.487 1520.41 830.099 1520.41 Q833.733 1520.41 835.538 1516.87 Q837.367 1513.3 837.367 1506.19 Q837.367 1499.07 835.538 1495.52 Q833.733 1491.96 830.099 1491.96 M830.099 1488.25 Q835.909 1488.25 838.964 1492.86 Q842.043 1497.44 842.043 1506.19 Q842.043 1514.92 838.964 1519.53 Q835.909 1524.11 830.099 1524.11 Q824.288 1524.11 821.21 1519.53 Q818.154 1514.92 818.154 1506.19 Q818.154 1497.44 821.21 1492.86 Q824.288 1488.25 830.099 1488.25 Z\" fill=\"#000000\" fill-rule=\"evenodd\" fill-opacity=\"1\" /><path clip-path=\"url(#clip880)\" d=\"M1034.09 1491.96 Q1030.48 1491.96 1028.65 1495.52 Q1026.84 1499.07 1026.84 1506.19 Q1026.84 1513.3 1028.65 1516.87 Q1030.48 1520.41 1034.09 1520.41 Q1037.72 1520.41 1039.53 1516.87 Q1041.36 1513.3 1041.36 1506.19 Q1041.36 1499.07 1039.53 1495.52 Q1037.72 1491.96 1034.09 1491.96 M1034.09 1488.25 Q1039.9 1488.25 1042.96 1492.86 Q1046.03 1497.44 1046.03 1506.19 Q1046.03 1514.92 1042.96 1519.53 Q1039.9 1524.11 1034.09 1524.11 Q1028.28 1524.11 1025.2 1519.53 Q1022.15 1514.92 1022.15 1506.19 Q1022.15 1497.44 1025.2 1492.86 Q1028.28 1488.25 1034.09 1488.25 Z\" fill=\"#000000\" fill-rule=\"evenodd\" fill-opacity=\"1\" /><path clip-path=\"url(#clip880)\" d=\"M1054.25 1517.56 L1059.14 1517.56 L1059.14 1523.44 L1054.25 1523.44 L1054.25 1517.56 Z\" fill=\"#000000\" fill-rule=\"evenodd\" fill-opacity=\"1\" /><path clip-path=\"url(#clip880)\" d=\"M1073.35 1519.5 L1089.67 1519.5 L1089.67 1523.44 L1067.72 1523.44 L1067.72 1519.5 Q1070.39 1516.75 1074.97 1512.12 Q1079.58 1507.47 1080.76 1506.13 Q1083 1503.6 1083.88 1501.87 Q1084.78 1500.11 1084.78 1498.42 Q1084.78 1495.66 1082.84 1493.93 Q1080.92 1492.19 1077.82 1492.19 Q1075.62 1492.19 1073.16 1492.95 Q1070.73 1493.72 1067.96 1495.27 L1067.96 1490.55 Q1070.78 1489.41 1073.23 1488.83 Q1075.69 1488.25 1077.72 1488.25 Q1083.09 1488.25 1086.29 1490.94 Q1089.48 1493.63 1089.48 1498.12 Q1089.48 1500.25 1088.67 1502.17 Q1087.89 1504.06 1085.78 1506.66 Q1085.2 1507.33 1082.1 1510.55 Q1079 1513.74 1073.35 1519.5 Z\" fill=\"#000000\" fill-rule=\"evenodd\" fill-opacity=\"1\" /><path clip-path=\"url(#clip880)\" d=\"M1281.47 1491.96 Q1277.86 1491.96 1276.03 1495.52 Q1274.23 1499.07 1274.23 1506.19 Q1274.23 1513.3 1276.03 1516.87 Q1277.86 1520.41 1281.47 1520.41 Q1285.11 1520.41 1286.91 1516.87 Q1288.74 1513.3 1288.74 1506.19 Q1288.74 1499.07 1286.91 1495.52 Q1285.11 1491.96 1281.47 1491.96 M1281.47 1488.25 Q1287.28 1488.25 1290.34 1492.86 Q1293.42 1497.44 1293.42 1506.19 Q1293.42 1514.92 1290.34 1519.53 Q1287.28 1524.11 1281.47 1524.11 Q1275.66 1524.11 1272.58 1519.53 Q1269.53 1514.92 1269.53 1506.19 Q1269.53 1497.44 1272.58 1492.86 Q1275.66 1488.25 1281.47 1488.25 Z\" fill=\"#000000\" fill-rule=\"evenodd\" fill-opacity=\"1\" /><path clip-path=\"url(#clip880)\" d=\"M1301.63 1517.56 L1306.52 1517.56 L1306.52 1523.44 L1301.63 1523.44 L1301.63 1517.56 Z\" fill=\"#000000\" fill-rule=\"evenodd\" fill-opacity=\"1\" /><path clip-path=\"url(#clip880)\" d=\"M1329.55 1492.95 L1317.75 1511.4 L1329.55 1511.4 L1329.55 1492.95 M1328.32 1488.88 L1334.2 1488.88 L1334.2 1511.4 L1339.13 1511.4 L1339.13 1515.29 L1334.2 1515.29 L1334.2 1523.44 L1329.55 1523.44 L1329.55 1515.29 L1313.95 1515.29 L1313.95 1510.78 L1328.32 1488.88 Z\" fill=\"#000000\" fill-rule=\"evenodd\" fill-opacity=\"1\" /><polyline clip-path=\"url(#clip882)\" style=\"stroke:#000000; stroke-linecap:butt; stroke-linejoin:round; stroke-width:2; stroke-opacity:0.1; fill:none\" points=\"\n  186.422,1339.9 1552.76,1339.9 \n  \"/>\n<polyline clip-path=\"url(#clip882)\" style=\"stroke:#000000; stroke-linecap:butt; stroke-linejoin:round; stroke-width:2; stroke-opacity:0.1; fill:none\" points=\"\n  186.422,1081.37 1552.76,1081.37 \n  \"/>\n<polyline clip-path=\"url(#clip882)\" style=\"stroke:#000000; stroke-linecap:butt; stroke-linejoin:round; stroke-width:2; stroke-opacity:0.1; fill:none\" points=\"\n  186.422,822.839 1552.76,822.839 \n  \"/>\n<polyline clip-path=\"url(#clip882)\" style=\"stroke:#000000; stroke-linecap:butt; stroke-linejoin:round; stroke-width:2; stroke-opacity:0.1; fill:none\" points=\"\n  186.422,564.307 1552.76,564.307 \n  \"/>\n<polyline clip-path=\"url(#clip882)\" style=\"stroke:#000000; stroke-linecap:butt; stroke-linejoin:round; stroke-width:2; stroke-opacity:0.1; fill:none\" points=\"\n  186.422,305.776 1552.76,305.776 \n  \"/>\n<polyline clip-path=\"url(#clip880)\" style=\"stroke:#000000; stroke-linecap:butt; stroke-linejoin:round; stroke-width:4; stroke-opacity:1; fill:none\" points=\"\n  186.422,1469.17 186.422,47.2441 \n  \"/>\n<polyline clip-path=\"url(#clip880)\" style=\"stroke:#000000; stroke-linecap:butt; stroke-linejoin:round; stroke-width:4; stroke-opacity:1; fill:none\" points=\"\n  186.422,1339.9 202.818,1339.9 \n  \"/>\n<polyline clip-path=\"url(#clip880)\" style=\"stroke:#000000; stroke-linecap:butt; stroke-linejoin:round; stroke-width:4; stroke-opacity:1; fill:none\" points=\"\n  186.422,1081.37 202.818,1081.37 \n  \"/>\n<polyline clip-path=\"url(#clip880)\" style=\"stroke:#000000; stroke-linecap:butt; stroke-linejoin:round; stroke-width:4; stroke-opacity:1; fill:none\" points=\"\n  186.422,822.839 202.818,822.839 \n  \"/>\n<polyline clip-path=\"url(#clip880)\" style=\"stroke:#000000; stroke-linecap:butt; stroke-linejoin:round; stroke-width:4; stroke-opacity:1; fill:none\" points=\"\n  186.422,564.307 202.818,564.307 \n  \"/>\n<polyline clip-path=\"url(#clip880)\" style=\"stroke:#000000; stroke-linecap:butt; stroke-linejoin:round; stroke-width:4; stroke-opacity:1; fill:none\" points=\"\n  186.422,305.776 202.818,305.776 \n  \"/>\n<path clip-path=\"url(#clip880)\" d=\"M54.9921 1340.35 L84.6679 1340.35 L84.6679 1344.29 L54.9921 1344.29 L54.9921 1340.35 Z\" fill=\"#000000\" fill-rule=\"evenodd\" fill-opacity=\"1\" /><path clip-path=\"url(#clip880)\" d=\"M104.76 1325.7 Q101.149 1325.7 99.3206 1329.27 Q97.515 1332.81 97.515 1339.94 Q97.515 1347.04 99.3206 1350.61 Q101.149 1354.15 104.76 1354.15 Q108.395 1354.15 110.2 1350.61 Q112.029 1347.04 112.029 1339.94 Q112.029 1332.81 110.2 1329.27 Q108.395 1325.7 104.76 1325.7 M104.76 1322 Q110.571 1322 113.626 1326.6 Q116.705 1331.19 116.705 1339.94 Q116.705 1348.66 113.626 1353.27 Q110.571 1357.85 104.76 1357.85 Q98.9502 1357.85 95.8715 1353.27 Q92.816 1348.66 92.816 1339.94 Q92.816 1331.19 95.8715 1326.6 Q98.9502 1322 104.76 1322 Z\" fill=\"#000000\" fill-rule=\"evenodd\" fill-opacity=\"1\" /><path clip-path=\"url(#clip880)\" d=\"M124.922 1351.3 L129.807 1351.3 L129.807 1357.18 L124.922 1357.18 L124.922 1351.3 Z\" fill=\"#000000\" fill-rule=\"evenodd\" fill-opacity=\"1\" /><path clip-path=\"url(#clip880)\" d=\"M152.839 1326.7 L141.033 1345.15 L152.839 1345.15 L152.839 1326.7 M151.612 1322.62 L157.492 1322.62 L157.492 1345.15 L162.422 1345.15 L162.422 1349.03 L157.492 1349.03 L157.492 1357.18 L152.839 1357.18 L152.839 1349.03 L137.237 1349.03 L137.237 1344.52 L151.612 1322.62 Z\" fill=\"#000000\" fill-rule=\"evenodd\" fill-opacity=\"1\" /><path clip-path=\"url(#clip880)\" d=\"M57.0754 1081.82 L86.7512 1081.82 L86.7512 1085.76 L57.0754 1085.76 L57.0754 1081.82 Z\" fill=\"#000000\" fill-rule=\"evenodd\" fill-opacity=\"1\" /><path clip-path=\"url(#clip880)\" d=\"M106.844 1067.17 Q103.233 1067.17 101.404 1070.73 Q99.5984 1074.28 99.5984 1081.41 Q99.5984 1088.51 101.404 1092.08 Q103.233 1095.62 106.844 1095.62 Q110.478 1095.62 112.283 1092.08 Q114.112 1088.51 114.112 1081.41 Q114.112 1074.28 112.283 1070.73 Q110.478 1067.17 106.844 1067.17 M106.844 1063.47 Q112.654 1063.47 115.709 1068.07 Q118.788 1072.66 118.788 1081.41 Q118.788 1090.13 115.709 1094.74 Q112.654 1099.32 106.844 1099.32 Q101.034 1099.32 97.9549 1094.74 Q94.8993 1090.13 94.8993 1081.41 Q94.8993 1072.66 97.9549 1068.07 Q101.034 1063.47 106.844 1063.47 Z\" fill=\"#000000\" fill-rule=\"evenodd\" fill-opacity=\"1\" /><path clip-path=\"url(#clip880)\" d=\"M127.006 1092.77 L131.89 1092.77 L131.89 1098.65 L127.006 1098.65 L127.006 1092.77 Z\" fill=\"#000000\" fill-rule=\"evenodd\" fill-opacity=\"1\" /><path clip-path=\"url(#clip880)\" d=\"M146.103 1094.72 L162.422 1094.72 L162.422 1098.65 L140.478 1098.65 L140.478 1094.72 Q143.14 1091.96 147.723 1087.33 Q152.33 1082.68 153.51 1081.34 Q155.755 1078.81 156.635 1077.08 Q157.538 1075.32 157.538 1073.63 Q157.538 1070.87 155.593 1069.14 Q153.672 1067.4 150.57 1067.4 Q148.371 1067.4 145.918 1068.16 Q143.487 1068.93 140.709 1070.48 L140.709 1065.76 Q143.533 1064.62 145.987 1064.04 Q148.441 1063.47 150.478 1063.47 Q155.848 1063.47 159.042 1066.15 Q162.237 1068.84 162.237 1073.33 Q162.237 1075.46 161.427 1077.38 Q160.64 1079.28 158.533 1081.87 Q157.955 1082.54 154.853 1085.76 Q151.751 1088.95 146.103 1094.72 Z\" fill=\"#000000\" fill-rule=\"evenodd\" fill-opacity=\"1\" /><path clip-path=\"url(#clip880)\" d=\"M105.246 808.638 Q101.635 808.638 99.8067 812.202 Q98.0012 815.744 98.0012 822.874 Q98.0012 829.98 99.8067 833.545 Q101.635 837.086 105.246 837.086 Q108.881 837.086 110.686 833.545 Q112.515 829.98 112.515 822.874 Q112.515 815.744 110.686 812.202 Q108.881 808.638 105.246 808.638 M105.246 804.934 Q111.057 804.934 114.112 809.54 Q117.191 814.124 117.191 822.874 Q117.191 831.6 114.112 836.207 Q111.057 840.79 105.246 840.79 Q99.4363 840.79 96.3576 836.207 Q93.3021 831.6 93.3021 822.874 Q93.3021 814.124 96.3576 809.54 Q99.4363 804.934 105.246 804.934 Z\" fill=\"#000000\" fill-rule=\"evenodd\" fill-opacity=\"1\" /><path clip-path=\"url(#clip880)\" d=\"M125.408 834.239 L130.293 834.239 L130.293 840.119 L125.408 840.119 L125.408 834.239 Z\" fill=\"#000000\" fill-rule=\"evenodd\" fill-opacity=\"1\" /><path clip-path=\"url(#clip880)\" d=\"M150.478 808.638 Q146.867 808.638 145.038 812.202 Q143.232 815.744 143.232 822.874 Q143.232 829.98 145.038 833.545 Q146.867 837.086 150.478 837.086 Q154.112 837.086 155.918 833.545 Q157.746 829.98 157.746 822.874 Q157.746 815.744 155.918 812.202 Q154.112 808.638 150.478 808.638 M150.478 804.934 Q156.288 804.934 159.343 809.54 Q162.422 814.124 162.422 822.874 Q162.422 831.6 159.343 836.207 Q156.288 840.79 150.478 840.79 Q144.668 840.79 141.589 836.207 Q138.533 831.6 138.533 822.874 Q138.533 814.124 141.589 809.54 Q144.668 804.934 150.478 804.934 Z\" fill=\"#000000\" fill-rule=\"evenodd\" fill-opacity=\"1\" /><path clip-path=\"url(#clip880)\" d=\"M106.844 550.106 Q103.233 550.106 101.404 553.671 Q99.5984 557.212 99.5984 564.342 Q99.5984 571.448 101.404 575.013 Q103.233 578.555 106.844 578.555 Q110.478 578.555 112.283 575.013 Q114.112 571.448 114.112 564.342 Q114.112 557.212 112.283 553.671 Q110.478 550.106 106.844 550.106 M106.844 546.402 Q112.654 546.402 115.709 551.009 Q118.788 555.592 118.788 564.342 Q118.788 573.069 115.709 577.675 Q112.654 582.259 106.844 582.259 Q101.034 582.259 97.9549 577.675 Q94.8993 573.069 94.8993 564.342 Q94.8993 555.592 97.9549 551.009 Q101.034 546.402 106.844 546.402 Z\" fill=\"#000000\" fill-rule=\"evenodd\" fill-opacity=\"1\" /><path clip-path=\"url(#clip880)\" d=\"M127.006 575.708 L131.89 575.708 L131.89 581.587 L127.006 581.587 L127.006 575.708 Z\" fill=\"#000000\" fill-rule=\"evenodd\" fill-opacity=\"1\" /><path clip-path=\"url(#clip880)\" d=\"M146.103 577.652 L162.422 577.652 L162.422 581.587 L140.478 581.587 L140.478 577.652 Q143.14 574.898 147.723 570.268 Q152.33 565.615 153.51 564.273 Q155.755 561.749 156.635 560.013 Q157.538 558.254 157.538 556.564 Q157.538 553.81 155.593 552.074 Q153.672 550.337 150.57 550.337 Q148.371 550.337 145.918 551.101 Q143.487 551.865 140.709 553.416 L140.709 548.694 Q143.533 547.56 145.987 546.981 Q148.441 546.402 150.478 546.402 Q155.848 546.402 159.042 549.087 Q162.237 551.773 162.237 556.263 Q162.237 558.393 161.427 560.314 Q160.64 562.212 158.533 564.805 Q157.955 565.476 154.853 568.694 Q151.751 571.888 146.103 577.652 Z\" fill=\"#000000\" fill-rule=\"evenodd\" fill-opacity=\"1\" /><path clip-path=\"url(#clip880)\" d=\"M104.76 291.574 Q101.149 291.574 99.3206 295.139 Q97.515 298.681 97.515 305.81 Q97.515 312.917 99.3206 316.482 Q101.149 320.023 104.76 320.023 Q108.395 320.023 110.2 316.482 Q112.029 312.917 112.029 305.81 Q112.029 298.681 110.2 295.139 Q108.395 291.574 104.76 291.574 M104.76 287.871 Q110.571 287.871 113.626 292.477 Q116.705 297.06 116.705 305.81 Q116.705 314.537 113.626 319.144 Q110.571 323.727 104.76 323.727 Q98.9502 323.727 95.8715 319.144 Q92.816 314.537 92.816 305.81 Q92.816 297.06 95.8715 292.477 Q98.9502 287.871 104.76 287.871 Z\" fill=\"#000000\" fill-rule=\"evenodd\" fill-opacity=\"1\" /><path clip-path=\"url(#clip880)\" d=\"M124.922 317.176 L129.807 317.176 L129.807 323.056 L124.922 323.056 L124.922 317.176 Z\" fill=\"#000000\" fill-rule=\"evenodd\" fill-opacity=\"1\" /><path clip-path=\"url(#clip880)\" d=\"M152.839 292.57 L141.033 311.019 L152.839 311.019 L152.839 292.57 M151.612 288.496 L157.492 288.496 L157.492 311.019 L162.422 311.019 L162.422 314.908 L157.492 314.908 L157.492 323.056 L152.839 323.056 L152.839 314.908 L137.237 314.908 L137.237 310.394 L151.612 288.496 Z\" fill=\"#000000\" fill-rule=\"evenodd\" fill-opacity=\"1\" /><polyline clip-path=\"url(#clip882)\" style=\"stroke:#009af9; stroke-linecap:butt; stroke-linejoin:round; stroke-width:4; stroke-opacity:1; fill:none\" points=\"\n  559.059,822.839 1055.91,822.839 \n  \"/>\n<polyline clip-path=\"url(#clip882)\" style=\"stroke:#e26f46; stroke-linecap:butt; stroke-linejoin:round; stroke-width:4; stroke-opacity:1; fill:none\" points=\"\n  559.059,573.178 807.483,822.839 1055.91,1275.32 \n  \"/>\n<polyline clip-path=\"url(#clip882)\" style=\"stroke:#e26f46; stroke-linecap:butt; stroke-linejoin:round; stroke-width:4; stroke-opacity:1; fill:none\" points=\"\n  1054.88,1248.51 1055.91,1275.32 1033.84,1260.06 \n  \"/>\n<polyline clip-path=\"url(#clip882)\" style=\"stroke:#e26f46; stroke-linecap:butt; stroke-linejoin:round; stroke-width:4; stroke-opacity:1; fill:none\" points=\"\n  1055.91,1275.32 807.483,822.839 \n  \"/>\n<polyline clip-path=\"url(#clip882)\" style=\"stroke:#3da44d; stroke-linecap:butt; stroke-linejoin:round; stroke-width:4; stroke-opacity:1; fill:none\" points=\"\n  807.483,1081.37 807.483,564.307 \n  \"/>\n<path clip-path=\"url(#clip880)\" d=\"M355.023 748.022 L334.364 780.308 L355.023 780.308 L355.023 748.022 M352.876 740.893 L363.166 740.893 L363.166 780.308 L371.794 780.308 L371.794 787.113 L363.166 787.113 L363.166 801.373 L355.023 801.373 L355.023 787.113 L327.72 787.113 L327.72 779.214 L352.876 740.893 Z\" fill=\"#000000\" fill-rule=\"evenodd\" fill-opacity=\"1\" /><path clip-path=\"url(#clip880)\" d=\"M407.807 748.022 L387.147 780.308 L407.807 780.308 L407.807 748.022 M405.66 740.893 L415.949 740.893 L415.949 780.308 L424.577 780.308 L424.577 787.113 L415.949 787.113 L415.949 801.373 L407.807 801.373 L407.807 787.113 L380.504 787.113 L380.504 779.214 L405.66 740.893 Z\" fill=\"#000000\" fill-rule=\"evenodd\" fill-opacity=\"1\" /><path clip-path=\"url(#clip880)\" d=\"M438.107 791.083 L446.655 791.083 L446.655 801.373 L438.107 801.373 L438.107 791.083 Z\" fill=\"#000000\" fill-rule=\"evenodd\" fill-opacity=\"1\" /><path clip-path=\"url(#clip880)\" d=\"M481.979 746.28 Q475.659 746.28 472.459 752.519 Q469.299 758.717 469.299 771.193 Q469.299 783.63 472.459 789.868 Q475.659 796.066 481.979 796.066 Q488.339 796.066 491.498 789.868 Q494.699 783.63 494.699 771.193 Q494.699 758.717 491.498 752.519 Q488.339 746.28 481.979 746.28 M481.979 739.799 Q492.146 739.799 497.494 747.86 Q502.881 755.881 502.881 771.193 Q502.881 786.465 497.494 794.527 Q492.146 802.547 481.979 802.547 Q471.811 802.547 466.423 794.527 Q461.076 786.465 461.076 771.193 Q461.076 755.881 466.423 747.86 Q471.811 739.799 481.979 739.799 Z\" fill=\"#000000\" fill-rule=\"evenodd\" fill-opacity=\"1\" /><path clip-path=\"url(#clip880)\" d=\"M529.131 745.024 Q525.891 745.024 523.663 747.293 Q521.435 749.521 521.435 752.762 Q521.435 755.962 523.663 758.19 Q525.891 760.377 529.131 760.377 Q532.372 760.377 534.6 758.19 Q536.828 755.962 536.828 752.762 Q536.828 749.561 534.559 747.293 Q532.331 745.024 529.131 745.024 M529.131 739.799 Q531.724 739.799 534.114 740.812 Q536.504 741.784 538.246 743.647 Q540.109 745.47 541.041 747.779 Q541.973 750.088 541.973 752.762 Q541.973 758.109 538.205 761.836 Q534.478 765.522 529.05 765.522 Q523.581 765.522 519.936 761.876 Q516.29 758.23 516.29 752.762 Q516.29 747.334 520.017 743.566 Q523.744 739.799 529.131 739.799 Z\" fill=\"#000000\" fill-rule=\"evenodd\" fill-opacity=\"1\" /><path clip-path=\"url(#clip880)\" d=\"\nM1155.81 336.562 L1507.21 336.562 L1507.21 94.6416 L1155.81 94.6416  Z\n  \" fill=\"#ffffff\" fill-rule=\"evenodd\" fill-opacity=\"1\"/>\n<polyline clip-path=\"url(#clip880)\" style=\"stroke:#000000; stroke-linecap:butt; stroke-linejoin:round; stroke-width:4; stroke-opacity:1; fill:none\" points=\"\n  1155.81,336.562 1507.21,336.562 1507.21,94.6416 1155.81,94.6416 1155.81,336.562 \n  \"/>\n<polyline clip-path=\"url(#clip880)\" style=\"stroke:#009af9; stroke-linecap:butt; stroke-linejoin:round; stroke-width:4; stroke-opacity:1; fill:none\" points=\"\n  1171,155.122 1262.08,155.122 \n  \"/>\n<path clip-path=\"url(#clip880)\" d=\"M1281.55 168.513 L1281.55 182.263 L1277.27 182.263 L1277.27 146.476 L1281.55 146.476 L1281.55 150.411 Q1282.89 148.096 1284.93 146.985 Q1286.99 145.851 1289.84 145.851 Q1294.56 145.851 1297.5 149.601 Q1300.46 153.351 1300.46 159.462 Q1300.46 165.573 1297.5 169.323 Q1294.56 173.073 1289.84 173.073 Q1286.99 173.073 1284.93 171.962 Q1282.89 170.827 1281.55 168.513 M1296.04 159.462 Q1296.04 154.763 1294.09 152.101 Q1292.17 149.416 1288.79 149.416 Q1285.41 149.416 1283.47 152.101 Q1281.55 154.763 1281.55 159.462 Q1281.55 164.161 1283.47 166.846 Q1285.41 169.508 1288.79 169.508 Q1292.17 169.508 1294.09 166.846 Q1296.04 164.161 1296.04 159.462 Z\" fill=\"#000000\" fill-rule=\"evenodd\" fill-opacity=\"1\" /><path clip-path=\"url(#clip880)\" d=\"M1307.52 146.476 L1311.78 146.476 L1311.78 172.402 L1307.52 172.402 L1307.52 146.476 M1307.52 136.383 L1311.78 136.383 L1311.78 141.777 L1307.52 141.777 L1307.52 136.383 Z\" fill=\"#000000\" fill-rule=\"evenodd\" fill-opacity=\"1\" /><path clip-path=\"url(#clip880)\" d=\"M1342.24 156.753 L1342.24 172.402 L1337.98 172.402 L1337.98 156.892 Q1337.98 153.212 1336.55 151.383 Q1335.11 149.554 1332.24 149.554 Q1328.79 149.554 1326.8 151.754 Q1324.81 153.953 1324.81 157.749 L1324.81 172.402 L1320.53 172.402 L1320.53 146.476 L1324.81 146.476 L1324.81 150.504 Q1326.34 148.166 1328.4 147.008 Q1330.48 145.851 1333.19 145.851 Q1337.66 145.851 1339.95 148.629 Q1342.24 151.383 1342.24 156.753 Z\" fill=\"#000000\" fill-rule=\"evenodd\" fill-opacity=\"1\" /><path clip-path=\"url(#clip880)\" d=\"M1354.95 139.115 L1354.95 146.476 L1363.72 146.476 L1363.72 149.786 L1354.95 149.786 L1354.95 163.86 Q1354.95 167.031 1355.81 167.934 Q1356.69 168.837 1359.35 168.837 L1363.72 168.837 L1363.72 172.402 L1359.35 172.402 Q1354.42 172.402 1352.54 170.573 Q1350.67 168.721 1350.67 163.86 L1350.67 149.786 L1347.54 149.786 L1347.54 146.476 L1350.67 146.476 L1350.67 139.115 L1354.95 139.115 Z\" fill=\"#000000\" fill-rule=\"evenodd\" fill-opacity=\"1\" /><path clip-path=\"url(#clip880)\" d=\"M1381.11 159.369 Q1375.95 159.369 1373.96 160.55 Q1371.96 161.73 1371.96 164.578 Q1371.96 166.846 1373.45 168.189 Q1374.95 169.508 1377.52 169.508 Q1381.06 169.508 1383.19 167.008 Q1385.34 164.485 1385.34 160.318 L1385.34 159.369 L1381.11 159.369 M1389.6 157.61 L1389.6 172.402 L1385.34 172.402 L1385.34 168.466 Q1383.89 170.827 1381.71 171.962 Q1379.53 173.073 1376.39 173.073 Q1372.4 173.073 1370.04 170.851 Q1367.71 168.605 1367.71 164.855 Q1367.71 160.48 1370.62 158.258 Q1373.56 156.036 1379.37 156.036 L1385.34 156.036 L1385.34 155.619 Q1385.34 152.679 1383.4 151.082 Q1381.48 149.462 1377.98 149.462 Q1375.76 149.462 1373.65 149.994 Q1371.55 150.527 1369.6 151.591 L1369.6 147.656 Q1371.94 146.754 1374.14 146.314 Q1376.34 145.851 1378.42 145.851 Q1384.05 145.851 1386.83 148.767 Q1389.6 151.684 1389.6 157.61 Z\" fill=\"#000000\" fill-rule=\"evenodd\" fill-opacity=\"1\" /><polyline clip-path=\"url(#clip880)\" style=\"stroke:#e26f46; stroke-linecap:butt; stroke-linejoin:round; stroke-width:4; stroke-opacity:1; fill:none\" points=\"\n  1171,215.602 1262.08,215.602 \n  \"/>\n<path clip-path=\"url(#clip880)\" d=\"M1277.27 206.956 L1281.78 206.956 L1289.88 228.715 L1297.98 206.956 L1302.5 206.956 L1292.78 232.882 L1286.99 232.882 L1277.27 206.956 Z\" fill=\"#000000\" fill-rule=\"evenodd\" fill-opacity=\"1\" /><path clip-path=\"url(#clip880)\" d=\"M1320.16 219.849 Q1315 219.849 1313.01 221.03 Q1311.02 222.21 1311.02 225.058 Q1311.02 227.326 1312.5 228.669 Q1314 229.988 1316.57 229.988 Q1320.11 229.988 1322.24 227.488 Q1324.4 224.965 1324.4 220.798 L1324.4 219.849 L1320.16 219.849 M1328.65 218.09 L1328.65 232.882 L1324.4 232.882 L1324.4 228.946 Q1322.94 231.307 1320.76 232.442 Q1318.59 233.553 1315.44 233.553 Q1311.46 233.553 1309.09 231.331 Q1306.76 229.085 1306.76 225.335 Q1306.76 220.96 1309.67 218.738 Q1312.61 216.516 1318.42 216.516 L1324.4 216.516 L1324.4 216.099 Q1324.4 213.159 1322.45 211.562 Q1320.53 209.942 1317.03 209.942 Q1314.81 209.942 1312.71 210.474 Q1310.6 211.007 1308.65 212.071 L1308.65 208.136 Q1310.99 207.234 1313.19 206.794 Q1315.39 206.331 1317.47 206.331 Q1323.1 206.331 1325.88 209.247 Q1328.65 212.164 1328.65 218.09 Z\" fill=\"#000000\" fill-rule=\"evenodd\" fill-opacity=\"1\" /><path clip-path=\"url(#clip880)\" d=\"M1337.43 196.863 L1341.69 196.863 L1341.69 232.882 L1337.43 232.882 L1337.43 196.863 Z\" fill=\"#000000\" fill-rule=\"evenodd\" fill-opacity=\"1\" /><path clip-path=\"url(#clip880)\" d=\"M1360.65 209.942 Q1357.22 209.942 1355.23 212.627 Q1353.24 215.289 1353.24 219.942 Q1353.24 224.595 1355.21 227.28 Q1357.2 229.942 1360.65 229.942 Q1364.05 229.942 1366.04 227.257 Q1368.03 224.571 1368.03 219.942 Q1368.03 215.335 1366.04 212.65 Q1364.05 209.942 1360.65 209.942 M1360.65 206.331 Q1366.2 206.331 1369.37 209.942 Q1372.54 213.553 1372.54 219.942 Q1372.54 226.308 1369.37 229.942 Q1366.2 233.553 1360.65 233.553 Q1355.07 233.553 1351.9 229.942 Q1348.75 226.308 1348.75 219.942 Q1348.75 213.553 1351.9 209.942 Q1355.07 206.331 1360.65 206.331 Z\" fill=\"#000000\" fill-rule=\"evenodd\" fill-opacity=\"1\" /><polyline clip-path=\"url(#clip880)\" style=\"stroke:#3da44d; stroke-linecap:butt; stroke-linejoin:round; stroke-width:4; stroke-opacity:1; fill:none\" points=\"\n  1171,276.082 1262.08,276.082 \n  \"/>\n<path clip-path=\"url(#clip880)\" d=\"M1298.98 277.713 L1298.98 293.362 L1294.72 293.362 L1294.72 277.852 Q1294.72 274.172 1293.28 272.343 Q1291.85 270.514 1288.98 270.514 Q1285.53 270.514 1283.54 272.714 Q1281.55 274.913 1281.55 278.709 L1281.55 293.362 L1277.27 293.362 L1277.27 267.436 L1281.55 267.436 L1281.55 271.464 Q1283.08 269.126 1285.14 267.968 Q1287.22 266.811 1289.93 266.811 Q1294.4 266.811 1296.69 269.589 Q1298.98 272.343 1298.98 277.713 Z\" fill=\"#000000\" fill-rule=\"evenodd\" fill-opacity=\"1\" /><path clip-path=\"url(#clip880)\" d=\"M1317.52 270.422 Q1314.09 270.422 1312.1 273.107 Q1310.11 275.769 1310.11 280.422 Q1310.11 285.075 1312.08 287.76 Q1314.07 290.422 1317.52 290.422 Q1320.92 290.422 1322.91 287.737 Q1324.9 285.051 1324.9 280.422 Q1324.9 275.815 1322.91 273.13 Q1320.92 270.422 1317.52 270.422 M1317.52 266.811 Q1323.08 266.811 1326.25 270.422 Q1329.42 274.033 1329.42 280.422 Q1329.42 286.788 1326.25 290.422 Q1323.08 294.033 1317.52 294.033 Q1311.94 294.033 1308.77 290.422 Q1305.62 286.788 1305.62 280.422 Q1305.62 274.033 1308.77 270.422 Q1311.94 266.811 1317.52 266.811 Z\" fill=\"#000000\" fill-rule=\"evenodd\" fill-opacity=\"1\" /><path clip-path=\"url(#clip880)\" d=\"M1351.5 271.417 Q1350.78 271.001 1349.93 270.815 Q1349.09 270.607 1348.08 270.607 Q1344.46 270.607 1342.52 272.968 Q1340.6 275.306 1340.6 279.704 L1340.6 293.362 L1336.32 293.362 L1336.32 267.436 L1340.6 267.436 L1340.6 271.464 Q1341.94 269.102 1344.09 267.968 Q1346.25 266.811 1349.33 266.811 Q1349.77 266.811 1350.3 266.88 Q1350.83 266.927 1351.48 267.042 L1351.5 271.417 Z\" fill=\"#000000\" fill-rule=\"evenodd\" fill-opacity=\"1\" /><path clip-path=\"url(#clip880)\" d=\"M1375.32 272.413 Q1376.92 269.542 1379.14 268.177 Q1381.36 266.811 1384.37 266.811 Q1388.42 266.811 1390.62 269.658 Q1392.82 272.482 1392.82 277.713 L1392.82 293.362 L1388.54 293.362 L1388.54 277.852 Q1388.54 274.126 1387.22 272.32 Q1385.9 270.514 1383.19 270.514 Q1379.88 270.514 1377.96 272.714 Q1376.04 274.913 1376.04 278.709 L1376.04 293.362 L1371.76 293.362 L1371.76 277.852 Q1371.76 274.102 1370.44 272.32 Q1369.12 270.514 1366.36 270.514 Q1363.1 270.514 1361.18 272.737 Q1359.26 274.936 1359.26 278.709 L1359.26 293.362 L1354.97 293.362 L1354.97 267.436 L1359.26 267.436 L1359.26 271.464 Q1360.71 269.079 1362.75 267.945 Q1364.79 266.811 1367.59 266.811 Q1370.41 266.811 1372.38 268.246 Q1374.37 269.681 1375.32 272.413 Z\" fill=\"#000000\" fill-rule=\"evenodd\" fill-opacity=\"1\" /><path clip-path=\"url(#clip880)\" d=\"M1413.1 280.329 Q1407.94 280.329 1405.95 281.51 Q1403.96 282.69 1403.96 285.538 Q1403.96 287.806 1405.44 289.149 Q1406.94 290.468 1409.51 290.468 Q1413.05 290.468 1415.18 287.968 Q1417.33 285.445 1417.33 281.278 L1417.33 280.329 L1413.1 280.329 M1421.59 278.57 L1421.59 293.362 L1417.33 293.362 L1417.33 289.426 Q1415.88 291.787 1413.7 292.922 Q1411.52 294.033 1408.38 294.033 Q1404.4 294.033 1402.03 291.811 Q1399.7 289.565 1399.7 285.815 Q1399.7 281.44 1402.61 279.218 Q1405.55 276.996 1411.36 276.996 L1417.33 276.996 L1417.33 276.579 Q1417.33 273.639 1415.39 272.042 Q1413.47 270.422 1409.97 270.422 Q1407.75 270.422 1405.65 270.954 Q1403.54 271.487 1401.59 272.551 L1401.59 268.616 Q1403.93 267.714 1406.13 267.274 Q1408.33 266.811 1410.41 266.811 Q1416.04 266.811 1418.82 269.727 Q1421.59 272.644 1421.59 278.57 Z\" fill=\"#000000\" fill-rule=\"evenodd\" fill-opacity=\"1\" /><path clip-path=\"url(#clip880)\" d=\"M1442.15 280.329 Q1436.99 280.329 1435 281.51 Q1433.01 282.69 1433.01 285.538 Q1433.01 287.806 1434.49 289.149 Q1435.99 290.468 1438.56 290.468 Q1442.1 290.468 1444.23 287.968 Q1446.39 285.445 1446.39 281.278 L1446.39 280.329 L1442.15 280.329 M1450.64 278.57 L1450.64 293.362 L1446.39 293.362 L1446.39 289.426 Q1444.93 291.787 1442.75 292.922 Q1440.58 294.033 1437.43 294.033 Q1433.45 294.033 1431.08 291.811 Q1428.75 289.565 1428.75 285.815 Q1428.75 281.44 1431.66 279.218 Q1434.6 276.996 1440.41 276.996 L1446.39 276.996 L1446.39 276.579 Q1446.39 273.639 1444.44 272.042 Q1442.52 270.422 1439.02 270.422 Q1436.8 270.422 1434.7 270.954 Q1432.59 271.487 1430.65 272.551 L1430.65 268.616 Q1432.98 267.714 1435.18 267.274 Q1437.38 266.811 1439.46 266.811 Q1445.09 266.811 1447.87 269.727 Q1450.64 272.644 1450.64 278.57 Z\" fill=\"#000000\" fill-rule=\"evenodd\" fill-opacity=\"1\" /><path clip-path=\"url(#clip880)\" d=\"M1459.42 257.343 L1463.68 257.343 L1463.68 293.362 L1459.42 293.362 L1459.42 257.343 Z\" fill=\"#000000\" fill-rule=\"evenodd\" fill-opacity=\"1\" /><path clip-path=\"url(#clip880)\" d=\"M1472.59 267.436 L1476.85 267.436 L1476.85 293.362 L1472.59 293.362 L1472.59 267.436 M1472.59 257.343 L1476.85 257.343 L1476.85 262.737 L1472.59 262.737 L1472.59 257.343 Z\" fill=\"#000000\" fill-rule=\"evenodd\" fill-opacity=\"1\" /></svg>\n"
          },
          "metadata": {}
        }
      ],
      "execution_count": 230,
      "metadata": {
        "collapsed": false,
        "jupyter": {
          "source_hidden": false,
          "outputs_hidden": false
        },
        "nteract": {
          "transient": {
            "deleting": false
          }
        },
        "execution": {
          "iopub.status.busy": "2021-10-30T19:38:53.989Z",
          "iopub.execute_input": "2021-10-30T19:38:54.008Z",
          "iopub.status.idle": "2021-10-30T19:38:54.063Z"
        }
      }
    },
    {
      "cell_type": "code",
      "source": [
        "# size x=y ja xlim=ylim jotta mittasuhteet säilyvät\n",
        "size=400\n",
        "sizes=(size,size)\n",
        "h=0.5\n",
        "limits=(-0.3,0.2)\n",
        "p1=(-0.2,0)\n",
        "p2=(0.2,0)\n",
        "ca=[p1,p2]\n",
        "a1=(90-44)*pi/180;\n",
        "n1=1.45\n",
        "n2=1\n",
        "# kokonaisheijastumisen rajakulma\n",
        "# sin(a1)*1.45=1\n",
        "rkd=asin(1/1.45)*180/pi\n",
        "@printf(\"Rajakulma on %.1f°\\n\",rkd);\n",
        "@printf(\"Heijastumiskulma on %.1f°\\n\",a1*180/pi);\n",
        "vkk=1/tan(a1)\n",
        "vkkn=-1/vkk\n",
        "plot(ca,xlim=limits,ylim=limits,size=sizes,label=\"pinta\")\n",
        "plot!([-0.2.*(1,vkk),(0,0),0.2.*(1,vkkn)],arrow=true,label=\"valo\")\n",
        "plot!([(0,-0.2),(0,0.2)],label=\"normaali\")\n",
        "plot!([(-0.12,-0.04)],label=\"\",text=[\"44.0°\"])"
      ],
      "outputs": [
        {
          "output_type": "stream",
          "name": "stdout",
          "text": [
            "Rajakulma on 43.6°\n",
            "Heijastumiskulma on 46.0°\n"
          ]
        },
        {
          "output_type": "execute_result",
          "execution_count": 243,
          "data": {
            "image/svg+xml": "<?xml version=\"1.0\" encoding=\"utf-8\"?>\n<svg xmlns=\"http://www.w3.org/2000/svg\" xmlns:xlink=\"http://www.w3.org/1999/xlink\" width=\"400\" height=\"400\" viewBox=\"0 0 1600 1600\">\n<defs>\n  <clipPath id=\"clip280\">\n    <rect x=\"0\" y=\"0\" width=\"1600\" height=\"1600\"/>\n  </clipPath>\n</defs>\n<path clip-path=\"url(#clip280)\" d=\"\nM0 1600 L1600 1600 L1600 0 L0 0  Z\n  \" fill=\"#ffffff\" fill-rule=\"evenodd\" fill-opacity=\"1\"/>\n<defs>\n  <clipPath id=\"clip281\">\n    <rect x=\"320\" y=\"160\" width=\"1121\" height=\"1121\"/>\n  </clipPath>\n</defs>\n<path clip-path=\"url(#clip280)\" d=\"\nM184.709 1469.17 L1552.76 1469.17 L1552.76 47.2441 L184.709 47.2441  Z\n  \" fill=\"#ffffff\" fill-rule=\"evenodd\" fill-opacity=\"1\"/>\n<defs>\n  <clipPath id=\"clip282\">\n    <rect x=\"184\" y=\"47\" width=\"1369\" height=\"1423\"/>\n  </clipPath>\n</defs>\n<polyline clip-path=\"url(#clip282)\" style=\"stroke:#000000; stroke-linecap:butt; stroke-linejoin:round; stroke-width:2; stroke-opacity:0.1; fill:none\" points=\"\n  458.319,1469.17 458.319,47.2441 \n  \"/>\n<polyline clip-path=\"url(#clip282)\" style=\"stroke:#000000; stroke-linecap:butt; stroke-linejoin:round; stroke-width:2; stroke-opacity:0.1; fill:none\" points=\"\n  731.928,1469.17 731.928,47.2441 \n  \"/>\n<polyline clip-path=\"url(#clip282)\" style=\"stroke:#000000; stroke-linecap:butt; stroke-linejoin:round; stroke-width:2; stroke-opacity:0.1; fill:none\" points=\"\n  1005.54,1469.17 1005.54,47.2441 \n  \"/>\n<polyline clip-path=\"url(#clip282)\" style=\"stroke:#000000; stroke-linecap:butt; stroke-linejoin:round; stroke-width:2; stroke-opacity:0.1; fill:none\" points=\"\n  1279.15,1469.17 1279.15,47.2441 \n  \"/>\n<polyline clip-path=\"url(#clip282)\" style=\"stroke:#000000; stroke-linecap:butt; stroke-linejoin:round; stroke-width:2; stroke-opacity:0.1; fill:none\" points=\"\n  1552.76,1469.17 1552.76,47.2441 \n  \"/>\n<polyline clip-path=\"url(#clip280)\" style=\"stroke:#000000; stroke-linecap:butt; stroke-linejoin:round; stroke-width:4; stroke-opacity:1; fill:none\" points=\"\n  184.709,1469.17 1552.76,1469.17 \n  \"/>\n<polyline clip-path=\"url(#clip280)\" style=\"stroke:#000000; stroke-linecap:butt; stroke-linejoin:round; stroke-width:4; stroke-opacity:1; fill:none\" points=\"\n  458.319,1469.17 458.319,1452.1 \n  \"/>\n<polyline clip-path=\"url(#clip280)\" style=\"stroke:#000000; stroke-linecap:butt; stroke-linejoin:round; stroke-width:4; stroke-opacity:1; fill:none\" points=\"\n  731.928,1469.17 731.928,1452.1 \n  \"/>\n<polyline clip-path=\"url(#clip280)\" style=\"stroke:#000000; stroke-linecap:butt; stroke-linejoin:round; stroke-width:4; stroke-opacity:1; fill:none\" points=\"\n  1005.54,1469.17 1005.54,1452.1 \n  \"/>\n<polyline clip-path=\"url(#clip280)\" style=\"stroke:#000000; stroke-linecap:butt; stroke-linejoin:round; stroke-width:4; stroke-opacity:1; fill:none\" points=\"\n  1279.15,1469.17 1279.15,1452.1 \n  \"/>\n<polyline clip-path=\"url(#clip280)\" style=\"stroke:#000000; stroke-linecap:butt; stroke-linejoin:round; stroke-width:4; stroke-opacity:1; fill:none\" points=\"\n  1552.76,1469.17 1552.76,1452.1 \n  \"/>\n<path clip-path=\"url(#clip280)\" d=\"M405.645 1506.61 L435.321 1506.61 L435.321 1510.55 L405.645 1510.55 L405.645 1506.61 Z\" fill=\"#000000\" fill-rule=\"evenodd\" fill-opacity=\"1\" /><path clip-path=\"url(#clip280)\" d=\"M455.413 1491.96 Q451.802 1491.96 449.974 1495.52 Q448.168 1499.07 448.168 1506.19 Q448.168 1513.3 449.974 1516.87 Q451.802 1520.41 455.413 1520.41 Q459.048 1520.41 460.853 1516.87 Q462.682 1513.3 462.682 1506.19 Q462.682 1499.07 460.853 1495.52 Q459.048 1491.96 455.413 1491.96 M455.413 1488.25 Q461.224 1488.25 464.279 1492.86 Q467.358 1497.44 467.358 1506.19 Q467.358 1514.92 464.279 1519.53 Q461.224 1524.11 455.413 1524.11 Q449.603 1524.11 446.525 1519.53 Q443.469 1514.92 443.469 1506.19 Q443.469 1497.44 446.525 1492.86 Q449.603 1488.25 455.413 1488.25 Z\" fill=\"#000000\" fill-rule=\"evenodd\" fill-opacity=\"1\" /><path clip-path=\"url(#clip280)\" d=\"M475.575 1517.56 L480.46 1517.56 L480.46 1523.44 L475.575 1523.44 L475.575 1517.56 Z\" fill=\"#000000\" fill-rule=\"evenodd\" fill-opacity=\"1\" /><path clip-path=\"url(#clip280)\" d=\"M494.672 1519.5 L510.992 1519.5 L510.992 1523.44 L489.048 1523.44 L489.048 1519.5 Q491.71 1516.75 496.293 1512.12 Q500.899 1507.47 502.08 1506.13 Q504.325 1503.6 505.205 1501.87 Q506.108 1500.11 506.108 1498.42 Q506.108 1495.66 504.163 1493.93 Q502.242 1492.19 499.14 1492.19 Q496.941 1492.19 494.487 1492.95 Q492.057 1493.72 489.279 1495.27 L489.279 1490.55 Q492.103 1489.41 494.557 1488.83 Q497.01 1488.25 499.047 1488.25 Q504.418 1488.25 507.612 1490.94 Q510.807 1493.63 510.807 1498.12 Q510.807 1500.25 509.996 1502.17 Q509.209 1504.06 507.103 1506.66 Q506.524 1507.33 503.422 1510.55 Q500.321 1513.74 494.672 1519.5 Z\" fill=\"#000000\" fill-rule=\"evenodd\" fill-opacity=\"1\" /><path clip-path=\"url(#clip280)\" d=\"M679.069 1506.61 L708.745 1506.61 L708.745 1510.55 L679.069 1510.55 L679.069 1506.61 Z\" fill=\"#000000\" fill-rule=\"evenodd\" fill-opacity=\"1\" /><path clip-path=\"url(#clip280)\" d=\"M728.838 1491.96 Q725.227 1491.96 723.398 1495.52 Q721.592 1499.07 721.592 1506.19 Q721.592 1513.3 723.398 1516.87 Q725.227 1520.41 728.838 1520.41 Q732.472 1520.41 734.277 1516.87 Q736.106 1513.3 736.106 1506.19 Q736.106 1499.07 734.277 1495.52 Q732.472 1491.96 728.838 1491.96 M728.838 1488.25 Q734.648 1488.25 737.703 1492.86 Q740.782 1497.44 740.782 1506.19 Q740.782 1514.92 737.703 1519.53 Q734.648 1524.11 728.838 1524.11 Q723.027 1524.11 719.949 1519.53 Q716.893 1514.92 716.893 1506.19 Q716.893 1497.44 719.949 1492.86 Q723.027 1488.25 728.838 1488.25 Z\" fill=\"#000000\" fill-rule=\"evenodd\" fill-opacity=\"1\" /><path clip-path=\"url(#clip280)\" d=\"M749 1517.56 L753.884 1517.56 L753.884 1523.44 L749 1523.44 L749 1517.56 Z\" fill=\"#000000\" fill-rule=\"evenodd\" fill-opacity=\"1\" /><path clip-path=\"url(#clip280)\" d=\"M764.879 1519.5 L772.518 1519.5 L772.518 1493.14 L764.208 1494.81 L764.208 1490.55 L772.472 1488.88 L777.148 1488.88 L777.148 1519.5 L784.786 1519.5 L784.786 1523.44 L764.879 1523.44 L764.879 1519.5 Z\" fill=\"#000000\" fill-rule=\"evenodd\" fill-opacity=\"1\" /><path clip-path=\"url(#clip280)\" d=\"M982.922 1491.96 Q979.31 1491.96 977.482 1495.52 Q975.676 1499.07 975.676 1506.19 Q975.676 1513.3 977.482 1516.87 Q979.31 1520.41 982.922 1520.41 Q986.556 1520.41 988.361 1516.87 Q990.19 1513.3 990.19 1506.19 Q990.19 1499.07 988.361 1495.52 Q986.556 1491.96 982.922 1491.96 M982.922 1488.25 Q988.732 1488.25 991.787 1492.86 Q994.866 1497.44 994.866 1506.19 Q994.866 1514.92 991.787 1519.53 Q988.732 1524.11 982.922 1524.11 Q977.111 1524.11 974.033 1519.53 Q970.977 1514.92 970.977 1506.19 Q970.977 1497.44 974.033 1492.86 Q977.111 1488.25 982.922 1488.25 Z\" fill=\"#000000\" fill-rule=\"evenodd\" fill-opacity=\"1\" /><path clip-path=\"url(#clip280)\" d=\"M1003.08 1517.56 L1007.97 1517.56 L1007.97 1523.44 L1003.08 1523.44 L1003.08 1517.56 Z\" fill=\"#000000\" fill-rule=\"evenodd\" fill-opacity=\"1\" /><path clip-path=\"url(#clip280)\" d=\"M1028.15 1491.96 Q1024.54 1491.96 1022.71 1495.52 Q1020.91 1499.07 1020.91 1506.19 Q1020.91 1513.3 1022.71 1516.87 Q1024.54 1520.41 1028.15 1520.41 Q1031.79 1520.41 1033.59 1516.87 Q1035.42 1513.3 1035.42 1506.19 Q1035.42 1499.07 1033.59 1495.52 Q1031.79 1491.96 1028.15 1491.96 M1028.15 1488.25 Q1033.96 1488.25 1037.02 1492.86 Q1040.1 1497.44 1040.1 1506.19 Q1040.1 1514.92 1037.02 1519.53 Q1033.96 1524.11 1028.15 1524.11 Q1022.34 1524.11 1019.26 1519.53 Q1016.21 1514.92 1016.21 1506.19 Q1016.21 1497.44 1019.26 1492.86 Q1022.34 1488.25 1028.15 1488.25 Z\" fill=\"#000000\" fill-rule=\"evenodd\" fill-opacity=\"1\" /><path clip-path=\"url(#clip280)\" d=\"M1257.14 1491.96 Q1253.53 1491.96 1251.7 1495.52 Q1249.9 1499.07 1249.9 1506.19 Q1249.9 1513.3 1251.7 1516.87 Q1253.53 1520.41 1257.14 1520.41 Q1260.78 1520.41 1262.58 1516.87 Q1264.41 1513.3 1264.41 1506.19 Q1264.41 1499.07 1262.58 1495.52 Q1260.78 1491.96 1257.14 1491.96 M1257.14 1488.25 Q1262.95 1488.25 1266.01 1492.86 Q1269.09 1497.44 1269.09 1506.19 Q1269.09 1514.92 1266.01 1519.53 Q1262.95 1524.11 1257.14 1524.11 Q1251.33 1524.11 1248.26 1519.53 Q1245.2 1514.92 1245.2 1506.19 Q1245.2 1497.44 1248.26 1492.86 Q1251.33 1488.25 1257.14 1488.25 Z\" fill=\"#000000\" fill-rule=\"evenodd\" fill-opacity=\"1\" /><path clip-path=\"url(#clip280)\" d=\"M1277.31 1517.56 L1282.19 1517.56 L1282.19 1523.44 L1277.31 1523.44 L1277.31 1517.56 Z\" fill=\"#000000\" fill-rule=\"evenodd\" fill-opacity=\"1\" /><path clip-path=\"url(#clip280)\" d=\"M1293.19 1519.5 L1300.82 1519.5 L1300.82 1493.14 L1292.51 1494.81 L1292.51 1490.55 L1300.78 1488.88 L1305.45 1488.88 L1305.45 1519.5 L1313.09 1519.5 L1313.09 1523.44 L1293.19 1523.44 L1293.19 1519.5 Z\" fill=\"#000000\" fill-rule=\"evenodd\" fill-opacity=\"1\" /><path clip-path=\"url(#clip280)\" d=\"M1530.94 1491.96 Q1527.33 1491.96 1525.5 1495.52 Q1523.69 1499.07 1523.69 1506.19 Q1523.69 1513.3 1525.5 1516.87 Q1527.33 1520.41 1530.94 1520.41 Q1534.57 1520.41 1536.38 1516.87 Q1538.21 1513.3 1538.21 1506.19 Q1538.21 1499.07 1536.38 1495.52 Q1534.57 1491.96 1530.94 1491.96 M1530.94 1488.25 Q1536.75 1488.25 1539.8 1492.86 Q1542.88 1497.44 1542.88 1506.19 Q1542.88 1514.92 1539.8 1519.53 Q1536.75 1524.11 1530.94 1524.11 Q1525.13 1524.11 1522.05 1519.53 Q1518.99 1514.92 1518.99 1506.19 Q1518.99 1497.44 1522.05 1492.86 Q1525.13 1488.25 1530.94 1488.25 Z\" fill=\"#000000\" fill-rule=\"evenodd\" fill-opacity=\"1\" /><path clip-path=\"url(#clip280)\" d=\"M1551.1 1517.56 L1555.99 1517.56 L1555.99 1523.44 L1551.1 1523.44 L1551.1 1517.56 Z\" fill=\"#000000\" fill-rule=\"evenodd\" fill-opacity=\"1\" /><path clip-path=\"url(#clip280)\" d=\"M1570.2 1519.5 L1586.52 1519.5 L1586.52 1523.44 L1564.57 1523.44 L1564.57 1519.5 Q1567.23 1516.75 1571.82 1512.12 Q1576.42 1507.47 1577.61 1506.13 Q1579.85 1503.6 1580.73 1501.87 Q1581.63 1500.11 1581.63 1498.42 Q1581.63 1495.66 1579.69 1493.93 Q1577.77 1492.19 1574.67 1492.19 Q1572.47 1492.19 1570.01 1492.95 Q1567.58 1493.72 1564.8 1495.27 L1564.8 1490.55 Q1567.63 1489.41 1570.08 1488.83 Q1572.54 1488.25 1574.57 1488.25 Q1579.94 1488.25 1583.14 1490.94 Q1586.33 1493.63 1586.33 1498.12 Q1586.33 1500.25 1585.52 1502.17 Q1584.73 1504.06 1582.63 1506.66 Q1582.05 1507.33 1578.95 1510.55 Q1575.85 1513.74 1570.2 1519.5 Z\" fill=\"#000000\" fill-rule=\"evenodd\" fill-opacity=\"1\" /><polyline clip-path=\"url(#clip282)\" style=\"stroke:#000000; stroke-linecap:butt; stroke-linejoin:round; stroke-width:2; stroke-opacity:0.1; fill:none\" points=\"\n  184.709,1184.78 1552.76,1184.78 \n  \"/>\n<polyline clip-path=\"url(#clip282)\" style=\"stroke:#000000; stroke-linecap:butt; stroke-linejoin:round; stroke-width:2; stroke-opacity:0.1; fill:none\" points=\"\n  184.709,900.398 1552.76,900.398 \n  \"/>\n<polyline clip-path=\"url(#clip282)\" style=\"stroke:#000000; stroke-linecap:butt; stroke-linejoin:round; stroke-width:2; stroke-opacity:0.1; fill:none\" points=\"\n  184.709,616.014 1552.76,616.014 \n  \"/>\n<polyline clip-path=\"url(#clip282)\" style=\"stroke:#000000; stroke-linecap:butt; stroke-linejoin:round; stroke-width:2; stroke-opacity:0.1; fill:none\" points=\"\n  184.709,331.629 1552.76,331.629 \n  \"/>\n<polyline clip-path=\"url(#clip282)\" style=\"stroke:#000000; stroke-linecap:butt; stroke-linejoin:round; stroke-width:2; stroke-opacity:0.1; fill:none\" points=\"\n  184.709,47.2441 1552.76,47.2441 \n  \"/>\n<polyline clip-path=\"url(#clip280)\" style=\"stroke:#000000; stroke-linecap:butt; stroke-linejoin:round; stroke-width:4; stroke-opacity:1; fill:none\" points=\"\n  184.709,1469.17 184.709,47.2441 \n  \"/>\n<polyline clip-path=\"url(#clip280)\" style=\"stroke:#000000; stroke-linecap:butt; stroke-linejoin:round; stroke-width:4; stroke-opacity:1; fill:none\" points=\"\n  184.709,1184.78 201.126,1184.78 \n  \"/>\n<polyline clip-path=\"url(#clip280)\" style=\"stroke:#000000; stroke-linecap:butt; stroke-linejoin:round; stroke-width:4; stroke-opacity:1; fill:none\" points=\"\n  184.709,900.398 201.126,900.398 \n  \"/>\n<polyline clip-path=\"url(#clip280)\" style=\"stroke:#000000; stroke-linecap:butt; stroke-linejoin:round; stroke-width:4; stroke-opacity:1; fill:none\" points=\"\n  184.709,616.014 201.126,616.014 \n  \"/>\n<polyline clip-path=\"url(#clip280)\" style=\"stroke:#000000; stroke-linecap:butt; stroke-linejoin:round; stroke-width:4; stroke-opacity:1; fill:none\" points=\"\n  184.709,331.629 201.126,331.629 \n  \"/>\n<polyline clip-path=\"url(#clip280)\" style=\"stroke:#000000; stroke-linecap:butt; stroke-linejoin:round; stroke-width:4; stroke-opacity:1; fill:none\" points=\"\n  184.709,47.2441 201.126,47.2441 \n  \"/>\n<path clip-path=\"url(#clip280)\" d=\"M55.3625 1185.23 L85.0383 1185.23 L85.0383 1189.17 L55.3625 1189.17 L55.3625 1185.23 Z\" fill=\"#000000\" fill-rule=\"evenodd\" fill-opacity=\"1\" /><path clip-path=\"url(#clip280)\" d=\"M105.131 1170.58 Q101.52 1170.58 99.691 1174.15 Q97.8854 1177.69 97.8854 1184.82 Q97.8854 1191.92 99.691 1195.49 Q101.52 1199.03 105.131 1199.03 Q108.765 1199.03 110.571 1195.49 Q112.399 1191.92 112.399 1184.82 Q112.399 1177.69 110.571 1174.15 Q108.765 1170.58 105.131 1170.58 M105.131 1166.88 Q110.941 1166.88 113.996 1171.48 Q117.075 1176.07 117.075 1184.82 Q117.075 1193.54 113.996 1198.15 Q110.941 1202.73 105.131 1202.73 Q99.3206 1202.73 96.2419 1198.15 Q93.1864 1193.54 93.1864 1184.82 Q93.1864 1176.07 96.2419 1171.48 Q99.3206 1166.88 105.131 1166.88 Z\" fill=\"#000000\" fill-rule=\"evenodd\" fill-opacity=\"1\" /><path clip-path=\"url(#clip280)\" d=\"M125.293 1196.18 L130.177 1196.18 L130.177 1202.06 L125.293 1202.06 L125.293 1196.18 Z\" fill=\"#000000\" fill-rule=\"evenodd\" fill-opacity=\"1\" /><path clip-path=\"url(#clip280)\" d=\"M144.39 1198.13 L160.709 1198.13 L160.709 1202.06 L138.765 1202.06 L138.765 1198.13 Q141.427 1195.37 146.01 1190.74 Q150.617 1186.09 151.797 1184.75 Q154.043 1182.23 154.922 1180.49 Q155.825 1178.73 155.825 1177.04 Q155.825 1174.29 153.88 1172.55 Q151.959 1170.81 148.857 1170.81 Q146.658 1170.81 144.205 1171.58 Q141.774 1172.34 138.996 1173.89 L138.996 1169.17 Q141.82 1168.04 144.274 1167.46 Q146.728 1166.88 148.765 1166.88 Q154.135 1166.88 157.33 1169.56 Q160.524 1172.25 160.524 1176.74 Q160.524 1178.87 159.714 1180.79 Q158.927 1182.69 156.82 1185.28 Q156.242 1185.95 153.14 1189.17 Q150.038 1192.36 144.39 1198.13 Z\" fill=\"#000000\" fill-rule=\"evenodd\" fill-opacity=\"1\" /><path clip-path=\"url(#clip280)\" d=\"M54.9921 900.85 L84.6679 900.85 L84.6679 904.785 L54.9921 904.785 L54.9921 900.85 Z\" fill=\"#000000\" fill-rule=\"evenodd\" fill-opacity=\"1\" /><path clip-path=\"url(#clip280)\" d=\"M104.76 886.197 Q101.149 886.197 99.3206 889.762 Q97.515 893.303 97.515 900.433 Q97.515 907.54 99.3206 911.104 Q101.149 914.646 104.76 914.646 Q108.395 914.646 110.2 911.104 Q112.029 907.54 112.029 900.433 Q112.029 893.303 110.2 889.762 Q108.395 886.197 104.76 886.197 M104.76 882.493 Q110.571 882.493 113.626 887.1 Q116.705 891.683 116.705 900.433 Q116.705 909.16 113.626 913.766 Q110.571 918.35 104.76 918.35 Q98.9502 918.35 95.8715 913.766 Q92.816 909.16 92.816 900.433 Q92.816 891.683 95.8715 887.1 Q98.9502 882.493 104.76 882.493 Z\" fill=\"#000000\" fill-rule=\"evenodd\" fill-opacity=\"1\" /><path clip-path=\"url(#clip280)\" d=\"M124.922 911.799 L129.807 911.799 L129.807 917.678 L124.922 917.678 L124.922 911.799 Z\" fill=\"#000000\" fill-rule=\"evenodd\" fill-opacity=\"1\" /><path clip-path=\"url(#clip280)\" d=\"M140.802 913.743 L148.441 913.743 L148.441 887.378 L140.131 889.044 L140.131 884.785 L148.394 883.118 L153.07 883.118 L153.07 913.743 L160.709 913.743 L160.709 917.678 L140.802 917.678 L140.802 913.743 Z\" fill=\"#000000\" fill-rule=\"evenodd\" fill-opacity=\"1\" /><path clip-path=\"url(#clip280)\" d=\"M103.534 601.812 Q99.9224 601.812 98.0937 605.377 Q96.2882 608.919 96.2882 616.048 Q96.2882 623.155 98.0937 626.72 Q99.9224 630.261 103.534 630.261 Q107.168 630.261 108.973 626.72 Q110.802 623.155 110.802 616.048 Q110.802 608.919 108.973 605.377 Q107.168 601.812 103.534 601.812 M103.534 598.109 Q109.344 598.109 112.399 602.715 Q115.478 607.298 115.478 616.048 Q115.478 624.775 112.399 629.382 Q109.344 633.965 103.534 633.965 Q97.7234 633.965 94.6447 629.382 Q91.5892 624.775 91.5892 616.048 Q91.5892 607.298 94.6447 602.715 Q97.7234 598.109 103.534 598.109 Z\" fill=\"#000000\" fill-rule=\"evenodd\" fill-opacity=\"1\" /><path clip-path=\"url(#clip280)\" d=\"M123.695 627.414 L128.58 627.414 L128.58 633.294 L123.695 633.294 L123.695 627.414 Z\" fill=\"#000000\" fill-rule=\"evenodd\" fill-opacity=\"1\" /><path clip-path=\"url(#clip280)\" d=\"M148.765 601.812 Q145.154 601.812 143.325 605.377 Q141.519 608.919 141.519 616.048 Q141.519 623.155 143.325 626.72 Q145.154 630.261 148.765 630.261 Q152.399 630.261 154.205 626.72 Q156.033 623.155 156.033 616.048 Q156.033 608.919 154.205 605.377 Q152.399 601.812 148.765 601.812 M148.765 598.109 Q154.575 598.109 157.63 602.715 Q160.709 607.298 160.709 616.048 Q160.709 624.775 157.63 629.382 Q154.575 633.965 148.765 633.965 Q142.955 633.965 139.876 629.382 Q136.82 624.775 136.82 616.048 Q136.82 607.298 139.876 602.715 Q142.955 598.109 148.765 598.109 Z\" fill=\"#000000\" fill-rule=\"evenodd\" fill-opacity=\"1\" /><path clip-path=\"url(#clip280)\" d=\"M104.76 317.428 Q101.149 317.428 99.3206 320.992 Q97.515 324.534 97.515 331.664 Q97.515 338.77 99.3206 342.335 Q101.149 345.876 104.76 345.876 Q108.395 345.876 110.2 342.335 Q112.029 338.77 112.029 331.664 Q112.029 324.534 110.2 320.992 Q108.395 317.428 104.76 317.428 M104.76 313.724 Q110.571 313.724 113.626 318.33 Q116.705 322.914 116.705 331.664 Q116.705 340.39 113.626 344.997 Q110.571 349.58 104.76 349.58 Q98.9502 349.58 95.8715 344.997 Q92.816 340.39 92.816 331.664 Q92.816 322.914 95.8715 318.33 Q98.9502 313.724 104.76 313.724 Z\" fill=\"#000000\" fill-rule=\"evenodd\" fill-opacity=\"1\" /><path clip-path=\"url(#clip280)\" d=\"M124.922 343.029 L129.807 343.029 L129.807 348.909 L124.922 348.909 L124.922 343.029 Z\" fill=\"#000000\" fill-rule=\"evenodd\" fill-opacity=\"1\" /><path clip-path=\"url(#clip280)\" d=\"M140.802 344.974 L148.441 344.974 L148.441 318.608 L140.131 320.275 L140.131 316.016 L148.394 314.349 L153.07 314.349 L153.07 344.974 L160.709 344.974 L160.709 348.909 L140.802 348.909 L140.802 344.974 Z\" fill=\"#000000\" fill-rule=\"evenodd\" fill-opacity=\"1\" /><path clip-path=\"url(#clip280)\" d=\"M105.131 33.0428 Q101.52 33.0428 99.691 36.6076 Q97.8854 40.1492 97.8854 47.2788 Q97.8854 54.3853 99.691 57.9501 Q101.52 61.4917 105.131 61.4917 Q108.765 61.4917 110.571 57.9501 Q112.399 54.3853 112.399 47.2788 Q112.399 40.1492 110.571 36.6076 Q108.765 33.0428 105.131 33.0428 M105.131 29.3391 Q110.941 29.3391 113.996 33.9456 Q117.075 38.5289 117.075 47.2788 Q117.075 56.0056 113.996 60.6121 Q110.941 65.1954 105.131 65.1954 Q99.3206 65.1954 96.2419 60.6121 Q93.1864 56.0056 93.1864 47.2788 Q93.1864 38.5289 96.2419 33.9456 Q99.3206 29.3391 105.131 29.3391 Z\" fill=\"#000000\" fill-rule=\"evenodd\" fill-opacity=\"1\" /><path clip-path=\"url(#clip280)\" d=\"M125.293 58.6445 L130.177 58.6445 L130.177 64.5241 L125.293 64.5241 L125.293 58.6445 Z\" fill=\"#000000\" fill-rule=\"evenodd\" fill-opacity=\"1\" /><path clip-path=\"url(#clip280)\" d=\"M144.39 60.5889 L160.709 60.5889 L160.709 64.5241 L138.765 64.5241 L138.765 60.5889 Q141.427 57.8343 146.01 53.2047 Q150.617 48.552 151.797 47.2094 Q154.043 44.6862 154.922 42.9501 Q155.825 41.1909 155.825 39.5011 Q155.825 36.7465 153.88 35.0104 Q151.959 33.2743 148.857 33.2743 Q146.658 33.2743 144.205 34.0381 Q141.774 34.802 138.996 36.3529 L138.996 31.6308 Q141.82 30.4965 144.274 29.9178 Q146.728 29.3391 148.765 29.3391 Q154.135 29.3391 157.33 32.0243 Q160.524 34.7094 160.524 39.2002 Q160.524 41.3298 159.714 43.2511 Q158.927 45.1492 156.82 47.7418 Q156.242 48.4131 153.14 51.6306 Q150.038 54.8251 144.39 60.5889 Z\" fill=\"#000000\" fill-rule=\"evenodd\" fill-opacity=\"1\" /><polyline clip-path=\"url(#clip282)\" style=\"stroke:#009af9; stroke-linecap:butt; stroke-linejoin:round; stroke-width:4; stroke-opacity:1; fill:none\" points=\"\n  458.319,616.014 1552.76,616.014 \n  \"/>\n<polyline clip-path=\"url(#clip282)\" style=\"stroke:#e26f46; stroke-linecap:butt; stroke-linejoin:round; stroke-width:4; stroke-opacity:1; fill:none\" points=\"\n  458.319,1165.27 1005.54,616.014 1552.76,1204.99 \n  \"/>\n<polyline clip-path=\"url(#clip282)\" style=\"stroke:#e26f46; stroke-linecap:butt; stroke-linejoin:round; stroke-width:4; stroke-opacity:1; fill:none\" points=\"\n  1545.21,1179.24 1552.76,1204.99 1527.63,1195.58 \n  \"/>\n<polyline clip-path=\"url(#clip282)\" style=\"stroke:#e26f46; stroke-linecap:butt; stroke-linejoin:round; stroke-width:4; stroke-opacity:1; fill:none\" points=\"\n  1552.76,1204.99 1005.54,616.014 \n  \"/>\n<polyline clip-path=\"url(#clip282)\" style=\"stroke:#3da44d; stroke-linecap:butt; stroke-linejoin:round; stroke-width:4; stroke-opacity:1; fill:none\" points=\"\n  1005.54,1184.78 1005.54,47.2441 \n  \"/>\n<path clip-path=\"url(#clip280)\" d=\"M597.383 706.657 L576.723 738.943 L597.383 738.943 L597.383 706.657 M595.236 699.528 L605.525 699.528 L605.525 738.943 L614.154 738.943 L614.154 745.748 L605.525 745.748 L605.525 760.008 L597.383 760.008 L597.383 745.748 L570.08 745.748 L570.08 737.849 L595.236 699.528 Z\" fill=\"#000000\" fill-rule=\"evenodd\" fill-opacity=\"1\" /><path clip-path=\"url(#clip280)\" d=\"M650.166 706.657 L629.507 738.943 L650.166 738.943 L650.166 706.657 M648.019 699.528 L658.309 699.528 L658.309 738.943 L666.937 738.943 L666.937 745.748 L658.309 745.748 L658.309 760.008 L650.166 760.008 L650.166 745.748 L622.863 745.748 L622.863 737.849 L648.019 699.528 Z\" fill=\"#000000\" fill-rule=\"evenodd\" fill-opacity=\"1\" /><path clip-path=\"url(#clip280)\" d=\"M680.467 749.718 L689.014 749.718 L689.014 760.008 L680.467 760.008 L680.467 749.718 Z\" fill=\"#000000\" fill-rule=\"evenodd\" fill-opacity=\"1\" /><path clip-path=\"url(#clip280)\" d=\"M724.338 704.915 Q718.019 704.915 714.819 711.154 Q711.659 717.351 711.659 729.828 Q711.659 742.265 714.819 748.503 Q718.019 754.701 724.338 754.701 Q730.698 754.701 733.858 748.503 Q737.058 742.265 737.058 729.828 Q737.058 717.351 733.858 711.154 Q730.698 704.915 724.338 704.915 M724.338 698.434 Q734.506 698.434 739.853 706.495 Q745.241 714.516 745.241 729.828 Q745.241 745.1 739.853 753.161 Q734.506 761.182 724.338 761.182 Q714.17 761.182 708.783 753.161 Q703.436 745.1 703.436 729.828 Q703.436 714.516 708.783 706.495 Q714.17 698.434 724.338 698.434 Z\" fill=\"#000000\" fill-rule=\"evenodd\" fill-opacity=\"1\" /><path clip-path=\"url(#clip280)\" d=\"M771.491 703.659 Q768.25 703.659 766.022 705.928 Q763.794 708.156 763.794 711.397 Q763.794 714.597 766.022 716.825 Q768.25 719.012 771.491 719.012 Q774.732 719.012 776.959 716.825 Q779.187 714.597 779.187 711.397 Q779.187 708.196 776.919 705.928 Q774.691 703.659 771.491 703.659 M771.491 698.434 Q774.083 698.434 776.473 699.446 Q778.863 700.419 780.605 702.282 Q782.469 704.105 783.4 706.414 Q784.332 708.723 784.332 711.397 Q784.332 716.744 780.565 720.471 Q776.838 724.157 771.41 724.157 Q765.941 724.157 762.295 720.511 Q758.649 716.865 758.649 711.397 Q758.649 705.968 762.376 702.201 Q766.103 698.434 771.491 698.434 Z\" fill=\"#000000\" fill-rule=\"evenodd\" fill-opacity=\"1\" /><path clip-path=\"url(#clip280)\" d=\"\nM1155.57 336.562 L1507.15 336.562 L1507.15 94.6416 L1155.57 94.6416  Z\n  \" fill=\"#ffffff\" fill-rule=\"evenodd\" fill-opacity=\"1\"/>\n<polyline clip-path=\"url(#clip280)\" style=\"stroke:#000000; stroke-linecap:butt; stroke-linejoin:round; stroke-width:4; stroke-opacity:1; fill:none\" points=\"\n  1155.57,336.562 1507.15,336.562 1507.15,94.6416 1155.57,94.6416 1155.57,336.562 \n  \"/>\n<polyline clip-path=\"url(#clip280)\" style=\"stroke:#009af9; stroke-linecap:butt; stroke-linejoin:round; stroke-width:4; stroke-opacity:1; fill:none\" points=\"\n  1170.77,155.122 1261.97,155.122 \n  \"/>\n<path clip-path=\"url(#clip280)\" d=\"M1281.45 168.513 L1281.45 182.263 L1277.17 182.263 L1277.17 146.476 L1281.45 146.476 L1281.45 150.411 Q1282.8 148.096 1284.83 146.985 Q1286.89 145.851 1289.74 145.851 Q1294.46 145.851 1297.4 149.601 Q1300.37 153.351 1300.37 159.462 Q1300.37 165.573 1297.4 169.323 Q1294.46 173.073 1289.74 173.073 Q1286.89 173.073 1284.83 171.962 Q1282.8 170.827 1281.45 168.513 M1295.94 159.462 Q1295.94 154.763 1294 152.101 Q1292.08 149.416 1288.7 149.416 Q1285.32 149.416 1283.37 152.101 Q1281.45 154.763 1281.45 159.462 Q1281.45 164.161 1283.37 166.846 Q1285.32 169.508 1288.7 169.508 Q1292.08 169.508 1294 166.846 Q1295.94 164.161 1295.94 159.462 Z\" fill=\"#000000\" fill-rule=\"evenodd\" fill-opacity=\"1\" /><path clip-path=\"url(#clip280)\" d=\"M1307.43 146.476 L1311.68 146.476 L1311.68 172.402 L1307.43 172.402 L1307.43 146.476 M1307.43 136.383 L1311.68 136.383 L1311.68 141.777 L1307.43 141.777 L1307.43 136.383 Z\" fill=\"#000000\" fill-rule=\"evenodd\" fill-opacity=\"1\" /><path clip-path=\"url(#clip280)\" d=\"M1342.15 156.753 L1342.15 172.402 L1337.89 172.402 L1337.89 156.892 Q1337.89 153.212 1336.45 151.383 Q1335.02 149.554 1332.15 149.554 Q1328.7 149.554 1326.71 151.754 Q1324.72 153.953 1324.72 157.749 L1324.72 172.402 L1320.43 172.402 L1320.43 146.476 L1324.72 146.476 L1324.72 150.504 Q1326.24 148.166 1328.31 147.008 Q1330.39 145.851 1333.1 145.851 Q1337.56 145.851 1339.86 148.629 Q1342.15 151.383 1342.15 156.753 Z\" fill=\"#000000\" fill-rule=\"evenodd\" fill-opacity=\"1\" /><path clip-path=\"url(#clip280)\" d=\"M1354.86 139.115 L1354.86 146.476 L1363.63 146.476 L1363.63 149.786 L1354.86 149.786 L1354.86 163.86 Q1354.86 167.031 1355.71 167.934 Q1356.59 168.837 1359.25 168.837 L1363.63 168.837 L1363.63 172.402 L1359.25 172.402 Q1354.32 172.402 1352.45 170.573 Q1350.57 168.721 1350.57 163.86 L1350.57 149.786 L1347.45 149.786 L1347.45 146.476 L1350.57 146.476 L1350.57 139.115 L1354.86 139.115 Z\" fill=\"#000000\" fill-rule=\"evenodd\" fill-opacity=\"1\" /><path clip-path=\"url(#clip280)\" d=\"M1381.01 159.369 Q1375.85 159.369 1373.86 160.55 Q1371.87 161.73 1371.87 164.578 Q1371.87 166.846 1373.35 168.189 Q1374.86 169.508 1377.43 169.508 Q1380.97 169.508 1383.1 167.008 Q1385.25 164.485 1385.25 160.318 L1385.25 159.369 L1381.01 159.369 M1389.51 157.61 L1389.51 172.402 L1385.25 172.402 L1385.25 168.466 Q1383.79 170.827 1381.61 171.962 Q1379.44 173.073 1376.29 173.073 Q1372.31 173.073 1369.95 170.851 Q1367.61 168.605 1367.61 164.855 Q1367.61 160.48 1370.53 158.258 Q1373.47 156.036 1379.28 156.036 L1385.25 156.036 L1385.25 155.619 Q1385.25 152.679 1383.3 151.082 Q1381.38 149.462 1377.89 149.462 Q1375.67 149.462 1373.56 149.994 Q1371.45 150.527 1369.51 151.591 L1369.51 147.656 Q1371.85 146.754 1374.05 146.314 Q1376.24 145.851 1378.33 145.851 Q1383.95 145.851 1386.73 148.767 Q1389.51 151.684 1389.51 157.61 Z\" fill=\"#000000\" fill-rule=\"evenodd\" fill-opacity=\"1\" /><polyline clip-path=\"url(#clip280)\" style=\"stroke:#e26f46; stroke-linecap:butt; stroke-linejoin:round; stroke-width:4; stroke-opacity:1; fill:none\" points=\"\n  1170.77,215.602 1261.97,215.602 \n  \"/>\n<path clip-path=\"url(#clip280)\" d=\"M1277.17 206.956 L1281.68 206.956 L1289.79 228.715 L1297.89 206.956 L1302.4 206.956 L1292.68 232.882 L1286.89 232.882 L1277.17 206.956 Z\" fill=\"#000000\" fill-rule=\"evenodd\" fill-opacity=\"1\" /><path clip-path=\"url(#clip280)\" d=\"M1320.06 219.849 Q1314.9 219.849 1312.91 221.03 Q1310.92 222.21 1310.92 225.058 Q1310.92 227.326 1312.4 228.669 Q1313.91 229.988 1316.48 229.988 Q1320.02 229.988 1322.15 227.488 Q1324.3 224.965 1324.3 220.798 L1324.3 219.849 L1320.06 219.849 M1328.56 218.09 L1328.56 232.882 L1324.3 232.882 L1324.3 228.946 Q1322.84 231.307 1320.67 232.442 Q1318.49 233.553 1315.34 233.553 Q1311.36 233.553 1309 231.331 Q1306.66 229.085 1306.66 225.335 Q1306.66 220.96 1309.58 218.738 Q1312.52 216.516 1318.33 216.516 L1324.3 216.516 L1324.3 216.099 Q1324.3 213.159 1322.36 211.562 Q1320.43 209.942 1316.94 209.942 Q1314.72 209.942 1312.61 210.474 Q1310.5 211.007 1308.56 212.071 L1308.56 208.136 Q1310.9 207.234 1313.1 206.794 Q1315.3 206.331 1317.38 206.331 Q1323 206.331 1325.78 209.247 Q1328.56 212.164 1328.56 218.09 Z\" fill=\"#000000\" fill-rule=\"evenodd\" fill-opacity=\"1\" /><path clip-path=\"url(#clip280)\" d=\"M1337.33 196.863 L1341.59 196.863 L1341.59 232.882 L1337.33 232.882 L1337.33 196.863 Z\" fill=\"#000000\" fill-rule=\"evenodd\" fill-opacity=\"1\" /><path clip-path=\"url(#clip280)\" d=\"M1360.55 209.942 Q1357.12 209.942 1355.13 212.627 Q1353.14 215.289 1353.14 219.942 Q1353.14 224.595 1355.11 227.28 Q1357.1 229.942 1360.55 229.942 Q1363.95 229.942 1365.94 227.257 Q1367.93 224.571 1367.93 219.942 Q1367.93 215.335 1365.94 212.65 Q1363.95 209.942 1360.55 209.942 M1360.55 206.331 Q1366.11 206.331 1369.28 209.942 Q1372.45 213.553 1372.45 219.942 Q1372.45 226.308 1369.28 229.942 Q1366.11 233.553 1360.55 233.553 Q1354.97 233.553 1351.8 229.942 Q1348.65 226.308 1348.65 219.942 Q1348.65 213.553 1351.8 209.942 Q1354.97 206.331 1360.55 206.331 Z\" fill=\"#000000\" fill-rule=\"evenodd\" fill-opacity=\"1\" /><polyline clip-path=\"url(#clip280)\" style=\"stroke:#3da44d; stroke-linecap:butt; stroke-linejoin:round; stroke-width:4; stroke-opacity:1; fill:none\" points=\"\n  1170.77,276.082 1261.97,276.082 \n  \"/>\n<path clip-path=\"url(#clip280)\" d=\"M1298.88 277.713 L1298.88 293.362 L1294.62 293.362 L1294.62 277.852 Q1294.62 274.172 1293.19 272.343 Q1291.75 270.514 1288.88 270.514 Q1285.43 270.514 1283.44 272.714 Q1281.45 274.913 1281.45 278.709 L1281.45 293.362 L1277.17 293.362 L1277.17 267.436 L1281.45 267.436 L1281.45 271.464 Q1282.98 269.126 1285.04 267.968 Q1287.12 266.811 1289.83 266.811 Q1294.3 266.811 1296.59 269.589 Q1298.88 272.343 1298.88 277.713 Z\" fill=\"#000000\" fill-rule=\"evenodd\" fill-opacity=\"1\" /><path clip-path=\"url(#clip280)\" d=\"M1317.43 270.422 Q1314 270.422 1312.01 273.107 Q1310.02 275.769 1310.02 280.422 Q1310.02 285.075 1311.99 287.76 Q1313.98 290.422 1317.43 290.422 Q1320.83 290.422 1322.82 287.737 Q1324.81 285.051 1324.81 280.422 Q1324.81 275.815 1322.82 273.13 Q1320.83 270.422 1317.43 270.422 M1317.43 266.811 Q1322.98 266.811 1326.15 270.422 Q1329.32 274.033 1329.32 280.422 Q1329.32 286.788 1326.15 290.422 Q1322.98 294.033 1317.43 294.033 Q1311.85 294.033 1308.68 290.422 Q1305.53 286.788 1305.53 280.422 Q1305.53 274.033 1308.68 270.422 Q1311.85 266.811 1317.43 266.811 Z\" fill=\"#000000\" fill-rule=\"evenodd\" fill-opacity=\"1\" /><path clip-path=\"url(#clip280)\" d=\"M1351.41 271.417 Q1350.69 271.001 1349.83 270.815 Q1349 270.607 1347.98 270.607 Q1344.37 270.607 1342.43 272.968 Q1340.5 275.306 1340.5 279.704 L1340.5 293.362 L1336.22 293.362 L1336.22 267.436 L1340.5 267.436 L1340.5 271.464 Q1341.85 269.102 1344 267.968 Q1346.15 266.811 1349.23 266.811 Q1349.67 266.811 1350.2 266.88 Q1350.74 266.927 1351.38 267.042 L1351.41 271.417 Z\" fill=\"#000000\" fill-rule=\"evenodd\" fill-opacity=\"1\" /><path clip-path=\"url(#clip280)\" d=\"M1375.23 272.413 Q1376.82 269.542 1379.05 268.177 Q1381.27 266.811 1384.28 266.811 Q1388.33 266.811 1390.53 269.658 Q1392.73 272.482 1392.73 277.713 L1392.73 293.362 L1388.44 293.362 L1388.44 277.852 Q1388.44 274.126 1387.12 272.32 Q1385.8 270.514 1383.1 270.514 Q1379.79 270.514 1377.86 272.714 Q1375.94 274.913 1375.94 278.709 L1375.94 293.362 L1371.66 293.362 L1371.66 277.852 Q1371.66 274.102 1370.34 272.32 Q1369.02 270.514 1366.27 270.514 Q1363 270.514 1361.08 272.737 Q1359.16 274.936 1359.16 278.709 L1359.16 293.362 L1354.88 293.362 L1354.88 267.436 L1359.16 267.436 L1359.16 271.464 Q1360.62 269.079 1362.66 267.945 Q1364.69 266.811 1367.49 266.811 Q1370.32 266.811 1372.29 268.246 Q1374.28 269.681 1375.23 272.413 Z\" fill=\"#000000\" fill-rule=\"evenodd\" fill-opacity=\"1\" /><path clip-path=\"url(#clip280)\" d=\"M1413 280.329 Q1407.84 280.329 1405.85 281.51 Q1403.86 282.69 1403.86 285.538 Q1403.86 287.806 1405.34 289.149 Q1406.85 290.468 1409.42 290.468 Q1412.96 290.468 1415.09 287.968 Q1417.24 285.445 1417.24 281.278 L1417.24 280.329 L1413 280.329 M1421.5 278.57 L1421.5 293.362 L1417.24 293.362 L1417.24 289.426 Q1415.78 291.787 1413.61 292.922 Q1411.43 294.033 1408.28 294.033 Q1404.3 294.033 1401.94 291.811 Q1399.6 289.565 1399.6 285.815 Q1399.6 281.44 1402.52 279.218 Q1405.46 276.996 1411.27 276.996 L1417.24 276.996 L1417.24 276.579 Q1417.24 273.639 1415.3 272.042 Q1413.37 270.422 1409.88 270.422 Q1407.66 270.422 1405.55 270.954 Q1403.44 271.487 1401.5 272.551 L1401.5 268.616 Q1403.84 267.714 1406.04 267.274 Q1408.24 266.811 1410.32 266.811 Q1415.94 266.811 1418.72 269.727 Q1421.5 272.644 1421.5 278.57 Z\" fill=\"#000000\" fill-rule=\"evenodd\" fill-opacity=\"1\" /><path clip-path=\"url(#clip280)\" d=\"M1442.05 280.329 Q1436.89 280.329 1434.9 281.51 Q1432.91 282.69 1432.91 285.538 Q1432.91 287.806 1434.39 289.149 Q1435.9 290.468 1438.47 290.468 Q1442.01 290.468 1444.14 287.968 Q1446.29 285.445 1446.29 281.278 L1446.29 280.329 L1442.05 280.329 M1450.55 278.57 L1450.55 293.362 L1446.29 293.362 L1446.29 289.426 Q1444.83 291.787 1442.66 292.922 Q1440.48 294.033 1437.33 294.033 Q1433.35 294.033 1430.99 291.811 Q1428.65 289.565 1428.65 285.815 Q1428.65 281.44 1431.57 279.218 Q1434.51 276.996 1440.32 276.996 L1446.29 276.996 L1446.29 276.579 Q1446.29 273.639 1444.35 272.042 Q1442.42 270.422 1438.93 270.422 Q1436.71 270.422 1434.6 270.954 Q1432.49 271.487 1430.55 272.551 L1430.55 268.616 Q1432.89 267.714 1435.09 267.274 Q1437.29 266.811 1439.37 266.811 Q1444.99 266.811 1447.77 269.727 Q1450.55 272.644 1450.55 278.57 Z\" fill=\"#000000\" fill-rule=\"evenodd\" fill-opacity=\"1\" /><path clip-path=\"url(#clip280)\" d=\"M1459.32 257.343 L1463.58 257.343 L1463.58 293.362 L1459.32 293.362 L1459.32 257.343 Z\" fill=\"#000000\" fill-rule=\"evenodd\" fill-opacity=\"1\" /><path clip-path=\"url(#clip280)\" d=\"M1472.49 267.436 L1476.75 267.436 L1476.75 293.362 L1472.49 293.362 L1472.49 267.436 M1472.49 257.343 L1476.75 257.343 L1476.75 262.737 L1472.49 262.737 L1472.49 257.343 Z\" fill=\"#000000\" fill-rule=\"evenodd\" fill-opacity=\"1\" /></svg>\n"
          },
          "metadata": {}
        }
      ],
      "execution_count": 243,
      "metadata": {
        "collapsed": false,
        "jupyter": {
          "source_hidden": false,
          "outputs_hidden": false
        },
        "nteract": {
          "transient": {
            "deleting": false
          }
        },
        "execution": {
          "iopub.status.busy": "2021-10-30T19:56:28.194Z",
          "iopub.execute_input": "2021-10-30T19:56:28.211Z",
          "iopub.status.idle": "2021-10-30T19:56:28.257Z"
        }
      }
    },
    {
      "cell_type": "markdown",
      "source": [
        "k-9\n",
        "\n",
        "Kirjan vastaus: 0.302 mm punaisen valon osumakohdan alapuolella\n"
      ],
      "metadata": {
        "nteract": {
          "transient": {
            "deleting": false
          }
        }
      }
    },
    {
      "cell_type": "code",
      "source": [
        "using Plots\n",
        "n1=1 # ilma\n",
        "n2p=1.505\n",
        "n2v=1.525\n",
        "a2p=2*pi*15/180\n",
        "a1=asin(n2p*sin(a2p)/n1)\n",
        "a2v=asin(n1*sin(a1)/n2v)\n",
        "l=0.04\n",
        "@printf(\"Violetti säde osuu %.3e m punaisen alapuolle.\\n\",\n",
        "  sin(a2p-a2v)*l)\n",
        "w=1 # leveys y=0 tasolla\n",
        "h=w/2/(tan(15*pi/180))\n",
        "k1=h/(w/2)# nousevan osan kulmakerroin\n",
        "nk1=-1/k1 # nousevan osan normaalin kulmakerroin\n",
        "k2=-k1\n",
        "nk2p=-1/k2\n",
        "nk2v=nk2p-3*pi/180# liioiteltu\n",
        "a2p=n2p\n",
        "p1=(-0.25*w,k1*-0.25*w)\n",
        "p3=(1.25*w,h+k2*(0.75*w))\n",
        "ca=[p1,(w/2,h),p3,p1]\n",
        "# size x=y ja xlim=ylim jotta mittasuhteet säilyvät\n",
        "size=400\n",
        "sizes=(size,size)\n",
        "limits=(-1,h+0.5)\n",
        "plot(ca,xlim=limits,ylim=limits,size=sizes,label=\"\")\n",
        "plot!([(0,0),w.*(1,nk2p)],arrow=true,linecolor=:red,\n",
        "    label=\"punainen valo\")\n",
        "plot!([(0,0),w.*(1,nk2v)],arrow=true,linecolor=:violet,\n",
        "    label=\"violetti valo\")\n",
        "plot!([-0.5.*(1,nk1),1.0.*(1,nk1)],linecolor=:black,\n",
        "label=\"normaali\")\n"
      ],
      "outputs": [
        {
          "output_type": "stream",
          "name": "stdout",
          "text": [
            "Violetti säde osuu 3.022e-04 m punaisen alapuolle\n"
          ]
        },
        {
          "output_type": "execute_result",
          "execution_count": 255,
          "data": {
            "image/svg+xml": "<?xml version=\"1.0\" encoding=\"utf-8\"?>\n<svg xmlns=\"http://www.w3.org/2000/svg\" xmlns:xlink=\"http://www.w3.org/1999/xlink\" width=\"400\" height=\"400\" viewBox=\"0 0 1600 1600\">\n<defs>\n  <clipPath id=\"clip560\">\n    <rect x=\"0\" y=\"0\" width=\"1600\" height=\"1600\"/>\n  </clipPath>\n</defs>\n<path clip-path=\"url(#clip560)\" d=\"\nM0 1600 L1600 1600 L1600 0 L0 0  Z\n  \" fill=\"#ffffff\" fill-rule=\"evenodd\" fill-opacity=\"1\"/>\n<defs>\n  <clipPath id=\"clip561\">\n    <rect x=\"320\" y=\"160\" width=\"1121\" height=\"1121\"/>\n  </clipPath>\n</defs>\n<path clip-path=\"url(#clip560)\" d=\"\nM139.478 1469.17 L1552.76 1469.17 L1552.76 47.2441 L139.478 47.2441  Z\n  \" fill=\"#ffffff\" fill-rule=\"evenodd\" fill-opacity=\"1\"/>\n<defs>\n  <clipPath id=\"clip562\">\n    <rect x=\"139\" y=\"47\" width=\"1414\" height=\"1423\"/>\n  </clipPath>\n</defs>\n<polyline clip-path=\"url(#clip562)\" style=\"stroke:#000000; stroke-linecap:butt; stroke-linejoin:round; stroke-width:2; stroke-opacity:0.1; fill:none\" points=\"\n  139.478,1469.17 139.478,47.2441 \n  \"/>\n<polyline clip-path=\"url(#clip562)\" style=\"stroke:#000000; stroke-linecap:butt; stroke-linejoin:round; stroke-width:2; stroke-opacity:0.1; fill:none\" points=\"\n  559.343,1469.17 559.343,47.2441 \n  \"/>\n<polyline clip-path=\"url(#clip562)\" style=\"stroke:#000000; stroke-linecap:butt; stroke-linejoin:round; stroke-width:2; stroke-opacity:0.1; fill:none\" points=\"\n  979.209,1469.17 979.209,47.2441 \n  \"/>\n<polyline clip-path=\"url(#clip562)\" style=\"stroke:#000000; stroke-linecap:butt; stroke-linejoin:round; stroke-width:2; stroke-opacity:0.1; fill:none\" points=\"\n  1399.07,1469.17 1399.07,47.2441 \n  \"/>\n<polyline clip-path=\"url(#clip560)\" style=\"stroke:#000000; stroke-linecap:butt; stroke-linejoin:round; stroke-width:4; stroke-opacity:1; fill:none\" points=\"\n  139.478,1469.17 1552.76,1469.17 \n  \"/>\n<polyline clip-path=\"url(#clip560)\" style=\"stroke:#000000; stroke-linecap:butt; stroke-linejoin:round; stroke-width:4; stroke-opacity:1; fill:none\" points=\"\n  139.478,1469.17 139.478,1452.1 \n  \"/>\n<polyline clip-path=\"url(#clip560)\" style=\"stroke:#000000; stroke-linecap:butt; stroke-linejoin:round; stroke-width:4; stroke-opacity:1; fill:none\" points=\"\n  559.343,1469.17 559.343,1452.1 \n  \"/>\n<polyline clip-path=\"url(#clip560)\" style=\"stroke:#000000; stroke-linecap:butt; stroke-linejoin:round; stroke-width:4; stroke-opacity:1; fill:none\" points=\"\n  979.209,1469.17 979.209,1452.1 \n  \"/>\n<polyline clip-path=\"url(#clip560)\" style=\"stroke:#000000; stroke-linecap:butt; stroke-linejoin:round; stroke-width:4; stroke-opacity:1; fill:none\" points=\"\n  1399.07,1469.17 1399.07,1452.1 \n  \"/>\n<path clip-path=\"url(#clip560)\" d=\"M109.235 1506.61 L138.911 1506.61 L138.911 1510.55 L109.235 1510.55 L109.235 1506.61 Z\" fill=\"#000000\" fill-rule=\"evenodd\" fill-opacity=\"1\" /><path clip-path=\"url(#clip560)\" d=\"M149.814 1519.5 L157.452 1519.5 L157.452 1493.14 L149.142 1494.81 L149.142 1490.55 L157.406 1488.88 L162.082 1488.88 L162.082 1519.5 L169.721 1519.5 L169.721 1523.44 L149.814 1523.44 L149.814 1519.5 Z\" fill=\"#000000\" fill-rule=\"evenodd\" fill-opacity=\"1\" /><path clip-path=\"url(#clip560)\" d=\"M559.343 1491.96 Q555.732 1491.96 553.904 1495.52 Q552.098 1499.07 552.098 1506.19 Q552.098 1513.3 553.904 1516.87 Q555.732 1520.41 559.343 1520.41 Q562.978 1520.41 564.783 1516.87 Q566.612 1513.3 566.612 1506.19 Q566.612 1499.07 564.783 1495.52 Q562.978 1491.96 559.343 1491.96 M559.343 1488.25 Q565.154 1488.25 568.209 1492.86 Q571.288 1497.44 571.288 1506.19 Q571.288 1514.92 568.209 1519.53 Q565.154 1524.11 559.343 1524.11 Q553.533 1524.11 550.455 1519.53 Q547.399 1514.92 547.399 1506.19 Q547.399 1497.44 550.455 1492.86 Q553.533 1488.25 559.343 1488.25 Z\" fill=\"#000000\" fill-rule=\"evenodd\" fill-opacity=\"1\" /><path clip-path=\"url(#clip560)\" d=\"M969.591 1519.5 L977.23 1519.5 L977.23 1493.14 L968.92 1494.81 L968.92 1490.55 L977.183 1488.88 L981.859 1488.88 L981.859 1519.5 L989.498 1519.5 L989.498 1523.44 L969.591 1523.44 L969.591 1519.5 Z\" fill=\"#000000\" fill-rule=\"evenodd\" fill-opacity=\"1\" /><path clip-path=\"url(#clip560)\" d=\"M1393.73 1519.5 L1410.05 1519.5 L1410.05 1523.44 L1388.1 1523.44 L1388.1 1519.5 Q1390.76 1516.75 1395.35 1512.12 Q1399.95 1507.47 1401.13 1506.13 Q1403.38 1503.6 1404.26 1501.87 Q1405.16 1500.11 1405.16 1498.42 Q1405.16 1495.66 1403.22 1493.93 Q1401.3 1492.19 1398.19 1492.19 Q1396 1492.19 1393.54 1492.95 Q1391.11 1493.72 1388.33 1495.27 L1388.33 1490.55 Q1391.16 1489.41 1393.61 1488.83 Q1396.07 1488.25 1398.1 1488.25 Q1403.47 1488.25 1406.67 1490.94 Q1409.86 1493.63 1409.86 1498.12 Q1409.86 1500.25 1409.05 1502.17 Q1408.26 1504.06 1406.16 1506.66 Q1405.58 1507.33 1402.48 1510.55 Q1399.38 1513.74 1393.73 1519.5 Z\" fill=\"#000000\" fill-rule=\"evenodd\" fill-opacity=\"1\" /><polyline clip-path=\"url(#clip562)\" style=\"stroke:#000000; stroke-linecap:butt; stroke-linejoin:round; stroke-width:2; stroke-opacity:0.1; fill:none\" points=\"\n  139.478,1469.17 1552.76,1469.17 \n  \"/>\n<polyline clip-path=\"url(#clip562)\" style=\"stroke:#000000; stroke-linecap:butt; stroke-linejoin:round; stroke-width:2; stroke-opacity:0.1; fill:none\" points=\"\n  139.478,1046.73 1552.76,1046.73 \n  \"/>\n<polyline clip-path=\"url(#clip562)\" style=\"stroke:#000000; stroke-linecap:butt; stroke-linejoin:round; stroke-width:2; stroke-opacity:0.1; fill:none\" points=\"\n  139.478,624.3 1552.76,624.3 \n  \"/>\n<polyline clip-path=\"url(#clip562)\" style=\"stroke:#000000; stroke-linecap:butt; stroke-linejoin:round; stroke-width:2; stroke-opacity:0.1; fill:none\" points=\"\n  139.478,201.866 1552.76,201.866 \n  \"/>\n<polyline clip-path=\"url(#clip560)\" style=\"stroke:#000000; stroke-linecap:butt; stroke-linejoin:round; stroke-width:4; stroke-opacity:1; fill:none\" points=\"\n  139.478,1469.17 139.478,47.2441 \n  \"/>\n<polyline clip-path=\"url(#clip560)\" style=\"stroke:#000000; stroke-linecap:butt; stroke-linejoin:round; stroke-width:4; stroke-opacity:1; fill:none\" points=\"\n  139.478,1469.17 156.437,1469.17 \n  \"/>\n<polyline clip-path=\"url(#clip560)\" style=\"stroke:#000000; stroke-linecap:butt; stroke-linejoin:round; stroke-width:4; stroke-opacity:1; fill:none\" points=\"\n  139.478,1046.73 156.437,1046.73 \n  \"/>\n<polyline clip-path=\"url(#clip560)\" style=\"stroke:#000000; stroke-linecap:butt; stroke-linejoin:round; stroke-width:4; stroke-opacity:1; fill:none\" points=\"\n  139.478,624.3 156.437,624.3 \n  \"/>\n<polyline clip-path=\"url(#clip560)\" style=\"stroke:#000000; stroke-linecap:butt; stroke-linejoin:round; stroke-width:4; stroke-opacity:1; fill:none\" points=\"\n  139.478,201.866 156.437,201.866 \n  \"/>\n<path clip-path=\"url(#clip560)\" d=\"M54.9921 1469.62 L84.6679 1469.62 L84.6679 1473.55 L54.9921 1473.55 L54.9921 1469.62 Z\" fill=\"#000000\" fill-rule=\"evenodd\" fill-opacity=\"1\" /><path clip-path=\"url(#clip560)\" d=\"M95.5706 1482.51 L103.209 1482.51 L103.209 1456.15 L94.8993 1457.81 L94.8993 1453.55 L103.163 1451.89 L107.839 1451.89 L107.839 1482.51 L115.478 1482.51 L115.478 1486.45 L95.5706 1486.45 L95.5706 1482.51 Z\" fill=\"#000000\" fill-rule=\"evenodd\" fill-opacity=\"1\" /><path clip-path=\"url(#clip560)\" d=\"M103.534 1032.53 Q99.9224 1032.53 98.0937 1036.1 Q96.2882 1039.64 96.2882 1046.77 Q96.2882 1053.87 98.0937 1057.44 Q99.9224 1060.98 103.534 1060.98 Q107.168 1060.98 108.973 1057.44 Q110.802 1053.87 110.802 1046.77 Q110.802 1039.64 108.973 1036.1 Q107.168 1032.53 103.534 1032.53 M103.534 1028.83 Q109.344 1028.83 112.399 1033.44 Q115.478 1038.02 115.478 1046.77 Q115.478 1055.5 112.399 1060.1 Q109.344 1064.69 103.534 1064.69 Q97.7234 1064.69 94.6447 1060.1 Q91.5892 1055.5 91.5892 1046.77 Q91.5892 1038.02 94.6447 1033.44 Q97.7234 1028.83 103.534 1028.83 Z\" fill=\"#000000\" fill-rule=\"evenodd\" fill-opacity=\"1\" /><path clip-path=\"url(#clip560)\" d=\"M95.5706 637.645 L103.209 637.645 L103.209 611.279 L94.8993 612.946 L94.8993 608.686 L103.163 607.02 L107.839 607.02 L107.839 637.645 L115.478 637.645 L115.478 641.58 L95.5706 641.58 L95.5706 637.645 Z\" fill=\"#000000\" fill-rule=\"evenodd\" fill-opacity=\"1\" /><path clip-path=\"url(#clip560)\" d=\"M99.1586 215.211 L115.478 215.211 L115.478 219.146 L93.5336 219.146 L93.5336 215.211 Q96.1956 212.456 100.779 207.826 Q105.385 203.174 106.566 201.831 Q108.811 199.308 109.691 197.572 Q110.594 195.812 110.594 194.123 Q110.594 191.368 108.649 189.632 Q106.728 187.896 103.626 187.896 Q101.427 187.896 98.9734 188.66 Q96.5428 189.424 93.7651 190.975 L93.7651 186.252 Q96.5891 185.118 99.0428 184.539 Q101.497 183.961 103.534 183.961 Q108.904 183.961 112.098 186.646 Q115.293 189.331 115.293 193.822 Q115.293 195.951 114.483 197.873 Q113.696 199.771 111.589 202.363 Q111.01 203.035 107.909 206.252 Q104.807 209.447 99.1586 215.211 Z\" fill=\"#000000\" fill-rule=\"evenodd\" fill-opacity=\"1\" /><polyline clip-path=\"url(#clip562)\" style=\"stroke:#009af9; stroke-linecap:butt; stroke-linejoin:round; stroke-width:4; stroke-opacity:1; fill:none\" points=\"\n  454.377,1440.87 769.276,258.461 1084.18,1440.87 454.377,1440.87 \n  \"/>\n<polyline clip-path=\"url(#clip562)\" style=\"stroke:#ff0000; stroke-linecap:butt; stroke-linejoin:round; stroke-width:4; stroke-opacity:1; fill:none\" points=\"\n  559.343,1046.73 979.209,933.543 \n  \"/>\n<polyline clip-path=\"url(#clip562)\" style=\"stroke:#ff0000; stroke-linecap:butt; stroke-linejoin:round; stroke-width:4; stroke-opacity:1; fill:none\" points=\"\n  952.913,928.204 979.209,933.543 959.16,951.376 \n  \"/>\n<polyline clip-path=\"url(#clip562)\" style=\"stroke:#ff0000; stroke-linecap:butt; stroke-linejoin:round; stroke-width:4; stroke-opacity:1; fill:none\" points=\"\n  979.209,933.543 559.343,1046.73 \n  \"/>\n<polyline clip-path=\"url(#clip562)\" style=\"stroke:#ee82ee; stroke-linecap:butt; stroke-linejoin:round; stroke-width:4; stroke-opacity:1; fill:none\" points=\"\n  559.343,1046.73 979.209,955.662 \n  \"/>\n<polyline clip-path=\"url(#clip562)\" style=\"stroke:#ee82ee; stroke-linecap:butt; stroke-linejoin:round; stroke-width:4; stroke-opacity:1; fill:none\" points=\"\n  953.211,949.022 979.209,955.662 958.298,972.476 \n  \"/>\n<polyline clip-path=\"url(#clip562)\" style=\"stroke:#ee82ee; stroke-linecap:butt; stroke-linejoin:round; stroke-width:4; stroke-opacity:1; fill:none\" points=\"\n  979.209,955.662 559.343,1046.73 \n  \"/>\n<polyline clip-path=\"url(#clip562)\" style=\"stroke:#000000; stroke-linecap:butt; stroke-linejoin:round; stroke-width:4; stroke-opacity:1; fill:none\" points=\"\n  349.411,990.138 979.209,1159.92 \n  \"/>\n<path clip-path=\"url(#clip560)\" d=\"\nM1019.5 336.562 L1505.65 336.562 L1505.65 94.6416 L1019.5 94.6416  Z\n  \" fill=\"#ffffff\" fill-rule=\"evenodd\" fill-opacity=\"1\"/>\n<polyline clip-path=\"url(#clip560)\" style=\"stroke:#000000; stroke-linecap:butt; stroke-linejoin:round; stroke-width:4; stroke-opacity:1; fill:none\" points=\"\n  1019.5,336.562 1505.65,336.562 1505.65,94.6416 1019.5,94.6416 1019.5,336.562 \n  \"/>\n<polyline clip-path=\"url(#clip560)\" style=\"stroke:#ff0000; stroke-linecap:butt; stroke-linejoin:round; stroke-width:4; stroke-opacity:1; fill:none\" points=\"\n  1035.2,155.122 1129.42,155.122 \n  \"/>\n<path clip-path=\"url(#clip560)\" d=\"M1149.4 168.513 L1149.4 182.263 L1145.12 182.263 L1145.12 146.476 L1149.4 146.476 L1149.4 150.411 Q1150.75 148.096 1152.78 146.985 Q1154.84 145.851 1157.69 145.851 Q1162.41 145.851 1165.35 149.601 Q1168.32 153.351 1168.32 159.462 Q1168.32 165.573 1165.35 169.323 Q1162.41 173.073 1157.69 173.073 Q1154.84 173.073 1152.78 171.962 Q1150.75 170.827 1149.4 168.513 M1163.89 159.462 Q1163.89 154.763 1161.95 152.101 Q1160.03 149.416 1156.65 149.416 Q1153.27 149.416 1151.33 152.101 Q1149.4 154.763 1149.4 159.462 Q1149.4 164.161 1151.33 166.846 Q1153.27 169.508 1156.65 169.508 Q1160.03 169.508 1161.95 166.846 Q1163.89 164.161 1163.89 159.462 Z\" fill=\"#000000\" fill-rule=\"evenodd\" fill-opacity=\"1\" /><path clip-path=\"url(#clip560)\" d=\"M1174.94 162.17 L1174.94 146.476 L1179.2 146.476 L1179.2 162.008 Q1179.2 165.689 1180.63 167.54 Q1182.07 169.369 1184.94 169.369 Q1188.39 169.369 1190.38 167.17 Q1192.39 164.971 1192.39 161.175 L1192.39 146.476 L1196.65 146.476 L1196.65 172.402 L1192.39 172.402 L1192.39 168.42 Q1190.84 170.781 1188.78 171.939 Q1186.74 173.073 1184.03 173.073 Q1179.57 173.073 1177.25 170.295 Q1174.94 167.517 1174.94 162.17 M1185.65 145.851 L1185.65 145.851 Z\" fill=\"#000000\" fill-rule=\"evenodd\" fill-opacity=\"1\" /><path clip-path=\"url(#clip560)\" d=\"M1226.97 156.753 L1226.97 172.402 L1222.71 172.402 L1222.71 156.892 Q1222.71 153.212 1221.28 151.383 Q1219.84 149.554 1216.97 149.554 Q1213.52 149.554 1211.53 151.754 Q1209.54 153.953 1209.54 157.749 L1209.54 172.402 L1205.26 172.402 L1205.26 146.476 L1209.54 146.476 L1209.54 150.504 Q1211.07 148.166 1213.13 147.008 Q1215.21 145.851 1217.92 145.851 Q1222.39 145.851 1224.68 148.629 Q1226.97 151.383 1226.97 156.753 Z\" fill=\"#000000\" fill-rule=\"evenodd\" fill-opacity=\"1\" /><path clip-path=\"url(#clip560)\" d=\"M1247.25 159.369 Q1242.09 159.369 1240.1 160.55 Q1238.11 161.73 1238.11 164.578 Q1238.11 166.846 1239.59 168.189 Q1241.09 169.508 1243.66 169.508 Q1247.2 169.508 1249.33 167.008 Q1251.49 164.485 1251.49 160.318 L1251.49 159.369 L1247.25 159.369 M1255.75 157.61 L1255.75 172.402 L1251.49 172.402 L1251.49 168.466 Q1250.03 170.827 1247.85 171.962 Q1245.68 173.073 1242.53 173.073 Q1238.55 173.073 1236.19 170.851 Q1233.85 168.605 1233.85 164.855 Q1233.85 160.48 1236.76 158.258 Q1239.7 156.036 1245.51 156.036 L1251.49 156.036 L1251.49 155.619 Q1251.49 152.679 1249.54 151.082 Q1247.62 149.462 1244.13 149.462 Q1241.9 149.462 1239.8 149.994 Q1237.69 150.527 1235.75 151.591 L1235.75 147.656 Q1238.08 146.754 1240.28 146.314 Q1242.48 145.851 1244.57 145.851 Q1250.19 145.851 1252.97 148.767 Q1255.75 151.684 1255.75 157.61 Z\" fill=\"#000000\" fill-rule=\"evenodd\" fill-opacity=\"1\" /><path clip-path=\"url(#clip560)\" d=\"M1264.52 146.476 L1268.78 146.476 L1268.78 172.402 L1264.52 172.402 L1264.52 146.476 M1264.52 136.383 L1268.78 136.383 L1268.78 141.777 L1264.52 141.777 L1264.52 136.383 Z\" fill=\"#000000\" fill-rule=\"evenodd\" fill-opacity=\"1\" /><path clip-path=\"url(#clip560)\" d=\"M1299.24 156.753 L1299.24 172.402 L1294.98 172.402 L1294.98 156.892 Q1294.98 153.212 1293.55 151.383 Q1292.11 149.554 1289.24 149.554 Q1285.79 149.554 1283.8 151.754 Q1281.81 153.953 1281.81 157.749 L1281.81 172.402 L1277.53 172.402 L1277.53 146.476 L1281.81 146.476 L1281.81 150.504 Q1283.34 148.166 1285.4 147.008 Q1287.48 145.851 1290.19 145.851 Q1294.66 145.851 1296.95 148.629 Q1299.24 151.383 1299.24 156.753 Z\" fill=\"#000000\" fill-rule=\"evenodd\" fill-opacity=\"1\" /><path clip-path=\"url(#clip560)\" d=\"M1329.91 158.374 L1329.91 160.457 L1310.33 160.457 Q1310.61 164.855 1312.97 167.17 Q1315.35 169.462 1319.59 169.462 Q1322.04 169.462 1324.33 168.86 Q1326.65 168.258 1328.92 167.054 L1328.92 171.082 Q1326.63 172.054 1324.22 172.564 Q1321.81 173.073 1319.33 173.073 Q1313.13 173.073 1309.5 169.462 Q1305.88 165.851 1305.88 159.693 Q1305.88 153.328 1309.31 149.601 Q1312.76 145.851 1318.59 145.851 Q1323.82 145.851 1326.86 149.23 Q1329.91 152.587 1329.91 158.374 M1325.65 157.124 Q1325.61 153.629 1323.69 151.545 Q1321.79 149.462 1318.64 149.462 Q1315.07 149.462 1312.92 151.476 Q1310.79 153.49 1310.47 157.147 L1325.65 157.124 Z\" fill=\"#000000\" fill-rule=\"evenodd\" fill-opacity=\"1\" /><path clip-path=\"url(#clip560)\" d=\"M1358.45 156.753 L1358.45 172.402 L1354.19 172.402 L1354.19 156.892 Q1354.19 153.212 1352.76 151.383 Q1351.32 149.554 1348.45 149.554 Q1345.01 149.554 1343.01 151.754 Q1341.02 153.953 1341.02 157.749 L1341.02 172.402 L1336.74 172.402 L1336.74 146.476 L1341.02 146.476 L1341.02 150.504 Q1342.55 148.166 1344.61 147.008 Q1346.69 145.851 1349.4 145.851 Q1353.87 145.851 1356.16 148.629 Q1358.45 151.383 1358.45 156.753 Z\" fill=\"#000000\" fill-rule=\"evenodd\" fill-opacity=\"1\" /><path clip-path=\"url(#clip560)\" d=\"M1378.96 146.476 L1383.48 146.476 L1391.58 168.235 L1399.68 146.476 L1404.19 146.476 L1394.47 172.402 L1388.69 172.402 L1378.96 146.476 Z\" fill=\"#000000\" fill-rule=\"evenodd\" fill-opacity=\"1\" /><path clip-path=\"url(#clip560)\" d=\"M1421.86 159.369 Q1416.69 159.369 1414.7 160.55 Q1412.71 161.73 1412.71 164.578 Q1412.71 166.846 1414.19 168.189 Q1415.7 169.508 1418.27 169.508 Q1421.81 169.508 1423.94 167.008 Q1426.09 164.485 1426.09 160.318 L1426.09 159.369 L1421.86 159.369 M1430.35 157.61 L1430.35 172.402 L1426.09 172.402 L1426.09 168.466 Q1424.63 170.827 1422.46 171.962 Q1420.28 173.073 1417.13 173.073 Q1413.15 173.073 1410.79 170.851 Q1408.45 168.605 1408.45 164.855 Q1408.45 160.48 1411.37 158.258 Q1414.31 156.036 1420.12 156.036 L1426.09 156.036 L1426.09 155.619 Q1426.09 152.679 1424.15 151.082 Q1422.23 149.462 1418.73 149.462 Q1416.51 149.462 1414.4 149.994 Q1412.3 150.527 1410.35 151.591 L1410.35 147.656 Q1412.69 146.754 1414.89 146.314 Q1417.09 145.851 1419.17 145.851 Q1424.8 145.851 1427.57 148.767 Q1430.35 151.684 1430.35 157.61 Z\" fill=\"#000000\" fill-rule=\"evenodd\" fill-opacity=\"1\" /><path clip-path=\"url(#clip560)\" d=\"M1439.12 136.383 L1443.38 136.383 L1443.38 172.402 L1439.12 172.402 L1439.12 136.383 Z\" fill=\"#000000\" fill-rule=\"evenodd\" fill-opacity=\"1\" /><path clip-path=\"url(#clip560)\" d=\"M1462.34 149.462 Q1458.92 149.462 1456.93 152.147 Q1454.94 154.809 1454.94 159.462 Q1454.94 164.115 1456.9 166.8 Q1458.89 169.462 1462.34 169.462 Q1465.75 169.462 1467.74 166.777 Q1469.73 164.091 1469.73 159.462 Q1469.73 154.855 1467.74 152.17 Q1465.75 149.462 1462.34 149.462 M1462.34 145.851 Q1467.9 145.851 1471.07 149.462 Q1474.24 153.073 1474.24 159.462 Q1474.24 165.828 1471.07 169.462 Q1467.9 173.073 1462.34 173.073 Q1456.76 173.073 1453.59 169.462 Q1450.44 165.828 1450.44 159.462 Q1450.44 153.073 1453.59 149.462 Q1456.76 145.851 1462.34 145.851 Z\" fill=\"#000000\" fill-rule=\"evenodd\" fill-opacity=\"1\" /><polyline clip-path=\"url(#clip560)\" style=\"stroke:#ee82ee; stroke-linecap:butt; stroke-linejoin:round; stroke-width:4; stroke-opacity:1; fill:none\" points=\"\n  1035.2,215.602 1129.42,215.602 \n  \"/>\n<path clip-path=\"url(#clip560)\" d=\"M1145.12 206.956 L1149.64 206.956 L1157.74 228.715 L1165.84 206.956 L1170.35 206.956 L1160.63 232.882 L1154.84 232.882 L1145.12 206.956 Z\" fill=\"#000000\" fill-rule=\"evenodd\" fill-opacity=\"1\" /><path clip-path=\"url(#clip560)\" d=\"M1176.23 206.956 L1180.49 206.956 L1180.49 232.882 L1176.23 232.882 L1176.23 206.956 M1176.23 196.863 L1180.49 196.863 L1180.49 202.257 L1176.23 202.257 L1176.23 196.863 Z\" fill=\"#000000\" fill-rule=\"evenodd\" fill-opacity=\"1\" /><path clip-path=\"url(#clip560)\" d=\"M1199.45 209.942 Q1196.02 209.942 1194.03 212.627 Q1192.04 215.289 1192.04 219.942 Q1192.04 224.595 1194.01 227.28 Q1196 229.942 1199.45 229.942 Q1202.85 229.942 1204.84 227.257 Q1206.83 224.571 1206.83 219.942 Q1206.83 215.335 1204.84 212.65 Q1202.85 209.942 1199.45 209.942 M1199.45 206.331 Q1205.01 206.331 1208.18 209.942 Q1211.35 213.553 1211.35 219.942 Q1211.35 226.308 1208.18 229.942 Q1205.01 233.553 1199.45 233.553 Q1193.87 233.553 1190.7 229.942 Q1187.55 226.308 1187.55 219.942 Q1187.55 213.553 1190.7 209.942 Q1193.87 206.331 1199.45 206.331 Z\" fill=\"#000000\" fill-rule=\"evenodd\" fill-opacity=\"1\" /><path clip-path=\"url(#clip560)\" d=\"M1218.41 196.863 L1222.67 196.863 L1222.67 232.882 L1218.41 232.882 L1218.41 196.863 Z\" fill=\"#000000\" fill-rule=\"evenodd\" fill-opacity=\"1\" /><path clip-path=\"url(#clip560)\" d=\"M1253.76 218.854 L1253.76 220.937 L1234.17 220.937 Q1234.45 225.335 1236.81 227.65 Q1239.2 229.942 1243.43 229.942 Q1245.89 229.942 1248.18 229.34 Q1250.49 228.738 1252.76 227.534 L1252.76 231.562 Q1250.47 232.534 1248.06 233.044 Q1245.65 233.553 1243.18 233.553 Q1236.97 233.553 1233.34 229.942 Q1229.73 226.331 1229.73 220.173 Q1229.73 213.808 1233.15 210.081 Q1236.6 206.331 1242.44 206.331 Q1247.67 206.331 1250.7 209.71 Q1253.76 213.067 1253.76 218.854 M1249.5 217.604 Q1249.45 214.109 1247.53 212.025 Q1245.63 209.942 1242.48 209.942 Q1238.92 209.942 1236.76 211.956 Q1234.64 213.97 1234.31 217.627 L1249.5 217.604 Z\" fill=\"#000000\" fill-rule=\"evenodd\" fill-opacity=\"1\" /><path clip-path=\"url(#clip560)\" d=\"M1264.96 199.595 L1264.96 206.956 L1273.73 206.956 L1273.73 210.266 L1264.96 210.266 L1264.96 224.34 Q1264.96 227.511 1265.82 228.414 Q1266.7 229.317 1269.36 229.317 L1273.73 229.317 L1273.73 232.882 L1269.36 232.882 Q1264.43 232.882 1262.55 231.053 Q1260.68 229.201 1260.68 224.34 L1260.68 210.266 L1257.55 210.266 L1257.55 206.956 L1260.68 206.956 L1260.68 199.595 L1264.96 199.595 Z\" fill=\"#000000\" fill-rule=\"evenodd\" fill-opacity=\"1\" /><path clip-path=\"url(#clip560)\" d=\"M1283.55 199.595 L1283.55 206.956 L1292.32 206.956 L1292.32 210.266 L1283.55 210.266 L1283.55 224.34 Q1283.55 227.511 1284.4 228.414 Q1285.28 229.317 1287.95 229.317 L1292.32 229.317 L1292.32 232.882 L1287.95 232.882 Q1283.01 232.882 1281.14 231.053 Q1279.26 229.201 1279.26 224.34 L1279.26 210.266 L1276.14 210.266 L1276.14 206.956 L1279.26 206.956 L1279.26 199.595 L1283.55 199.595 Z\" fill=\"#000000\" fill-rule=\"evenodd\" fill-opacity=\"1\" /><path clip-path=\"url(#clip560)\" d=\"M1297.92 206.956 L1302.18 206.956 L1302.18 232.882 L1297.92 232.882 L1297.92 206.956 M1297.92 196.863 L1302.18 196.863 L1302.18 202.257 L1297.92 202.257 L1297.92 196.863 Z\" fill=\"#000000\" fill-rule=\"evenodd\" fill-opacity=\"1\" /><path clip-path=\"url(#clip560)\" d=\"M1323.11 206.956 L1327.62 206.956 L1335.72 228.715 L1343.82 206.956 L1348.34 206.956 L1338.62 232.882 L1332.83 232.882 L1323.11 206.956 Z\" fill=\"#000000\" fill-rule=\"evenodd\" fill-opacity=\"1\" /><path clip-path=\"url(#clip560)\" d=\"M1366 219.849 Q1360.84 219.849 1358.85 221.03 Q1356.86 222.21 1356.86 225.058 Q1356.86 227.326 1358.34 228.669 Q1359.84 229.988 1362.41 229.988 Q1365.95 229.988 1368.08 227.488 Q1370.24 224.965 1370.24 220.798 L1370.24 219.849 L1366 219.849 M1374.5 218.09 L1374.5 232.882 L1370.24 232.882 L1370.24 228.946 Q1368.78 231.307 1366.6 232.442 Q1364.43 233.553 1361.28 233.553 Q1357.3 233.553 1354.94 231.331 Q1352.6 229.085 1352.6 225.335 Q1352.6 220.96 1355.51 218.738 Q1358.45 216.516 1364.26 216.516 L1370.24 216.516 L1370.24 216.099 Q1370.24 213.159 1368.29 211.562 Q1366.37 209.942 1362.88 209.942 Q1360.65 209.942 1358.55 210.474 Q1356.44 211.007 1354.5 212.071 L1354.5 208.136 Q1356.83 207.234 1359.03 206.794 Q1361.23 206.331 1363.32 206.331 Q1368.94 206.331 1371.72 209.247 Q1374.5 212.164 1374.5 218.09 Z\" fill=\"#000000\" fill-rule=\"evenodd\" fill-opacity=\"1\" /><path clip-path=\"url(#clip560)\" d=\"M1383.27 196.863 L1387.53 196.863 L1387.53 232.882 L1383.27 232.882 L1383.27 196.863 Z\" fill=\"#000000\" fill-rule=\"evenodd\" fill-opacity=\"1\" /><path clip-path=\"url(#clip560)\" d=\"M1406.49 209.942 Q1403.06 209.942 1401.07 212.627 Q1399.08 215.289 1399.08 219.942 Q1399.08 224.595 1401.05 227.28 Q1403.04 229.942 1406.49 229.942 Q1409.89 229.942 1411.88 227.257 Q1413.87 224.571 1413.87 219.942 Q1413.87 215.335 1411.88 212.65 Q1409.89 209.942 1406.49 209.942 M1406.49 206.331 Q1412.04 206.331 1415.21 209.942 Q1418.38 213.553 1418.38 219.942 Q1418.38 226.308 1415.21 229.942 Q1412.04 233.553 1406.49 233.553 Q1400.91 233.553 1397.74 229.942 Q1394.59 226.308 1394.59 219.942 Q1394.59 213.553 1397.74 209.942 Q1400.91 206.331 1406.49 206.331 Z\" fill=\"#000000\" fill-rule=\"evenodd\" fill-opacity=\"1\" /><polyline clip-path=\"url(#clip560)\" style=\"stroke:#000000; stroke-linecap:butt; stroke-linejoin:round; stroke-width:4; stroke-opacity:1; fill:none\" points=\"\n  1035.2,276.082 1129.42,276.082 \n  \"/>\n<path clip-path=\"url(#clip560)\" d=\"M1166.83 277.713 L1166.83 293.362 L1162.58 293.362 L1162.58 277.852 Q1162.58 274.172 1161.14 272.343 Q1159.71 270.514 1156.83 270.514 Q1153.39 270.514 1151.39 272.714 Q1149.4 274.913 1149.4 278.709 L1149.4 293.362 L1145.12 293.362 L1145.12 267.436 L1149.4 267.436 L1149.4 271.464 Q1150.93 269.126 1152.99 267.968 Q1155.08 266.811 1157.78 266.811 Q1162.25 266.811 1164.54 269.589 Q1166.83 272.343 1166.83 277.713 Z\" fill=\"#000000\" fill-rule=\"evenodd\" fill-opacity=\"1\" /><path clip-path=\"url(#clip560)\" d=\"M1185.38 270.422 Q1181.95 270.422 1179.96 273.107 Q1177.97 275.769 1177.97 280.422 Q1177.97 285.075 1179.94 287.76 Q1181.93 290.422 1185.38 290.422 Q1188.78 290.422 1190.77 287.737 Q1192.76 285.051 1192.76 280.422 Q1192.76 275.815 1190.77 273.13 Q1188.78 270.422 1185.38 270.422 M1185.38 266.811 Q1190.93 266.811 1194.1 270.422 Q1197.27 274.033 1197.27 280.422 Q1197.27 286.788 1194.1 290.422 Q1190.93 294.033 1185.38 294.033 Q1179.8 294.033 1176.63 290.422 Q1173.48 286.788 1173.48 280.422 Q1173.48 274.033 1176.63 270.422 Q1179.8 266.811 1185.38 266.811 Z\" fill=\"#000000\" fill-rule=\"evenodd\" fill-opacity=\"1\" /><path clip-path=\"url(#clip560)\" d=\"M1219.36 271.417 Q1218.64 271.001 1217.78 270.815 Q1216.95 270.607 1215.93 270.607 Q1212.32 270.607 1210.38 272.968 Q1208.45 275.306 1208.45 279.704 L1208.45 293.362 L1204.17 293.362 L1204.17 267.436 L1208.45 267.436 L1208.45 271.464 Q1209.8 269.102 1211.95 267.968 Q1214.1 266.811 1217.18 266.811 Q1217.62 266.811 1218.15 266.88 Q1218.69 266.927 1219.33 267.042 L1219.36 271.417 Z\" fill=\"#000000\" fill-rule=\"evenodd\" fill-opacity=\"1\" /><path clip-path=\"url(#clip560)\" d=\"M1243.18 272.413 Q1244.77 269.542 1247 268.177 Q1249.22 266.811 1252.23 266.811 Q1256.28 266.811 1258.48 269.658 Q1260.68 272.482 1260.68 277.713 L1260.68 293.362 L1256.39 293.362 L1256.39 277.852 Q1256.39 274.126 1255.07 272.32 Q1253.76 270.514 1251.05 270.514 Q1247.74 270.514 1245.82 272.714 Q1243.89 274.913 1243.89 278.709 L1243.89 293.362 L1239.61 293.362 L1239.61 277.852 Q1239.61 274.102 1238.29 272.32 Q1236.97 270.514 1234.22 270.514 Q1230.95 270.514 1229.03 272.737 Q1227.11 274.936 1227.11 278.709 L1227.11 293.362 L1222.83 293.362 L1222.83 267.436 L1227.11 267.436 L1227.11 271.464 Q1228.57 269.079 1230.61 267.945 Q1232.64 266.811 1235.45 266.811 Q1238.27 266.811 1240.24 268.246 Q1242.23 269.681 1243.18 272.413 Z\" fill=\"#000000\" fill-rule=\"evenodd\" fill-opacity=\"1\" /><path clip-path=\"url(#clip560)\" d=\"M1280.95 280.329 Q1275.79 280.329 1273.8 281.51 Q1271.81 282.69 1271.81 285.538 Q1271.81 287.806 1273.29 289.149 Q1274.8 290.468 1277.37 290.468 Q1280.91 290.468 1283.04 287.968 Q1285.19 285.445 1285.19 281.278 L1285.19 280.329 L1280.95 280.329 M1289.45 278.57 L1289.45 293.362 L1285.19 293.362 L1285.19 289.426 Q1283.73 291.787 1281.56 292.922 Q1279.38 294.033 1276.23 294.033 Q1272.25 294.033 1269.89 291.811 Q1267.55 289.565 1267.55 285.815 Q1267.55 281.44 1270.47 279.218 Q1273.41 276.996 1279.22 276.996 L1285.19 276.996 L1285.19 276.579 Q1285.19 273.639 1283.25 272.042 Q1281.32 270.422 1277.83 270.422 Q1275.61 270.422 1273.5 270.954 Q1271.39 271.487 1269.45 272.551 L1269.45 268.616 Q1271.79 267.714 1273.99 267.274 Q1276.19 266.811 1278.27 266.811 Q1283.89 266.811 1286.67 269.727 Q1289.45 272.644 1289.45 278.57 Z\" fill=\"#000000\" fill-rule=\"evenodd\" fill-opacity=\"1\" /><path clip-path=\"url(#clip560)\" d=\"M1310.01 280.329 Q1304.84 280.329 1302.85 281.51 Q1300.86 282.69 1300.86 285.538 Q1300.86 287.806 1302.34 289.149 Q1303.85 290.468 1306.42 290.468 Q1309.96 290.468 1312.09 287.968 Q1314.24 285.445 1314.24 281.278 L1314.24 280.329 L1310.01 280.329 M1318.5 278.57 L1318.5 293.362 L1314.24 293.362 L1314.24 289.426 Q1312.78 291.787 1310.61 292.922 Q1308.43 294.033 1305.28 294.033 Q1301.3 294.033 1298.94 291.811 Q1296.6 289.565 1296.6 285.815 Q1296.6 281.44 1299.52 279.218 Q1302.46 276.996 1308.27 276.996 L1314.24 276.996 L1314.24 276.579 Q1314.24 273.639 1312.3 272.042 Q1310.38 270.422 1306.88 270.422 Q1304.66 270.422 1302.55 270.954 Q1300.45 271.487 1298.5 272.551 L1298.5 268.616 Q1300.84 267.714 1303.04 267.274 Q1305.24 266.811 1307.32 266.811 Q1312.95 266.811 1315.72 269.727 Q1318.5 272.644 1318.5 278.57 Z\" fill=\"#000000\" fill-rule=\"evenodd\" fill-opacity=\"1\" /><path clip-path=\"url(#clip560)\" d=\"M1327.27 257.343 L1331.53 257.343 L1331.53 293.362 L1327.27 293.362 L1327.27 257.343 Z\" fill=\"#000000\" fill-rule=\"evenodd\" fill-opacity=\"1\" /><path clip-path=\"url(#clip560)\" d=\"M1340.44 267.436 L1344.7 267.436 L1344.7 293.362 L1340.44 293.362 L1340.44 267.436 M1340.44 257.343 L1344.7 257.343 L1344.7 262.737 L1340.44 262.737 L1340.44 257.343 Z\" fill=\"#000000\" fill-rule=\"evenodd\" fill-opacity=\"1\" /></svg>\n"
          },
          "metadata": {}
        }
      ],
      "execution_count": 255,
      "metadata": {
        "collapsed": false,
        "jupyter": {
          "source_hidden": false,
          "outputs_hidden": false
        },
        "nteract": {
          "transient": {
            "deleting": false
          }
        },
        "execution": {
          "iopub.status.busy": "2021-10-31T14:57:16.188Z",
          "iopub.execute_input": "2021-10-31T14:57:16.207Z",
          "iopub.status.idle": "2021-10-31T14:57:16.256Z"
        }
      }
    },
    {
      "cell_type": "markdown",
      "source": [
        "k-11 Hilalaki $d sin \\alpha = k \\lambda$\n",
        "\n",
        "Kirjan vastaus: 656 nm"
      ],
      "metadata": {
        "nteract": {
          "transient": {
            "deleting": false
          }
        }
      }
    },
    {
      "cell_type": "code",
      "source": [
        "d=0.01/500\n",
        "a=2\n",
        "b=6.56e-2\n",
        "alpha=atan(b/a)\n",
        "lambda=d*sin(alpha)\n",
        "@printf(\"Aallonpituus on %.0f nm.\\n\",lambda*1e9)"
      ],
      "outputs": [
        {
          "output_type": "stream",
          "name": "stdout",
          "text": [
            "Aallonpituus on 656 nm.\n"
          ]
        }
      ],
      "execution_count": 260,
      "metadata": {
        "collapsed": true,
        "jupyter": {
          "source_hidden": false,
          "outputs_hidden": false
        },
        "nteract": {
          "transient": {
            "deleting": false
          }
        },
        "execution": {
          "iopub.status.busy": "2021-10-31T15:27:12.033Z",
          "iopub.execute_input": "2021-10-31T15:27:12.050Z",
          "iopub.status.idle": "2021-10-31T15:27:12.196Z"
        }
      }
    },
    {
      "cell_type": "markdown",
      "source": [
        "k-12\n",
        "\n",
        "Kirjan vastaus: 657 nm, 4.56e14Hz"
      ],
      "metadata": {
        "nteract": {
          "transient": {
            "deleting": false
          }
        }
      }
    },
    {
      "cell_type": "code",
      "source": [
        "d=0.01/5700\n",
        "alpha=22*pi/180\n",
        "lambda=d*sin(alpha)\n",
        "f=c/lambda\n",
        "@printf(\"Aallonpituus on %.0f nm, taajuus %.2f THz.\\n\",\n",
        "  lambda*1e9,f/1e12)"
      ],
      "outputs": [
        {
          "output_type": "stream",
          "name": "stdout",
          "text": [
            "Aallonpituus on 657 nm, taajuus 456.16 THz.\n"
          ]
        }
      ],
      "execution_count": 262,
      "metadata": {
        "collapsed": true,
        "jupyter": {
          "source_hidden": false,
          "outputs_hidden": false
        },
        "nteract": {
          "transient": {
            "deleting": false
          }
        },
        "execution": {
          "iopub.status.busy": "2021-10-31T17:45:28.602Z",
          "iopub.execute_input": "2021-10-31T17:45:28.621Z",
          "iopub.status.idle": "2021-10-31T17:45:28.660Z"
        }
      }
    },
    {
      "cell_type": "markdown",
      "source": [
        "k-13 vaimennus, kun $2d=k\\lambda$ l=600 nm\n",
        "\n",
        "vahvistus jos $2d=(k+½)\\lambda$ l=700 nm\n",
        "\n",
        "Kirjan vastaus: 840 nm, mutta se on mielestäni väärä. Sama tehtävä oli myös 4-14. Vastauksessa k:n arvot eivät ole kokonaislukuja."
      ],
      "metadata": {
        "nteract": {
          "transient": {
            "deleting": false
          }
        }
      }
    },
    {
      "cell_type": "code",
      "source": [
        "n=1.25\n",
        "l1=600/n\n",
        "l2=700/n\n",
        "bestd=10000\n",
        "bestdiff=10000\n",
        "for i=1:5\n",
        "  d1=i*l1/2\n",
        "  for j=1:5\n",
        "    d2=(j+0.5)*l2/2\n",
        "    diff=abs(d1-d2)\n",
        "    if diff<bestdiff\n",
        "      k1=i\n",
        "      k2=j\n",
        "      bestd=d1\n",
        "      bestdiff=diff\n",
        "    end\n",
        "  end\n",
        "end\n",
        "@printf(\"Kalvon paksuus on %.0f nm. ero on %.0f nm\\n\",\n",
        "  bestd,bestdiff)\n",
        "@printf(\"l1=%.0f l2=%.0f k1=%d, k2=%d\\n\", l1,l2,k1,k2)\n",
        "d=840\n",
        "k1=2*d/l1\n",
        "k2=2*d/l2-0.5\n",
        "@printf(\"Kirjan vastauksessa k1=%.1f ja k2=%.1f\\n\",k1,k2)\n",
        "d1=4*l1/2\n",
        "d2=3.5*l2/2\n",
        "@printf(\"Tällöin d1=%.0f ja d=%.0f\\n\",d1,d2)\n"
      ],
      "outputs": [
        {
          "output_type": "stream",
          "name": "stdout",
          "text": [
            "Kalvon paksuus on 720 nm. ero on 20 nm\n",
            "l1=480 l2=560 k1=3, k2=2\n",
            "Kirjan vastauksessa k1=3.5 ja k2=2.5\n",
            "Tällöin d1=960 ja d=980\n"
          ]
        }
      ],
      "execution_count": 275,
      "metadata": {
        "collapsed": true,
        "jupyter": {
          "source_hidden": false,
          "outputs_hidden": false
        },
        "nteract": {
          "transient": {
            "deleting": false
          }
        },
        "execution": {
          "iopub.status.busy": "2021-10-31T18:31:01.716Z",
          "iopub.execute_input": "2021-10-31T18:31:01.738Z",
          "iopub.status.idle": "2021-10-31T18:31:01.906Z"
        }
      }
    },
    {
      "cell_type": "markdown",
      "source": [
        "k-16 $F_m=q v B sin \\alpha$\n",
        "\n",
        "Kirjan vastaus: a 43 fN"
      ],
      "metadata": {
        "nteract": {
          "transient": {
            "deleting": false
          }
        }
      }
    },
    {
      "cell_type": "code",
      "source": [
        "q=1.60218e-19\n",
        "v=1.3e6\n",
        "B=990e-3\n",
        "a=12*pi/180\n",
        "Fm=q*v*B*sin(a)\n",
        "@printf(\"Voima on %.0f fN\\n\",Fm*1e15)"
      ],
      "outputs": [
        {
          "output_type": "stream",
          "name": "stdout",
          "text": [
            "Voima on 43 fN\n"
          ]
        }
      ],
      "execution_count": 281,
      "metadata": {
        "collapsed": true,
        "jupyter": {
          "source_hidden": false,
          "outputs_hidden": false
        },
        "nteract": {
          "transient": {
            "deleting": false
          }
        },
        "execution": {
          "iopub.status.busy": "2021-10-31T18:58:44.580Z",
          "iopub.execute_input": "2021-10-31T18:58:44.604Z",
          "iopub.status.idle": "2021-10-31T18:58:44.652Z"
        }
      }
    },
    {
      "cell_type": "markdown",
      "source": [
        "k-17\n",
        "\n",
        "Kirjan vastaus: 3.2 fN"
      ],
      "metadata": {
        "nteract": {
          "transient": {
            "deleting": false
          }
        }
      }
    },
    {
      "cell_type": "code",
      "source": [
        "q=1.60218e-19\n",
        "v=8.5e6\n",
        "B=3.5e-6/15e-4\n",
        "a=pi/2\n",
        "Fm=q*v*B*sin(a)\n",
        "@printf(\"Voima on %.1f fN\\n\",Fm*1e15)"
      ],
      "outputs": [
        {
          "output_type": "stream",
          "name": "stdout",
          "text": [
            "Voima on 3.2 fN\n"
          ]
        }
      ],
      "execution_count": 284,
      "metadata": {
        "collapsed": true,
        "jupyter": {
          "source_hidden": false,
          "outputs_hidden": false
        },
        "nteract": {
          "transient": {
            "deleting": false
          }
        },
        "execution": {
          "iopub.status.busy": "2021-10-31T19:01:21.247Z",
          "iopub.execute_input": "2021-10-31T19:01:21.270Z",
          "iopub.status.idle": "2021-10-31T19:01:21.316Z"
        }
      }
    },
    {
      "cell_type": "markdown",
      "source": [
        "k-18 $\\omega=\\frac{qB}{m}$\n",
        "\n",
        "Kirjan vastaus: 93 ns"
      ],
      "metadata": {
        "nteract": {
          "transient": {
            "deleting": false
          }
        }
      }
    },
    {
      "cell_type": "code",
      "source": [
        "q=2*1.60218e-19\n",
        "B=1.4\n",
        "m=6.644e-27\n",
        "omega=q*B/m\n",
        "t=2*pi/omega\n",
        "@printf(\"Kierrosaika on %.0f ns.\\n\",t*1e9)"
      ],
      "outputs": [
        {
          "output_type": "stream",
          "name": "stdout",
          "text": [
            "Kierrosaika on 93 ns.\n"
          ]
        }
      ],
      "execution_count": 294,
      "metadata": {
        "collapsed": true,
        "jupyter": {
          "source_hidden": false,
          "outputs_hidden": false
        },
        "nteract": {
          "transient": {
            "deleting": false
          }
        },
        "execution": {
          "iopub.status.busy": "2021-11-01T19:02:41.623Z",
          "iopub.execute_input": "2021-11-01T19:02:41.645Z",
          "iopub.status.idle": "2021-11-01T19:02:41.686Z"
        }
      }
    },
    {
      "cell_type": "markdown",
      "source": [
        "k-19 $E=½mv^2$\n",
        "\n",
        "Kirjan vastaus: b) 0.32 T ja 3.3 MHz"
      ],
      "metadata": {
        "nteract": {
          "transient": {
            "deleting": false
          }
        }
      }
    },
    {
      "cell_type": "code",
      "source": [
        "E=7e6*1.60218e-19\n",
        "q=2*1.60218e-19\n",
        "m=3*1.67e-27\n",
        "v=sqrt(2*E/m)\n",
        "r=1.03\n",
        "omega=v/r\n",
        "B=omega*m/q\n",
        "f=omega/(2pi)\n",
        "@printf(\"Magneettivuon tiheys on %.2f T, taajuus on %.1e Hz.\\n\"\n",
        "  ,B,f)"
      ],
      "outputs": [
        {
          "output_type": "stream",
          "name": "stdout",
          "text": [
            "Magneettivuon tiheys B on 0.32 T, taajuus on 3.3e+06 Hz\n"
          ]
        }
      ],
      "execution_count": 298,
      "metadata": {
        "collapsed": true,
        "jupyter": {
          "source_hidden": false,
          "outputs_hidden": false
        },
        "nteract": {
          "transient": {
            "deleting": false
          }
        },
        "execution": {
          "iopub.status.busy": "2021-11-01T19:46:06.355Z",
          "iopub.execute_input": "2021-11-01T19:46:06.382Z",
          "iopub.status.idle": "2021-11-01T19:46:06.441Z"
        }
      }
    },
    {
      "cell_type": "markdown",
      "source": [
        "k-20 $v=\\sqrt{\\frac{2qU}{m}}$ $r=\\frac{mv}{qB}$\n",
        "\n",
        "$U=\\frac{m v^2}{2 q}, v=\\frac{r q B}{m}$\n",
        "\n",
        "$U=\\frac{m r^2 q^2 B^2}{2 q m^2}$\n",
        "\n",
        "$U=\\frac{r^2 q B^2}{2 m} = k \\frac{q}{m}$\n",
        "\n",
        "$m_{\\alpha}=4 u, q_{\\alpha}=2e$\n",
        "$m_{p}=1 u, q_{p}=1e$\n",
        "\n",
        "Tarvitaan kaksinkertainen jännite eli 64 kV\n",
        "\n",
        "Kirjan vastaus: b) 64 kV"
      ],
      "metadata": {
        "nteract": {
          "transient": {
            "deleting": false
          }
        }
      }
    },
    {
      "cell_type": "markdown",
      "source": [
        "k-21 $F_m=F_s, qE=qvB => v=E/B$\n",
        "\n",
        "$v=\\sqrt{\\frac{2qU}{m}}$\n",
        "\n",
        "Kirjan vastaus: 46 kN/C"
      ],
      "metadata": {
        "nteract": {
          "transient": {
            "deleting": false
          }
        }
      }
    },
    {
      "cell_type": "code",
      "source": [
        "q=3*1.60218e-19\n",
        "U=120e3\n",
        "m=39.9624*1.66054e-27\n",
        "v=sqrt(2*q*U/m)\n",
        "B=35e-3\n",
        "E=v*B\n",
        "@printf(\"Sähkökentän voimakkuus on %.0f kN/C.\\n\",E/1e3)"
      ],
      "outputs": [
        {
          "output_type": "stream",
          "name": "stdout",
          "text": [
            "Sähkökentän voimakkuus on 46 kN/C.\n"
          ]
        }
      ],
      "execution_count": 304,
      "metadata": {
        "collapsed": true,
        "jupyter": {
          "source_hidden": false,
          "outputs_hidden": false
        },
        "nteract": {
          "transient": {
            "deleting": false
          }
        },
        "execution": {
          "iopub.status.busy": "2021-11-02T20:07:35.281Z",
          "iopub.execute_input": "2021-11-02T20:07:35.305Z",
          "iopub.status.idle": "2021-11-02T20:07:35.354Z"
        }
      }
    },
    {
      "cell_type": "markdown",
      "source": [
        "k-22 $F_m=IlBsin\\alpha$\n",
        "\n",
        "Kirjan vastaus: b) 32 µN itään"
      ],
      "metadata": {
        "nteract": {
          "transient": {
            "deleting": false
          }
        }
      }
    },
    {
      "cell_type": "code",
      "source": [
        "I=4\n",
        "l=0.5\n",
        "B=49e-6\n",
        "m=cos(pi/180*71) # kohtisuora osuus\n",
        "Fm=I*l*B*m\n",
        "@printf(\"Voima on %.0f µN.\\n\",1e6*Fm)"
      ],
      "outputs": [
        {
          "output_type": "stream",
          "name": "stdout",
          "text": [
            "Voima on 32 µN.\n"
          ]
        }
      ],
      "execution_count": 319,
      "metadata": {
        "collapsed": true,
        "jupyter": {
          "source_hidden": false,
          "outputs_hidden": false
        },
        "nteract": {
          "transient": {
            "deleting": false
          }
        },
        "execution": {
          "iopub.status.busy": "2021-11-08T18:05:21.619Z",
          "iopub.execute_input": "2021-11-08T18:05:21.645Z",
          "iopub.status.idle": "2021-11-08T18:05:21.706Z"
        }
      }
    },
    {
      "cell_type": "markdown",
      "source": [
        "k-23\n",
        "\n",
        "Kirjan vastaus: a) 0.14 A"
      ],
      "metadata": {
        "nteract": {
          "transient": {
            "deleting": false
          }
        }
      }
    },
    {
      "cell_type": "code",
      "source": [
        "B=0.38\n",
        "g=9.8\n",
        "A=2e-6\n",
        "ro=2.7e-3/0.01^3\n",
        "m=A*ro\n",
        "Fm=m*g\n",
        "I=Fm/B\n",
        "@printf(\"Virta on %.2f A.\\n\",I)"
      ],
      "outputs": [
        {
          "output_type": "stream",
          "name": "stdout",
          "text": [
            "Virta on 0.14 A.\n"
          ]
        }
      ],
      "execution_count": 308,
      "metadata": {
        "collapsed": true,
        "jupyter": {
          "source_hidden": false,
          "outputs_hidden": false
        },
        "nteract": {
          "transient": {
            "deleting": false
          }
        },
        "execution": {
          "iopub.status.busy": "2021-11-08T17:33:36.935Z",
          "iopub.execute_input": "2021-11-08T17:33:36.965Z",
          "iopub.status.idle": "2021-11-08T17:33:37.018Z"
        }
      }
    },
    {
      "cell_type": "markdown",
      "source": [
        "k-24\n",
        "\n",
        "Kirjan vastaus: a) 0.31 T b) 58 mN"
      ],
      "metadata": {
        "nteract": {
          "transient": {
            "deleting": false
          }
        }
      }
    },
    {
      "cell_type": "code",
      "source": [
        "Fm=55e-3\n",
        "l=0.045\n",
        "I=4\n",
        "B=Fm/(I*l)\n",
        "@printf(\"Magneettivuon tiheys on %.2f T.\\n\",B)\n",
        "B=0.2\n",
        "l=0.06\n",
        "v=2\n",
        "e=l*v*B\n",
        "R=5e-3\n",
        "I=e/R\n",
        "Fm=B*I*l\n",
        "@printf(\"Tarvittava voima on %.0f mN.\\n\",1e3*Fm)"
      ],
      "outputs": [
        {
          "output_type": "stream",
          "name": "stdout",
          "text": [
            "Magneettivuon tiheys on 0.31 T.\n",
            "Tarvittava voima on 58 mN.\n"
          ]
        }
      ],
      "execution_count": 310,
      "metadata": {
        "collapsed": true,
        "jupyter": {
          "source_hidden": false,
          "outputs_hidden": false
        },
        "nteract": {
          "transient": {
            "deleting": false
          }
        },
        "execution": {
          "iopub.status.busy": "2021-11-08T17:42:36.251Z",
          "iopub.execute_input": "2021-11-08T17:42:36.273Z",
          "iopub.status.idle": "2021-11-08T17:42:36.336Z"
        }
      }
    },
    {
      "cell_type": "markdown",
      "source": [
        "k-27\n",
        "\n",
        "Kirjan vastaus: 0.13 V"
      ],
      "metadata": {
        "nteract": {
          "transient": {
            "deleting": false
          }
        }
      }
    },
    {
      "cell_type": "code",
      "source": [
        "l=27\n",
        "v=450\n",
        "B=12e-6\n",
        "alpha=25\n",
        "m=cos(alpha*pi/180) # pystysuora komponentti\n",
        "e=l*v*B*m\n",
        "@printf(\"Jännite on %.2f V.\\n\",e)"
      ],
      "outputs": [
        {
          "output_type": "stream",
          "name": "stdout",
          "text": [
            "Jännite on 0.13 V.\n"
          ]
        }
      ],
      "execution_count": 315,
      "metadata": {
        "collapsed": true,
        "jupyter": {
          "source_hidden": false,
          "outputs_hidden": false
        },
        "nteract": {
          "transient": {
            "deleting": false
          }
        },
        "execution": {
          "iopub.status.busy": "2021-11-08T17:49:33.642Z",
          "iopub.execute_input": "2021-11-08T17:49:33.671Z",
          "iopub.status.idle": "2021-11-08T17:49:33.727Z"
        }
      }
    },
    {
      "cell_type": "markdown",
      "source": [
        "k-28\n",
        "\n",
        "Kirjan vastaus: a) 4.2 m/s² oikealle b) 34 m/s"
      ],
      "metadata": {
        "nteract": {
          "transient": {
            "deleting": false
          }
        }
      }
    },
    {
      "cell_type": "code",
      "source": [
        "B=1.4\n",
        "l=0.25\n",
        "U=12\n",
        "R=5\n",
        "I=U/R\n",
        "Fm=B*I*l\n",
        "m=0.2\n",
        "a=Fm/m\n",
        "@printf(\"\"\"Kiihtyvyys heti katkaisimen sulkemisen jälkeen on %.1f m/s² oikealle.\\n\"\"\",a)\n",
        "v=U/(l*B) # Indusoituva jännite on yhtäsuuri\n",
        "@printf(\"Rajanopeus on %.0f m/s.\\n\",v)\n"
      ],
      "outputs": [
        {
          "output_type": "stream",
          "name": "stdout",
          "text": [
            "Kiihtyvyys heti katkaisimen sulkemisen jälkeen on 4.2 m/s² oikealle.\n",
            "Rajanopeus on 34 m/s.\n"
          ]
        }
      ],
      "execution_count": 318,
      "metadata": {
        "collapsed": true,
        "jupyter": {
          "source_hidden": false,
          "outputs_hidden": false
        },
        "nteract": {
          "transient": {
            "deleting": false
          }
        },
        "execution": {
          "iopub.status.busy": "2021-11-08T18:03:25.349Z",
          "iopub.execute_input": "2021-11-08T18:03:25.377Z",
          "iopub.status.idle": "2021-11-08T18:03:25.434Z"
        }
      }
    },
    {
      "cell_type": "markdown",
      "source": [
        "k-29 $e_k=-N\\frac{\\Delta\\Phi}{\\Delta t}$\n",
        "\n",
        "Kirjan vastaus: c) 1.5 V"
      ],
      "metadata": {
        "nteract": {
          "transient": {
            "deleting": false
          }
        }
      }
    },
    {
      "cell_type": "code",
      "source": [
        "ek=660*35e-6/15e-3\n",
        "@printf(\"Keskimääräinen jännite on %.1f V.\\n\",ek)"
      ],
      "outputs": [
        {
          "output_type": "stream",
          "name": "stdout",
          "text": [
            "Keskimääräinen jännite on 1.5 V.\n"
          ]
        }
      ],
      "execution_count": 321,
      "metadata": {
        "collapsed": true,
        "jupyter": {
          "source_hidden": false,
          "outputs_hidden": false
        },
        "nteract": {
          "transient": {
            "deleting": false
          }
        },
        "execution": {
          "iopub.status.busy": "2021-11-09T16:44:16.745Z",
          "iopub.execute_input": "2021-11-09T16:44:16.780Z",
          "iopub.status.idle": "2021-11-09T16:44:16.837Z"
        }
      }
    },
    {
      "cell_type": "markdown",
      "source": [
        "k-35\n",
        "\n",
        "Kirjan vastaus: b) 280 V, 100 Hz"
      ],
      "metadata": {
        "nteract": {
          "transient": {
            "deleting": false
          }
        }
      }
    },
    {
      "cell_type": "code",
      "source": [
        "@printf(\"Tehollinen jännite on %.0f V.\\n\",400/sqrt(2))\n",
        "@printf(\"Taajuus on %.0f Hz.\\n\",1/10e-3)"
      ],
      "outputs": [
        {
          "output_type": "stream",
          "name": "stdout",
          "text": [
            "Tehollinen jännite on 283 V.\n",
            "Taajuus on 100 Hz.\n"
          ]
        }
      ],
      "execution_count": 322,
      "metadata": {
        "collapsed": true,
        "jupyter": {
          "source_hidden": false,
          "outputs_hidden": false
        },
        "nteract": {
          "transient": {
            "deleting": false
          }
        },
        "execution": {
          "iopub.status.busy": "2021-11-09T16:47:21.066Z",
          "iopub.execute_input": "2021-11-09T16:47:21.093Z",
          "iopub.status.idle": "2021-11-09T16:47:21.207Z"
        }
      }
    },
    {
      "cell_type": "markdown",
      "source": [
        "k-36 Jännitteen maksimi, kun magneettikenttä on käämin lankojen suuntainen, jolloin magneettikentän muutos on nopein. Jännite on 0, kun magneettikenttä on kohtisuorassa käämejä vastaan ja jännitteen merkki vaihtuu.\n",
        "\n",
        "Kirjan vastaus: a) 2 b) 1"
      ],
      "metadata": {
        "nteract": {
          "transient": {
            "deleting": false
          }
        }
      }
    },
    {
      "cell_type": "markdown",
      "source": [
        "k-37\n",
        "\n",
        "Kirjan vastaus: a) 20 V, 14 V c) -7.8 V"
      ],
      "metadata": {
        "nteract": {
          "transient": {
            "deleting": false
          }
        }
      }
    },
    {
      "cell_type": "code",
      "source": [
        "omega=314\n",
        "B=0.3\n",
        "A=85e-4\n",
        "N=25\n",
        "e0=N*A*B*omega\n",
        "@printf(\"Jännitteen huippuarvo on %.0f V ja tehollinen jännite %.0f V.\\n\",e0,e0/sqrt(2))\n",
        "t=2.5\n",
        "e25=sin(omega*t)*e0\n",
        "@printf(\"Jännite hetkellä 2.5 s on %.1f V.\\n\",e25)"
      ],
      "outputs": [
        {
          "output_type": "stream",
          "name": "stdout",
          "text": [
            "Jännitteen huippuarvo on 20 V ja tehollinen jännite 14 V.\n",
            "Jännite hetkellä 2.5 s on -7.8 V.\n"
          ]
        }
      ],
      "execution_count": 325,
      "metadata": {
        "collapsed": true,
        "jupyter": {
          "source_hidden": false,
          "outputs_hidden": false
        },
        "nteract": {
          "transient": {
            "deleting": false
          }
        },
        "execution": {
          "iopub.status.busy": "2021-11-09T18:53:17.685Z",
          "iopub.execute_input": "2021-11-09T18:53:17.717Z",
          "iopub.status.idle": "2021-11-09T18:53:17.779Z"
        }
      }
    },
    {
      "cell_type": "markdown",
      "source": [
        "k-38\n",
        "\n",
        "Kirjan vastaus: b) 0.9 kΩ c) 6.8 V"
      ],
      "metadata": {
        "nteract": {
          "transient": {
            "deleting": false
          }
        }
      }
    },
    {
      "cell_type": "markdown",
      "source": [
        "k-39\n",
        "\n",
        "Kirjan vastaus: 260 kierrosta"
      ],
      "metadata": {
        "nteract": {
          "transient": {
            "deleting": false
          }
        }
      }
    },
    {
      "cell_type": "code",
      "source": [
        "N2=10\n",
        "U1=230\n",
        "U2=9\n",
        "N1=U1/U2*N2\n",
        "@printf(\"Ensiöpuolen käämissä on %d kierrosta.\\n\",\n",
        "  10*Int(round(N1/10)))"
      ],
      "outputs": [
        {
          "output_type": "stream",
          "name": "stdout",
          "text": [
            "Ensiöpuolen käämissä on 260 kierrosta.\n"
          ]
        }
      ],
      "execution_count": 330,
      "metadata": {
        "collapsed": true,
        "jupyter": {
          "source_hidden": false,
          "outputs_hidden": false
        },
        "nteract": {
          "transient": {
            "deleting": false
          }
        },
        "execution": {
          "iopub.status.busy": "2021-11-09T19:03:45.689Z",
          "iopub.execute_input": "2021-11-09T19:03:45.718Z",
          "iopub.status.idle": "2021-11-09T19:03:45.773Z"
        }
      }
    },
    {
      "cell_type": "markdown",
      "source": [
        "k-40\n",
        "\n",
        "Kirjan vastaus: a) kaksinkertaistuu b) pienenee puoleen c) kaksinkertaistuu d) ei muutu"
      ],
      "metadata": {
        "nteract": {
          "transient": {
            "deleting": false
          }
        }
      }
    },
    {
      "cell_type": "markdown",
      "source": [
        "k-41\n",
        "\n",
        "Kirjan vastaus: a) 1.2 V b) sulaa ja katkeaa"
      ],
      "metadata": {
        "nteract": {
          "transient": {
            "deleting": false
          }
        }
      }
    },
    {
      "cell_type": "code",
      "source": [
        "N2=6\n",
        "N1=1200\n",
        "U1=230\n",
        "U2=N2/N1*U1\n",
        "@printf(\"Toisiopuolen jännite on %.1f V.\\n\",U2)"
      ],
      "outputs": [
        {
          "output_type": "stream",
          "name": "stdout",
          "text": [
            "Toisiopuolen jännite on 1.2 V.\n"
          ]
        }
      ],
      "execution_count": 331,
      "metadata": {
        "collapsed": true,
        "jupyter": {
          "source_hidden": false,
          "outputs_hidden": false
        },
        "nteract": {
          "transient": {
            "deleting": false
          }
        },
        "execution": {
          "iopub.status.busy": "2021-11-09T19:08:30.134Z",
          "iopub.execute_input": "2021-11-09T19:08:30.160Z",
          "iopub.status.idle": "2021-11-09T19:08:30.217Z"
        }
      }
    },
    {
      "cell_type": "markdown",
      "source": [
        "k-42\n",
        "\n",
        "Kirjan vastaus: 0.73"
      ],
      "metadata": {
        "nteract": {
          "transient": {
            "deleting": false
          }
        }
      }
    },
    {
      "cell_type": "code",
      "source": [
        "U1=230\n",
        "U2=U1/12\n",
        "I=2.6\n",
        "P2=U2*I\n",
        "P1=57\n",
        "@printf(\"Muuntajan hyötysuhde on %.2f.\\n\",0.84*P2/P1)"
      ],
      "outputs": [
        {
          "output_type": "stream",
          "name": "stdout",
          "text": [
            "Muuntajan hyötysuhde on 0.73.\n"
          ]
        }
      ],
      "execution_count": 332,
      "metadata": {
        "collapsed": true,
        "jupyter": {
          "source_hidden": false,
          "outputs_hidden": false
        },
        "nteract": {
          "transient": {
            "deleting": false
          }
        },
        "execution": {
          "iopub.status.busy": "2021-11-09T19:12:40.761Z",
          "iopub.execute_input": "2021-11-09T19:12:40.790Z",
          "iopub.status.idle": "2021-11-09T19:12:40.856Z"
        }
      }
    },
    {
      "cell_type": "markdown",
      "source": [
        "k-43\n",
        "\n",
        "Kirjan vastaus: b) 1.57 m"
      ],
      "metadata": {
        "nteract": {
          "transient": {
            "deleting": false
          }
        }
      }
    },
    {
      "cell_type": "code",
      "source": [
        "f=95.7e6\n",
        "lambda=c/f\n",
        "l=lambda/2\n",
        "@printf(\"Puoliaaltoantennin pituus on %.2f m.\\n\",l)"
      ],
      "outputs": [
        {
          "output_type": "stream",
          "name": "stdout",
          "text": [
            "Puoliaaltoantennin pituus on 1.57 m.\n"
          ]
        }
      ],
      "execution_count": 334,
      "metadata": {
        "collapsed": true,
        "jupyter": {
          "source_hidden": false,
          "outputs_hidden": false
        },
        "nteract": {
          "transient": {
            "deleting": false
          }
        },
        "execution": {
          "iopub.status.busy": "2021-11-09T19:17:16.413Z",
          "iopub.execute_input": "2021-11-09T19:17:16.445Z",
          "iopub.status.idle": "2021-11-09T19:17:16.503Z"
        }
      }
    },
    {
      "cell_type": "markdown",
      "source": [
        "k-44 $f_0=\\frac{1}{2\\pi\\sqrt{LC}}$<br>\n",
        "$L=\\frac{1}{4\\pi^2{f_0}^2C}$\n",
        "\n",
        "Kirjan vastaus: 98 µH"
      ],
      "metadata": {
        "nteract": {
          "transient": {
            "deleting": false
          }
        }
      }
    },
    {
      "cell_type": "code",
      "source": [
        "C=32e-15\n",
        "f0=89.9e6\n",
        "L=1/(4*pi^2*f0^2*C)\n",
        "@printf(\"Impedanssi on %.0f µH.\\n\",1e6*L)"
      ],
      "outputs": [
        {
          "output_type": "stream",
          "name": "stdout",
          "text": [
            "Impedanssi on 98 µH.\n"
          ]
        }
      ],
      "execution_count": 337,
      "metadata": {
        "collapsed": true,
        "jupyter": {
          "source_hidden": false,
          "outputs_hidden": false
        },
        "nteract": {
          "transient": {
            "deleting": false
          }
        },
        "execution": {
          "iopub.status.busy": "2021-11-09T19:25:07.652Z",
          "iopub.execute_input": "2021-11-09T19:25:07.686Z",
          "iopub.status.idle": "2021-11-09T19:25:07.750Z"
        }
      }
    },
    {
      "cell_type": "markdown",
      "source": [
        "S2007/4 b) 38.4°"
      ],
      "metadata": {
        "nteract": {
          "transient": {
            "deleting": false
          }
        }
      }
    },
    {
      "cell_type": "markdown",
      "source": [
        "K2014/+13 d) 1) 99 % 2) 52 %"
      ],
      "metadata": {
        "nteract": {
          "transient": {
            "deleting": false
          }
        }
      }
    },
    {
      "cell_type": "markdown",
      "source": [
        "K2016/8 a) 0.7 mV"
      ],
      "metadata": {
        "nteract": {
          "transient": {
            "deleting": false
          }
        }
      }
    }
  ],
  "metadata": {
    "kernel_info": {
      "name": "julia-nteract-1.5"
    },
    "language_info": {
      "file_extension": ".jl",
      "name": "julia",
      "mimetype": "application/julia",
      "version": "1.5.4"
    },
    "kernelspec": {
      "argv": [
        "C:\\Users\\snikula\\AppData\\Local\\JuliaPro-1.5.4-1\\Julia-1.5.4\\bin\\julia.exe",
        "-i",
        "--color=yes",
        "C:\\Users\\snikula\\.julia\\packages\\IJulia\\e8kqU\\src\\kernel.jl",
        "{connection_file}"
      ],
      "display_name": "Julia nteract 1.5.4",
      "env": {},
      "interrupt_mode": "message",
      "language": "julia",
      "name": "julia-nteract-1.5"
    },
    "nteract": {
      "version": "0.28.0"
    }
  },
  "nbformat": 4,
  "nbformat_minor": 0
}